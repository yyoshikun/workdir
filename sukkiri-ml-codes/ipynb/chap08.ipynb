{
 "cells": [
  {
   "cell_type": "code",
   "execution_count": 2,
   "metadata": {},
   "outputs": [],
   "source": [
    "import pandas as pd\n",
    "%matplotlib inline\n",
    "from sklearn.linear_model import LinearRegression\n",
    "from sklearn.model_selection import train_test_split"
   ]
  },
  {
   "cell_type": "code",
   "execution_count": 3,
   "metadata": {},
   "outputs": [
    {
     "data": {
      "text/html": [
       "<div>\n",
       "<style scoped>\n",
       "    .dataframe tbody tr th:only-of-type {\n",
       "        vertical-align: middle;\n",
       "    }\n",
       "\n",
       "    .dataframe tbody tr th {\n",
       "        vertical-align: top;\n",
       "    }\n",
       "\n",
       "    .dataframe thead th {\n",
       "        text-align: right;\n",
       "    }\n",
       "</style>\n",
       "<table border=\"1\" class=\"dataframe\">\n",
       "  <thead>\n",
       "    <tr style=\"text-align: right;\">\n",
       "      <th></th>\n",
       "      <th>CRIME</th>\n",
       "      <th>ZN</th>\n",
       "      <th>INDUS</th>\n",
       "      <th>CHAS</th>\n",
       "      <th>NOX</th>\n",
       "      <th>RM</th>\n",
       "      <th>AGE</th>\n",
       "      <th>DIS</th>\n",
       "      <th>RAD</th>\n",
       "      <th>TAX</th>\n",
       "      <th>PTRATIO</th>\n",
       "      <th>B</th>\n",
       "      <th>LSTAT</th>\n",
       "      <th>PRICE</th>\n",
       "    </tr>\n",
       "  </thead>\n",
       "  <tbody>\n",
       "    <tr>\n",
       "      <th>0</th>\n",
       "      <td>high</td>\n",
       "      <td>0.0</td>\n",
       "      <td>18.10</td>\n",
       "      <td>0</td>\n",
       "      <td>0.718</td>\n",
       "      <td>3.561</td>\n",
       "      <td>87.9</td>\n",
       "      <td>1.6132</td>\n",
       "      <td>24.0</td>\n",
       "      <td>666</td>\n",
       "      <td>20.2</td>\n",
       "      <td>354.7</td>\n",
       "      <td>7.12</td>\n",
       "      <td>27.5</td>\n",
       "    </tr>\n",
       "    <tr>\n",
       "      <th>1</th>\n",
       "      <td>low</td>\n",
       "      <td>0.0</td>\n",
       "      <td>8.14</td>\n",
       "      <td>0</td>\n",
       "      <td>0.538</td>\n",
       "      <td>5.950</td>\n",
       "      <td>82.0</td>\n",
       "      <td>3.9900</td>\n",
       "      <td>4.0</td>\n",
       "      <td>307</td>\n",
       "      <td>21.0</td>\n",
       "      <td>232.6</td>\n",
       "      <td>27.71</td>\n",
       "      <td>13.2</td>\n",
       "    </tr>\n",
       "  </tbody>\n",
       "</table>\n",
       "</div>"
      ],
      "text/plain": [
       "  CRIME   ZN  INDUS  CHAS    NOX     RM   AGE     DIS   RAD  TAX  PTRATIO  \\\n",
       "0  high  0.0  18.10     0  0.718  3.561  87.9  1.6132  24.0  666     20.2   \n",
       "1   low  0.0   8.14     0  0.538  5.950  82.0  3.9900   4.0  307     21.0   \n",
       "\n",
       "       B  LSTAT  PRICE  \n",
       "0  354.7   7.12   27.5  \n",
       "1  232.6  27.71   13.2  "
      ]
     },
     "execution_count": 3,
     "metadata": {},
     "output_type": "execute_result"
    }
   ],
   "source": [
    "df = pd.read_csv('Boston.csv')\n",
    "df.head(2)"
   ]
  },
  {
   "cell_type": "code",
   "execution_count": 4,
   "metadata": {},
   "outputs": [
    {
     "data": {
      "text/plain": [
       "very_low    50\n",
       "low         25\n",
       "high        25\n",
       "Name: CRIME, dtype: int64"
      ]
     },
     "execution_count": 4,
     "metadata": {},
     "output_type": "execute_result"
    }
   ],
   "source": [
    "df['CRIME'].value_counts()"
   ]
  },
  {
   "cell_type": "code",
   "execution_count": 5,
   "metadata": {},
   "outputs": [
    {
     "data": {
      "text/html": [
       "<div>\n",
       "<style scoped>\n",
       "    .dataframe tbody tr th:only-of-type {\n",
       "        vertical-align: middle;\n",
       "    }\n",
       "\n",
       "    .dataframe tbody tr th {\n",
       "        vertical-align: top;\n",
       "    }\n",
       "\n",
       "    .dataframe thead th {\n",
       "        text-align: right;\n",
       "    }\n",
       "</style>\n",
       "<table border=\"1\" class=\"dataframe\">\n",
       "  <thead>\n",
       "    <tr style=\"text-align: right;\">\n",
       "      <th></th>\n",
       "      <th>ZN</th>\n",
       "      <th>INDUS</th>\n",
       "      <th>CHAS</th>\n",
       "      <th>NOX</th>\n",
       "      <th>RM</th>\n",
       "      <th>AGE</th>\n",
       "      <th>DIS</th>\n",
       "      <th>RAD</th>\n",
       "      <th>TAX</th>\n",
       "      <th>PTRATIO</th>\n",
       "      <th>B</th>\n",
       "      <th>LSTAT</th>\n",
       "      <th>PRICE</th>\n",
       "      <th>low</th>\n",
       "      <th>very_low</th>\n",
       "    </tr>\n",
       "  </thead>\n",
       "  <tbody>\n",
       "    <tr>\n",
       "      <th>0</th>\n",
       "      <td>0.0</td>\n",
       "      <td>18.10</td>\n",
       "      <td>0</td>\n",
       "      <td>0.718</td>\n",
       "      <td>3.561</td>\n",
       "      <td>87.9</td>\n",
       "      <td>1.6132</td>\n",
       "      <td>24.0</td>\n",
       "      <td>666</td>\n",
       "      <td>20.2</td>\n",
       "      <td>354.7</td>\n",
       "      <td>7.12</td>\n",
       "      <td>27.5</td>\n",
       "      <td>0</td>\n",
       "      <td>0</td>\n",
       "    </tr>\n",
       "    <tr>\n",
       "      <th>1</th>\n",
       "      <td>0.0</td>\n",
       "      <td>8.14</td>\n",
       "      <td>0</td>\n",
       "      <td>0.538</td>\n",
       "      <td>5.950</td>\n",
       "      <td>82.0</td>\n",
       "      <td>3.9900</td>\n",
       "      <td>4.0</td>\n",
       "      <td>307</td>\n",
       "      <td>21.0</td>\n",
       "      <td>232.6</td>\n",
       "      <td>27.71</td>\n",
       "      <td>13.2</td>\n",
       "      <td>1</td>\n",
       "      <td>0</td>\n",
       "    </tr>\n",
       "  </tbody>\n",
       "</table>\n",
       "</div>"
      ],
      "text/plain": [
       "    ZN  INDUS  CHAS    NOX     RM   AGE     DIS   RAD  TAX  PTRATIO      B  \\\n",
       "0  0.0  18.10     0  0.718  3.561  87.9  1.6132  24.0  666     20.2  354.7   \n",
       "1  0.0   8.14     0  0.538  5.950  82.0  3.9900   4.0  307     21.0  232.6   \n",
       "\n",
       "   LSTAT  PRICE  low  very_low  \n",
       "0   7.12   27.5    0         0  \n",
       "1  27.71   13.2    1         0  "
      ]
     },
     "execution_count": 5,
     "metadata": {},
     "output_type": "execute_result"
    }
   ],
   "source": [
    "crime = pd.get_dummies(df['CRIME'], drop_first = True)\n",
    "df2 = pd.concat([df, crime], axis = 1)\n",
    "df2 = df2.drop(['CRIME'], axis = 1)\n",
    "df2.head(2)"
   ]
  },
  {
   "cell_type": "code",
   "execution_count": 6,
   "metadata": {},
   "outputs": [],
   "source": [
    "train_val, test = train_test_split(df2,test_size = 0.2,\n",
    "random_state = 0)"
   ]
  },
  {
   "cell_type": "code",
   "execution_count": 7,
   "metadata": {},
   "outputs": [
    {
     "data": {
      "text/plain": [
       "ZN          0\n",
       "INDUS       0\n",
       "CHAS        0\n",
       "NOX         1\n",
       "RM          0\n",
       "AGE         0\n",
       "DIS         0\n",
       "RAD         0\n",
       "TAX         0\n",
       "PTRATIO     0\n",
       "B           0\n",
       "LSTAT       0\n",
       "PRICE       0\n",
       "low         0\n",
       "very_low    0\n",
       "dtype: int64"
      ]
     },
     "execution_count": 7,
     "metadata": {},
     "output_type": "execute_result"
    }
   ],
   "source": [
    "train_val.isnull().sum()"
   ]
  },
  {
   "cell_type": "code",
   "execution_count": 8,
   "metadata": {},
   "outputs": [],
   "source": [
    "train_val_mean = train_val.mean() # 各列の平均値の計算\n",
    "train_val2=train_val.fillna(train_val_mean) # 平均値で穴埋め"
   ]
  },
  {
   "cell_type": "code",
   "execution_count": 9,
   "metadata": {},
   "outputs": [
    {
     "data": {
      "image/png": "[encoded data removed]",
      "text/plain": [
       "<Figure size 432x288 with 1 Axes>"
      ]
     },
     "metadata": {
      "needs_background": "light"
     },
     "output_type": "display_data"
    },
    {
     "data": {
      "image/png": "[encoded data removed]",
      "text/plain": [
       "<Figure size 432x288 with 1 Axes>"
      ]
     },
     "metadata": {
      "needs_background": "light"
     },
     "output_type": "display_data"
    },
    {
     "data": {
      "image/png": "[encoded data removed]",
      "text/plain": [
       "<Figure size 432x288 with 1 Axes>"
      ]
     },
     "metadata": {
      "needs_background": "light"
     },
     "output_type": "display_data"
    },
    {
     "data": {
      "image/png": "[encoded data removed]",
      "text/plain": [
       "<Figure size 432x288 with 1 Axes>"
      ]
     },
     "metadata": {
      "needs_background": "light"
     },
     "output_type": "display_data"
    },
    {
     "data": {
      "image/png": "[encoded data removed]",
      "text/plain": [
       "<Figure size 432x288 with 1 Axes>"
      ]
     },
     "metadata": {
      "needs_background": "light"
     },
     "output_type": "display_data"
    },
    {
     "data": {
      "image/png": "[encoded data removed]",
      "text/plain": [
       "<Figure size 432x288 with 1 Axes>"
      ]
     },
     "metadata": {
      "needs_background": "light"
     },
     "output_type": "display_data"
    },
    {
     "data": {
      "image/png": "[encoded data removed]",
      "text/plain": [
       "<Figure size 432x288 with 1 Axes>"
      ]
     },
     "metadata": {
      "needs_background": "light"
     },
     "output_type": "display_data"
    },
    {
     "data": {
      "image/png": "[encoded data removed]",
      "text/plain": [
       "<Figure size 432x288 with 1 Axes>"
      ]
     },
     "metadata": {
      "needs_background": "light"
     },
     "output_type": "display_data"
    },
    {
     "data": {
      "image/png": "[encoded data removed]",
      "text/plain": [
       "<Figure size 432x288 with 1 Axes>"
      ]
     },
     "metadata": {
      "needs_background": "light"
     },
     "output_type": "display_data"
    },
    {
     "data": {
      "image/png": "[encoded data removed]",
      "text/plain": [
       "<Figure size 432x288 with 1 Axes>"
      ]
     },
     "metadata": {
      "needs_background": "light"
     },
     "output_type": "display_data"
    },
    {
     "data": {
      "image/png": "[encoded data removed]",
      "text/plain": [
       "<Figure size 432x288 with 1 Axes>"
      ]
     },
     "metadata": {
      "needs_background": "light"
     },
     "output_type": "display_data"
    },
    {
     "data": {
      "image/png": "[encoded data removed]",
      "text/plain": [
       "<Figure size 432x288 with 1 Axes>"
      ]
     },
     "metadata": {
      "needs_background": "light"
     },
     "output_type": "display_data"
    },
    {
     "data": {
      "image/png": "[encoded data removed]",
      "text/plain": [
       "<Figure size 432x288 with 1 Axes>"
      ]
     },
     "metadata": {
      "needs_background": "light"
     },
     "output_type": "display_data"
    },
    {
     "data": {
      "image/png": "[encoded data removed]",
      "text/plain": [
       "<Figure size 432x288 with 1 Axes>"
      ]
     },
     "metadata": {
      "needs_background": "light"
     },
     "output_type": "display_data"
    },
    {
     "data": {
      "image/png": "[encoded data removed]",
      "text/plain": [
       "<Figure size 432x288 with 1 Axes>"
      ]
     },
     "metadata": {
      "needs_background": "light"
     },
     "output_type": "display_data"
    }
   ],
   "source": [
    "colname = train_val2.columns\n",
    "for name in colname:\n",
    "    train_val2.plot(kind = 'scatter', x = name, y = 'PRICE')"
   ]
  },
  {
   "cell_type": "code",
   "execution_count": 10,
   "metadata": {},
   "outputs": [
    {
     "name": "stdout",
     "output_type": "stream",
     "text": [
      "Int64Index([76], dtype='int64') Int64Index([76], dtype='int64')\n"
     ]
    }
   ],
   "source": [
    "# RMの外れ値\n",
    "out_line1 = train_val2[(train_val2['RM'] < 6) &\n",
    "(train_val2['PRICE'] > 40)].index\n",
    "# PTRATIOの外れ値\n",
    "out_line2 = train_val2[(train_val2['PTRATIO'] > 18) &\n",
    "(train_val2['PRICE'] > 40)].index\n",
    "\n",
    "print(out_line1, out_line2)"
   ]
  },
  {
   "cell_type": "code",
   "execution_count": 11,
   "metadata": {},
   "outputs": [],
   "source": [
    "train_val3 = train_val2.drop([76], axis = 0)"
   ]
  },
  {
   "cell_type": "code",
   "execution_count": 12,
   "metadata": {},
   "outputs": [
    {
     "data": {
      "text/html": [
       "<div>\n",
       "<style scoped>\n",
       "    .dataframe tbody tr th:only-of-type {\n",
       "        vertical-align: middle;\n",
       "    }\n",
       "\n",
       "    .dataframe tbody tr th {\n",
       "        vertical-align: top;\n",
       "    }\n",
       "\n",
       "    .dataframe thead th {\n",
       "        text-align: right;\n",
       "    }\n",
       "</style>\n",
       "<table border=\"1\" class=\"dataframe\">\n",
       "  <thead>\n",
       "    <tr style=\"text-align: right;\">\n",
       "      <th></th>\n",
       "      <th>INDUS</th>\n",
       "      <th>NOX</th>\n",
       "      <th>RM</th>\n",
       "      <th>PTRATIO</th>\n",
       "      <th>LSTAT</th>\n",
       "      <th>PRICE</th>\n",
       "    </tr>\n",
       "  </thead>\n",
       "  <tbody>\n",
       "    <tr>\n",
       "      <th>43</th>\n",
       "      <td>5.86</td>\n",
       "      <td>0.431</td>\n",
       "      <td>6.108</td>\n",
       "      <td>19.1</td>\n",
       "      <td>9.16</td>\n",
       "      <td>24.3</td>\n",
       "    </tr>\n",
       "    <tr>\n",
       "      <th>62</th>\n",
       "      <td>5.86</td>\n",
       "      <td>0.431</td>\n",
       "      <td>6.957</td>\n",
       "      <td>19.1</td>\n",
       "      <td>3.53</td>\n",
       "      <td>29.6</td>\n",
       "    </tr>\n",
       "    <tr>\n",
       "      <th>3</th>\n",
       "      <td>21.89</td>\n",
       "      <td>0.624</td>\n",
       "      <td>6.151</td>\n",
       "      <td>21.2</td>\n",
       "      <td>18.46</td>\n",
       "      <td>17.8</td>\n",
       "    </tr>\n",
       "  </tbody>\n",
       "</table>\n",
       "</div>"
      ],
      "text/plain": [
       "    INDUS    NOX     RM  PTRATIO  LSTAT  PRICE\n",
       "43   5.86  0.431  6.108     19.1   9.16   24.3\n",
       "62   5.86  0.431  6.957     19.1   3.53   29.6\n",
       "3   21.89  0.624  6.151     21.2  18.46   17.8"
      ]
     },
     "execution_count": 12,
     "metadata": {},
     "output_type": "execute_result"
    }
   ],
   "source": [
    "col = ['INDUS', 'NOX', 'RM', 'PTRATIO', 'LSTAT', 'PRICE']\n",
    "\n",
    "train_val4 = train_val3[col]\n",
    "train_val4.head(3)"
   ]
  },
  {
   "cell_type": "code",
   "execution_count": 13,
   "metadata": {},
   "outputs": [
    {
     "data": {
      "text/html": [
       "<div>\n",
       "<style scoped>\n",
       "    .dataframe tbody tr th:only-of-type {\n",
       "        vertical-align: middle;\n",
       "    }\n",
       "\n",
       "    .dataframe tbody tr th {\n",
       "        vertical-align: top;\n",
       "    }\n",
       "\n",
       "    .dataframe thead th {\n",
       "        text-align: right;\n",
       "    }\n",
       "</style>\n",
       "<table border=\"1\" class=\"dataframe\">\n",
       "  <thead>\n",
       "    <tr style=\"text-align: right;\">\n",
       "      <th></th>\n",
       "      <th>INDUS</th>\n",
       "      <th>NOX</th>\n",
       "      <th>RM</th>\n",
       "      <th>PTRATIO</th>\n",
       "      <th>LSTAT</th>\n",
       "      <th>PRICE</th>\n",
       "    </tr>\n",
       "  </thead>\n",
       "  <tbody>\n",
       "    <tr>\n",
       "      <th>INDUS</th>\n",
       "      <td>1.000000</td>\n",
       "      <td>0.785722</td>\n",
       "      <td>-0.403129</td>\n",
       "      <td>0.249438</td>\n",
       "      <td>0.578406</td>\n",
       "      <td>-0.470889</td>\n",
       "    </tr>\n",
       "    <tr>\n",
       "      <th>NOX</th>\n",
       "      <td>0.785722</td>\n",
       "      <td>1.000000</td>\n",
       "      <td>-0.272996</td>\n",
       "      <td>0.077533</td>\n",
       "      <td>0.484295</td>\n",
       "      <td>-0.325289</td>\n",
       "    </tr>\n",
       "    <tr>\n",
       "      <th>RM</th>\n",
       "      <td>-0.403129</td>\n",
       "      <td>-0.272996</td>\n",
       "      <td>1.000000</td>\n",
       "      <td>-0.404568</td>\n",
       "      <td>-0.560454</td>\n",
       "      <td>0.753771</td>\n",
       "    </tr>\n",
       "    <tr>\n",
       "      <th>PTRATIO</th>\n",
       "      <td>0.249438</td>\n",
       "      <td>0.077533</td>\n",
       "      <td>-0.404568</td>\n",
       "      <td>1.000000</td>\n",
       "      <td>0.326563</td>\n",
       "      <td>-0.542449</td>\n",
       "    </tr>\n",
       "    <tr>\n",
       "      <th>LSTAT</th>\n",
       "      <td>0.578406</td>\n",
       "      <td>0.484295</td>\n",
       "      <td>-0.560454</td>\n",
       "      <td>0.326563</td>\n",
       "      <td>1.000000</td>\n",
       "      <td>-0.693490</td>\n",
       "    </tr>\n",
       "    <tr>\n",
       "      <th>PRICE</th>\n",
       "      <td>-0.470889</td>\n",
       "      <td>-0.325289</td>\n",
       "      <td>0.753771</td>\n",
       "      <td>-0.542449</td>\n",
       "      <td>-0.693490</td>\n",
       "      <td>1.000000</td>\n",
       "    </tr>\n",
       "  </tbody>\n",
       "</table>\n",
       "</div>"
      ],
      "text/plain": [
       "            INDUS       NOX        RM   PTRATIO     LSTAT     PRICE\n",
       "INDUS    1.000000  0.785722 -0.403129  0.249438  0.578406 -0.470889\n",
       "NOX      0.785722  1.000000 -0.272996  0.077533  0.484295 -0.325289\n",
       "RM      -0.403129 -0.272996  1.000000 -0.404568 -0.560454  0.753771\n",
       "PTRATIO  0.249438  0.077533 -0.404568  1.000000  0.326563 -0.542449\n",
       "LSTAT    0.578406  0.484295 -0.560454  0.326563  1.000000 -0.693490\n",
       "PRICE   -0.470889 -0.325289  0.753771 -0.542449 -0.693490  1.000000"
      ]
     },
     "execution_count": 13,
     "metadata": {},
     "output_type": "execute_result"
    }
   ],
   "source": [
    "train_val4.corr()"
   ]
  },
  {
   "cell_type": "code",
   "execution_count": 16,
   "metadata": {},
   "outputs": [
    {
     "data": {
      "text/plain": [
       "INDUS     -0.470889\n",
       "NOX       -0.325289\n",
       "RM         0.753771\n",
       "PTRATIO   -0.542449\n",
       "LSTAT     -0.693490\n",
       "PRICE      1.000000\n",
       "Name: PRICE, dtype: float64"
      ]
     },
     "execution_count": 16,
     "metadata": {},
     "output_type": "execute_result"
    }
   ],
   "source": [
    "train_cor = train_val4.corr()['PRICE']\n",
    "train_cor"
   ]
  },
  {
   "cell_type": "code",
   "execution_count": 17,
   "metadata": {},
   "outputs": [
    {
     "data": {
      "text/plain": [
       "0    1\n",
       "1    2\n",
       "2    3\n",
       "3    4\n",
       "dtype: int64"
      ]
     },
     "execution_count": 17,
     "metadata": {},
     "output_type": "execute_result"
    }
   ],
   "source": [
    "se = pd.Series([1, -2, 3, -4]) # シリーズの作成\n",
    "\n",
    "# seの各要素にabs関数を適応させた結果をシリーズ化\n",
    "se.map(abs)"
   ]
  },
  {
   "cell_type": "code",
   "execution_count": 18,
   "metadata": {},
   "outputs": [
    {
     "data": {
      "text/plain": [
       "INDUS      0.470889\n",
       "NOX        0.325289\n",
       "RM         0.753771\n",
       "PTRATIO    0.542449\n",
       "LSTAT      0.693490\n",
       "PRICE      1.000000\n",
       "Name: PRICE, dtype: float64"
      ]
     },
     "execution_count": 18,
     "metadata": {},
     "output_type": "execute_result"
    }
   ],
   "source": [
    "abs_cor = train_cor.map(abs)\n",
    "abs_cor"
   ]
  },
  {
   "cell_type": "code",
   "execution_count": 16,
   "metadata": {},
   "outputs": [
    {
     "data": {
      "text/plain": [
       "PRICE      1.000000\n",
       "RM         0.753771\n",
       "LSTAT      0.693490\n",
       "PTRATIO    0.542449\n",
       "INDUS      0.470889\n",
       "NOX        0.325289\n",
       "Name: PRICE, dtype: float64"
      ]
     },
     "execution_count": 16,
     "metadata": {},
     "output_type": "execute_result"
    }
   ],
   "source": [
    "# 降順に並べ替える\n",
    "abs_cor.sort_values(ascending = False)"
   ]
  },
  {
   "cell_type": "code",
   "execution_count": 23,
   "metadata": {},
   "outputs": [],
   "source": [
    "col =['RM', 'LSTAT', 'PTRATIO']\n",
    "x = train_val4[col]\n",
    "t = train_val4[['PRICE']]\n",
    "\n",
    "#訓練データと検証データに分割\n",
    "x_train, x_val, y_train, y_val = train_test_split(x, t,\n",
    "    test_size = 0.2, random_state = 0)"
   ]
  },
  {
   "cell_type": "code",
   "execution_count": 21,
   "metadata": {},
   "outputs": [],
   "source": []
  },
  {
   "cell_type": "code",
   "execution_count": 24,
   "metadata": {},
   "outputs": [
    {
     "data": {
      "text/plain": [
       "array([[-0.10238334, -0.89546338, -0.97250163],\n",
       "       [-0.11741281, -0.37386886,  1.21732721],\n",
       "       [-0.92274224,  2.49984836,  0.83648742],\n",
       "       [ 1.60346221, -1.37747891, -2.59107078],\n",
       "       [-0.21134704, -0.36821472, -0.30603198],\n",
       "       [ 0.28337322, -0.54632017, -0.87729168],\n",
       "       [ 2.01927772, -1.55275729, -1.7817862 ],\n",
       "       [-0.42551707, -0.58448562,  0.36043767],\n",
       "       [-0.39420567,  0.21557535, -1.7817862 ],\n",
       "       [-0.21886178, -0.00634969,  0.02720284],\n",
       "       [-0.48438252,  0.24525959,  0.83648742],\n",
       "       [ 0.02411475,  0.04453758,  0.83648742],\n",
       "       [ 0.31092726, -1.31669689,  0.31283269],\n",
       "       [ 2.08315299, -1.28559912, -1.7817862 ],\n",
       "       [-0.98411261,  1.56550154,  0.07480782],\n",
       "       [-0.28398951,  0.07704889, -0.78208173],\n",
       "       [-0.9039554 ,  1.91040415, -1.7817862 ],\n",
       "       [ 0.23828479,  1.52450902,  0.83648742],\n",
       "       [-0.12993738, -0.28622968, -0.49645188],\n",
       "       [-0.18629791, -0.73573389,  0.55085757],\n",
       "       [-0.37917619,  0.48697412,  0.83648742],\n",
       "       [ 0.9897586 , -0.17597392,  0.83648742],\n",
       "       [ 0.02411475, -0.81489187, -0.87729168],\n",
       "       [-3.29238966, -0.81771894,  0.83648742],\n",
       "       [-1.10935824,  1.94150192,  0.83648742],\n",
       "       [-0.0460228 ,  0.03464283, -0.30603198],\n",
       "       [ 0.9609521 , -1.32517811,  0.31283269],\n",
       "       [-0.83882767,  1.64748659,  0.83648742],\n",
       "       [-0.22637651,  0.05160526, -1.54376133],\n",
       "       [ 0.43617289, -0.73149329,  0.07480782],\n",
       "       [-0.34535987,  0.76685411, -0.02040213],\n",
       "       [-0.30027144,  2.0927502 ,  1.21732721],\n",
       "       [-0.98411261,  0.05301879, -1.7817862 ],\n",
       "       [-0.13369475, -0.01624444,  0.55085757],\n",
       "       [ 3.14899334, -1.100426  , -2.59107078],\n",
       "       [-0.38794338, -0.12367312, -1.7817862 ],\n",
       "       [-0.10238334, -0.52935774,  0.31283269],\n",
       "       [ 0.5451366 , -0.8841551 , -0.21082203],\n",
       "       [ 0.33973375,  0.72727512,  0.83648742],\n",
       "       [ 2.04182193, -1.31952396, -0.21082203],\n",
       "       [-0.97409295,  2.35284069,  0.07480782],\n",
       "       [ 0.26834374,  1.04673409,  0.83648742],\n",
       "       [-0.20007493,  0.83329027, -0.25842701],\n",
       "       [ 0.46998921, -0.47988401, -0.87729168],\n",
       "       [-0.35663198, -0.20565816,  0.83648742],\n",
       "       [ 0.1405932 , -0.87426035,  0.26522772],\n",
       "       [-0.28148459,  0.13076323,  1.21732721],\n",
       "       [ 1.21895811, -0.92514762, -0.49645188],\n",
       "       [ 0.41989096,  0.7385834 ,  0.83648742],\n",
       "       [ 0.06544581, -0.30601917,  0.83648742],\n",
       "       [-0.28023214, -0.39224482,  0.36043767],\n",
       "       [-0.60587079, -0.06713171, -0.73447676],\n",
       "       [-0.20007493, -0.71029026,  1.21732721],\n",
       "       [ 0.2896355 , -0.53218481, -0.30603198],\n",
       "       [-0.42426462,  0.50393655,  1.16972224],\n",
       "       [ 1.97293683, -0.75552339, -0.30603198],\n",
       "       [-0.41674988,  1.18950116,  1.31253716],\n",
       "       [-0.56203482,  0.03464283,  0.59846254],\n",
       "       [ 0.15061285, -0.87001975,  0.83648742],\n",
       "       [-2.56972234,  1.47503528,  0.83648742],\n",
       "       [-0.95530611,  0.73999694,  0.83648742],\n",
       "       [ 0.04540651, -0.38941775,  0.31283269],\n",
       "       [ 1.24651215, -1.25450134, -0.30603198]])"
      ]
     },
     "execution_count": 24,
     "metadata": {},
     "output_type": "execute_result"
    }
   ],
   "source": [
    "from sklearn.preprocessing import StandardScaler\n",
    "\n",
    "sc_model_x = StandardScaler()\n",
    "sc_model_x.fit(x_train)\n",
    "\n",
    "# 各列のデータを標準化してsc_xに代入\n",
    "sc_x = sc_model_x.transform(x_train)\n",
    "sc_x # 表示"
   ]
  },
  {
   "cell_type": "code",
   "execution_count": 25,
   "metadata": {},
   "outputs": [
    {
     "data": {
      "text/plain": [
       "RM        -3.101575e-16\n",
       "LSTAT      1.727014e-16\n",
       "PTRATIO   -1.436241e-16\n",
       "dtype: float64"
      ]
     },
     "execution_count": 25,
     "metadata": {},
     "output_type": "execute_result"
    }
   ],
   "source": [
    "# array 型だと見づらいのでデータフレームに変換\n",
    "tmp_df = pd.DataFrame(sc_x, columns = x_train.columns)\n",
    "# 平均値の計算\n",
    "tmp_df.mean()"
   ]
  },
  {
   "cell_type": "code",
   "execution_count": 26,
   "metadata": {},
   "outputs": [
    {
     "data": {
      "text/plain": [
       "RM         1.008032\n",
       "LSTAT      1.008032\n",
       "PTRATIO    1.008032\n",
       "dtype: float64"
      ]
     },
     "execution_count": 26,
     "metadata": {},
     "output_type": "execute_result"
    }
   ],
   "source": [
    "tmp_df.std() # 標準偏差の計算"
   ]
  },
  {
   "cell_type": "code",
   "execution_count": 27,
   "metadata": {},
   "outputs": [],
   "source": [
    "sc_model_y = StandardScaler()\n",
    "sc_model_y.fit(y_train)\n",
    "\n",
    "sc_y = sc_model_y.transform(y_train)"
   ]
  },
  {
   "cell_type": "code",
   "execution_count": 30,
   "metadata": {},
   "outputs": [
    {
     "data": {
      "text/plain": [
       "LinearRegression()"
      ]
     },
     "execution_count": 30,
     "metadata": {},
     "output_type": "execute_result"
    }
   ],
   "source": [
    "model = LinearRegression()\n",
    "model.fit(sc_x, sc_y)"
   ]
  },
  {
   "cell_type": "code",
   "execution_count": 31,
   "metadata": {},
   "outputs": [
    {
     "data": {
      "text/plain": [
       "-13.085044375040104"
      ]
     },
     "execution_count": 31,
     "metadata": {},
     "output_type": "execute_result"
    }
   ],
   "source": [
    "model.score(x_val, y_val)"
   ]
  },
  {
   "cell_type": "code",
   "execution_count": 32,
   "metadata": {},
   "outputs": [
    {
     "data": {
      "text/plain": [
       "0.7359028880291001"
      ]
     },
     "execution_count": 32,
     "metadata": {},
     "output_type": "execute_result"
    }
   ],
   "source": [
    "sc_x_val = sc_model_x.transform(x_val)\n",
    "sc_y_val = sc_model_y.transform(y_val)\n",
    "# 標準化した検証データで決定係数を計算\n",
    "model.score(sc_x_val, sc_y_val)"
   ]
  },
  {
   "cell_type": "code",
   "execution_count": 33,
   "metadata": {},
   "outputs": [
    {
     "data": {
      "text/plain": [
       "0.7918117863572239"
      ]
     },
     "execution_count": 33,
     "metadata": {},
     "output_type": "execute_result"
    }
   ],
   "source": [
    "# 以下、やってはいけない間違いのコード\n",
    "sc_model_x2 = StandardScaler()\n",
    "sc_model_x2.fit(x_val)\n",
    "sc_x_val = sc_model_x2.transform(x_val)\n",
    "sc_model_y2 = StandardScaler()\n",
    "sc_model_y2.fit(y_val)\n",
    "sc_y_val = sc_model_y2.transform(y_val)\n",
    "model.score(sc_x_val, sc_y_val)"
   ]
  },
  {
   "cell_type": "code",
   "execution_count": 34,
   "metadata": {},
   "outputs": [],
   "source": [
    "def learn(x, t):\n",
    "    x_train, x_val, y_train, y_val = train_test_split(x, t,\n",
    "    test_size = 0.2, random_state = 0)\n",
    "    # 訓練データを標準化\n",
    "    sc_model_x = StandardScaler()\n",
    "    sc_model_y = StandardScaler()\n",
    "    sc_model_x.fit(x_train)\n",
    "    sc_x_train = sc_model_x.transform(x_train)\n",
    "    sc_model_y.fit(y_train)\n",
    "    sc_y_train = sc_model_y.transform(y_train)\n",
    "    # 学習\n",
    "    model = LinearRegression()\n",
    "    model.fit(sc_x_train, sc_y_train)\n",
    "    #検証データを標準化\n",
    "    sc_x_val = sc_model_x.transform(x_val)\n",
    "    sc_y_val = sc_model_y.transform(y_val)\n",
    "    # 訓練データと検証データの決定係数計算\n",
    "    train_score = model.score(sc_x_train, sc_y_train)\n",
    "    val_score = model.score(sc_x_val, sc_y_val)\n",
    "    return train_score, val_score"
   ]
  },
  {
   "cell_type": "code",
   "execution_count": null,
   "metadata": {},
   "outputs": [],
   "source": []
  },
  {
   "cell_type": "code",
   "execution_count": 35,
   "metadata": {},
   "outputs": [
    {
     "name": "stdout",
     "output_type": "stream",
     "text": [
      "0.7175897572515981 0.7359028880291001\n"
     ]
    }
   ],
   "source": [
    "x = train_val3.loc[ :, ['RM', 'LSTAT', 'PTRATIO']]\n",
    "t = train_val3[['PRICE']]\n",
    "s1,s2 = learn(x, t)\n",
    "print(s1, s2)"
   ]
  },
  {
   "cell_type": "code",
   "execution_count": 36,
   "metadata": {},
   "outputs": [
    {
     "name": "stdout",
     "output_type": "stream",
     "text": [
      "0.719025293018681 0.729553534494149\n"
     ]
    }
   ],
   "source": [
    "x = train_val3.loc[ :, ['RM', 'LSTAT', 'PTRATIO','INDUS']]\n",
    "t = train_val3[['PRICE']]\n",
    "s1,s2 = learn(x, t)\n",
    "print(s1, s2)"
   ]
  },
  {
   "cell_type": "code",
   "execution_count": 35,
   "metadata": {},
   "outputs": [
    {
     "data": {
      "text/plain": [
       "43    37.307664\n",
       "62    48.399849\n",
       "3     37.834801\n",
       "71    37.307664\n",
       "45    35.557369\n",
       "        ...    \n",
       "96    33.166081\n",
       "67    39.816100\n",
       "64    39.050001\n",
       "47    43.890625\n",
       "44    34.222500\n",
       "Name: RM, Length: 79, dtype: float64"
      ]
     },
     "execution_count": 35,
     "metadata": {},
     "output_type": "execute_result"
    }
   ],
   "source": [
    "x['RM'] ** 2"
   ]
  },
  {
   "cell_type": "code",
   "execution_count": 37,
   "metadata": {},
   "outputs": [
    {
     "data": {
      "text/html": [
       "<div>\n",
       "<style scoped>\n",
       "    .dataframe tbody tr th:only-of-type {\n",
       "        vertical-align: middle;\n",
       "    }\n",
       "\n",
       "    .dataframe tbody tr th {\n",
       "        vertical-align: top;\n",
       "    }\n",
       "\n",
       "    .dataframe thead th {\n",
       "        text-align: right;\n",
       "    }\n",
       "</style>\n",
       "<table border=\"1\" class=\"dataframe\">\n",
       "  <thead>\n",
       "    <tr style=\"text-align: right;\">\n",
       "      <th></th>\n",
       "      <th>RM</th>\n",
       "      <th>LSTAT</th>\n",
       "      <th>PTRATIO</th>\n",
       "      <th>RM2</th>\n",
       "    </tr>\n",
       "  </thead>\n",
       "  <tbody>\n",
       "    <tr>\n",
       "      <th>43</th>\n",
       "      <td>6.108</td>\n",
       "      <td>9.16</td>\n",
       "      <td>19.1</td>\n",
       "      <td>37.307664</td>\n",
       "    </tr>\n",
       "    <tr>\n",
       "      <th>62</th>\n",
       "      <td>6.957</td>\n",
       "      <td>3.53</td>\n",
       "      <td>19.1</td>\n",
       "      <td>48.399849</td>\n",
       "    </tr>\n",
       "  </tbody>\n",
       "</table>\n",
       "</div>"
      ],
      "text/plain": [
       "       RM  LSTAT  PTRATIO        RM2\n",
       "43  6.108   9.16     19.1  37.307664\n",
       "62  6.957   3.53     19.1  48.399849"
      ]
     },
     "execution_count": 37,
     "metadata": {},
     "output_type": "execute_result"
    }
   ],
   "source": [
    "# RM2乗のシリーズを新しい列として追加\n",
    "x['RM2'] = x['RM'] ** 2\n",
    "# コード8-29で、INDUS列を追加したので削除\n",
    "x = x.drop('INDUS', axis = 1)\n",
    "x.head(2)"
   ]
  },
  {
   "cell_type": "code",
   "execution_count": 38,
   "metadata": {},
   "outputs": [
    {
     "name": "stdout",
     "output_type": "stream",
     "text": [
      "         RM  LSTAT  PTRATIO       RM2\n",
      "44     5.85   8.77     19.2   34.2225\n",
      "2000  10.00   7.00      8.0  100.0000\n"
     ]
    }
   ],
   "source": [
    "# インデックスを2000として新しい行を追加\n",
    "x.loc[2000] = [10, 7, 8, 100]\n",
    "print(x.tail(2)) # 確認\n",
    "\n",
    "# 第8章の本筋には関係ないので削除\n",
    "x = x.drop(2000, axis = 0)"
   ]
  },
  {
   "cell_type": "code",
   "execution_count": 39,
   "metadata": {},
   "outputs": [
    {
     "name": "stdout",
     "output_type": "stream",
     "text": [
      "0.8456207631185567 0.8372526287986775\n"
     ]
    }
   ],
   "source": [
    "s1, s2 = learn(x, t)\n",
    "print(s1, s2)"
   ]
  },
  {
   "cell_type": "code",
   "execution_count": 40,
   "metadata": {},
   "outputs": [
    {
     "name": "stdout",
     "output_type": "stream",
     "text": [
      "0.8565689444345094 0.8425282632102127\n",
      "0.8643834988984441 0.8678022326740732\n"
     ]
    }
   ],
   "source": [
    "# LSTAT列の2乗を追加\n",
    "x['LSTAT2'] = x['LSTAT'] ** 2\n",
    "s1, s2 = learn(x, t)\n",
    "print(s1, s2)\n",
    "\n",
    "# PTRATIO列の2乗を追加\n",
    "x['PTRATIO2'] = x['PTRATIO'] ** 2\n",
    "s1, s2 = learn(x, t)\n",
    "print(s1, s2)"
   ]
  },
  {
   "cell_type": "code",
   "execution_count": 41,
   "metadata": {},
   "outputs": [
    {
     "data": {
      "text/plain": [
       "0    11\n",
       "1    22\n",
       "2    33\n",
       "dtype: int64"
      ]
     },
     "execution_count": 41,
     "metadata": {},
     "output_type": "execute_result"
    }
   ],
   "source": [
    "se1 = pd.Series([1, 2, 3])\n",
    "se2 = pd.Series([10, 20, 30])\n",
    "se1 + se2 # 対応する各要素を足し算したシリーズ\n"
   ]
  },
  {
   "cell_type": "code",
   "execution_count": 42,
   "metadata": {},
   "outputs": [
    {
     "data": {
      "text/html": [
       "<div>\n",
       "<style scoped>\n",
       "    .dataframe tbody tr th:only-of-type {\n",
       "        vertical-align: middle;\n",
       "    }\n",
       "\n",
       "    .dataframe tbody tr th {\n",
       "        vertical-align: top;\n",
       "    }\n",
       "\n",
       "    .dataframe thead th {\n",
       "        text-align: right;\n",
       "    }\n",
       "</style>\n",
       "<table border=\"1\" class=\"dataframe\">\n",
       "  <thead>\n",
       "    <tr style=\"text-align: right;\">\n",
       "      <th></th>\n",
       "      <th>RM</th>\n",
       "      <th>LSTAT</th>\n",
       "      <th>PTRATIO</th>\n",
       "      <th>RM2</th>\n",
       "      <th>LSTAT2</th>\n",
       "      <th>PTRATIO2</th>\n",
       "      <th>RM * LSTAT</th>\n",
       "    </tr>\n",
       "  </thead>\n",
       "  <tbody>\n",
       "    <tr>\n",
       "      <th>43</th>\n",
       "      <td>6.108</td>\n",
       "      <td>9.16</td>\n",
       "      <td>19.1</td>\n",
       "      <td>37.307664</td>\n",
       "      <td>83.9056</td>\n",
       "      <td>364.81</td>\n",
       "      <td>55.94928</td>\n",
       "    </tr>\n",
       "    <tr>\n",
       "      <th>62</th>\n",
       "      <td>6.957</td>\n",
       "      <td>3.53</td>\n",
       "      <td>19.1</td>\n",
       "      <td>48.399849</td>\n",
       "      <td>12.4609</td>\n",
       "      <td>364.81</td>\n",
       "      <td>24.55821</td>\n",
       "    </tr>\n",
       "  </tbody>\n",
       "</table>\n",
       "</div>"
      ],
      "text/plain": [
       "       RM  LSTAT  PTRATIO        RM2   LSTAT2  PTRATIO2  RM * LSTAT\n",
       "43  6.108   9.16     19.1  37.307664  83.9056    364.81    55.94928\n",
       "62  6.957   3.53     19.1  48.399849  12.4609    364.81    24.55821"
      ]
     },
     "execution_count": 42,
     "metadata": {},
     "output_type": "execute_result"
    }
   ],
   "source": [
    "x['RM * LSTAT'] = x['RM'] * x['LSTAT']\n",
    "x.head(2)"
   ]
  },
  {
   "cell_type": "code",
   "execution_count": 43,
   "metadata": {},
   "outputs": [
    {
     "name": "stdout",
     "output_type": "stream",
     "text": [
      "0.8668534967796696 0.8739347357775968\n"
     ]
    }
   ],
   "source": [
    "s1, s2 = learn(x, t)\n",
    "print(s1, s2)"
   ]
  },
  {
   "cell_type": "code",
   "execution_count": 44,
   "metadata": {},
   "outputs": [
    {
     "data": {
      "text/plain": [
       "LinearRegression()"
      ]
     },
     "execution_count": 44,
     "metadata": {},
     "output_type": "execute_result"
    }
   ],
   "source": [
    "# 訓練データと検証データを合わせて再学習させるので\n",
    "# 再度、標準化する\n",
    "sc_model_x2 = StandardScaler()\n",
    "sc_model_x2.fit(x)\n",
    "sc_x = sc_model_x2.transform(x)\n",
    "\n",
    "sc_model_y2 = StandardScaler()\n",
    "sc_model_y2.fit(t)\n",
    "sc_y = sc_model_y2.transform(t)\n",
    "model = LinearRegression()\n",
    "model.fit(sc_x, sc_y)"
   ]
  },
  {
   "cell_type": "code",
   "execution_count": null,
   "metadata": {},
   "outputs": [],
   "source": []
  },
  {
   "cell_type": "code",
   "execution_count": null,
   "metadata": {},
   "outputs": [],
   "source": []
  },
  {
   "cell_type": "code",
   "execution_count": null,
   "metadata": {},
   "outputs": [],
   "source": []
  },
  {
   "cell_type": "code",
   "execution_count": 46,
   "metadata": {},
   "outputs": [],
   "source": [
    "test2 = test.fillna(train_val.mean()) # 欠損値を平均値で補完\n",
    "x_test = test2.loc[ :, ['RM','LSTAT', 'PTRATIO'] ]\n",
    "y_test = test2[['PRICE']]\n",
    "\n",
    "x_test['RM2'] = x_test['RM'] ** 2\n",
    "x_test['LSTAT2'] = x_test['LSTAT'] ** 2\n",
    "x_test['PTRATIO2'] = x_test['PTRATIO'] ** 2\n",
    "\n",
    "x_test['RM * LSTAT'] = x_test['RM'] * x_test['LSTAT']"
   ]
  },
  {
   "cell_type": "code",
   "execution_count": 47,
   "metadata": {},
   "outputs": [],
   "source": [
    "sc_x_test = sc_model_x2.transform(x_test)\n",
    "sc_y_test = sc_model_y2.transform(y_test)"
   ]
  },
  {
   "cell_type": "code",
   "execution_count": 48,
   "metadata": {},
   "outputs": [
    {
     "data": {
      "text/plain": [
       "0.7649249353669061"
      ]
     },
     "execution_count": 48,
     "metadata": {},
     "output_type": "execute_result"
    }
   ],
   "source": [
    "model.score(sc_x_test, sc_y_test)"
   ]
  },
  {
   "cell_type": "code",
   "execution_count": 50,
   "metadata": {},
   "outputs": [],
   "source": [
    "import pickle\n",
    "with open('boston.pkl',\"wb\") as f:\n",
    "    pickle.dump(model,f)\n",
    "with open('boston_scx.pkl','wb') as f:\n",
    "    pickle.dump(sc_model_x2,f)\n",
    "with open('boston_scy.pkl','wb') as f:\n",
    "    pickle.dump(sc_model_y2,f)\n",
    "    "
   ]
  },
  {
   "cell_type": "code",
   "execution_count": null,
   "metadata": {},
   "outputs": [],
   "source": []
  },
  {
   "cell_type": "code",
   "execution_count": null,
   "metadata": {},
   "outputs": [],
   "source": []
  },
  {
   "cell_type": "code",
   "execution_count": 51,
   "metadata": {},
   "outputs": [],
   "source": []
  },
  {
   "cell_type": "code",
   "execution_count": null,
   "metadata": {},
   "outputs": [],
   "source": []
  },
  {
   "cell_type": "code",
   "execution_count": null,
   "metadata": {},
   "outputs": [],
   "source": []
  }
 ],
 "metadata": {
  "kernelspec": {
   "display_name": "Python 3",
   "language": "python",
   "name": "python3"
  },
  "language_info": {
   "codemirror_mode": {
    "name": "ipython",
    "version": 3
   },
   "file_extension": ".py",
   "mimetype": "text/x-python",
   "name": "python",
   "nbconvert_exporter": "python",
   "pygments_lexer": "ipython3",
   "version": "3.7.3"
  }
 },
 "nbformat": 4,
 "nbformat_minor": 4
}
