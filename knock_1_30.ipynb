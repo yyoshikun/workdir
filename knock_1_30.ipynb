{
 "cells": [
  {
   "cell_type": "code",
   "execution_count": null,
   "id": "42299f16-e912-4cbb-8937-7fd2a8ebe8e4",
   "metadata": {},
   "outputs": [],
   "source": [
    "#1\n",
    "import pandas as pd\n",
    "m_store=pd.read_csv('m_store.csv')"
   ]
  },
  {
   "cell_type": "code",
   "execution_count": null,
   "id": "05bd6bbc",
   "metadata": {},
   "outputs": [],
   "source": [
    "#1\n",
    "len(m_store)"
   ]
  },
  {
   "cell_type": "code",
   "execution_count": null,
   "id": "bae03c84",
   "metadata": {},
   "outputs": [],
   "source": [
    "#1\n",
    "m_store.head()"
   ]
  },
  {
   "cell_type": "code",
   "execution_count": null,
   "id": "1d3d53c8",
   "metadata": {},
   "outputs": [],
   "source": [
    "#1\n",
    "m_area=pd.read_csv('m_area.csv')\n",
    "m_area"
   ]
  },
  {
   "cell_type": "code",
   "execution_count": null,
   "id": "ae9aec48",
   "metadata": {},
   "outputs": [],
   "source": [
    "#1\n",
    "tbl_order_4=pd.read_csv('tbl_order_202004.csv')\n",
    "tbl_order_4"
   ]
  },
  {
   "cell_type": "code",
   "execution_count": null,
   "id": "3a1ea48e",
   "metadata": {},
   "outputs": [],
   "source": [
    "#2\n",
    "tbl_order_5=pd.read_csv('tbl_order_202005.csv')\n",
    "tbl_order_5"
   ]
  },
  {
   "cell_type": "code",
   "execution_count": null,
   "id": "f732c6a8",
   "metadata": {},
   "outputs": [],
   "source": [
    "#2\n",
    "order_all=pd.concat([tbl_order_4,tbl_order_5],ignore_index=True)\n",
    "order_all"
   ]
  },
  {
   "cell_type": "code",
   "execution_count": null,
   "id": "03afb25e",
   "metadata": {},
   "outputs": [],
   "source": [
    "#2\n",
    "len(order_all)==len(tbl_order_4)+len(tbl_order_5)"
   ]
  },
  {
   "cell_type": "code",
   "execution_count": null,
   "id": "d71a128b",
   "metadata": {},
   "outputs": [],
   "source": [
    "#3\n",
    "import os\n",
    "current_dir=os.getcwd()\n",
    "current_dir"
   ]
  },
  {
   "cell_type": "code",
   "execution_count": null,
   "id": "759c4a41",
   "metadata": {},
   "outputs": [],
   "source": [
    "#3\n",
    "os.listdir(current_dir)"
   ]
  },
  {
   "cell_type": "code",
   "execution_count": null,
   "id": "33356823",
   "metadata": {},
   "outputs": [],
   "source": [
    "#3\n",
    "tbl_order_file=os.path.join(current_dir,'tbl_order_*.csv')\n",
    "tbl_order_file"
   ]
  },
  {
   "cell_type": "code",
   "execution_count": null,
   "id": "28105cb4",
   "metadata": {},
   "outputs": [],
   "source": [
    "#3\n",
    "import glob\n",
    "tbl_order_files=glob.glob(tbl_order_file)\n",
    "tbl_order_files"
   ]
  },
  {
   "cell_type": "code",
   "execution_count": null,
   "id": "cc15bf78",
   "metadata": {},
   "outputs": [],
   "source": [
    "#4\n",
    "order_all=pd.DataFrame()\n",
    "file=tbl_order_files[0]\n",
    "order_data=pd.read_csv(file)\n",
    "print(f'{file}:{len(order_data)}')\n",
    "order_all=pd.concat([order_all,order_all,order_data],ignore_index=True)\n",
    "order_all"
   ]
  },
  {
   "cell_type": "code",
   "execution_count": null,
   "id": "81f21fa3",
   "metadata": {},
   "outputs": [],
   "source": [
    "#4\n",
    "order_all=pd.DataFrame()\n",
    "for file in tbl_order_files:\n",
    "    order_data=pd.read_csv(file)\n",
    "    print(f'{file}:{len(order_data)}')\n",
    "    order_all=pd.concat([order_all,order_data],ignore_index=True)"
   ]
  },
  {
   "cell_type": "code",
   "execution_count": null,
   "id": "b4575ec7",
   "metadata": {},
   "outputs": [],
   "source": [
    "#5\n",
    "order_all"
   ]
  },
  {
   "cell_type": "code",
   "execution_count": null,
   "id": "a376448c",
   "metadata": {},
   "outputs": [],
   "source": [
    "#5\n",
    "order_all.isnull().sum()"
   ]
  },
  {
   "cell_type": "code",
   "execution_count": null,
   "id": "8582647e",
   "metadata": {},
   "outputs": [],
   "source": [
    "#5\n",
    "order_all.describe()"
   ]
  },
  {
   "cell_type": "code",
   "execution_count": null,
   "id": "fbbc6358",
   "metadata": {},
   "outputs": [],
   "source": [
    "#5\n",
    "order_all['total_amount'].describe()"
   ]
  },
  {
   "cell_type": "code",
   "execution_count": null,
   "id": "d694d65d",
   "metadata": {},
   "outputs": [],
   "source": [
    "#5\n",
    "print(order_all[\"order_accept_date\"].min())\n",
    "print(order_all[\"order_accept_date\"].max())\n",
    "print(order_all[\"delivered_date\"].min())\n",
    "print(order_all[\"delivered_date\"].max())"
   ]
  },
  {
   "cell_type": "code",
   "execution_count": null,
   "id": "c95ab248",
   "metadata": {},
   "outputs": [],
   "source": [
    "#6\n",
    "order_data=order_all.loc[order_all['store_id']!=999]\n",
    "order_data"
   ]
  },
  {
   "cell_type": "code",
   "execution_count": null,
   "id": "7afd067a",
   "metadata": {},
   "outputs": [],
   "source": [
    "#7\n",
    "order_data=pd.merge(order_data,m_store,on='store_id',how='left')\n",
    "order_data"
   ]
  },
  {
   "cell_type": "code",
   "execution_count": null,
   "id": "143782ff",
   "metadata": {},
   "outputs": [],
   "source": [
    "#7\n",
    "order_data=pd.merge(order_data,m_area,on='area_cd',how='left')\n",
    "order_data"
   ]
  },
  {
   "cell_type": "code",
   "execution_count": null,
   "id": "6ce9c92a",
   "metadata": {},
   "outputs": [],
   "source": [
    "#8\n",
    "order_data.loc[order_data['takeout_flag']==0,'takeout_name']='デリバリー'\n",
    "order_data.loc[order_data['takeout_flag']==1,'takeout_name']='お持ち帰り'\n",
    "order_data"
   ]
  },
  {
   "cell_type": "code",
   "execution_count": null,
   "id": "083d2f39",
   "metadata": {},
   "outputs": [],
   "source": [
    "#8\n",
    "order_data.loc[order_data['status']==0,'status_name']='受付'\n",
    "order_data.loc[order_data['status']==1,'status_name']='お支払済'\n",
    "order_data.loc[order_data['status']==2,'status_name']='お渡し済'\n",
    "order_data.loc[order_data['status']==9,'status_name']='キャンセル'\n",
    "order_data"
   ]
  },
  {
   "cell_type": "code",
   "execution_count": null,
   "id": "e3d3ac1a",
   "metadata": {},
   "outputs": [],
   "source": [
    "#9\n",
    "output_dir=os.path.join(current_dir,'output_data')\n",
    "os.makedirs(output_dir,exist_ok=True)"
   ]
  },
  {
   "cell_type": "code",
   "execution_count": null,
   "id": "85c70fa3",
   "metadata": {},
   "outputs": [],
   "source": [
    "#9\n",
    "output_file=os.path.join(output_dir,'order_data.csv')\n",
    "order_data.to_csv(output_file,index=False)"
   ]
  },
  {
   "cell_type": "code",
   "execution_count": null,
   "id": "3cfa3756",
   "metadata": {},
   "outputs": [],
   "source": [
    "#10\n",
    "import pandas as pd\n",
    "import os\n",
    "import glob\n",
    "\n",
    "m_store=pd.read_csv('m_store.csv')\n",
    "m_area=pd.read_csv('m_area.csv')\n",
    "\n",
    "current_dir=os.getcwd()\n",
    "tbl_order_file=os.path.join(current_dir,'tbl_order_*.csv')\n",
    "tbl_order_files=glob.glob(tbl_order_file)\n",
    "order_all=pd.DataFrame()\n",
    "\n",
    "for file in tbl_order_files:\n",
    "    order_data=pd.read_csv(file)\n",
    "    print(f'{file}:{len(order_data)}')\n",
    "    order_all=pd.concat([order_all,order_data],ignore_index=True)\n",
    "\n",
    "    order_data=order_all.loc[order_all['store_id']!=999]\n",
    "\n",
    "    order_data=pd.merge(order_data,m_store,on='store_id',how='left')\n",
    "    order_data=pd.merge(order_data,m_area,on='area_cd',how='left')\n",
    "\n",
    "    order_data.loc[order_data['takeout_flag']==0,'takeout_name']='デリバリー'\n",
    "    order_data.loc[order_data['takeout_flag']==1,'takeout_name']='お持ち帰り'\n",
    "\n",
    "    order_data.loc[order_data['status']==0,'status_name']='受付'\n",
    "    order_data.loc[order_data['status']==1,'status_name']='お支払済'\n",
    "    order_data.loc[order_data['status']==2,'status_name']='お渡し済'\n",
    "    order_data.loc[order_data['status']==9,'status_name']='キャンセル'\n",
    "\n",
    "    output_dir=os.path.join(current_dir,'output_data')\n",
    "    os.makedirs(output_dir,exist_ok=True)\n",
    "    output_file=os.path.join(output_dir,'order_data.csv')\n",
    "    order_data.to_csv(output_file,index=False)\n",
    "\n"
   ]
  },
  {
   "cell_type": "code",
   "execution_count": null,
   "id": "24a90338",
   "metadata": {},
   "outputs": [],
   "source": [
    "#11\n",
    "import pandas as pd\n",
    "order_data=pd.read_csv('order_data.csv')\n",
    "print(len(order_data))\n",
    "order_data.head()"
   ]
  },
  {
   "cell_type": "code",
   "execution_count": null,
   "id": "38075510",
   "metadata": {},
   "outputs": [],
   "source": [
    "\n",
    "#11\n",
    "order_data=order_data.loc[(order_data['status']==1)|(order_data['status']==2)]\n",
    "print(len(order_data))\n",
    "order_data.columns"
   ]
  },
  {
   "cell_type": "code",
   "execution_count": null,
   "id": "747519cc",
   "metadata": {},
   "outputs": [],
   "source": [
    "#11\n",
    "analyze_data=order_data[['store_id', 'customer_id', 'coupon_cd',\n",
    "       'order_accept_date', 'delivered_date', 'total_amount','store_name', 'wide_area', 'narrow_area','takeout_name', 'status_name']]\n",
    "print(analyze_data.shape)\n",
    "analyze_data.head()"
   ]
  },
  {
   "cell_type": "code",
   "execution_count": null,
   "id": "1cfdce03",
   "metadata": {},
   "outputs": [],
   "source": [
    "#12\n",
    "analyze_data.describe()"
   ]
  },
  {
   "cell_type": "code",
   "execution_count": null,
   "id": "c6c494fc",
   "metadata": {},
   "outputs": [],
   "source": [
    "#12\n",
    "analyze_data.dtypes"
   ]
  },
  {
   "cell_type": "code",
   "execution_count": null,
   "id": "a0a7a8d7",
   "metadata": {},
   "outputs": [],
   "source": [
    "#12\n",
    "analyze_data[['store_id','coupon_cd']]=analyze_data[['store_id','coupon_cd']].astype(str)\n",
    "analyze_data.dtypes"
   ]
  },
  {
   "cell_type": "code",
   "execution_count": null,
   "id": "19e7bcbb",
   "metadata": {},
   "outputs": [],
   "source": [
    "#12\n",
    "import warnings\n",
    "warnings.filterwarnings('ignore')"
   ]
  },
  {
   "cell_type": "code",
   "execution_count": null,
   "id": "9c0f0633",
   "metadata": {},
   "outputs": [],
   "source": [
    "#12\n",
    "analyze_data.describe()"
   ]
  },
  {
   "cell_type": "code",
   "execution_count": null,
   "id": "3ba55b5c",
   "metadata": {},
   "outputs": [],
   "source": [
    "#13\n",
    "analyze_data['order_accept_date']=pd.to_datetime(analyze_data['order_accept_date'])\n",
    "analyze_data['order_accept_month']=analyze_data['order_accept_date'].dt.strftime('%Y%m')\n",
    "analyze_data[['order_accept_date','order_accept_month']].head()\n"
   ]
  },
  {
   "cell_type": "code",
   "execution_count": null,
   "id": "a757f3db",
   "metadata": {},
   "outputs": [],
   "source": [
    "#13\n",
    "analyze_data['delivered_date']=pd.to_datetime(analyze_data['delivered_date'])\n",
    "analyze_data['delivered_month']=analyze_data['delivered_date'].dt.strftime(\"%Y%m\")\n",
    "analyze_data[['delivered_date','delivered_month']].head()"
   ]
  },
  {
   "cell_type": "code",
   "execution_count": null,
   "id": "29fb9e41",
   "metadata": {},
   "outputs": [],
   "source": [
    "#13\n",
    "month_data=analyze_data.groupby('order_accept_month')\n",
    "month_data.describe()"
   ]
  },
  {
   "cell_type": "code",
   "execution_count": null,
   "id": "01ddc729",
   "metadata": {},
   "outputs": [],
   "source": [
    "#13\n",
    "month_data.sum()"
   ]
  },
  {
   "cell_type": "code",
   "execution_count": null,
   "id": "31e58476",
   "metadata": {},
   "outputs": [],
   "source": [
    "#14\n",
    "import matplotlib.pyplot as plt\n",
    "%matplotlib inline\n",
    "month_data.sum().plot()"
   ]
  },
  {
   "cell_type": "code",
   "execution_count": null,
   "id": "eb6e01d9",
   "metadata": {},
   "outputs": [],
   "source": [
    "#14\n",
    "month_data.mean().plot()"
   ]
  },
  {
   "cell_type": "code",
   "execution_count": null,
   "id": "53b8fe62",
   "metadata": {},
   "outputs": [],
   "source": [
    "#15\n",
    "plt.hist(analyze_data['total_amount'])"
   ]
  },
  {
   "cell_type": "code",
   "execution_count": null,
   "id": "ebd7c4f0",
   "metadata": {},
   "outputs": [],
   "source": [
    "#15\n",
    "plt.hist(analyze_data['total_amount'],bins=21)"
   ]
  },
  {
   "cell_type": "code",
   "execution_count": null,
   "id": "8637d19a",
   "metadata": {},
   "outputs": [],
   "source": [
    "#16\n",
    "pre_data=pd.pivot_table(analyze_data,index='order_accept_month',columns='narrow_area',values='total_amount',aggfunc='mean')\n",
    "pre_data"
   ]
  },
  {
   "cell_type": "code",
   "execution_count": null,
   "id": "d9fe1397",
   "metadata": {},
   "outputs": [],
   "source": [
    "#16\n",
    "#import japanize_matplotlib\n",
    "#日本語表記できないのでローマ字で\n",
    "\n",
    "plt.plot(list(pre_data.index),pre_data['東京'],label='tokyo')\n",
    "plt.plot(list(pre_data.index),pre_data['神奈川'],label='kanagawa')\n",
    "plt.plot(list(pre_data.index),pre_data['埼玉'],label='saitama')\n",
    "plt.plot(list(pre_data.index),pre_data['千葉'],label='chiba')\n",
    "plt.plot(list(pre_data.index),pre_data['茨城'],label='ibaraki')\n",
    "plt.plot(list(pre_data.index),pre_data['栃木'],label='tochigi')\n",
    "plt.plot(list(pre_data.index),pre_data['群馬'],label='gunma')\n",
    "plt.legend()"
   ]
  },
  {
   "cell_type": "code",
   "execution_count": null,
   "id": "0755ad63-b563-4c29-89da-68ab645a917d",
   "metadata": {},
   "outputs": [],
   "source": [
    "#17\n",
    "store_clustering=analyze_data.groupby('store_id').agg(['size','mean','median','max','min'])['total_amount']\n",
    "store_clustering.reset_index(inplace=True,drop=True)\n",
    "print(len(store_clustering))\n",
    "store_clustering.head()"
   ]
  },
  {
   "cell_type": "code",
   "execution_count": null,
   "id": "a2cc8a36",
   "metadata": {},
   "outputs": [],
   "source": [
    "#17\n",
    "import seaborn as sns\n",
    "hexbin=sns.jointplot(x='mean',y='size',data=store_clustering,kind='hex')"
   ]
  },
  {
   "cell_type": "code",
   "execution_count": null,
   "id": "4667cadb",
   "metadata": {},
   "outputs": [],
   "source": [
    "#18\n",
    "from sklearn.cluster import KMeans\n",
    "from sklearn.preprocessing import StandardScaler"
   ]
  },
  {
   "cell_type": "code",
   "execution_count": null,
   "id": "f17930d8-72d7-47a9-9fc7-ad90ac2d1deb",
   "metadata": {},
   "outputs": [],
   "source": [
    "#18\n",
    "sc=StandardScaler()\n",
    "store_clustering_sc=sc.fit_transform(store_clustering)\n",
    "\n",
    "kmeans=KMeans(n_clusters=4,random_state=0)\n",
    "clusters=kmeans.fit(store_clustering_sc)\n",
    "store_clustering['cluster']=clusters.labels_\n",
    "print(store_clustering['cluster'].unique())\n",
    "store_clustering.head()"
   ]
  },
  {
   "cell_type": "code",
   "execution_count": null,
   "id": "418694bb",
   "metadata": {},
   "outputs": [],
   "source": [
    "#19\n",
    "store_clustering.columns=['月内件数','月内平均値','月内中央値','月内最大値','月内最小値','cluster']\n",
    "store_clustering.groupby('cluster').count()"
   ]
  },
  {
   "cell_type": "code",
   "execution_count": null,
   "id": "544cf0cc",
   "metadata": {},
   "outputs": [],
   "source": [
    "#19\n",
    "store_clustering.groupby('cluster').mean()"
   ]
  },
  {
   "cell_type": "code",
   "execution_count": null,
   "id": "e2a64ee7",
   "metadata": {},
   "outputs": [],
   "source": [
    "#20\n",
    "from sklearn.manifold import TSNE\n",
    "tsne=TSNE(n_components=2,random_state=0)\n",
    "x=tsne.fit_transform(store_clustering_sc)\n",
    "tsne_df=pd.DataFrame(x)\n",
    "tsne_df['cluster']=store_clustering['cluster']\n",
    "tsne_df.columns=['axis_0','axis_1','cluster']\n",
    "tsne_df.head()"
   ]
  },
  {
   "cell_type": "code",
   "execution_count": null,
   "id": "0b645ad3",
   "metadata": {},
   "outputs": [],
   "source": [
    "#20\n",
    "tsne_graph=sns.scatterplot(x='axis_0',y='axis_1',hue='cluster',data=tsne_df)"
   ]
  },
  {
   "cell_type": "code",
   "execution_count": null,
   "id": "dd456f43",
   "metadata": {},
   "outputs": [],
   "source": [
    "#21\n",
    "import pandas as pd\n",
    "from IPython.display import display, clear_output\n",
    "\n",
    "m_store=pd.read_csv('m_store.csv')\n",
    "m_area=pd.read_csv('m_area.csv')\n",
    "order_data=pd.read_csv('tbl_order_202004.csv')\n",
    "order_data=pd.merge(order_data,m_store,on='store_id',how='left')\n",
    "order_data=pd.merge(order_data,m_area,on='area_cd',how='left')\n",
    "\n",
    "order_data.loc[order_data['takeout_flag']==0,'takeout_name']='デリバリー'\n",
    "order_data.loc[order_data['takeout_flag']==1,'takeout_name']='お持ち帰り'\n",
    "\n",
    "order_data.loc[order_data['status']==0,'status_name']='受付'\n",
    "order_data.loc[order_data['status']==1,'status_name']='お支払済'\n",
    "order_data.loc[order_data['status']==2,'status_name']='お渡し済'\n",
    "order_data.loc[order_data['status']==9,'status_name']='キャンセル'\n",
    "order_data.head()"
   ]
  },
  {
   "cell_type": "code",
   "execution_count": null,
   "id": "cb62d91c",
   "metadata": {},
   "outputs": [],
   "source": [
    "#21\n",
    "from ipywidgets import Dropdown\n",
    "\n",
    "def order_by_store(val):\n",
    "    clear_output()\n",
    "    display(dropdown)\n",
    "    pick_data=order_data.loc[(order_data['store_name']==val['new']) & (order_data['status'].isin([1,2]))]\n",
    "    display(pick_data.head())\n",
    "\n",
    "store_list=m_store['store_name'].tolist()\n",
    "dropdown=Dropdown(options=store_list)\n",
    "dropdown.observe(order_by_store,names='value')\n",
    "display(dropdown)"
   ]
  },
  {
   "cell_type": "code",
   "execution_count": null,
   "id": "50945418",
   "metadata": {},
   "outputs": [],
   "source": [
    "#21\n",
    "%matplotlib inline\n",
    "import matplotlib.pyplot as plt\n",
    "#import japanize_matplotlib\n",
    "\n",
    "def graph_by_store(val):\n",
    "    clear_output()\n",
    "    display(dropdown2)\n",
    "    pick_data=order_data.loc[(order_data['store_name']==val['new']) & (order_data['status'].isin([1,2]))]\n",
    "    temp=pick_data[['order_accept_date','total_amount']].copy()\n",
    "    temp.loc[:,'order_accept_date']=pd.to_datetime(temp['order_accept_date'])\n",
    "    temp.set_index('order_accept_date',inplace=True)\n",
    "    temp.resample('D').sum().plot()\n",
    "\n",
    "dropdown2=Dropdown(options=store_list)\n",
    "dropdown2.observe(graph_by_store,names='value')\n",
    "display(dropdown2)    "
   ]
  },
  {
   "cell_type": "code",
   "execution_count": null,
   "id": "8ba8852f",
   "metadata": {},
   "outputs": [],
   "source": [
    "#22\n",
    "from ipywidgets import SelectMultiple\n",
    "\n",
    "def order_by_multi(val):\n",
    "    clear_output()\n",
    "    display(select)\n",
    "    pick_data=order_data.loc[(order_data['store_name'].isin(val['new'])) & (order_data['status'].isin([1,2]))]\n",
    "    display(pick_data.head())\n",
    "\n",
    "select=SelectMultiple(options=store_list)\n",
    "select.observe(order_by_multi,names='value')\n",
    "display(select)    \n"
   ]
  },
  {
   "cell_type": "code",
   "execution_count": null,
   "id": "05921ca3",
   "metadata": {},
   "outputs": [],
   "source": [
    "#22\n",
    "def graph_by_multi(val):\n",
    "    clear_output()\n",
    "    display(select2)\n",
    "\n",
    "    fig=plt.figure(figsize=(17,4))\n",
    "    plt.subplots_adjust(wspace=0.25,hspace=0.6)\n",
    "\n",
    "    i=0\n",
    "\n",
    "    for trg in val['new']:\n",
    "        pick_data=order_data[(order_data['store_name']==trg) & (order_data['status'].isin([1, 2]))]\n",
    "        temp=pick_data[['order_accept_date','total_amount','store_name']].copy()\n",
    "        temp.loc[:,'order_accept_date']=pd.to_datetime(temp['order_accept_date'])\n",
    "        temp.set_index('order_accept_date',inplace=True)\n",
    "        i += 1\n",
    "        ax=fig.add_subplot(1,len(val['new']),i)\n",
    "        ax.plot(temp.resample('D').sum())\n",
    "        ax.set_title(trg)\n",
    "\n",
    "select2=SelectMultiple(options=store_list)\n",
    "select2.observe(graph_by_multi,names='value')\n",
    "display(select2)    \n"
   ]
  },
  {
   "cell_type": "code",
   "execution_count": null,
   "id": "5b23d6c5",
   "metadata": {},
   "outputs": [],
   "source": [
    "#23\n",
    "from ipywidgets import IntSlider\n",
    "def store_lower(val):\n",
    "    clear_output()\n",
    "    display(slider)\n",
    "    temp=order_data.groupby('store_name')\n",
    "    print(temp.size()[temp.size()<val['new']])\n",
    "\n",
    "slider=IntSlider(value=1100,min=1000,max=2000,step=100,description='件数:',)\n",
    "slider.observe(store_lower,names='value')\n",
    "display(slider)"
   ]
  },
  {
   "cell_type": "code",
   "execution_count": null,
   "id": "32e6f188",
   "metadata": {},
   "outputs": [],
   "source": [
    "#23\n",
    "def store_upper(val):\n",
    "    clear_output()\n",
    "    display(slider2)\n",
    "    temp=order_data.groupby('store_name')\n",
    "    print(temp.size()[temp.size()>val['new']])\n",
    "\n",
    "slider2=IntSlider(value=1600,min=1000,max=2000,step=100,description='件数:',)\n",
    "slider2.observe(store_upper,names='value')\n",
    "display(slider2)"
   ]
  },
  {
   "cell_type": "code",
   "execution_count": null,
   "id": "3a781c1b",
   "metadata": {},
   "outputs": [],
   "source": [
    "#24\n",
    "from ipywidgets import ToggleButtons\n",
    "area_list=m_area['wide_area'].unique()\n",
    "\n",
    "def order_by_area(val):\n",
    "    clear_output()\n",
    "    display(toggle)\n",
    "    pick_data=order_data.loc[(order_data['wide_area']== val['new']) & (order_data['status'].isin([1,2]))]\n",
    "    display(pick_data.head())\n",
    "\n",
    "toggle=ToggleButtons(options=area_list)\n",
    "toggle.observe(order_by_area,names='value')\n",
    "display(toggle)    "
   ]
  },
  {
   "cell_type": "code",
   "execution_count": null,
   "id": "f68767a1",
   "metadata": {},
   "outputs": [],
   "source": [
    "#24\n",
    "def graph_by_area(val):\n",
    "    clear_output()\n",
    "    display(toggle2)\n",
    "\n",
    "    pick_data=order_data.loc[(order_data['wide_area']==val['new']) & (order_data['status'].isin([1,2]))]\n",
    "    temp=pick_data[['order_accept_date','total_amount']].copy()\n",
    "    temp.loc[:,'order_accept_date']=pd.to_datetime(temp['order_accept_date'])\n",
    "    temp.set_index('order_accept_date',inplace=True)\n",
    "    temp.resample('D').sum().plot()\n",
    "\n",
    "toggle2=ToggleButtons(options=area_list)\n",
    "toggle2.observe(graph_by_area,names='value')\n",
    "display(toggle2)"
   ]
  },
  {
   "cell_type": "code",
   "execution_count": null,
   "id": "095f9a8c",
   "metadata": {},
   "outputs": [],
   "source": [
    "#25\n",
    "from ipywidgets import DatePicker\n",
    "import datetime\n",
    "\n",
    "order_data.loc[:,'order_date'] = pd.to_datetime(order_data['order_accept_date']).dt.date\n",
    "\n",
    "def order_by_date(val):\n",
    "    clear_output()\n",
    "    display(date_picker)\n",
    "    pick_data=order_data.loc[(order_data['order_date']==val['new']) & (order_data['status'].isin([1,2]))]\n",
    "    print(len(pick_data))\n",
    "    display(pick_data.head())\n",
    "\n",
    "date_picker=DatePicker(value=datetime.datetime(2020, 4, 1))\n",
    "date_picker.observe(order_by_date, names='value')\n",
    "display(date_picker)    "
   ]
  },
  {
   "cell_type": "code",
   "execution_count": null,
   "id": "3db6af44",
   "metadata": {},
   "outputs": [],
   "source": [
    "#25\n",
    "min_date=datetime.date(2020,4,1)\n",
    "max_date=datetime.date(2020,4,30)\n",
    "\n",
    "def order_between_date():\n",
    "    clear_output()\n",
    "    display(date_picker_min)\n",
    "    display(date_picker_max)\n",
    "    pick_data = order_data.loc[(order_data['order_date'] >= min_date) & (order_data['order_date'] <= max_date) & (order_data['status'].isin([1,2]))]\n",
    "    print(len(pick_data))\n",
    "    display(pick_data.head())\n",
    "\n",
    "def set_min_date(val):\n",
    "    global min_date\n",
    "    min_date=val['new']\n",
    "    order_between_date()\n",
    "\n",
    "def set_max_date(val):\n",
    "    global max_date\n",
    "    max_date=val['new']\n",
    "    order_between_date()\n",
    "\n",
    "date_picker_min=DatePicker(value = min_date)\n",
    "date_picker_min.observe(set_min_date,names='value')\n",
    "print(\"最小日付\")\n",
    "display(date_picker_min)\n",
    "\n",
    "date_picker_max=DatePicker(value = max_date)\n",
    "date_picker_max.observe(set_max_date,names='value')\n",
    "print(\"最大日付\")\n",
    "display(date_picker_max)          "
   ]
  },
  {
   "cell_type": "code",
   "execution_count": null,
   "id": "afa20ceb",
   "metadata": {},
   "outputs": [],
   "source": [
    "#26\n",
    "import glob\n",
    "import os\n",
    "current_dir=os.getcwd()\n",
    "tbl_order_file=os.path.join(current_dir,'tbl_order_*.csv')\n",
    "tbl_order_files=glob.glob(tbl_order_file)\n",
    "\n",
    "order_all=pd.DataFrame()\n",
    "for file in tbl_order_files:\n",
    "    order_tmp=pd.read_csv(file)\n",
    "    print(f'{file}:{len(order_tmp)}')\n",
    "    order_all=pd.concat([order_all,order_tmp],ignore_index=True)\n",
    "\n",
    "order_all=order_all.loc[order_all['store_id'] != 999]\n",
    "order_all=pd.merge(order_all,m_store,on='store_id',how='left')\n",
    "order_all=pd.merge(order_all,m_area,on='area_cd',how='left')\n",
    "\n",
    "order_all.loc[order_all['takeout_flag']==0,'takeout_name']='デリバリー'\n",
    "order_all.loc[order_all['takeout_flag']==2,'takeout_name']='お持ち帰り'\n",
    "\n",
    "order_all.loc[order_all['status']==0,'status_name']='受付'\n",
    "order_all.loc[order_all['status']==1,'status_name']='お支払済'\n",
    "order_all.loc[order_all['status']==2,'status_name']='お渡し済'\n",
    "order_all.loc[order_all['status']==9,'status_name']='キャンセル'\n",
    "\n",
    "order_all.loc[:,'order_date']=pd.to_datetime(order_all['order_accept_date']).dt.date\n",
    "order_all.groupby(['store_id','customer_id'])[\"total_amount\"].describe()\n"
   ]
  },
  {
   "cell_type": "code",
   "execution_count": null,
   "id": "0938cd8e",
   "metadata": {},
   "outputs": [],
   "source": [
    "#26\n",
    "summary_df=order_all.loc[order_all['status'].isin([1,2])]\n",
    "store_summary_df=summary_df.groupby(['store_id'])['total_amount'].sum()\n",
    "store_summary_df=pd.merge(store_summary_df,m_store,on='store_id',how='left')\n",
    "print('売上上位')\n",
    "display(store_summary_df.sort_values('total_amount',ascending=False).head(10))\n",
    "print(\"売上下位\")\n",
    "display(store_summary_df.sort_values('total_amount',ascending=True).head(10))"
   ]
  },
  {
   "cell_type": "code",
   "execution_count": null,
   "id": "97fa4a9d",
   "metadata": {},
   "outputs": [],
   "source": [
    "#26\n",
    "cancel_df=pd.DataFrame()\n",
    "cancel_cut=order_all.loc[order_all['status']==9].groupby(['store_id'])['store_id'].count()\n",
    "order_cnt=order_all.loc[order_all['status'].isin([1,2,9])].groupby(['store_id'])['store_id'].count()\n",
    "cancel_rate=(cancel_cut/order_cnt)*100\n",
    "cancel_df[\"cancel_rate\"]=cancel_rate\n",
    "cancel_df=pd.merge(cancel_df,m_store,on='store_id',how='left')\n",
    "print(\"キャンセル率が低い\")\n",
    "display(cancel_df.sort_values('cancel_rate',ascending=True).head(10))\n",
    "print(\"キャンセル率が高い\")\n",
    "display(cancel_df.sort_values('cancel_rate',ascending=False).head(10))\n"
   ]
  },
  {
   "cell_type": "code",
   "execution_count": null,
   "id": "eb1df6c4",
   "metadata": {},
   "outputs": [],
   "source": [
    "\n",
    "#27\n",
    "def calc_delta(t):\n",
    "    t1,t2=t\n",
    "    delta=t2-t1\n",
    "    return delta.total_seconds()/60\n",
    "\n",
    "order_all.loc[:,'order_accept_datetime']=pd.to_datetime(order_all['order_accept_date'])\n",
    "order_all.loc[:,'delivered_datetime']=pd.to_datetime(order_all['delivered_date'])\n",
    "order_all.loc[:,'delivered_datetime']=pd.to_datetime(order_all['delivered_date'])\n",
    "order_all.loc[:,'delta']=order_all[['order_accept_datetime','delivered_datetime']].apply(calc_delta,axis=1)\n",
    "delivery_df=order_all.loc[(order_all['status']==2) & (order_all['store_id'].isin([8,122]))]\n",
    "delivery_df.groupby(['store_id'])['delta'].mean()"
   ]
  },
  {
   "cell_type": "code",
   "execution_count": null,
   "id": "aa810855",
   "metadata": {},
   "outputs": [],
   "source": [
    "#28\n",
    "temp_cancel=cancel_df.copy()\n",
    "temp_delivery=order_all.loc[order_all['status']==2].groupby([('store_id')])['delta'].mean()\n",
    "check_df=pd.merge(temp_cancel,temp_delivery,on='store_id',how='left')\n",
    "check_df.head()"
   ]
  },
  {
   "cell_type": "code",
   "execution_count": null,
   "id": "9656cf04",
   "metadata": {},
   "outputs": [],
   "source": [
    "#28\n",
    "temp_chk=check_df[['cancel_rate','delta']]\n",
    "display(temp_chk.corr())"
   ]
  },
  {
   "cell_type": "code",
   "execution_count": null,
   "id": "eb2b081c",
   "metadata": {},
   "outputs": [],
   "source": [
    "#28\n",
    "th_high=check_df['cancel_rate'].quantile(0.75)\n",
    "temp_chk=check_df.loc[(check_df['cancel_rate']<=th_high)]\n",
    "temp_chk=temp_chk[['cancel_rate','delta']]\n",
    "display(temp_chk.corr())"
   ]
  },
  {
   "cell_type": "code",
   "execution_count": null,
   "id": "9f021d7c",
   "metadata": {},
   "outputs": [],
   "source": [
    "#29\n",
    "import seaborn as sns\n",
    "target_store=\"\"\n",
    "min_date=datetime.date(2020,4,1)\n",
    "max_date=datetime.date(2020,4,30)"
   ]
  },
  {
   "cell_type": "code",
   "execution_count": null,
   "id": "e8a0c2fc",
   "metadata": {},
   "outputs": [],
   "source": [
    "#29\n",
    "def make_board():\n",
    "    clear_output()\n",
    "    display(toggle_db)\n",
    "\n",
    "    pick_order_data=order_all.loc[(order_all['store_name']==target_store) & (order_all['order_date']>=min_date) & (order_all['order_date'] <=max_date) &(order_all['status'].isin([1,2]))]\n",
    "    pick_cancel_data=order_all.loc[(order_all['store_name']==target_store) & (order_all['order_date'] >=min_date) & (order_all['order_date']<=max_date) & (order_all['status']==9)]\n",
    "    pick_order_all=order_all.loc[(order_all['order_date']>=min_date) & (order_all['order_date']<=max_date) &(order_all['status'].isin([1,2]))]\n",
    "    pick_cancel_all=order_all.loc[(order_all['order_date']>=min_date) & (order_all['order_date']<=max_date) & (order_all['status']==9)]\n",
    "\n",
    "    store_o_cnt=len(pick_order_data)\n",
    "    store_c_cnt=len(pick_order_data['customer_id'].unique())\n",
    "    store_cancel_rate=(len(pick_cancel_data)/(len(pick_order_data)+len(pick_cancel_data)))*100\n",
    "\n",
    "    delivery_time=pick_order_data.loc[pick_order_data['status']==2]['delta'].mean()\n",
    "    delivery_time_all=pick_order_all.loc[pick_order_all['status']==2]['delta'].mean()\n",
    "\n",
    "    temp=pick_order_data[['order_date','total_amount']].copy()\n",
    "    temp.loc[:,'order_date']=pd.to_datetime(temp['order_date'])\n",
    "    temp.set_index('order_date',inplace=True)\n",
    "\n",
    "    print(\"======================================================================================================\")\n",
    "    str_out=f\"■ ■{target_store}■ ■　【対象期間】:{min_date}～{max_date}\"\n",
    "    str_out=str_out+f\"【オーダー件数】：{store_o_cnt}件【利用顧客数】：{store_c_cnt}\"\n",
    "    print(str_out)\n",
    "    print(\"======================================================================================================\")\n",
    "\n",
    "    print(f\"■ ■ ■ ■ ■ ■　日毎の売上　■ ■ ■ ■ ■ ■ ■ ■\")\n",
    "    display(temp.resample('D').sum())\n",
    "\n",
    "    print(\"======================================================================================================\")\n",
    "    str_out=f\"【期間売上総額】：{'{:,}'.format(temp['total_amount'].sum())}\"\n",
    "    str_out=str_out+f\"【キャンセル総額】：{'{:,}'.format(pick_cancel_data['total_amount'].sum())}\"\n",
    "    str_out=str_out+f\"【キャンセル率】：{round(store_cancel_rate,2)}%\"\n",
    "    print(str_out)\n",
    "    str_out=f\"【平均配達完了時間】：{round(delivery_time,2)}分\"\n",
    "    str_out=str_out+f\"【全店舗平均配達時間】：{round(delivery_time_all,2)}分\"\n",
    "    print(str_out)\n",
    "    print(\"======================================================================================================\")\n",
    "\n",
    "    fig,(ax1,ax2)=plt.subplots(1,2,figsize=(15,5))\n",
    "    sns.distplot(temp.resample('D').sum(),ax=ax1,kde=False)\n",
    "    #ax1.set_title(\"売上(日単位)ヒストグラム\")\n",
    "    ax1.set_title(\"Sales (Daily) Histogram\")\n",
    "\n",
    "    sns.countplot(x='order_date',data=pick_cancel_data,ax=ax2)\n",
    "    #ax2.set_title(\"キャンセル数(日単位)\")\n",
    "    ax2.set_title(\"Number of cancellations (per day)\")\n",
    "\n",
    "    fig,(ax3)=plt.subplots(1,1,figsize=(20,5))\n",
    "    sns.boxplot(x=\"order_date\",y=\"total_amount\",data=pick_order_data)\n",
    "    #ax3.set_title(\"オーダー状況箱ひげ図\")\n",
    "    ax3.set_title(\"Order status boxplot\")\n",
    "\n",
    "    plt.show()\n"
   ]
  },
  {
   "cell_type": "code",
   "execution_count": null,
   "id": "8d4e4894",
   "metadata": {},
   "outputs": [],
   "source": [
    "#29\n",
    "def change_date_min(val):\n",
    "    global min_date\n",
    "    min_date=val['new']\n",
    "    make_board()\n",
    "\n",
    "def change_date_max(val):\n",
    "    global max_date\n",
    "    max_date=val['new']\n",
    "    make_board()    "
   ]
  },
  {
   "cell_type": "code",
   "execution_count": null,
   "id": "593e26b3",
   "metadata": {},
   "outputs": [],
   "source": [
    "#29\n",
    "def change_dropdown(val):\n",
    "    global target_store\n",
    "    target_store=val['new']\n",
    "\n",
    "    date_picker_min=DatePicker(value=min_date)\n",
    "    date_picker_min.observe(change_date_min,names='value')\n",
    "    print(\"期間\")\n",
    "    date_picker_max=DatePicker(value=max_date)\n",
    "    date_picker_max.observe(change_date_max,names='value')\n",
    "    display(date_picker_min,date_picker_max)"
   ]
  },
  {
   "cell_type": "code",
   "execution_count": null,
   "id": "7895446f",
   "metadata": {},
   "outputs": [],
   "source": [
    "#29\n",
    "def order_by_area(val):\n",
    "    clear_output()\n",
    "    display(toggle_db)\n",
    "\n",
    "    store_list=order_all.loc[order_all['wide_area']==val['new']]['store_name'].unique()\n",
    "    dropdown=Dropdown(options=store_list)\n",
    "    dropdown.observe(change_dropdown,names=('value'))\n",
    "    display(dropdown)"
   ]
  },
  {
   "cell_type": "code",
   "execution_count": null,
   "id": "56d8bc93",
   "metadata": {},
   "outputs": [],
   "source": [
    "#29\n",
    "toggle_db=ToggleButtons(options=area_list)\n",
    "toggle_db.observe(order_by_area,names='value')\n",
    "display(toggle_db)"
   ]
  },
  {
   "cell_type": "code",
   "execution_count": null,
   "id": "c1d44dee",
   "metadata": {},
   "outputs": [],
   "source": [
    "#30\n",
    "cal_orders_base=order_all.loc[(order_all['status'].isin([1,2]))]\n",
    "\n",
    "print(\"配達時間====================\")\n",
    "print(\"地域ランキング--------------\")\n",
    "display(pd.DataFrame(cal_orders_base.groupby(['narrow_area'])['delta'].mean().sort_values()))\n",
    "print(\"地域毎のTOP5---------------\")\n",
    "for area in m_area['area_cd']:\n",
    "    temp=cal_orders_base.loc[cal_orders_base['area_cd']==area]\n",
    "    temp=temp.groupby(['store_id'])['delta'].mean().sort_values()\n",
    "    temp=pd.merge(temp,m_store,on='store_id')[['store_name','delta']]\n",
    "    display(temp.head())"
   ]
  },
  {
   "cell_type": "code",
   "execution_count": null,
   "id": "b95a6d20",
   "metadata": {},
   "outputs": [],
   "source": [
    "#30\n",
    "base_df=pd.merge(check_df,m_store,on='area_cd')\n",
    "base_df=pd.merge(base_df,m_area,on='area_cd')\n",
    "print('キャンセル率=================')\n",
    "print(\"地域ランキング---------------\")\n",
    "display(pd.DataFrame(base_df.groupby(['narrow_area'])['cancel_rate'].mean().sort_values()))\n",
    "print(\"地域毎のTOP5-----------------\")\n",
    "for area in m_area['area_cd']:\n",
    "    temp=check_df.loc[check_df['area_cd']==area]\n",
    "    temp=temp.groupby(['store_id'])['cancel_rate'].mean().sort_values()\n",
    "    temp=pd.merge(temp,m_store,on='store_id')[['store_name','cancel_rate']]\n",
    "    display(temp.head())"
   ]
  },
  {
   "cell_type": "code",
   "execution_count": null,
   "id": "e7578047",
   "metadata": {},
   "outputs": [],
   "source": []
  }
 ],
 "metadata": {
  "kernelspec": {
   "display_name": "Python 3 (ipykernel)",
   "language": "python",
   "name": "python3"
  },
  "language_info": {
   "codemirror_mode": {
    "name": "ipython",
    "version": 3
   },
   "file_extension": ".py",
   "mimetype": "text/x-python",
   "name": "python",
   "nbconvert_exporter": "python",
   "pygments_lexer": "ipython3",
   "version": "3.10.9"
  },
  "toc-autonumbering": true,
  "toc-showcode": false,
  "toc-showmarkdowntxt": true
 },
 "nbformat": 4,
 "nbformat_minor": 5
}
