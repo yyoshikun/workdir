{
 "cells": [
  {
   "cell_type": "markdown",
   "id": "dfb01be8-3b57-4075-ba13-1134a73bf826",
   "metadata": {},
   "source": [
    "__<span style=\"background-color:#ffffe0\">第3章　時系列予測モデル構築・超入門</span>__"
   ]
  },
  {
   "cell_type": "markdown",
   "id": "c5ad65ba",
   "metadata": {},
   "source": [
    "# 3.3　時系列の予測モデルを構築してみよう"
   ]
  },
  {
   "cell_type": "markdown",
   "id": "f5cdfb74",
   "metadata": {},
   "source": [
    "## 3.3.7　時系列特徴量を生成しテーブルデータを作ろう！"
   ]
  },
  {
   "cell_type": "markdown",
   "id": "f15d98ed",
   "metadata": {},
   "source": [
    "* ラグ特徴量（ラグ1）\n",
    "* ラグ特徴量（ラグ12）\n",
    "* ローリング特徴量（1期前までの12ヶ月平均）\n",
    "* エクスパンディング特徴量（1期前までの平均）\n",
    "* トレンド特徴量（線形）"
   ]
  },
  {
   "cell_type": "markdown",
   "id": "e8b13bbb",
   "metadata": {},
   "source": [
    "### 準備（必要なモジュールとデータの読み込み）"
   ]
  },
  {
   "cell_type": "code",
   "execution_count": 1,
   "id": "249fbef9",
   "metadata": {},
   "outputs": [],
   "source": [
    "#\n",
    "# 必要なモジュールの読み込み\n",
    "#\n",
    "\n",
    "import pandas as pd\n",
    "\n",
    "import warnings\n",
    "warnings.simplefilter('ignore')"
   ]
  },
  {
   "cell_type": "code",
   "execution_count": 2,
   "id": "bab7818f",
   "metadata": {},
   "outputs": [],
   "source": [
    "#\n",
    "# 必要なデータセット（時系列データ）の読み込み\n",
    "#\n",
    "\n",
    "dataset='AirPassengers.csv'  #データセットのファイル名\n",
    "df=pd.read_csv(\n",
    "    dataset,\n",
    "    index_col='Month',   #変数「Month」をインデックスに設定\n",
    "    parse_dates=True)   #インデックスを日付型に設定"
   ]
  },
  {
   "cell_type": "markdown",
   "id": "bf8527b0",
   "metadata": {},
   "source": [
    "### ラグ特徴量の生成"
   ]
  },
  {
   "cell_type": "code",
   "execution_count": 3,
   "id": "892bee6e",
   "metadata": {},
   "outputs": [
    {
     "name": "stdout",
     "output_type": "stream",
     "text": [
      "            Passengers\n",
      "Month                 \n",
      "1949-01-01         NaN\n",
      "1949-02-01       112.0\n",
      "1949-03-01       118.0\n",
      "1949-04-01       132.0\n",
      "1949-05-01       129.0\n",
      "1949-06-01       121.0\n",
      "1949-07-01       135.0\n",
      "1949-08-01       148.0\n",
      "1949-09-01       148.0\n",
      "1949-10-01       136.0\n",
      "1949-11-01       119.0\n",
      "1949-12-01       104.0\n",
      "1950-01-01       118.0\n",
      "1950-02-01       115.0\n",
      "1950-03-01       126.0\n"
     ]
    }
   ],
   "source": [
    "#\n",
    "# ラグ特徴量（ラグ1）の生成\n",
    "#\n",
    "\n",
    "lag1 = df.shift(1)\n",
    "\n",
    "print(lag1.head(15)) #確認"
   ]
  },
  {
   "cell_type": "code",
   "execution_count": 4,
   "id": "0fa0ba00",
   "metadata": {},
   "outputs": [
    {
     "name": "stdout",
     "output_type": "stream",
     "text": [
      "            Passengers\n",
      "Month                 \n",
      "1949-01-01         NaN\n",
      "1949-02-01         NaN\n",
      "1949-03-01         NaN\n",
      "1949-04-01         NaN\n",
      "1949-05-01         NaN\n",
      "1949-06-01         NaN\n",
      "1949-07-01         NaN\n",
      "1949-08-01         NaN\n",
      "1949-09-01         NaN\n",
      "1949-10-01         NaN\n",
      "1949-11-01         NaN\n",
      "1949-12-01         NaN\n",
      "1950-01-01       112.0\n",
      "1950-02-01       118.0\n",
      "1950-03-01       132.0\n"
     ]
    }
   ],
   "source": [
    "#\n",
    "# ラグ特徴量（ラグ12）の生成\n",
    "#\n",
    "\n",
    "lag12 = df.shift(12)\n",
    "\n",
    "print(lag12.head(15)) #確認"
   ]
  },
  {
   "cell_type": "markdown",
   "id": "cd175dfc",
   "metadata": {},
   "source": [
    "### ローリング特徴量（1期前までの12ヶ月平均）"
   ]
  },
  {
   "cell_type": "code",
   "execution_count": 5,
   "id": "7dd30f8d",
   "metadata": {},
   "outputs": [
    {
     "name": "stdout",
     "output_type": "stream",
     "text": [
      "            Passengers\n",
      "Month                 \n",
      "1949-01-01         NaN\n",
      "1949-02-01         NaN\n",
      "1949-03-01         NaN\n",
      "1949-04-01         NaN\n",
      "1949-05-01         NaN\n",
      "1949-06-01         NaN\n",
      "1949-07-01         NaN\n",
      "1949-08-01         NaN\n",
      "1949-09-01         NaN\n",
      "1949-10-01         NaN\n",
      "1949-11-01         NaN\n",
      "1949-12-01         NaN\n",
      "1950-01-01  126.666667\n",
      "1950-02-01  126.916667\n",
      "1950-03-01  127.583333\n"
     ]
    }
   ],
   "source": [
    "#\n",
    "# ローリング特徴量（1期前までの12ヶ月平均）\n",
    "#\n",
    "\n",
    "window12 = lag1.rolling(window=12).mean()\n",
    "\n",
    "print(window12.head(15)) #確認"
   ]
  },
  {
   "cell_type": "markdown",
   "id": "3d9bd438",
   "metadata": {},
   "source": [
    "### エクスパンディング特徴量（1期前までの平均）"
   ]
  },
  {
   "cell_type": "code",
   "execution_count": 6,
   "id": "cc2edf64",
   "metadata": {},
   "outputs": [
    {
     "name": "stdout",
     "output_type": "stream",
     "text": [
      "            Passengers\n",
      "Month                 \n",
      "1949-01-01         NaN\n",
      "1949-02-01  112.000000\n",
      "1949-03-01  115.000000\n",
      "1949-04-01  120.666667\n",
      "1949-05-01  122.750000\n",
      "1949-06-01  122.400000\n",
      "1949-07-01  124.500000\n",
      "1949-08-01  127.857143\n",
      "1949-09-01  130.375000\n",
      "1949-10-01  131.000000\n",
      "1949-11-01  129.800000\n",
      "1949-12-01  127.454545\n",
      "1950-01-01  126.666667\n",
      "1950-02-01  125.769231\n",
      "1950-03-01  125.785714\n"
     ]
    }
   ],
   "source": [
    "#\n",
    "# エクスパンディング特徴量（1期前までの平均）\n",
    "#\n",
    "\n",
    "expanding = lag1.expanding().mean()\n",
    "\n",
    "print(expanding.head(15)) #確認"
   ]
  },
  {
   "cell_type": "markdown",
   "id": "4a6aa2be",
   "metadata": {},
   "source": [
    "### 作成した時系列特徴量を結合しテーブルデータを生成"
   ]
  },
  {
   "cell_type": "code",
   "execution_count": 7,
   "id": "cd52b6a7",
   "metadata": {},
   "outputs": [
    {
     "name": "stdout",
     "output_type": "stream",
     "text": [
      "              y   lag1  lag12    window12   expanding\n",
      "Month                                                \n",
      "1949-01-01  112    NaN    NaN         NaN         NaN\n",
      "1949-02-01  118  112.0    NaN         NaN  112.000000\n",
      "1949-03-01  132  118.0    NaN         NaN  115.000000\n",
      "1949-04-01  129  132.0    NaN         NaN  120.666667\n",
      "1949-05-01  121  129.0    NaN         NaN  122.750000\n",
      "1949-06-01  135  121.0    NaN         NaN  122.400000\n",
      "1949-07-01  148  135.0    NaN         NaN  124.500000\n",
      "1949-08-01  148  148.0    NaN         NaN  127.857143\n",
      "1949-09-01  136  148.0    NaN         NaN  130.375000\n",
      "1949-10-01  119  136.0    NaN         NaN  131.000000\n",
      "1949-11-01  104  119.0    NaN         NaN  129.800000\n",
      "1949-12-01  118  104.0    NaN         NaN  127.454545\n",
      "1950-01-01  115  118.0  112.0  126.666667  126.666667\n",
      "1950-02-01  126  115.0  118.0  126.916667  125.769231\n",
      "1950-03-01  141  126.0  132.0  127.583333  125.785714\n"
     ]
    }
   ],
   "source": [
    "#\n",
    "# 作成した時系列特徴量を結合しテーブルデータを生成\n",
    "#\n",
    "\n",
    "## データを結合\n",
    "df_tbl = pd.concat([df,\n",
    "                    lag1,\n",
    "                    lag12,\n",
    "                    window12,\n",
    "                    expanding],\n",
    "                   axis=1)\n",
    "\n",
    "## 変数名を設定\n",
    "df_tbl.columns = ['y',\n",
    "                  'lag1',\n",
    "                  'lag12',\n",
    "                  'window12',\n",
    "                  'expanding']\n",
    "\n",
    "print(df_tbl.head(15)) #確認"
   ]
  },
  {
   "cell_type": "code",
   "execution_count": 8,
   "id": "dfc45d4d",
   "metadata": {},
   "outputs": [
    {
     "name": "stdout",
     "output_type": "stream",
     "text": [
      "              y   lag1  lag12    window12   expanding\n",
      "Month                                                \n",
      "1950-01-01  115  118.0  112.0  126.666667  126.666667\n",
      "1950-02-01  126  115.0  118.0  126.916667  125.769231\n",
      "1950-03-01  141  126.0  132.0  127.583333  125.785714\n",
      "1950-04-01  135  141.0  129.0  128.333333  126.800000\n",
      "1950-05-01  125  135.0  121.0  128.833333  127.312500\n",
      "1950-06-01  149  125.0  135.0  129.166667  127.176471\n",
      "1950-07-01  170  149.0  148.0  130.333333  128.388889\n",
      "1950-08-01  170  170.0  148.0  132.166667  130.578947\n",
      "1950-09-01  158  170.0  136.0  134.000000  132.550000\n",
      "1950-10-01  133  158.0  119.0  135.833333  133.761905\n",
      "1950-11-01  114  133.0  104.0  137.000000  133.727273\n",
      "1950-12-01  140  114.0  118.0  137.833333  132.869565\n",
      "1951-01-01  145  140.0  115.0  139.666667  133.166667\n",
      "1951-02-01  150  145.0  126.0  142.166667  133.640000\n",
      "1951-03-01  178  150.0  141.0  144.166667  134.269231\n"
     ]
    }
   ],
   "source": [
    "# 欠測値削除\n",
    "df_tbl = df_tbl.dropna()\n",
    "\n",
    "print(df_tbl.head(15)) #確認"
   ]
  },
  {
   "cell_type": "markdown",
   "id": "e63e7486",
   "metadata": {},
   "source": [
    "### トレンド特徴量（線形）"
   ]
  },
  {
   "cell_type": "code",
   "execution_count": 9,
   "id": "d3f92082",
   "metadata": {},
   "outputs": [
    {
     "name": "stdout",
     "output_type": "stream",
     "text": [
      "              y   lag1  lag12    window12   expanding    t\n",
      "Month                                                     \n",
      "1950-01-01  115  118.0  112.0  126.666667  126.666667    0\n",
      "1950-02-01  126  115.0  118.0  126.916667  125.769231    1\n",
      "1950-03-01  141  126.0  132.0  127.583333  125.785714    2\n",
      "1950-04-01  135  141.0  129.0  128.333333  126.800000    3\n",
      "1950-05-01  125  135.0  121.0  128.833333  127.312500    4\n",
      "...         ...    ...    ...         ...         ...  ...\n",
      "1960-08-01  606  622.0  559.0  459.416667  273.136691  127\n",
      "1960-09-01  508  606.0  463.0  463.333333  275.514286  128\n",
      "1960-10-01  461  508.0  407.0  467.083333  277.163121  129\n",
      "1960-11-01  390  461.0  362.0  471.583333  278.457746  130\n",
      "1960-12-01  432  390.0  405.0  473.916667  279.237762  131\n",
      "\n",
      "[132 rows x 6 columns]\n"
     ]
    }
   ],
   "source": [
    "#\n",
    "# トレンド特徴量（線形）\n",
    "#\n",
    "\n",
    "df_tbl['t'] = pd.RangeIndex(start=0, \n",
    "                            stop=len(df_tbl))\n",
    "\n",
    "print(df_tbl) #確認"
   ]
  },
  {
   "cell_type": "markdown",
   "id": "0f4c68be",
   "metadata": {},
   "source": [
    "### CSVファイルとして出力"
   ]
  },
  {
   "cell_type": "code",
   "execution_count": 10,
   "id": "418b3e78",
   "metadata": {},
   "outputs": [],
   "source": [
    "df_tbl.to_csv('df_tbl.csv' )"
   ]
  }
 ],
 "metadata": {
  "kernelspec": {
   "display_name": "Python 3 (ipykernel)",
   "language": "python",
   "name": "python3"
  },
  "language_info": {
   "codemirror_mode": {
    "name": "ipython",
    "version": 3
   },
   "file_extension": ".py",
   "mimetype": "text/x-python",
   "name": "python",
   "nbconvert_exporter": "python",
   "pygments_lexer": "ipython3",
   "version": "3.9.13"
  }
 },
 "nbformat": 4,
 "nbformat_minor": 5
}
