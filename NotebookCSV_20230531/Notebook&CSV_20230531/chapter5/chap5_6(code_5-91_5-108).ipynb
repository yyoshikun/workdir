{
 "cells": [
  {
   "cell_type": "markdown",
   "id": "de5da627",
   "metadata": {},
   "source": [
    "__<span style=\"background-color:#ffffe0\">第5章　時系列データを活用したビジネス事例</span>__"
   ]
  },
  {
   "cell_type": "markdown",
   "id": "dd74c607",
   "metadata": {},
   "source": [
    "# 5.6　既存顧客のLTV予測による顧客選別（ECサイト）"
   ]
  },
  {
   "cell_type": "markdown",
   "id": "4bd261f7",
   "metadata": {},
   "source": [
    "## ステップ1：準備"
   ]
  },
  {
   "cell_type": "markdown",
   "id": "3c372261",
   "metadata": {},
   "source": [
    "### 必要なモジュールの読み込み"
   ]
  },
  {
   "cell_type": "code",
   "execution_count": 1,
   "id": "787278f4",
   "metadata": {},
   "outputs": [],
   "source": [
    "#\n",
    "# 必要なモジュールの読み込み\n",
    "#\n",
    "\n",
    "import numpy as np\n",
    "import pandas as pd\n",
    "\n",
    "from sklearn.metrics import mean_squared_error\n",
    "from sklearn.metrics import mean_absolute_error\n",
    "from sklearn.metrics import r2_score\n",
    "\n",
    "from lifetimes import BetaGeoFitter\n",
    "from lifetimes import GammaGammaFitter\n",
    "from lifetimes.utils import summary_data_from_transaction_data\n",
    "from lifetimes.utils import calibration_and_holdout_data\n",
    "from lifetimes.plotting import plot_probability_alive_matrix\n",
    "\n",
    "import warnings\n",
    "warnings.simplefilter('ignore')\n",
    "\n",
    "import matplotlib.pyplot as plt\n",
    "plt.style.use('ggplot') #グラフスタイル\n",
    "plt.rcParams['figure.figsize'] = [12, 9] #グラフサイズ\n",
    "plt.rcParams['font.size'] = 14 #フォントサイズ"
   ]
  },
  {
   "cell_type": "markdown",
   "id": "933e9cb5",
   "metadata": {},
   "source": [
    "### データセットの読み込み"
   ]
  },
  {
   "cell_type": "code",
   "execution_count": 2,
   "id": "af3caba4",
   "metadata": {},
   "outputs": [
    {
     "name": "stdout",
     "output_type": "stream",
     "text": [
      "        Invoice_No Customer_ID  Item_Code  Quantity  Unit_Price Invoice_Date\n",
      "0        201800003    cid90527  item80698         3         714     2018/1/1\n",
      "1        201900003    cid90527  item80698         3         714     2019/1/1\n",
      "2        201800003    cid90527  item90699         3         714     2018/1/1\n",
      "3        201900003    cid90527  item90699         3         714     2019/1/1\n",
      "4        201800003    cid90527  item70710         4         954     2018/1/1\n",
      "...            ...         ...        ...       ...         ...          ...\n",
      "463585   201917753    cid80067  item63059        12         102   2019/12/31\n",
      "463586   201917753    cid80067  item32487        36         252   2019/12/31\n",
      "463587   201917753    cid80067  item42635        24          78   2019/12/31\n",
      "463588   201917753    cid80067  item33371        12         234   2019/12/31\n",
      "463589   201917753    cid80067  item83372        24         234   2019/12/31\n",
      "\n",
      "[463590 rows x 6 columns]\n"
     ]
    }
   ],
   "source": [
    "#\n",
    "# 必要なデータセットの読み込み\n",
    "#\n",
    "\n",
    "dataset = 'chap5_8.csv'\n",
    "df=pd.read_csv(dataset)\n",
    "\n",
    "print(df) #確認"
   ]
  },
  {
   "cell_type": "markdown",
   "id": "95556337",
   "metadata": {},
   "source": [
    "### RFMデータセットの生成"
   ]
  },
  {
   "cell_type": "code",
   "execution_count": 3,
   "id": "afae2318",
   "metadata": {},
   "outputs": [
    {
     "name": "stdout",
     "output_type": "stream",
     "text": [
      "      Customer_ID Invoice_Date  Amount\n",
      "0        cid10009     2018/6/9   55128\n",
      "1        cid10009     2019/6/9   55128\n",
      "2        cid10011    2018/12/7  745342\n",
      "3        cid10011    2019/12/7  745342\n",
      "4        cid10012    2018/8/12   58188\n",
      "...           ...          ...     ...\n",
      "20778    cid94265     2019/6/5   56014\n",
      "20779    cid94274   2018/10/14  521640\n",
      "20780    cid94274   2019/10/14  521640\n",
      "20781    cid94289   2018/12/10   21114\n",
      "20782    cid94289   2019/12/10   21114\n",
      "\n",
      "[20783 rows x 3 columns]\n"
     ]
    }
   ],
   "source": [
    "#\n",
    "# トランザクションデータ（顧客×日付ごと購買金額）の作成\n",
    "#\n",
    "\n",
    "# 合計金額を計算\n",
    "df['Amount'] = df['Quantity'] * df['Unit_Price']\n",
    "\n",
    "# 顧客ID・日時・金額のトランザクションデータを生成\n",
    "transaction_data = df.groupby(\n",
    "    ['Customer_ID', 'Invoice_Date']\n",
    "    )['Amount'].sum().reset_index()\n",
    "\n",
    "print(transaction_data) #確認"
   ]
  },
  {
   "cell_type": "code",
   "execution_count": 4,
   "id": "8483caf6",
   "metadata": {},
   "outputs": [
    {
     "name": "stdout",
     "output_type": "stream",
     "text": [
      "             frequency  recency      T  monetary_value\n",
      "Customer_ID                                           \n",
      "cid10009           1.0    365.0  570.0    55128.000000\n",
      "cid10011           1.0    365.0  389.0   745342.000000\n",
      "cid10056          15.0    683.0  713.0    50167.733333\n",
      "cid10082           1.0    365.0  400.0    53958.000000\n",
      "cid10094           2.0    365.0  374.0    71400.000000\n",
      "...                ...      ...    ...             ...\n",
      "cid94229           1.0    365.0  521.0    29268.000000\n",
      "cid94258          12.0    658.0  658.0    46155.000000\n",
      "cid94265           8.0    519.0  728.0    39446.500000\n",
      "cid94274           1.0    365.0  443.0   521640.000000\n",
      "cid94289           1.0    365.0  386.0    21114.000000\n",
      "\n",
      "[2606 rows x 4 columns]\n"
     ]
    }
   ],
   "source": [
    "#\n",
    "# 全データ期間のRFMデータセットの生成\n",
    "#\n",
    "\n",
    "# RFMデータセット生成\n",
    "rfm = summary_data_from_transaction_data(\n",
    "    transaction_data,\n",
    "    'Customer_ID',\n",
    "    'Invoice_Date',\n",
    "    observation_period_end='2019-12-31',\n",
    "    monetary_value_col = 'Amount')\n",
    "\n",
    "# frequencyが1以上のデータに絞る\n",
    "rfm = rfm.loc[rfm['frequency'] > 0]\n",
    "\n",
    "# データセットの確認\n",
    "print(rfm)"
   ]
  },
  {
   "cell_type": "code",
   "execution_count": 5,
   "id": "776fd514",
   "metadata": {},
   "outputs": [
    {
     "name": "stdout",
     "output_type": "stream",
     "text": [
      "         frequency      recency            T  monetary_value\n",
      "count  2606.000000  2606.000000  2606.000000    2.606000e+03\n",
      "mean      6.871067   478.749041   582.400614    5.155087e+04\n",
      "std      13.135740   140.619425   123.292234    1.906687e+05\n",
      "min       1.000000    21.000000    73.000000    4.140000e+02\n",
      "25%       1.000000   365.000000   459.500000    2.111629e+04\n",
      "50%       2.000000   365.000000   617.000000    3.618336e+04\n",
      "75%       9.000000   625.000000   693.000000    5.394807e+04\n",
      "max     243.000000   729.000000   729.000000    9.276875e+06\n"
     ]
    }
   ],
   "source": [
    "# 基礎統計料\n",
    "\n",
    "print(rfm.describe())"
   ]
  },
  {
   "cell_type": "code",
   "execution_count": 6,
   "id": "5a739716",
   "metadata": {},
   "outputs": [
    {
     "name": "stdout",
     "output_type": "stream",
     "text": [
      "             frequency_cal  recency_cal  T_cal  monetary_value_cal  \\\n",
      "Customer_ID                                                          \n",
      "cid10056               7.0        318.0  348.0        51253.714286   \n",
      "cid10099              18.0        354.0  355.0       101542.166667   \n",
      "cid10110               5.0        304.0  327.0        81356.800000   \n",
      "cid10137               4.0        194.0  264.0        49427.000000   \n",
      "cid10150               1.0         16.0   50.0       499328.000000   \n",
      "...                    ...          ...    ...                 ...   \n",
      "cid94133               4.0        278.0  355.0        26884.500000   \n",
      "cid94182               1.0        114.0  124.0        24916.000000   \n",
      "cid94212               2.0        180.0  229.0        27418.000000   \n",
      "cid94258               6.0        293.0  293.0        46922.000000   \n",
      "cid94265               4.0        154.0  363.0        33716.500000   \n",
      "\n",
      "             frequency_holdout  monetary_value_holdout  duration_holdout  \n",
      "Customer_ID                                                               \n",
      "cid10056                   8.0            49217.500000             365.0  \n",
      "cid10099                  18.0           116223.944444             365.0  \n",
      "cid10110                   5.0            81356.800000             365.0  \n",
      "cid10137                   3.0            77000.666667             365.0  \n",
      "cid10150                   2.0           756319.000000             365.0  \n",
      "...                        ...                     ...               ...  \n",
      "cid94133                   5.0            46795.200000             365.0  \n",
      "cid94182                   2.0            20834.000000             365.0  \n",
      "cid94212                   5.0            29561.600000             365.0  \n",
      "cid94258                   6.0            46155.000000             365.0  \n",
      "cid94265                   4.0            45176.500000             365.0  \n",
      "\n",
      "[1267 rows x 7 columns]\n"
     ]
    }
   ],
   "source": [
    "#\n",
    "# 期間分割されたRFMデータセットの生成\n",
    "#（学習データ期間：2018年、テストデータ期間：2019年）\n",
    "#\n",
    "\n",
    "# 分割の実施\n",
    "rfm_train_test = calibration_and_holdout_data(\n",
    "    transaction_data,\n",
    "    'Customer_ID',\n",
    "    'Invoice_Date',\n",
    "    calibration_period_end='2018-12-31',\n",
    "    observation_period_end='2019-12-31',\n",
    "    monetary_value_col = 'Amount')\n",
    "\n",
    "# 学習データ期間のfrequency（frequency_cal）が1以上のデータに絞る\n",
    "rfm_train_test = rfm_train_test.loc[\n",
    "    rfm_train_test.frequency_cal > 0, :]\n",
    "\n",
    "# データセットの確認\n",
    "print(rfm_train_test)"
   ]
  },
  {
   "cell_type": "markdown",
   "id": "5506e644",
   "metadata": {},
   "source": [
    "## ステップ2：予測モデルの作り方の検討"
   ]
  },
  {
   "cell_type": "markdown",
   "id": "d9aee036",
   "metadata": {},
   "source": [
    "### 購買回数の期待値を予測するためのBG/NBDモデルの学習と評価"
   ]
  },
  {
   "cell_type": "code",
   "execution_count": 7,
   "id": "d8a34f37",
   "metadata": {},
   "outputs": [
    {
     "name": "stdout",
     "output_type": "stream",
     "text": [
      "            coef  se(coef)  lower 95% bound  upper 95% bound\n",
      "r       1.932577  0.099826         1.736918         2.128236\n",
      "alpha  92.492518  5.174824        82.349863       102.635173\n",
      "a       0.002889  0.003165        -0.003315         0.009093\n",
      "b       0.054415  0.060400        -0.063969         0.172800\n"
     ]
    }
   ],
   "source": [
    "#\n",
    "# BG/NBDモデルの学習（学習データ期間）\n",
    "#\n",
    "\n",
    "# インスタンス生成\n",
    "bgf = BetaGeoFitter()\n",
    "\n",
    "# 学習\n",
    "bgf.fit(\n",
    "    rfm_train_test['frequency_cal'],\n",
    "    rfm_train_test['recency_cal'],\n",
    "    rfm_train_test['T_cal'])\n",
    "\n",
    "# パラメータ\n",
    "print(bgf.summary)"
   ]
  },
  {
   "cell_type": "code",
   "execution_count": 8,
   "id": "e15ab195",
   "metadata": {},
   "outputs": [],
   "source": [
    "#\n",
    "# テストデータ期間の予測\n",
    "#\n",
    "\n",
    "# 予測期間（日単位）\n",
    "duration_holdout = 365\n",
    "\n",
    "# 予測\n",
    "predicted_bgf = bgf.predict(\n",
    "    duration_holdout,\n",
    "    rfm_train_test['frequency_cal'],\n",
    "    rfm_train_test['recency_cal'],\n",
    "    rfm_train_test['T_cal'])"
   ]
  },
  {
   "cell_type": "code",
   "execution_count": 9,
   "id": "33a6f3ed",
   "metadata": {},
   "outputs": [
    {
     "name": "stdout",
     "output_type": "stream",
     "text": [
      "R2:\n",
      " 0.914224168902585\n"
     ]
    }
   ],
   "source": [
    "#\n",
    "# 予測精度（テストデータ期間）\n",
    "#\n",
    "\n",
    "# 実測値と予測値の代入\n",
    "actual = rfm_train_test['frequency_holdout']\n",
    "pred = predicted_bgf\n",
    "\n",
    "# 精度指標（テストデータ）\n",
    "print('R2:\\n', r2_score(actual, pred))"
   ]
  },
  {
   "cell_type": "markdown",
   "id": "19f6f117",
   "metadata": {},
   "source": [
    "### 購買金額／回を予測するためのGGモデルの学習と評価"
   ]
  },
  {
   "cell_type": "code",
   "execution_count": 10,
   "id": "752ee2e2",
   "metadata": {},
   "outputs": [
    {
     "name": "stdout",
     "output_type": "stream",
     "text": [
      "           coef     se(coef)  lower 95% bound  upper 95% bound\n",
      "p      1.822489     0.151723         1.525112         2.119866\n",
      "q      3.197497     0.177838         2.848935         3.546058\n",
      "v  63814.925300  8231.721761     47680.750649     79949.099951\n"
     ]
    }
   ],
   "source": [
    "#\n",
    "# GGモデルの学習（学習期間）\n",
    "#\n",
    "\n",
    "# インスタンス生成\n",
    "ggf = GammaGammaFitter()\n",
    "\n",
    "# 学習\n",
    "ggf.fit(\n",
    "    rfm_train_test['frequency_cal'],\n",
    "    rfm_train_test['monetary_value_cal'])\n",
    "\n",
    "# パラメータ\n",
    "print(ggf.summary)"
   ]
  },
  {
   "cell_type": "code",
   "execution_count": 11,
   "id": "0a1013d6",
   "metadata": {},
   "outputs": [],
   "source": [
    "#\n",
    "# テストデータ期間の予測\n",
    "#\n",
    "\n",
    "# 予測\n",
    "predicted_ggf = ggf.conditional_expected_average_profit(\n",
    "    rfm_train_test['frequency_cal'],\n",
    "    rfm_train_test['monetary_value_cal'])"
   ]
  },
  {
   "cell_type": "code",
   "execution_count": 12,
   "id": "db4c21c2",
   "metadata": {},
   "outputs": [
    {
     "name": "stdout",
     "output_type": "stream",
     "text": [
      "R2:\n",
      " 0.8826469830368177\n"
     ]
    }
   ],
   "source": [
    "#\n",
    "# 予測精度（テストデータ期間）\n",
    "#\n",
    "\n",
    "# 実測値と予測値の代入\n",
    "actual = rfm_train_test['monetary_value_holdout']\n",
    "pred = predicted_ggf\n",
    "\n",
    "# 精度指標（テストデータ）\n",
    "print('R2:\\n', r2_score(actual, pred))"
   ]
  },
  {
   "cell_type": "markdown",
   "id": "1aad8970",
   "metadata": {},
   "source": [
    "### テストデータ期間のLTV（購買金額）予測の実施"
   ]
  },
  {
   "cell_type": "code",
   "execution_count": 13,
   "id": "b9603ad2",
   "metadata": {},
   "outputs": [
    {
     "name": "stdout",
     "output_type": "stream",
     "text": [
      "Customer_ID\n",
      "cid10056    3.518724e+05\n",
      "cid10099    1.479488e+06\n",
      "cid10110    4.221163e+05\n",
      "cid10137    2.808376e+05\n",
      "cid10150    1.578562e+06\n",
      "                ...     \n",
      "cid94133    1.467094e+05\n",
      "cid94182    1.726887e+05\n",
      "cid94212    1.517106e+05\n",
      "cid94258    3.323381e+05\n",
      "cid94265    1.617617e+05\n",
      "Name: clv, Length: 1267, dtype: float64\n"
     ]
    }
   ],
   "source": [
    "#\n",
    "# LTV（購買金額）の予測\n",
    "#\n",
    "\n",
    "# 予測期間（月単位）\n",
    "forecast_period = 12\n",
    "\n",
    "# 予測の実施\n",
    "ltv = ggf.customer_lifetime_value(\n",
    "    bgf,\n",
    "    rfm_train_test['frequency_cal'],\n",
    "    rfm_train_test['recency_cal'],\n",
    "    rfm_train_test['T_cal'],\n",
    "    rfm_train_test['monetary_value_cal'],\n",
    "    time=forecast_period,\n",
    "    freq='D',\n",
    "    discount_rate=0.01)\n",
    "\n",
    "print(ltv) #確認"
   ]
  },
  {
   "cell_type": "code",
   "execution_count": 14,
   "id": "684b7ccd",
   "metadata": {},
   "outputs": [
    {
     "name": "stdout",
     "output_type": "stream",
     "text": [
      "R2:\n",
      " 0.9151575365778064\n"
     ]
    }
   ],
   "source": [
    "#\n",
    "# 予測精度（テストデータ期間）\n",
    "#\n",
    "\n",
    "# データセットに予測結果を追加\n",
    "rfm_train_test['ltv'] = ltv\n",
    "\n",
    "# 実測値と予測値の代入\n",
    "actual = rfm_train_test['frequency_holdout']*\\\n",
    "         rfm_train_test['monetary_value_holdout']\n",
    "pred = rfm_train_test['ltv'] \n",
    "\n",
    "# 予測精度\n",
    "print('R2:\\n', r2_score(actual, pred))"
   ]
  },
  {
   "cell_type": "code",
   "execution_count": 15,
   "id": "c09bb03f",
   "metadata": {},
   "outputs": [
    {
     "data": {
      "image/png": "[encoded data removed]",
      "text/plain": [
       "<Figure size 1200x900 with 1 Axes>"
      ]
     },
     "metadata": {},
     "output_type": "display_data"
    }
   ],
   "source": [
    "#\n",
    "# グラフ化\n",
    "#\n",
    "\n",
    "# 散布図\n",
    "plt.scatter(pred, actual)\n",
    "plt.xlabel('Predicted')\n",
    "plt.ylabel('Actual')\n",
    "plt.show()"
   ]
  },
  {
   "cell_type": "markdown",
   "id": "65c5750c",
   "metadata": {},
   "source": [
    "## ステップ3：LTV（購買金額）予測とリスト生成"
   ]
  },
  {
   "cell_type": "markdown",
   "id": "97ca998d",
   "metadata": {},
   "source": [
    "### LTV（購買金額）予測モデルの構築（全データ期間のRFMデータセット）"
   ]
  },
  {
   "cell_type": "code",
   "execution_count": 16,
   "id": "56e0d508",
   "metadata": {},
   "outputs": [],
   "source": [
    "#\n",
    "# LTV予測モデルの構築（全データ期間のRFMデータセット）\n",
    "#\n",
    "\n",
    "# BG/NBDモデルの学習\n",
    "bgf = BetaGeoFitter().fit(\n",
    "    rfm['frequency'],\n",
    "    rfm['recency'],\n",
    "    rfm['T'])\n",
    "\n",
    "# GGモデルの学習\n",
    "ggf = GammaGammaFitter().fit(\n",
    "    rfm['frequency'],\n",
    "    rfm['monetary_value'])"
   ]
  },
  {
   "cell_type": "markdown",
   "id": "fe7808f1",
   "metadata": {},
   "source": [
    "### 生存確率と離反確率"
   ]
  },
  {
   "cell_type": "code",
   "execution_count": 17,
   "id": "c9785c34",
   "metadata": {},
   "outputs": [
    {
     "name": "stdout",
     "output_type": "stream",
     "text": [
      "[2.05502282e-12 1.11666232e-12 1.85984561e-12 ... 1.42534873e-11\n",
      " 1.36868294e-12 1.10333964e-12]\n"
     ]
    }
   ],
   "source": [
    "#\n",
    "# 生存確率と離反確率\n",
    "#\n",
    "\n",
    "# 生存確率\n",
    "alive = bgf.conditional_probability_alive(\n",
    "    rfm['frequency'],\n",
    "    rfm['recency'],\n",
    "    rfm['T'])\n",
    "\n",
    "# 離反確率の確認\n",
    "print(1-alive)"
   ]
  },
  {
   "cell_type": "code",
   "execution_count": 18,
   "id": "bc37a618",
   "metadata": {},
   "outputs": [
    {
     "data": {
      "image/png": "[encoded data removed]",
      "text/plain": [
       "<Figure size 1200x900 with 2 Axes>"
      ]
     },
     "metadata": {},
     "output_type": "display_data"
    }
   ],
   "source": [
    "#\n",
    "# グラフ化\n",
    "#\n",
    "\n",
    "plot_probability_alive_matrix(bgf)\n",
    "plt.show()"
   ]
  },
  {
   "cell_type": "markdown",
   "id": "0c12d424",
   "metadata": {},
   "source": [
    "### LTV（購買金額）予測とリスト生成"
   ]
  },
  {
   "cell_type": "code",
   "execution_count": 19,
   "id": "34577a60",
   "metadata": {},
   "outputs": [
    {
     "name": "stdout",
     "output_type": "stream",
     "text": [
      "             frequency  recency      T  monetary_value            ltv\n",
      "Customer_ID                                                          \n",
      "cid10009           1.0    365.0  570.0    55128.000000   51053.681848\n",
      "cid10011           1.0    365.0  389.0   745342.000000  591592.103154\n",
      "cid10056          15.0    683.0  713.0    50167.733333  337534.145775\n",
      "cid10082           1.0    365.0  400.0    53958.000000   68152.775886\n",
      "cid10094           2.0    365.0  374.0    71400.000000  138612.489212\n",
      "...                ...      ...    ...             ...            ...\n",
      "cid94229           1.0    365.0  521.0    29268.000000   39939.581825\n",
      "cid94258          12.0    658.0  658.0    46155.000000  271912.099747\n",
      "cid94265           8.0    519.0  728.0    39446.500000  149014.283433\n",
      "cid94274           1.0    365.0  443.0   521640.000000  379359.690640\n",
      "cid94289           1.0    365.0  386.0    21114.000000   45237.434272\n",
      "\n",
      "[2606 rows x 5 columns]\n"
     ]
    }
   ],
   "source": [
    "#\n",
    "# 次年度のLTV（購買金額）の予測\n",
    "#\n",
    "\n",
    "# 予測期間（月単位）\n",
    "forecast_period = 12\n",
    "\n",
    "# 予測の実施\n",
    "ltv = ggf.customer_lifetime_value(\n",
    "    bgf, \n",
    "    rfm['frequency'],\n",
    "    rfm['recency'],\n",
    "    rfm['T'],\n",
    "    rfm['monetary_value'],\n",
    "    time=forecast_period,\n",
    "    freq='D',\n",
    "    discount_rate=0.01)\n",
    "\n",
    "# データセットにLTV追加\n",
    "rfm['ltv'] = ltv\n",
    "\n",
    "print(rfm) #確認"
   ]
  },
  {
   "cell_type": "code",
   "execution_count": 20,
   "id": "ead0b763",
   "metadata": {},
   "outputs": [
    {
     "name": "stdout",
     "output_type": "stream",
     "text": [
      "                      ltv\n",
      "Customer_ID              \n",
      "cid61672     2.194284e+07\n",
      "cid24162     2.141537e+07\n",
      "cid93693     1.713961e+07\n",
      "cid40055     1.296105e+07\n",
      "cid91861     1.241815e+07\n",
      "...                   ...\n",
      "cid80396     1.889731e+04\n",
      "cid81826     1.886040e+04\n",
      "cid43185     1.882693e+04\n",
      "cid41624     1.875495e+04\n",
      "cid32533     1.767939e+04\n",
      "\n",
      "[2606 rows x 1 columns]\n"
     ]
    }
   ],
   "source": [
    "#\n",
    "# LTV降順リスト\n",
    "#\n",
    "\n",
    "print(rfm[['ltv']].sort_values('ltv',ascending=False))"
   ]
  },
  {
   "cell_type": "code",
   "execution_count": 21,
   "id": "d67a22dd",
   "metadata": {},
   "outputs": [
    {
     "name": "stdout",
     "output_type": "stream",
     "text": [
      "                      ltv         ltv36        ltv120       ltv1200\n",
      "Customer_ID                                                        \n",
      "cid61672     2.194284e+07  5.869744e+07  1.358878e+08  1.949582e+08\n",
      "cid24162     2.141537e+07  5.728644e+07  1.326212e+08  1.902717e+08\n",
      "cid93693     1.713961e+07  4.584872e+07  1.061423e+08  1.522824e+08\n",
      "cid40055     1.296105e+07  3.467100e+07  8.026526e+07  1.151566e+08\n",
      "cid91861     1.241815e+07  3.321874e+07  7.690320e+07  1.103330e+08\n",
      "...                   ...           ...           ...           ...\n",
      "cid80396     1.889731e+04  5.055058e+04  1.170274e+05  1.678992e+05\n",
      "cid81826     1.886040e+04  5.045186e+04  1.167988e+05  1.675713e+05\n",
      "cid43185     1.882693e+04  5.036233e+04  1.165915e+05  1.672739e+05\n",
      "cid41624     1.875495e+04  5.016979e+04  1.161458e+05  1.666344e+05\n",
      "cid32533     1.767939e+04  4.729265e+04  1.094851e+05  1.570783e+05\n",
      "\n",
      "[2606 rows x 4 columns]\n"
     ]
    }
   ],
   "source": [
    "#\n",
    "# 多期間LTV（購買金額）予測とリスト生成\n",
    "#\n",
    "\n",
    "# LTV12予測（1年間）\n",
    "ltv = ggf.customer_lifetime_value(\n",
    "    bgf, \n",
    "    rfm['frequency'],\n",
    "    rfm['recency'],\n",
    "    rfm['T'],\n",
    "    rfm['monetary_value'],\n",
    "    time=12,\n",
    "    freq='D',\n",
    "    discount_rate=0.01)\n",
    "rfm['ltv'] = ltv\n",
    "\n",
    "# LTV36予測（3年間）\n",
    "ltv = ggf.customer_lifetime_value(\n",
    "    bgf, \n",
    "    rfm['frequency'],\n",
    "    rfm['recency'],\n",
    "    rfm['T'],\n",
    "    rfm['monetary_value'],\n",
    "    time=36,\n",
    "    freq='D',\n",
    "    discount_rate=0.01 )\n",
    "rfm['ltv36'] = ltv\n",
    "\n",
    "# LTV120予測（10年間）\n",
    "ltv = ggf.customer_lifetime_value(\n",
    "    bgf, \n",
    "    rfm['frequency'],\n",
    "    rfm['recency'],\n",
    "    rfm['T'],\n",
    "    rfm['monetary_value'],\n",
    "    time=120,\n",
    "    freq='D',\n",
    "    discount_rate=0.01)\n",
    "rfm['ltv120'] = ltv\n",
    "\n",
    "# LTV1200予測（100年間）\n",
    "ltv = ggf.customer_lifetime_value(\n",
    "    bgf, \n",
    "    rfm['frequency'],\n",
    "    rfm['recency'],\n",
    "    rfm['T'],\n",
    "    rfm['monetary_value'],\n",
    "    time=1200,\n",
    "    freq='D',\n",
    "    discount_rate=0.01)\n",
    "rfm['ltv1200'] = ltv\n",
    "\n",
    "# LTV降順リスト\n",
    "print(\n",
    "    rfm[['ltv','ltv36','ltv120','ltv1200']\n",
    "       ].sort_values('ltv', ascending=False))"
   ]
  },
  {
   "cell_type": "code",
   "execution_count": 22,
   "id": "9154a3be",
   "metadata": {},
   "outputs": [
    {
     "name": "stdout",
     "output_type": "stream",
     "text": [
      "         frequency      recency            T  monetary_value           ltv  \\\n",
      "count  2606.000000  2606.000000  2606.000000    2.606000e+03  2.606000e+03   \n",
      "mean      6.871067   478.749041   582.400614    5.155087e+04  2.304558e+05   \n",
      "std      13.135740   140.619425   123.292234    1.906687e+05  9.142430e+05   \n",
      "min       1.000000    21.000000    73.000000    4.140000e+02  1.767939e+04   \n",
      "25%       1.000000   365.000000   459.500000    2.111629e+04  4.087440e+04   \n",
      "50%       2.000000   365.000000   617.000000    3.618336e+04  6.629646e+04   \n",
      "75%       9.000000   625.000000   693.000000    5.394807e+04  1.785293e+05   \n",
      "max     243.000000   729.000000   729.000000    9.276875e+06  2.194284e+07   \n",
      "\n",
      "              ltv36        ltv120       ltv1200  \n",
      "count  2.606000e+03  2.606000e+03  2.606000e+03  \n",
      "mean   6.164728e+05  1.427168e+06  2.047558e+06  \n",
      "std    2.445614e+06  5.661730e+06  8.122885e+06  \n",
      "min    4.729265e+04  1.094851e+05  1.570783e+05  \n",
      "25%    1.093396e+05  2.531273e+05  3.631617e+05  \n",
      "50%    1.773441e+05  4.105612e+05  5.890322e+05  \n",
      "75%    4.775686e+05  1.105597e+06  1.586201e+06  \n",
      "max    5.869744e+07  1.358878e+08  1.949582e+08  \n"
     ]
    }
   ],
   "source": [
    "# 基礎統計料\n",
    "\n",
    "print(rfm.describe())"
   ]
  }
 ],
 "metadata": {
  "kernelspec": {
   "display_name": "Python 3 (ipykernel)",
   "language": "python",
   "name": "python3"
  },
  "language_info": {
   "codemirror_mode": {
    "name": "ipython",
    "version": 3
   },
   "file_extension": ".py",
   "mimetype": "text/x-python",
   "name": "python",
   "nbconvert_exporter": "python",
   "pygments_lexer": "ipython3",
   "version": "3.9.13"
  }
 },
 "nbformat": 4,
 "nbformat_minor": 5
}
