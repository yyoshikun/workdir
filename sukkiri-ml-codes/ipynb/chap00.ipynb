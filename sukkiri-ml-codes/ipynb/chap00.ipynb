{
 "cells": [
  {
   "cell_type": "markdown",
   "metadata": {},
   "source": [
    "# 練習問題解答"
   ]
  },
  {
   "cell_type": "code",
   "execution_count": 1,
   "metadata": {},
   "outputs": [
    {
     "name": "stdout",
     "output_type": "stream",
     "text": [
      "身長(cm)を入力してください>>170\n",
      "体重(kg)を入力してください>>60\n",
      "あなたのbmiは20.761245674740486\n"
     ]
    }
   ],
   "source": [
    "height = int(input('身長(cm)を入力してください>>'))\n",
    "weight = int(input('体重(kg)を入力してください>>'))\n",
    "\n",
    "height = height / 100 # mに変換\n",
    "\n",
    "# ( )をつけなくてもよいが可読性のため( )をつける\n",
    "bmi = weight / (height ** 2)\n",
    "\n",
    "print('あなたのbmiは{}'.format(bmi))"
   ]
  },
  {
   "cell_type": "code",
   "execution_count": 3,
   "metadata": {},
   "outputs": [
    {
     "name": "stdout",
     "output_type": "stream",
     "text": [
      "国語の試験得点>>10\n",
      "数学の試験得点>>20\n",
      "英語の試験得点>>30\n",
      "[10, 20, 30]\n",
      "合計得点:60点 \n"
     ]
    }
   ],
   "source": [
    "# 手順1：3科目の試験得点を管理するリストを1つ作成\n",
    "scores = []\n",
    "# 手順2：国語の試験得点をキーボードから入力\n",
    "japanese = int(input('国語の試験得点>>'))\n",
    "#手順3：国語の得点を手順1で作成したリストに追加\n",
    "scores.append(japanese)\n",
    "# 手順4：数学の試験得点をキーボードから入力\n",
    "math = int(input('数学の試験得点>>'))\n",
    "# 手順5：数学の得点を手順１で作成したリストに追加\n",
    "scores.append(math)\n",
    "# 手順6：英語の試験得点をキーボードから入力\n",
    "english = int(input('英語の試験得点>>'))\n",
    "# 手順7：英語の得点を手順1で作成したリストに追加\n",
    "scores.append(english)\n",
    "# 手順8：リストの一覧を表示\n",
    "print(scores)\n",
    "# 手順9：リストの合計値を計算して表示\n",
    "total = sum(scores)\n",
    "print('合計得点:{}点 '.format(total))"
   ]
  },
  {
   "cell_type": "code",
   "execution_count": 4,
   "metadata": {},
   "outputs": [
    {
     "name": "stdout",
     "output_type": "stream",
     "text": [
      "整数を入力してください23\n",
      "奇数\n"
     ]
    }
   ],
   "source": [
    "number = int(input('整数を入力してください'))\n",
    "\n",
    "if number % 2 == 0:\n",
    "    print('偶数')\n",
    "else:\n",
    "    print('奇数')"
   ]
  },
  {
   "cell_type": "code",
   "execution_count": 6,
   "metadata": {},
   "outputs": [
    {
     "name": "stdout",
     "output_type": "stream",
     "text": [
      "please input data >> こんにちは\n",
      "ようこそ！\n"
     ]
    }
   ],
   "source": [
    "data = input('please input data >> ')\n",
    "\n",
    "if data == 'こんにちは':\n",
    "    print('ようこそ！')\n",
    "elif data == '景気は？':\n",
    "    print('ぼちぼちです')\n",
    "elif data == 'さようなら':\n",
    "    print('お元気で！')\n",
    "else:\n",
    "    print('どうしました？')"
   ]
  },
  {
   "cell_type": "code",
   "execution_count": 7,
   "metadata": {},
   "outputs": [
    {
     "name": "stdout",
     "output_type": "stream",
     "text": [
      "10,  9,  8,  7,  6,  5,  4,  3,  2,  1,  Lift Off!!\n"
     ]
    }
   ],
   "source": [
    "for i in range(10):\n",
    "    print('{}, '.format(10 - i), end = ' ')\n",
    "print('Lift Off!!')"
   ]
  },
  {
   "cell_type": "code",
   "execution_count": 8,
   "metadata": {},
   "outputs": [
    {
     "name": "stdout",
     "output_type": "stream",
     "text": [
      "1人目の試験得点 >> 1\n",
      "2人目の試験得点 >> 2\n",
      "3人目の試験得点 >> 3\n",
      "4人目の試験得点 >> 4\n",
      "5人目の試験得点 >> 5\n",
      "6人目の試験得点 >> 6\n",
      "7人目の試験得点 >> 7\n",
      "8人目の試験得点 >> 8\n",
      "9人目の試験得点 >> 9\n",
      "10人目の試験得点 >> 10\n",
      "平均点は24.4点\n"
     ]
    }
   ],
   "source": [
    "# 手順1\n",
    "scores = []\n",
    "# 手順2\n",
    "for i in range(10):\n",
    "    score = int(input('{}人目の試験得点 >> '.format(i + 1)))\n",
    "    scores.append(score)\n",
    "# 手順3\n",
    "final_scores = [ ]\n",
    "for score in scores:\n",
    "    tmp = score * 0.8 + 20\n",
    "    final_scores.append(tmp)\n",
    "\n",
    "# 手順4\n",
    "avg = sum(final_scores) / len(final_scores)\n",
    "print('平均点は{}点'.format(avg))"
   ]
  },
  {
   "cell_type": "code",
   "execution_count": 1,
   "metadata": {},
   "outputs": [],
   "source": [
    "def uruu(year):\n",
    "    result = None\n",
    "    if year % 400 == 0:\n",
    "        result = True\n",
    "    elif year % 100 == 0:\n",
    "        result = False\n",
    "    elif year % 4 == 0:\n",
    "        result = True\n",
    "    else:\n",
    "        result = False\n",
    "\n",
    "    return result"
   ]
  },
  {
   "cell_type": "code",
   "execution_count": 2,
   "metadata": {},
   "outputs": [
    {
     "data": {
      "text/plain": [
       "True"
      ]
     },
     "execution_count": 2,
     "metadata": {},
     "output_type": "execute_result"
    }
   ],
   "source": [
    "uruu(400)"
   ]
  },
  {
   "cell_type": "code",
   "execution_count": null,
   "metadata": {},
   "outputs": [],
   "source": []
  }
 ],
 "metadata": {
  "kernelspec": {
   "display_name": "Python 3",
   "language": "python",
   "name": "python3"
  },
  "language_info": {
   "codemirror_mode": {
    "name": "ipython",
    "version": 3
   },
   "file_extension": ".py",
   "mimetype": "text/x-python",
   "name": "python",
   "nbconvert_exporter": "python",
   "pygments_lexer": "ipython3",
   "version": "3.7.3"
  }
 },
 "nbformat": 4,
 "nbformat_minor": 4
}
