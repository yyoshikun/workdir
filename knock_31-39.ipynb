{
 "cells": [
  {
   "cell_type": "code",
   "execution_count": 257,
   "id": "8a5bafdc-f91e-4a60-a8d2-ae7661859c73",
   "metadata": {},
   "outputs": [
    {
     "name": "stdout",
     "output_type": "stream",
     "text": [
      "c:\\Users\\yoshikoshi\\python_y\\tbl_order_202004.csv:233260\n",
      "c:\\Users\\yoshikoshi\\python_y\\tbl_order_202005.csv:241139\n",
      "c:\\Users\\yoshikoshi\\python_y\\tbl_order_202006.csv:233301\n"
     ]
    },
    {
     "data": {
      "text/html": [
       "<div>\n",
       "<style scoped>\n",
       "    .dataframe tbody tr th:only-of-type {\n",
       "        vertical-align: middle;\n",
       "    }\n",
       "\n",
       "    .dataframe tbody tr th {\n",
       "        vertical-align: top;\n",
       "    }\n",
       "\n",
       "    .dataframe thead th {\n",
       "        text-align: right;\n",
       "    }\n",
       "</style>\n",
       "<table border=\"1\" class=\"dataframe\">\n",
       "  <thead>\n",
       "    <tr style=\"text-align: right;\">\n",
       "      <th></th>\n",
       "      <th>order_id</th>\n",
       "      <th>store_id</th>\n",
       "      <th>customer_id</th>\n",
       "      <th>coupon_cd</th>\n",
       "      <th>sales_detail_id</th>\n",
       "      <th>order_accept_date</th>\n",
       "      <th>delivered_date</th>\n",
       "      <th>takeout_flag</th>\n",
       "      <th>total_amount</th>\n",
       "      <th>status</th>\n",
       "      <th>store_name</th>\n",
       "      <th>area_cd</th>\n",
       "      <th>wide_area</th>\n",
       "      <th>narrow_area</th>\n",
       "      <th>takeout_name</th>\n",
       "      <th>status_name</th>\n",
       "      <th>order_date</th>\n",
       "    </tr>\n",
       "  </thead>\n",
       "  <tbody>\n",
       "    <tr>\n",
       "      <th>0</th>\n",
       "      <td>79339111</td>\n",
       "      <td>49</td>\n",
       "      <td>C26387220</td>\n",
       "      <td>50</td>\n",
       "      <td>67393872</td>\n",
       "      <td>2020/4/1 11:00</td>\n",
       "      <td>2020/4/1 11:18</td>\n",
       "      <td>1</td>\n",
       "      <td>4144</td>\n",
       "      <td>1</td>\n",
       "      <td>浅草店</td>\n",
       "      <td>TK</td>\n",
       "      <td>東京</td>\n",
       "      <td>東京</td>\n",
       "      <td>お持ち帰り</td>\n",
       "      <td>お支払済</td>\n",
       "      <td>2020-04-01</td>\n",
       "    </tr>\n",
       "    <tr>\n",
       "      <th>1</th>\n",
       "      <td>18941733</td>\n",
       "      <td>85</td>\n",
       "      <td>C48773811</td>\n",
       "      <td>26</td>\n",
       "      <td>91834983</td>\n",
       "      <td>2020/4/1 11:00</td>\n",
       "      <td>2020/4/1 11:22</td>\n",
       "      <td>0</td>\n",
       "      <td>2877</td>\n",
       "      <td>2</td>\n",
       "      <td>目黒店</td>\n",
       "      <td>TK</td>\n",
       "      <td>東京</td>\n",
       "      <td>東京</td>\n",
       "      <td>デリバリー</td>\n",
       "      <td>お渡し済</td>\n",
       "      <td>2020-04-01</td>\n",
       "    </tr>\n",
       "    <tr>\n",
       "      <th>2</th>\n",
       "      <td>56217880</td>\n",
       "      <td>76</td>\n",
       "      <td>C66287421</td>\n",
       "      <td>36</td>\n",
       "      <td>64409634</td>\n",
       "      <td>2020/4/1 11:00</td>\n",
       "      <td>2020/4/1 11:15</td>\n",
       "      <td>0</td>\n",
       "      <td>2603</td>\n",
       "      <td>2</td>\n",
       "      <td>本郷店</td>\n",
       "      <td>TK</td>\n",
       "      <td>東京</td>\n",
       "      <td>東京</td>\n",
       "      <td>デリバリー</td>\n",
       "      <td>お渡し済</td>\n",
       "      <td>2020-04-01</td>\n",
       "    </tr>\n",
       "    <tr>\n",
       "      <th>3</th>\n",
       "      <td>28447783</td>\n",
       "      <td>190</td>\n",
       "      <td>C41156423</td>\n",
       "      <td>19</td>\n",
       "      <td>73032165</td>\n",
       "      <td>2020/4/1 11:00</td>\n",
       "      <td>2020/4/1 11:16</td>\n",
       "      <td>0</td>\n",
       "      <td>2732</td>\n",
       "      <td>2</td>\n",
       "      <td>栃木店</td>\n",
       "      <td>TO</td>\n",
       "      <td>北関東</td>\n",
       "      <td>栃木</td>\n",
       "      <td>デリバリー</td>\n",
       "      <td>お渡し済</td>\n",
       "      <td>2020-04-01</td>\n",
       "    </tr>\n",
       "    <tr>\n",
       "      <th>4</th>\n",
       "      <td>32576156</td>\n",
       "      <td>191</td>\n",
       "      <td>C54568117</td>\n",
       "      <td>71</td>\n",
       "      <td>23281182</td>\n",
       "      <td>2020/4/1 11:00</td>\n",
       "      <td>2020/4/1 11:53</td>\n",
       "      <td>0</td>\n",
       "      <td>2987</td>\n",
       "      <td>2</td>\n",
       "      <td>伊勢崎店</td>\n",
       "      <td>GU</td>\n",
       "      <td>北関東</td>\n",
       "      <td>群馬</td>\n",
       "      <td>デリバリー</td>\n",
       "      <td>お渡し済</td>\n",
       "      <td>2020-04-01</td>\n",
       "    </tr>\n",
       "  </tbody>\n",
       "</table>\n",
       "</div>"
      ],
      "text/plain": [
       "   order_id  store_id customer_id  coupon_cd  sales_detail_id  \\\n",
       "0  79339111        49   C26387220         50         67393872   \n",
       "1  18941733        85   C48773811         26         91834983   \n",
       "2  56217880        76   C66287421         36         64409634   \n",
       "3  28447783       190   C41156423         19         73032165   \n",
       "4  32576156       191   C54568117         71         23281182   \n",
       "\n",
       "  order_accept_date  delivered_date  takeout_flag  total_amount  status  \\\n",
       "0    2020/4/1 11:00  2020/4/1 11:18             1          4144       1   \n",
       "1    2020/4/1 11:00  2020/4/1 11:22             0          2877       2   \n",
       "2    2020/4/1 11:00  2020/4/1 11:15             0          2603       2   \n",
       "3    2020/4/1 11:00  2020/4/1 11:16             0          2732       2   \n",
       "4    2020/4/1 11:00  2020/4/1 11:53             0          2987       2   \n",
       "\n",
       "  store_name area_cd wide_area narrow_area takeout_name status_name  \\\n",
       "0        浅草店      TK        東京          東京        お持ち帰り        お支払済   \n",
       "1        目黒店      TK        東京          東京        デリバリー        お渡し済   \n",
       "2        本郷店      TK        東京          東京        デリバリー        お渡し済   \n",
       "3        栃木店      TO       北関東          栃木        デリバリー        お渡し済   \n",
       "4       伊勢崎店      GU       北関東          群馬        デリバリー        お渡し済   \n",
       "\n",
       "   order_date  \n",
       "0  2020-04-01  \n",
       "1  2020-04-01  \n",
       "2  2020-04-01  \n",
       "3  2020-04-01  \n",
       "4  2020-04-01  "
      ]
     },
     "execution_count": 257,
     "metadata": {},
     "output_type": "execute_result"
    }
   ],
   "source": [
    "#31\n",
    "import pandas as pd\n",
    "import glob\n",
    "import os\n",
    "\n",
    "m_store=pd.read_csv('m_store.csv')\n",
    "m_area=pd.read_csv('m_area.csv')\n",
    "\n",
    "current_dir=os.getcwd()\n",
    "tbl_order_file=os.path.join(current_dir,'tbl_order_*.csv')\n",
    "tbl_order_files=glob.glob(tbl_order_file)\n",
    "\n",
    "order_all=pd.DataFrame()\n",
    "for file in tbl_order_files:\n",
    "    order_tmp=pd.read_csv(file)\n",
    "    print(f'{file}:{len(order_tmp)}')\n",
    "    order_all=pd.concat([order_all,order_tmp],ignore_index=True)\n",
    "\n",
    "order_all=order_all.loc[order_all['order_id']!=999]\n",
    "\n",
    "order_all=pd.merge(order_all,m_store,on='store_id',how='left')\n",
    "order_all=pd.merge(order_all,m_area,on='area_cd',how='left')\n",
    "\n",
    "order_all.loc[order_all['takeout_flag']==0,'takeout_name']='デリバリー'\n",
    "order_all.loc[order_all['takeout_flag']==1,'takeout_name']='お持ち帰り'\n",
    "\n",
    "order_all.loc[order_all['status']==0,'status_name']='受付'\n",
    "order_all.loc[order_all['status']==1,'status_name']='お支払済'\n",
    "order_all.loc[order_all['status']==2,'status_name']='お渡し済'\n",
    "order_all.loc[order_all['status']==9,'status_name']='キャンセル'\n",
    "\n",
    "order_all.loc[:,'order_date']=pd.to_datetime(order_all['order_accept_date']).dt.date\n",
    "order_all.head()"
   ]
  },
  {
   "cell_type": "code",
   "execution_count": 258,
   "id": "f3d138a3",
   "metadata": {},
   "outputs": [],
   "source": [
    "#31\n",
    "import openpyxl\n",
    "\n",
    "wb=openpyxl.Workbook()\n",
    "ws=wb['Sheet']\n",
    "ws.cell(1,1).value='書き込みテストです'\n",
    "wb.save('test.xlsx')\n",
    "wb.close()\n"
   ]
  },
  {
   "cell_type": "code",
   "execution_count": 259,
   "id": "916f6bcd",
   "metadata": {},
   "outputs": [
    {
     "name": "stdout",
     "output_type": "stream",
     "text": [
      "書き込みテストです\n"
     ]
    }
   ],
   "source": [
    "#31\n",
    "wb=openpyxl.load_workbook('test.xlsx',read_only=True)\n",
    "ws=wb['Sheet']\n",
    "print(ws.cell(1,1).value)\n",
    "wb.close()"
   ]
  },
  {
   "cell_type": "code",
   "execution_count": 260,
   "id": "dd3bbe3d",
   "metadata": {},
   "outputs": [
    {
     "name": "stdout",
     "output_type": "stream",
     "text": [
      "売上額確認 9004535=9004535\n"
     ]
    },
    {
     "data": {
      "text/html": [
       "<div>\n",
       "<style scoped>\n",
       "    .dataframe tbody tr th:only-of-type {\n",
       "        vertical-align: middle;\n",
       "    }\n",
       "\n",
       "    .dataframe tbody tr th {\n",
       "        vertical-align: top;\n",
       "    }\n",
       "\n",
       "    .dataframe thead th {\n",
       "        text-align: right;\n",
       "    }\n",
       "</style>\n",
       "<table border=\"1\" class=\"dataframe\">\n",
       "  <thead>\n",
       "    <tr style=\"text-align: right;\">\n",
       "      <th></th>\n",
       "      <th>order_accept_date</th>\n",
       "      <th>customer_id</th>\n",
       "      <th>total_amount</th>\n",
       "      <th>takeout_name</th>\n",
       "      <th>status_name</th>\n",
       "    </tr>\n",
       "  </thead>\n",
       "  <tbody>\n",
       "    <tr>\n",
       "      <th>115</th>\n",
       "      <td>2020/4/1 11:09</td>\n",
       "      <td>C25851661</td>\n",
       "      <td>2471</td>\n",
       "      <td>デリバリー</td>\n",
       "      <td>お渡し済</td>\n",
       "    </tr>\n",
       "    <tr>\n",
       "      <th>138</th>\n",
       "      <td>2020/4/1 11:11</td>\n",
       "      <td>C78632079</td>\n",
       "      <td>2112</td>\n",
       "      <td>デリバリー</td>\n",
       "      <td>キャンセル</td>\n",
       "    </tr>\n",
       "    <tr>\n",
       "      <th>332</th>\n",
       "      <td>2020/4/1 11:28</td>\n",
       "      <td>C44700154</td>\n",
       "      <td>2122</td>\n",
       "      <td>デリバリー</td>\n",
       "      <td>キャンセル</td>\n",
       "    </tr>\n",
       "    <tr>\n",
       "      <th>593</th>\n",
       "      <td>2020/4/1 11:49</td>\n",
       "      <td>C80269937</td>\n",
       "      <td>2615</td>\n",
       "      <td>お持ち帰り</td>\n",
       "      <td>お支払済</td>\n",
       "    </tr>\n",
       "    <tr>\n",
       "      <th>777</th>\n",
       "      <td>2020/4/1 12:05</td>\n",
       "      <td>C70409495</td>\n",
       "      <td>4692</td>\n",
       "      <td>デリバリー</td>\n",
       "      <td>キャンセル</td>\n",
       "    </tr>\n",
       "  </tbody>\n",
       "</table>\n",
       "</div>"
      ],
      "text/plain": [
       "    order_accept_date customer_id  total_amount takeout_name status_name\n",
       "115    2020/4/1 11:09   C25851661          2471        デリバリー        お渡し済\n",
       "138    2020/4/1 11:11   C78632079          2112        デリバリー       キャンセル\n",
       "332    2020/4/1 11:28   C44700154          2122        デリバリー       キャンセル\n",
       "593    2020/4/1 11:49   C80269937          2615        お持ち帰り        お支払済\n",
       "777    2020/4/1 12:05   C70409495          4692        デリバリー       キャンセル"
      ]
     },
     "execution_count": 260,
     "metadata": {},
     "output_type": "execute_result"
    }
   ],
   "source": [
    "#31\n",
    "store_id=1\n",
    "store_df=order_all.loc[order_all['store_id']==store_id].copy()\n",
    "store_name=store_df['store_name'].unique()[0]\n",
    "store_sales_total=store_df.loc[store_df['status'].isin([1,2])]['total_amount'].sum()\n",
    "store_sales_takeout=store_df.loc[store_df['status']==1]['total_amount'].sum()\n",
    "store_sales_delivery=store_df.loc[store_df['status']==2]['total_amount'].sum()\n",
    "\n",
    "print(f'売上額確認 {store_sales_total}={store_sales_takeout+store_sales_delivery}')\n",
    "output_df=store_df[['order_accept_date','customer_id','total_amount','takeout_name','status_name']]\n",
    "output_df.head()"
   ]
  },
  {
   "cell_type": "code",
   "execution_count": 261,
   "id": "4767ab14",
   "metadata": {},
   "outputs": [],
   "source": [
    "#31\n",
    "from openpyxl.utils.dataframe import dataframe_to_rows\n",
    "store_title=f'{store_id}_{store_name}'\n",
    "\n",
    "wb=openpyxl.Workbook()\n",
    "ws=wb.active\n",
    "ws.title=store_title\n",
    "ws.cell(1,1).value=f'{store_title}売上データ'\n",
    "\n",
    "rows=dataframe_to_rows(output_df,index=False,header=True)\n",
    "\n",
    "row_start=3\n",
    "col_start=2\n",
    "\n",
    "for row_no,row in enumerate(rows,row_start):\n",
    "    for col_no,value in enumerate(row,col_start):\n",
    "        ws.cell(row_no,col_no).value=value\n",
    "    \n",
    "filename=f'{store_title}.xlsx'\n",
    "wb.save(filename)\n",
    "wb.close()    "
   ]
  },
  {
   "cell_type": "code",
   "execution_count": 262,
   "id": "2a7f7fef",
   "metadata": {},
   "outputs": [],
   "source": [
    "#32\n",
    "from openpyxl.styles import PatternFill,Border,Side,Font\n",
    "\n",
    "openpyxl.load_workbook(filename)\n",
    "ws=wb[store_title]\n",
    "\n",
    "side=Side(style='thin',color='008080')\n",
    "border=Border(top=side,bottom=side,left=side,right=side)\n",
    "\n",
    "for row in ws:\n",
    "    for cell in row:\n",
    "        if ws[cell.coordinate].value:\n",
    "            ws[cell.coordinate].border=border"
   ]
  },
  {
   "cell_type": "code",
   "execution_count": 263,
   "id": "1fe42842",
   "metadata": {},
   "outputs": [],
   "source": [
    "#32\n",
    "ws.cell(1,1).font=Font(bold=True,color='008080')\n",
    "cellZ=ws.cell(3,2)\n",
    "cell.fill=PatternFill(patternType='solid',fgColor='008080')\n",
    "cell.value='注文受注日時'\n",
    "cell.font=Font(bold=True,color='FFFFFF')\n",
    "\n",
    "cell=ws.cell(3,3)\n",
    "cell.fill=PatternFill(patternType='solid',fgColor='008080')\n",
    "cell.value='顧客ID'\n",
    "cell.font=Font(bold=True,color='FFFFFF')\n",
    "\n",
    "cell=ws.cell(3,4)\n",
    "cell.fill=PatternFill(patternType='solid',fgColor='008080')\n",
    "cell.value='購入総額'\n",
    "cell.font=Font(bold=True,color='FFFFFF')\n",
    "\n",
    "cell=ws.cell(3,5)\n",
    "cell.fill=PatternFill(patternType='solid',fgColor='008080')\n",
    "cell.value='注文タイプ'\n",
    "cell.font=Font(bold=True,color='FFFFFF')\n",
    "\n",
    "cell=ws.cell(3,6)\n",
    "cell.fill=PatternFill(patternType='solid',fgColor='008080')\n",
    "cell.value='注文状態'\n",
    "cell.font=Font(bold=True,color='FFFFFF')\n",
    "\n",
    "ws.column_dimensions['A'].width=20\n",
    "ws.column_dimensions['B'].width=20\n",
    "ws.column_dimensions['C'].width=12\n",
    "ws.column_dimensions['D'].width=12\n",
    "ws.column_dimensions['F'].width=12\n",
    "ws.column_dimensions['G'].width=12\n",
    "\n",
    "wb.save(filename)\n",
    "wb.close()"
   ]
  },
  {
   "cell_type": "code",
   "execution_count": 264,
   "id": "1a69c469",
   "metadata": {},
   "outputs": [
    {
     "data": {
      "text/html": [
       "<div>\n",
       "<style scoped>\n",
       "    .dataframe tbody tr th:only-of-type {\n",
       "        vertical-align: middle;\n",
       "    }\n",
       "\n",
       "    .dataframe tbody tr th {\n",
       "        vertical-align: top;\n",
       "    }\n",
       "\n",
       "    .dataframe thead th {\n",
       "        text-align: right;\n",
       "    }\n",
       "</style>\n",
       "<table border=\"1\" class=\"dataframe\">\n",
       "  <thead>\n",
       "    <tr style=\"text-align: right;\">\n",
       "      <th></th>\n",
       "      <th>count</th>\n",
       "      <th>mean</th>\n",
       "      <th>std</th>\n",
       "      <th>min</th>\n",
       "      <th>25%</th>\n",
       "      <th>50%</th>\n",
       "      <th>75%</th>\n",
       "      <th>max</th>\n",
       "    </tr>\n",
       "    <tr>\n",
       "      <th>store_id</th>\n",
       "      <th></th>\n",
       "      <th></th>\n",
       "      <th></th>\n",
       "      <th></th>\n",
       "      <th></th>\n",
       "      <th></th>\n",
       "      <th></th>\n",
       "      <th></th>\n",
       "    </tr>\n",
       "  </thead>\n",
       "  <tbody>\n",
       "    <tr>\n",
       "      <th>1</th>\n",
       "      <td>3553.0</td>\n",
       "      <td>34.477062</td>\n",
       "      <td>14.514403</td>\n",
       "      <td>10.0</td>\n",
       "      <td>22.0</td>\n",
       "      <td>34.0</td>\n",
       "      <td>47.0</td>\n",
       "      <td>59.0</td>\n",
       "    </tr>\n",
       "  </tbody>\n",
       "</table>\n",
       "</div>"
      ],
      "text/plain": [
       "           count       mean        std   min   25%   50%   75%   max\n",
       "store_id                                                            \n",
       "1         3553.0  34.477062  14.514403  10.0  22.0  34.0  47.0  59.0"
      ]
     },
     "execution_count": 264,
     "metadata": {},
     "output_type": "execute_result"
    }
   ],
   "source": [
    "#33\n",
    "def calc_delta(t):\n",
    "    t1,t2=t\n",
    "    dalta=t2-t1\n",
    "    return dalta.total_seconds()/60\n",
    "\n",
    "store_df.loc[:,'order_accept_datetime']=pd.to_datetime(store_df['order_accept_date'])\n",
    "store_df.loc[:,'delivered_datetime']=pd.to_datetime(store_df['delivered_date'])\n",
    "store_df.loc[:,'delta']=store_df[['order_accept_datetime','delivered_datetime']].apply(calc_delta,axis=1)\n",
    "\n",
    "delivery_time=store_df.groupby(['store_id'])['delta'].describe()\n",
    "delivery_time"
   ]
  },
  {
   "cell_type": "code",
   "execution_count": 265,
   "id": "26292b4d",
   "metadata": {},
   "outputs": [],
   "source": [
    "#33\n",
    "openpyxl.load_workbook(filename)\n",
    "ws=wb[store_title]\n",
    "\n",
    "cell=ws.cell(1,7)\n",
    "cell.value=f'配達完了までの時間'\n",
    "cell.font=Font(bold=True,color='008080')\n",
    "rows=dataframe_to_rows(delivery_time,index=False,header=True)\n",
    "\n",
    "row_start=3\n",
    "col_start=8\n",
    "\n",
    "for row_no,row in enumerate(rows,row_start):\n",
    "    for col_no,value in enumerate(row,col_start):\n",
    "        cell=ws.cell(row_no,col_no)\n",
    "        cell.value=value\n",
    "        cell.border=border\n",
    "        if row_no==row_start:\n",
    "            cell.fill=PatternFill(patternType='solid',fgColor='008080')\n",
    "            cell.font=Font(bold=True,color='FFFFFF')\n",
    "\n",
    "filename=f'{store_title}.xlsx'\n",
    "wb.save(filename)\n",
    "wb.close()"
   ]
  },
  {
   "cell_type": "code",
   "execution_count": 266,
   "id": "441b727c",
   "metadata": {},
   "outputs": [],
   "source": [
    "#34\n",
    "openpyxl.load_workbook(filename)\n",
    "ws=wb[store_title]\n",
    "rows=dataframe_to_rows(output_df,index=False,header=True)\n",
    "\n",
    "row_start=3\n",
    "col_start=2\n",
    "\n",
    "for row_no,row in enumerate(rows,row_start):\n",
    "    if row_no==row_start:\n",
    "        continue\n",
    "    for col_no,value in enumerate(row,col_start):\n",
    "        ws.cell(row_no,col_no).value=value\n",
    "        if value=='キャンセル':\n",
    "            ws.cell(row_no,col_no).font=Font(bold=True,color='FF0000')\n",
    "\n",
    "filename=f'{store_title}.xlsx'\n",
    "wb.save(filename)\n",
    "wb.close()            "
   ]
  },
  {
   "cell_type": "code",
   "execution_count": 267,
   "id": "fd16c4dd",
   "metadata": {},
   "outputs": [],
   "source": [
    "#35\n",
    "openpyxl.load_workbook(filename)\n",
    "ws=wb[store_title]\n",
    "\n",
    "cell=ws.cell(7,7)\n",
    "cell.value='集計'\n",
    "cell.font=Font(bold=True,color='008080')\n",
    "\n",
    "cell=ws.cell(8,8)\n",
    "cell.value='データ総額'\n",
    "cell.font=Font(bold=True,color='008080')\n",
    "\n",
    "cell=ws.cell(8,10)\n",
    "cell.value=f'=SUM(D4:D{ws.max_row})'\n",
    "\n",
    "cell=ws.cell(9,8)\n",
    "cell.value=' 内　決済完了額'\n",
    "cell.font=Font(bold=True)\n",
    "\n",
    "cell=ws.cell(9,10)\n",
    "cell.value=f'=SUMIF(4:F{ws.max_row},\"<>キャンセル\",D4:D{ws.max_row})'\n",
    "\n",
    "cell=ws.cell(10,8)\n",
    "cell.value=' 内　キャンセル額'\n",
    "cell.font=Font(bold=True)\n",
    "\n",
    "cell=ws.cell(9,10)\n",
    "cell.value=f'=SUMIF(4:F{ws.max_row},\"=キャンセル\",D4:D{ws.max_row})'\n",
    "\n",
    "filename=f'{store_title}.xlsx'\n",
    "wb.save(filename)\n",
    "wb.close()\n"
   ]
  },
  {
   "cell_type": "code",
   "execution_count": 268,
   "id": "d4f32af3",
   "metadata": {},
   "outputs": [],
   "source": [
    "#36\n",
    "from openpyxl.chart import Reference,BarChart,PieChart,LineChart,ScatterChart,Series\n",
    "\n",
    "openpyxl.load_workbook(filename)\n",
    "ws=wb[store_title]\n",
    "\n",
    "cell=ws.cell(7,7)\n",
    "cell.value=f'売上グラフ'\n",
    "cell.font=Font(bold=True,color='008080')\n",
    "\n",
    "refy=Reference(ws,min_col=4,min_row=4,max_col=4,max_row=23)\n",
    "series=Series(refy,title='売上額')\n",
    "\n",
    "chart=LineChart()\n",
    "chart.title='折れ線グラフ'\n",
    "chart.x_axis.title='件数'\n",
    "chart.y_axis.title='売上額'\n",
    "chart.height=10\n",
    "chart.width=20\n",
    "chart.series.append(series)\n",
    "ws.add_chart(chart,'H12')\n",
    "\n",
    "filename=f'{store_title}.xlsx'\n",
    "wb.save(filename)\n",
    "wb.close()\n"
   ]
  },
  {
   "cell_type": "code",
   "execution_count": 269,
   "id": "1cb3bf4b",
   "metadata": {},
   "outputs": [],
   "source": [
    "#37\n",
    "cancel_df=pd.DataFrame()\n",
    "cancel_cnt=order_all.loc[order_all['status']==9].groupby(['store_id'])['store_id'].count()\n",
    "order_cnt=order_all.loc[order_all['status'].isin([1,2,9])].groupby(['store_id'])['store_id'].count()\n",
    "cancel_rate=(cancel_cnt/order_cnt)*100\n",
    "cancel_df['cancel_rate']=cancel_rate\n",
    "cancel_df=pd.merge(cancel_df,m_store,on='store_id',how='left')\n",
    "cancel_rank=cancel_df.sort_values('cancel_rate',ascending=True).reset_index()\n",
    "\n",
    "def check_store_cancel_rank(trg_id):\n",
    "    tmp=cancel_rank.loc[cancel_rank['store_id']==trg_id].index+1\n",
    "    return tmp[0]"
   ]
  },
  {
   "cell_type": "code",
   "execution_count": 270,
   "id": "56e959fe",
   "metadata": {},
   "outputs": [],
   "source": [
    "#37\n",
    "def get_area_df(trg_id):\n",
    "    area_df=pd.DataFrame()\n",
    "    area_df=order_all.loc[order_all['area_cd']==store_df['area_cd'].unique()[0]]\n",
    "    area_df=area_df.loc[area_df['status'].isin([1,2])]\n",
    "    return area_df\n",
    "\n",
    "def get_area_rank_df(trg_id):\n",
    "    area_df=get_area_df(trg_id)\n",
    "    area_rank=area_df.groupby(['store_id'])['total_amount'].sum().sort_values(ascending=False)\n",
    "    area_rank=pd.merge(area_rank,m_store,on='store_id',how='left')\n",
    "    return area_rank\n",
    "\n",
    "def check_store_sales_rank(trg_id):\n",
    "    area_rank=get_area_rank_df(trg_id)\n",
    "\n",
    "    tmp=area_rank.loc[area_rank['store_id']==trg_id].index+1\n",
    "    return tmp[0]"
   ]
  },
  {
   "cell_type": "code",
   "execution_count": 271,
   "id": "abde67de",
   "metadata": {},
   "outputs": [],
   "source": [
    "#37\n",
    "def make_store_daily(trg_id):\n",
    "    tmp_store_df=order_all.loc[(order_all['store_id']==trg_id) & (order_all['status'].isin([1,2]))]\n",
    "    tmp=tmp_store_df[['order_accept_date','total_amount']].copy()\n",
    "    tmp.loc[:,'order_accept_date']=pd.to_datetime(tmp['order_accept_date'])\n",
    "    tmp.set_index('order_accept_date',inplace=True)\n",
    "    tmp=tmp.resample('D').sum().reset_index()\n",
    "    return tmp"
   ]
  },
  {
   "cell_type": "code",
   "execution_count": 272,
   "id": "7e5f4eba",
   "metadata": {},
   "outputs": [],
   "source": [
    "#37\n",
    "def get_area_delivery(trg_id):\n",
    "    area_delivery=pd.DataFrame()\n",
    "    area_df=get_area_df(trg_id)\n",
    "    area_delivery=area_df.loc[area_df['status']==2].copy()\n",
    "\n",
    "    area_delivery.loc[:,'order_accept_datetime']=pd.to_datetime(area_delivery['order_accept_date'])\n",
    "    area_delivery.loc[:,'delivered_datetime']=pd.to_datetime(area_delivery['delivered_date'])\n",
    "    area_delivery.loc[:,'delta']=area_delivery[['order_accept_datetime','delivered_datetime']].apply(calc_delta,axis=1)\n",
    "    return area_delivery\n",
    "\n",
    "def get_area_delivery_rank_df(trg_id):\n",
    "    area_delivery=get_area_delivery(trg_id)\n",
    "    area_delivery_rank=area_delivery.groupby(['store_id'])['delta'].mean().sort_values()\n",
    "    area_delivery_rank=pd.merge(area_delivery_rank,m_store,on='store_id',how='left')\n",
    "    return area_delivery_rank\n",
    "\n",
    "def check_store_delivery_rank(trg_id):\n",
    "    area_delivery_rank=get_area_delivery_rank_df(trg_id)\n",
    "    tmp=area_delivery_rank.loc[area_delivery_rank['store_id']==trg_id].index+1\n",
    "    return tmp[0]\n"
   ]
  },
  {
   "cell_type": "code",
   "execution_count": 273,
   "id": "ab8e83ad",
   "metadata": {},
   "outputs": [],
   "source": [
    "#38\n",
    "if os.path.exists('test.xlsx'):os.remove('test.xlsx')\n",
    "if os.path.exists(filename):os.remove(filename)"
   ]
  },
  {
   "cell_type": "code",
   "execution_count": 274,
   "id": "90296217",
   "metadata": {},
   "outputs": [],
   "source": [
    "#38\n",
    "def data_sheet_output(trg_wb,sheetname,target_df,indexFlg):\n",
    "    ws=trg_wb.create_sheet(title=sheetname)\n",
    "    row=dataframe_to_rows(target_df,index=indexFlg,header=True)\n",
    "\n",
    "    row_start=1\n",
    "    col_start=1\n",
    "\n",
    "    for row_no,row in enumerate(rows,row_start):\n",
    "        for col_no,value in enumerate(row,col_start):\n",
    "            ws.cell(row_no,col_no).value=value\n",
    "\n",
    "    ws.sheet_state='hidden'        "
   ]
  },
  {
   "cell_type": "code",
   "execution_count": 275,
   "id": "96656087",
   "metadata": {},
   "outputs": [],
   "source": [
    "#38\n",
    "def make_data_sheet(trg_id,trg_st_df,targetfolder):\n",
    "    target_daily=make_store_daily(trg_id)\n",
    "    store_name=trg_st_df['store_name'].unique()[0]\n",
    "    store_title=f'{trg_id}_{store_name}'\n",
    "    wb=openpyxl.Workbook()\n",
    "\n",
    "    data_sheet_output(wb,'Data_CancelRank',cancel_rank,False)\n",
    "    data_sheet_output(wb,'Data_AreaRank',get_area_rank_df(trg_id),False)\n",
    "    data_sheet_output(wb,'Data_DeliveryRank',get_area_delivery_rank_df,False)\n",
    "    data_sheet_output(wb,'Data_Target_Daily',target_daily,False)\n",
    "\n",
    "    filename=os.path.join(targetfolder,f'{store_title}.xlsx')\n",
    "    wb.save(filename)\n",
    "    wb.close()\n",
    "    return filename"
   ]
  },
  {
   "cell_type": "code",
   "execution_count": 276,
   "id": "837864fe",
   "metadata": {},
   "outputs": [
    {
     "name": "stderr",
     "output_type": "stream",
     "text": [
      "C:\\Users\\yoshikoshi\\AppData\\Local\\Temp\\ipykernel_5392\\3397485158.py:5: DeprecationWarning: In a future version, `df.iloc[:, i] = newvals` will attempt to set the values inplace instead of always setting a new array. To retain the old behavior, use either `df[df.columns[i]] = newvals` or, if columns are non-unique, `df.isetitem(i, newvals)`\n",
      "  tmp.loc[:,'order_accept_date']=pd.to_datetime(tmp['order_accept_date'])\n"
     ]
    }
   ],
   "source": [
    "#38\n",
    "filename_store=make_data_sheet(store_id,store_df,'')"
   ]
  },
  {
   "cell_type": "code",
   "execution_count": 277,
   "id": "bb62503b",
   "metadata": {},
   "outputs": [],
   "source": [
    "#39\n",
    "def make_summary_sheet(trg_id,storename,trgfile):\n",
    "    target_cancel_rank=check_store_cancel_rank(trg_id)\n",
    "    target_sales_rank=check_store_sales_rank(trg_id)\n",
    "    target_delivery_rank=check_store_delivery_rank(trg_id)\n",
    "\n",
    "    wb=openpyxl.load_workbook(trgfile)\n",
    "    ws=wb.active\n",
    "    ws.title='サマリーレポート'\n",
    "\n",
    "    cell=ws.cell(1,1)\n",
    "    cell.value=f'{storename}　サマリーレポート　（４月～6月）'\n",
    "    cell.font=Font(bold=True,color='008080',size=20)\n",
    "\n",
    "    tmpWs=wb['Data_Target_Daily']\n",
    "    cell=ws.cell(3,2)\n",
    "    cell.value='店舗売上額'\n",
    "    cell.font=Font(bold=True,color='008080',size=16)\n",
    "\n",
    "    ws.merge_cells('E3:F3')\n",
    "\n",
    "    cell=ws.cell(3,5)\n",
    "    cell.value=f'=SUM({tmpWs.title}!B2:B{tmpWs.max_row})'\n",
    "    cell.font=Font(bold=True,color='0080FF',size=16)\n",
    "    cell.number_format='#,##0'\n",
    "\n",
    "    cell=ws.cell(4,2)\n",
    "    cell.value='店舗売上ランク'\n",
    "    cell.font=Font(bold=True,color='008080',size=16)\n",
    "\n",
    "    cell=ws.cell(4,5)\n",
    "    cell.value=f'{len(m_store)}店舗中　{target_sales_rank}位'\n",
    "    cell.font=Font(bold=True,color='0080FF',size=16)\n",
    "\n",
    "    rety=Reference(tmpWs,min_col=2,min_row=2,max_col=2,max_row=tmpWs.max_row)\n",
    "    series=Series(rety,title='売上額')\n",
    "\n",
    "    chart=LineChart()\n",
    "    chart.title='期間売上額（日毎）'\n",
    "    chart.x_axis.title='件数'\n",
    "    chart.y_axis.title='売上額'\n",
    "    chart.height=10\n",
    "    chart.width=15\n",
    "    chart.series.append(series)\n",
    "\n",
    "    ws.add_chart(chart,'B6')\n",
    "    tmpWs=wb['Data_AreaRank']\n",
    "\n",
    "    cell=ws.cell(4,10)\n",
    "    cell.value='地域店舗売上情報'\n",
    "    cell.font=Font(bold=True,color='008080',size=16)\n",
    "\n",
    "    cell=ws.cell(5,11)\n",
    "    cell.value='最高額'\n",
    "\n",
    "    cell=ws.cell(5,12)\n",
    "    cell.value=f'=MAX({tmpWs.title}!B2:B{tmpWs.max_row})'\n",
    "    cell.number_format='#,##0'\n",
    "    \n",
    "    cell=ws.cell(6,11)\n",
    "    cell.value='最低額'\n",
    "\n",
    "    cell=ws.cell(6,12)\n",
    "    cell.value=f'=MIN({tmpWs.title}!B2:B{tmpWs.max_row})'\n",
    "    cell.number_format='#,##0'\n",
    "\n",
    "    cell=ws.cell(7,11)\n",
    "    cell.value='地域平均'\n",
    "\n",
    "    cell=ws.cell(7,12)\n",
    "    cell.value=f'=AVERAGE({tmpWs.title}!C2:C{tmpWs.max_row})'\n",
    "    cell.number_format='#,##0'\n",
    "\n",
    "    cell=ws.cell(11,10)\n",
    "    cell.value='キャンセルランク'\n",
    "    cell.font=Font(bold=True,color='008080',size=16)\n",
    "\n",
    "    cell=ws.cell(12,11)\n",
    "    cell.value=f'{len(m_store)}店舗中　{target_cancel_rank}位'\n",
    "    cell.font=Font(bold=True,color='0080FF',size=16)\n",
    "\n",
    "    tmpWs=wb['Data_CancelRank']\n",
    "\n",
    "    cell=ws.cell(13,11)\n",
    "    cell.value='地域平均'\n",
    "\n",
    "    cell=ws.cell(13,12)\n",
    "    cell.value=f'=AVERAGE({tmpWs.title}!C2:C{tmpWs.max_row})'\n",
    "    cell.number_format='0.00'\n",
    "\n",
    "    cell=ws.cell(15,10)\n",
    "    cell.value='配達時間ランク'\n",
    "    cell.font=Font(bold=True,color='008080',size=16)\n",
    "\n",
    "    cell=ws.cell(16,11)\n",
    "    cell.value=f'{len(m_store)}店舗中　{target_delivery_rank}位'\n",
    "    cell.font=Font(bold=True,color='0080FF',size=16)\n",
    "\n",
    "    tmpWs=wb['Data_DeliveryRank']\n",
    "\n",
    "    cell=ws.cell(17,11)\n",
    "    cell.value='地域平均'\n",
    "\n",
    "    cell=ws.cell(17,12)\n",
    "    cell.value=f'=AVERAGE({tmpWs.title}!B2:B{tmpWs.max_row})'\n",
    "    cell.number_format='0.00'\n",
    "\n",
    "    wb.save(trgfile)\n",
    "    wb.close()\n"
   ]
  },
  {
   "cell_type": "code",
   "execution_count": 278,
   "id": "d6266a08",
   "metadata": {},
   "outputs": [],
   "source": [
    "#39\n",
    "make_summary_sheet(store_id,store_name,filename_store)"
   ]
  },
  {
   "cell_type": "code",
   "execution_count": 280,
   "id": "6c6e1358",
   "metadata": {},
   "outputs": [
    {
     "name": "stdout",
     "output_type": "stream",
     "text": [
      "0    昭島店\n",
      "Name: store_name, dtype: object\n"
     ]
    },
    {
     "name": "stderr",
     "output_type": "stream",
     "text": [
      "C:\\Users\\yoshikoshi\\AppData\\Local\\Temp\\ipykernel_5392\\3397485158.py:5: DeprecationWarning: In a future version, `df.iloc[:, i] = newvals` will attempt to set the values inplace instead of always setting a new array. To retain the old behavior, use either `df[df.columns[i]] = newvals` or, if columns are non-unique, `df.isetitem(i, newvals)`\n",
      "  tmp.loc[:,'order_accept_date']=pd.to_datetime(tmp['order_accept_date'])\n"
     ]
    },
    {
     "name": "stdout",
     "output_type": "stream",
     "text": [
      "1    あきる野店\n",
      "Name: store_name, dtype: object\n"
     ]
    },
    {
     "name": "stderr",
     "output_type": "stream",
     "text": [
      "C:\\Users\\yoshikoshi\\AppData\\Local\\Temp\\ipykernel_5392\\3397485158.py:5: DeprecationWarning: In a future version, `df.iloc[:, i] = newvals` will attempt to set the values inplace instead of always setting a new array. To retain the old behavior, use either `df[df.columns[i]] = newvals` or, if columns are non-unique, `df.isetitem(i, newvals)`\n",
      "  tmp.loc[:,'order_accept_date']=pd.to_datetime(tmp['order_accept_date'])\n"
     ]
    },
    {
     "name": "stdout",
     "output_type": "stream",
     "text": [
      "2    足立店\n",
      "Name: store_name, dtype: object\n"
     ]
    },
    {
     "name": "stderr",
     "output_type": "stream",
     "text": [
      "C:\\Users\\yoshikoshi\\AppData\\Local\\Temp\\ipykernel_5392\\3397485158.py:5: DeprecationWarning: In a future version, `df.iloc[:, i] = newvals` will attempt to set the values inplace instead of always setting a new array. To retain the old behavior, use either `df[df.columns[i]] = newvals` or, if columns are non-unique, `df.isetitem(i, newvals)`\n",
      "  tmp.loc[:,'order_accept_date']=pd.to_datetime(tmp['order_accept_date'])\n"
     ]
    },
    {
     "name": "stdout",
     "output_type": "stream",
     "text": [
      "3    北千住店\n",
      "Name: store_name, dtype: object\n"
     ]
    },
    {
     "name": "stderr",
     "output_type": "stream",
     "text": [
      "C:\\Users\\yoshikoshi\\AppData\\Local\\Temp\\ipykernel_5392\\3397485158.py:5: DeprecationWarning: In a future version, `df.iloc[:, i] = newvals` will attempt to set the values inplace instead of always setting a new array. To retain the old behavior, use either `df[df.columns[i]] = newvals` or, if columns are non-unique, `df.isetitem(i, newvals)`\n",
      "  tmp.loc[:,'order_accept_date']=pd.to_datetime(tmp['order_accept_date'])\n"
     ]
    },
    {
     "name": "stdout",
     "output_type": "stream",
     "text": [
      "4    綾瀬店\n",
      "Name: store_name, dtype: object\n"
     ]
    },
    {
     "name": "stderr",
     "output_type": "stream",
     "text": [
      "C:\\Users\\yoshikoshi\\AppData\\Local\\Temp\\ipykernel_5392\\3397485158.py:5: DeprecationWarning: In a future version, `df.iloc[:, i] = newvals` will attempt to set the values inplace instead of always setting a new array. To retain the old behavior, use either `df[df.columns[i]] = newvals` or, if columns are non-unique, `df.isetitem(i, newvals)`\n",
      "  tmp.loc[:,'order_accept_date']=pd.to_datetime(tmp['order_accept_date'])\n"
     ]
    },
    {
     "name": "stdout",
     "output_type": "stream",
     "text": [
      "5    荒川店\n",
      "Name: store_name, dtype: object\n"
     ]
    },
    {
     "name": "stderr",
     "output_type": "stream",
     "text": [
      "C:\\Users\\yoshikoshi\\AppData\\Local\\Temp\\ipykernel_5392\\3397485158.py:5: DeprecationWarning: In a future version, `df.iloc[:, i] = newvals` will attempt to set the values inplace instead of always setting a new array. To retain the old behavior, use either `df[df.columns[i]] = newvals` or, if columns are non-unique, `df.isetitem(i, newvals)`\n",
      "  tmp.loc[:,'order_accept_date']=pd.to_datetime(tmp['order_accept_date'])\n"
     ]
    },
    {
     "name": "stdout",
     "output_type": "stream",
     "text": [
      "6    東尾久店\n",
      "Name: store_name, dtype: object\n"
     ]
    },
    {
     "name": "stderr",
     "output_type": "stream",
     "text": [
      "C:\\Users\\yoshikoshi\\AppData\\Local\\Temp\\ipykernel_5392\\3397485158.py:5: DeprecationWarning: In a future version, `df.iloc[:, i] = newvals` will attempt to set the values inplace instead of always setting a new array. To retain the old behavior, use either `df[df.columns[i]] = newvals` or, if columns are non-unique, `df.isetitem(i, newvals)`\n",
      "  tmp.loc[:,'order_accept_date']=pd.to_datetime(tmp['order_accept_date'])\n"
     ]
    },
    {
     "name": "stdout",
     "output_type": "stream",
     "text": [
      "7    板橋店\n",
      "Name: store_name, dtype: object\n"
     ]
    },
    {
     "name": "stderr",
     "output_type": "stream",
     "text": [
      "C:\\Users\\yoshikoshi\\AppData\\Local\\Temp\\ipykernel_5392\\3397485158.py:5: DeprecationWarning: In a future version, `df.iloc[:, i] = newvals` will attempt to set the values inplace instead of always setting a new array. To retain the old behavior, use either `df[df.columns[i]] = newvals` or, if columns are non-unique, `df.isetitem(i, newvals)`\n",
      "  tmp.loc[:,'order_accept_date']=pd.to_datetime(tmp['order_accept_date'])\n"
     ]
    },
    {
     "name": "stdout",
     "output_type": "stream",
     "text": [
      "8    高島平店\n",
      "Name: store_name, dtype: object\n"
     ]
    },
    {
     "name": "stderr",
     "output_type": "stream",
     "text": [
      "C:\\Users\\yoshikoshi\\AppData\\Local\\Temp\\ipykernel_5392\\3397485158.py:5: DeprecationWarning: In a future version, `df.iloc[:, i] = newvals` will attempt to set the values inplace instead of always setting a new array. To retain the old behavior, use either `df[df.columns[i]] = newvals` or, if columns are non-unique, `df.isetitem(i, newvals)`\n",
      "  tmp.loc[:,'order_accept_date']=pd.to_datetime(tmp['order_accept_date'])\n"
     ]
    },
    {
     "name": "stdout",
     "output_type": "stream",
     "text": [
      "9    稲城店\n",
      "Name: store_name, dtype: object\n"
     ]
    },
    {
     "name": "stderr",
     "output_type": "stream",
     "text": [
      "C:\\Users\\yoshikoshi\\AppData\\Local\\Temp\\ipykernel_5392\\3397485158.py:5: DeprecationWarning: In a future version, `df.iloc[:, i] = newvals` will attempt to set the values inplace instead of always setting a new array. To retain the old behavior, use either `df[df.columns[i]] = newvals` or, if columns are non-unique, `df.isetitem(i, newvals)`\n",
      "  tmp.loc[:,'order_accept_date']=pd.to_datetime(tmp['order_accept_date'])\n"
     ]
    },
    {
     "name": "stdout",
     "output_type": "stream",
     "text": [
      "10    江戸川店\n",
      "Name: store_name, dtype: object\n"
     ]
    },
    {
     "name": "stderr",
     "output_type": "stream",
     "text": [
      "C:\\Users\\yoshikoshi\\AppData\\Local\\Temp\\ipykernel_5392\\3397485158.py:5: DeprecationWarning: In a future version, `df.iloc[:, i] = newvals` will attempt to set the values inplace instead of always setting a new array. To retain the old behavior, use either `df[df.columns[i]] = newvals` or, if columns are non-unique, `df.isetitem(i, newvals)`\n",
      "  tmp.loc[:,'order_accept_date']=pd.to_datetime(tmp['order_accept_date'])\n"
     ]
    },
    {
     "name": "stdout",
     "output_type": "stream",
     "text": [
      "11    西葛西店\n",
      "Name: store_name, dtype: object\n"
     ]
    },
    {
     "name": "stderr",
     "output_type": "stream",
     "text": [
      "C:\\Users\\yoshikoshi\\AppData\\Local\\Temp\\ipykernel_5392\\3397485158.py:5: DeprecationWarning: In a future version, `df.iloc[:, i] = newvals` will attempt to set the values inplace instead of always setting a new array. To retain the old behavior, use either `df[df.columns[i]] = newvals` or, if columns are non-unique, `df.isetitem(i, newvals)`\n",
      "  tmp.loc[:,'order_accept_date']=pd.to_datetime(tmp['order_accept_date'])\n"
     ]
    },
    {
     "name": "stdout",
     "output_type": "stream",
     "text": [
      "12    青梅店\n",
      "Name: store_name, dtype: object\n"
     ]
    },
    {
     "name": "stderr",
     "output_type": "stream",
     "text": [
      "C:\\Users\\yoshikoshi\\AppData\\Local\\Temp\\ipykernel_5392\\3397485158.py:5: DeprecationWarning: In a future version, `df.iloc[:, i] = newvals` will attempt to set the values inplace instead of always setting a new array. To retain the old behavior, use either `df[df.columns[i]] = newvals` or, if columns are non-unique, `df.isetitem(i, newvals)`\n",
      "  tmp.loc[:,'order_accept_date']=pd.to_datetime(tmp['order_accept_date'])\n"
     ]
    },
    {
     "name": "stdout",
     "output_type": "stream",
     "text": [
      "13    大田店\n",
      "Name: store_name, dtype: object\n"
     ]
    },
    {
     "name": "stderr",
     "output_type": "stream",
     "text": [
      "C:\\Users\\yoshikoshi\\AppData\\Local\\Temp\\ipykernel_5392\\3397485158.py:5: DeprecationWarning: In a future version, `df.iloc[:, i] = newvals` will attempt to set the values inplace instead of always setting a new array. To retain the old behavior, use either `df[df.columns[i]] = newvals` or, if columns are non-unique, `df.isetitem(i, newvals)`\n",
      "  tmp.loc[:,'order_accept_date']=pd.to_datetime(tmp['order_accept_date'])\n"
     ]
    },
    {
     "name": "stdout",
     "output_type": "stream",
     "text": [
      "14    大森店\n",
      "Name: store_name, dtype: object\n"
     ]
    },
    {
     "name": "stderr",
     "output_type": "stream",
     "text": [
      "C:\\Users\\yoshikoshi\\AppData\\Local\\Temp\\ipykernel_5392\\3397485158.py:5: DeprecationWarning: In a future version, `df.iloc[:, i] = newvals` will attempt to set the values inplace instead of always setting a new array. To retain the old behavior, use either `df[df.columns[i]] = newvals` or, if columns are non-unique, `df.isetitem(i, newvals)`\n",
      "  tmp.loc[:,'order_accept_date']=pd.to_datetime(tmp['order_accept_date'])\n"
     ]
    },
    {
     "name": "stdout",
     "output_type": "stream",
     "text": [
      "15    蒲田店\n",
      "Name: store_name, dtype: object\n"
     ]
    },
    {
     "name": "stderr",
     "output_type": "stream",
     "text": [
      "C:\\Users\\yoshikoshi\\AppData\\Local\\Temp\\ipykernel_5392\\3397485158.py:5: DeprecationWarning: In a future version, `df.iloc[:, i] = newvals` will attempt to set the values inplace instead of always setting a new array. To retain the old behavior, use either `df[df.columns[i]] = newvals` or, if columns are non-unique, `df.isetitem(i, newvals)`\n",
      "  tmp.loc[:,'order_accept_date']=pd.to_datetime(tmp['order_accept_date'])\n"
     ]
    },
    {
     "name": "stdout",
     "output_type": "stream",
     "text": [
      "16    葛飾店\n",
      "Name: store_name, dtype: object\n"
     ]
    },
    {
     "name": "stderr",
     "output_type": "stream",
     "text": [
      "C:\\Users\\yoshikoshi\\AppData\\Local\\Temp\\ipykernel_5392\\3397485158.py:5: DeprecationWarning: In a future version, `df.iloc[:, i] = newvals` will attempt to set the values inplace instead of always setting a new array. To retain the old behavior, use either `df[df.columns[i]] = newvals` or, if columns are non-unique, `df.isetitem(i, newvals)`\n",
      "  tmp.loc[:,'order_accept_date']=pd.to_datetime(tmp['order_accept_date'])\n"
     ]
    },
    {
     "name": "stdout",
     "output_type": "stream",
     "text": [
      "17    亀有店\n",
      "Name: store_name, dtype: object\n"
     ]
    },
    {
     "name": "stderr",
     "output_type": "stream",
     "text": [
      "C:\\Users\\yoshikoshi\\AppData\\Local\\Temp\\ipykernel_5392\\3397485158.py:5: DeprecationWarning: In a future version, `df.iloc[:, i] = newvals` will attempt to set the values inplace instead of always setting a new array. To retain the old behavior, use either `df[df.columns[i]] = newvals` or, if columns are non-unique, `df.isetitem(i, newvals)`\n",
      "  tmp.loc[:,'order_accept_date']=pd.to_datetime(tmp['order_accept_date'])\n"
     ]
    },
    {
     "name": "stdout",
     "output_type": "stream",
     "text": [
      "18    赤羽店\n",
      "Name: store_name, dtype: object\n"
     ]
    },
    {
     "name": "stderr",
     "output_type": "stream",
     "text": [
      "C:\\Users\\yoshikoshi\\AppData\\Local\\Temp\\ipykernel_5392\\3397485158.py:5: DeprecationWarning: In a future version, `df.iloc[:, i] = newvals` will attempt to set the values inplace instead of always setting a new array. To retain the old behavior, use either `df[df.columns[i]] = newvals` or, if columns are non-unique, `df.isetitem(i, newvals)`\n",
      "  tmp.loc[:,'order_accept_date']=pd.to_datetime(tmp['order_accept_date'])\n"
     ]
    },
    {
     "name": "stdout",
     "output_type": "stream",
     "text": [
      "19    王子店\n",
      "Name: store_name, dtype: object\n"
     ]
    },
    {
     "name": "stderr",
     "output_type": "stream",
     "text": [
      "C:\\Users\\yoshikoshi\\AppData\\Local\\Temp\\ipykernel_5392\\3397485158.py:5: DeprecationWarning: In a future version, `df.iloc[:, i] = newvals` will attempt to set the values inplace instead of always setting a new array. To retain the old behavior, use either `df[df.columns[i]] = newvals` or, if columns are non-unique, `df.isetitem(i, newvals)`\n",
      "  tmp.loc[:,'order_accept_date']=pd.to_datetime(tmp['order_accept_date'])\n"
     ]
    },
    {
     "name": "stdout",
     "output_type": "stream",
     "text": [
      "20    清瀬店\n",
      "Name: store_name, dtype: object\n"
     ]
    },
    {
     "name": "stderr",
     "output_type": "stream",
     "text": [
      "C:\\Users\\yoshikoshi\\AppData\\Local\\Temp\\ipykernel_5392\\3397485158.py:5: DeprecationWarning: In a future version, `df.iloc[:, i] = newvals` will attempt to set the values inplace instead of always setting a new array. To retain the old behavior, use either `df[df.columns[i]] = newvals` or, if columns are non-unique, `df.isetitem(i, newvals)`\n",
      "  tmp.loc[:,'order_accept_date']=pd.to_datetime(tmp['order_accept_date'])\n"
     ]
    },
    {
     "name": "stdout",
     "output_type": "stream",
     "text": [
      "21    国立店\n",
      "Name: store_name, dtype: object\n"
     ]
    },
    {
     "name": "stderr",
     "output_type": "stream",
     "text": [
      "C:\\Users\\yoshikoshi\\AppData\\Local\\Temp\\ipykernel_5392\\3397485158.py:5: DeprecationWarning: In a future version, `df.iloc[:, i] = newvals` will attempt to set the values inplace instead of always setting a new array. To retain the old behavior, use either `df[df.columns[i]] = newvals` or, if columns are non-unique, `df.isetitem(i, newvals)`\n",
      "  tmp.loc[:,'order_accept_date']=pd.to_datetime(tmp['order_accept_date'])\n"
     ]
    },
    {
     "name": "stdout",
     "output_type": "stream",
     "text": [
      "22    江東店\n",
      "Name: store_name, dtype: object\n"
     ]
    },
    {
     "name": "stderr",
     "output_type": "stream",
     "text": [
      "C:\\Users\\yoshikoshi\\AppData\\Local\\Temp\\ipykernel_5392\\3397485158.py:5: DeprecationWarning: In a future version, `df.iloc[:, i] = newvals` will attempt to set the values inplace instead of always setting a new array. To retain the old behavior, use either `df[df.columns[i]] = newvals` or, if columns are non-unique, `df.isetitem(i, newvals)`\n",
      "  tmp.loc[:,'order_accept_date']=pd.to_datetime(tmp['order_accept_date'])\n"
     ]
    },
    {
     "name": "stdout",
     "output_type": "stream",
     "text": [
      "23    富岡店\n",
      "Name: store_name, dtype: object\n"
     ]
    },
    {
     "name": "stderr",
     "output_type": "stream",
     "text": [
      "C:\\Users\\yoshikoshi\\AppData\\Local\\Temp\\ipykernel_5392\\3397485158.py:5: DeprecationWarning: In a future version, `df.iloc[:, i] = newvals` will attempt to set the values inplace instead of always setting a new array. To retain the old behavior, use either `df[df.columns[i]] = newvals` or, if columns are non-unique, `df.isetitem(i, newvals)`\n",
      "  tmp.loc[:,'order_accept_date']=pd.to_datetime(tmp['order_accept_date'])\n"
     ]
    },
    {
     "name": "stdout",
     "output_type": "stream",
     "text": [
      "24    南砂店\n",
      "Name: store_name, dtype: object\n"
     ]
    },
    {
     "name": "stderr",
     "output_type": "stream",
     "text": [
      "C:\\Users\\yoshikoshi\\AppData\\Local\\Temp\\ipykernel_5392\\3397485158.py:5: DeprecationWarning: In a future version, `df.iloc[:, i] = newvals` will attempt to set the values inplace instead of always setting a new array. To retain the old behavior, use either `df[df.columns[i]] = newvals` or, if columns are non-unique, `df.isetitem(i, newvals)`\n",
      "  tmp.loc[:,'order_accept_date']=pd.to_datetime(tmp['order_accept_date'])\n"
     ]
    },
    {
     "name": "stdout",
     "output_type": "stream",
     "text": [
      "25    小金井店\n",
      "Name: store_name, dtype: object\n"
     ]
    },
    {
     "name": "stderr",
     "output_type": "stream",
     "text": [
      "C:\\Users\\yoshikoshi\\AppData\\Local\\Temp\\ipykernel_5392\\3397485158.py:5: DeprecationWarning: In a future version, `df.iloc[:, i] = newvals` will attempt to set the values inplace instead of always setting a new array. To retain the old behavior, use either `df[df.columns[i]] = newvals` or, if columns are non-unique, `df.isetitem(i, newvals)`\n",
      "  tmp.loc[:,'order_accept_date']=pd.to_datetime(tmp['order_accept_date'])\n"
     ]
    },
    {
     "name": "stdout",
     "output_type": "stream",
     "text": [
      "26    国分寺店\n",
      "Name: store_name, dtype: object\n"
     ]
    },
    {
     "name": "stderr",
     "output_type": "stream",
     "text": [
      "C:\\Users\\yoshikoshi\\AppData\\Local\\Temp\\ipykernel_5392\\3397485158.py:5: DeprecationWarning: In a future version, `df.iloc[:, i] = newvals` will attempt to set the values inplace instead of always setting a new array. To retain the old behavior, use either `df[df.columns[i]] = newvals` or, if columns are non-unique, `df.isetitem(i, newvals)`\n",
      "  tmp.loc[:,'order_accept_date']=pd.to_datetime(tmp['order_accept_date'])\n"
     ]
    },
    {
     "name": "stdout",
     "output_type": "stream",
     "text": [
      "27    小平店\n",
      "Name: store_name, dtype: object\n"
     ]
    },
    {
     "name": "stderr",
     "output_type": "stream",
     "text": [
      "C:\\Users\\yoshikoshi\\AppData\\Local\\Temp\\ipykernel_5392\\3397485158.py:5: DeprecationWarning: In a future version, `df.iloc[:, i] = newvals` will attempt to set the values inplace instead of always setting a new array. To retain the old behavior, use either `df[df.columns[i]] = newvals` or, if columns are non-unique, `df.isetitem(i, newvals)`\n",
      "  tmp.loc[:,'order_accept_date']=pd.to_datetime(tmp['order_accept_date'])\n"
     ]
    },
    {
     "name": "stdout",
     "output_type": "stream",
     "text": [
      "28    狛江店\n",
      "Name: store_name, dtype: object\n"
     ]
    },
    {
     "name": "stderr",
     "output_type": "stream",
     "text": [
      "C:\\Users\\yoshikoshi\\AppData\\Local\\Temp\\ipykernel_5392\\3397485158.py:5: DeprecationWarning: In a future version, `df.iloc[:, i] = newvals` will attempt to set the values inplace instead of always setting a new array. To retain the old behavior, use either `df[df.columns[i]] = newvals` or, if columns are non-unique, `df.isetitem(i, newvals)`\n",
      "  tmp.loc[:,'order_accept_date']=pd.to_datetime(tmp['order_accept_date'])\n"
     ]
    },
    {
     "name": "stdout",
     "output_type": "stream",
     "text": [
      "29    品川店\n",
      "Name: store_name, dtype: object\n"
     ]
    },
    {
     "name": "stderr",
     "output_type": "stream",
     "text": [
      "C:\\Users\\yoshikoshi\\AppData\\Local\\Temp\\ipykernel_5392\\3397485158.py:5: DeprecationWarning: In a future version, `df.iloc[:, i] = newvals` will attempt to set the values inplace instead of always setting a new array. To retain the old behavior, use either `df[df.columns[i]] = newvals` or, if columns are non-unique, `df.isetitem(i, newvals)`\n",
      "  tmp.loc[:,'order_accept_date']=pd.to_datetime(tmp['order_accept_date'])\n"
     ]
    },
    {
     "name": "stdout",
     "output_type": "stream",
     "text": [
      "30    五反田店\n",
      "Name: store_name, dtype: object\n"
     ]
    },
    {
     "name": "stderr",
     "output_type": "stream",
     "text": [
      "C:\\Users\\yoshikoshi\\AppData\\Local\\Temp\\ipykernel_5392\\3397485158.py:5: DeprecationWarning: In a future version, `df.iloc[:, i] = newvals` will attempt to set the values inplace instead of always setting a new array. To retain the old behavior, use either `df[df.columns[i]] = newvals` or, if columns are non-unique, `df.isetitem(i, newvals)`\n",
      "  tmp.loc[:,'order_accept_date']=pd.to_datetime(tmp['order_accept_date'])\n"
     ]
    },
    {
     "name": "stdout",
     "output_type": "stream",
     "text": [
      "31    大井店\n",
      "Name: store_name, dtype: object\n"
     ]
    },
    {
     "name": "stderr",
     "output_type": "stream",
     "text": [
      "C:\\Users\\yoshikoshi\\AppData\\Local\\Temp\\ipykernel_5392\\3397485158.py:5: DeprecationWarning: In a future version, `df.iloc[:, i] = newvals` will attempt to set the values inplace instead of always setting a new array. To retain the old behavior, use either `df[df.columns[i]] = newvals` or, if columns are non-unique, `df.isetitem(i, newvals)`\n",
      "  tmp.loc[:,'order_accept_date']=pd.to_datetime(tmp['order_accept_date'])\n"
     ]
    },
    {
     "name": "stdout",
     "output_type": "stream",
     "text": [
      "32    渋谷店\n",
      "Name: store_name, dtype: object\n"
     ]
    },
    {
     "name": "stderr",
     "output_type": "stream",
     "text": [
      "C:\\Users\\yoshikoshi\\AppData\\Local\\Temp\\ipykernel_5392\\3397485158.py:5: DeprecationWarning: In a future version, `df.iloc[:, i] = newvals` will attempt to set the values inplace instead of always setting a new array. To retain the old behavior, use either `df[df.columns[i]] = newvals` or, if columns are non-unique, `df.isetitem(i, newvals)`\n",
      "  tmp.loc[:,'order_accept_date']=pd.to_datetime(tmp['order_accept_date'])\n"
     ]
    },
    {
     "name": "stdout",
     "output_type": "stream",
     "text": [
      "33    恵比寿店\n",
      "Name: store_name, dtype: object\n"
     ]
    },
    {
     "name": "stderr",
     "output_type": "stream",
     "text": [
      "C:\\Users\\yoshikoshi\\AppData\\Local\\Temp\\ipykernel_5392\\3397485158.py:5: DeprecationWarning: In a future version, `df.iloc[:, i] = newvals` will attempt to set the values inplace instead of always setting a new array. To retain the old behavior, use either `df[df.columns[i]] = newvals` or, if columns are non-unique, `df.isetitem(i, newvals)`\n",
      "  tmp.loc[:,'order_accept_date']=pd.to_datetime(tmp['order_accept_date'])\n"
     ]
    },
    {
     "name": "stdout",
     "output_type": "stream",
     "text": [
      "34    代々木店\n",
      "Name: store_name, dtype: object\n"
     ]
    },
    {
     "name": "stderr",
     "output_type": "stream",
     "text": [
      "C:\\Users\\yoshikoshi\\AppData\\Local\\Temp\\ipykernel_5392\\3397485158.py:5: DeprecationWarning: In a future version, `df.iloc[:, i] = newvals` will attempt to set the values inplace instead of always setting a new array. To retain the old behavior, use either `df[df.columns[i]] = newvals` or, if columns are non-unique, `df.isetitem(i, newvals)`\n",
      "  tmp.loc[:,'order_accept_date']=pd.to_datetime(tmp['order_accept_date'])\n"
     ]
    },
    {
     "name": "stdout",
     "output_type": "stream",
     "text": [
      "35    新宿店\n",
      "Name: store_name, dtype: object\n"
     ]
    },
    {
     "name": "stderr",
     "output_type": "stream",
     "text": [
      "C:\\Users\\yoshikoshi\\AppData\\Local\\Temp\\ipykernel_5392\\3397485158.py:5: DeprecationWarning: In a future version, `df.iloc[:, i] = newvals` will attempt to set the values inplace instead of always setting a new array. To retain the old behavior, use either `df[df.columns[i]] = newvals` or, if columns are non-unique, `df.isetitem(i, newvals)`\n",
      "  tmp.loc[:,'order_accept_date']=pd.to_datetime(tmp['order_accept_date'])\n"
     ]
    },
    {
     "name": "stdout",
     "output_type": "stream",
     "text": [
      "36    大久保店\n",
      "Name: store_name, dtype: object\n"
     ]
    },
    {
     "name": "stderr",
     "output_type": "stream",
     "text": [
      "C:\\Users\\yoshikoshi\\AppData\\Local\\Temp\\ipykernel_5392\\3397485158.py:5: DeprecationWarning: In a future version, `df.iloc[:, i] = newvals` will attempt to set the values inplace instead of always setting a new array. To retain the old behavior, use either `df[df.columns[i]] = newvals` or, if columns are non-unique, `df.isetitem(i, newvals)`\n",
      "  tmp.loc[:,'order_accept_date']=pd.to_datetime(tmp['order_accept_date'])\n"
     ]
    },
    {
     "name": "stdout",
     "output_type": "stream",
     "text": [
      "37    高田馬場店\n",
      "Name: store_name, dtype: object\n"
     ]
    },
    {
     "name": "stderr",
     "output_type": "stream",
     "text": [
      "C:\\Users\\yoshikoshi\\AppData\\Local\\Temp\\ipykernel_5392\\3397485158.py:5: DeprecationWarning: In a future version, `df.iloc[:, i] = newvals` will attempt to set the values inplace instead of always setting a new array. To retain the old behavior, use either `df[df.columns[i]] = newvals` or, if columns are non-unique, `df.isetitem(i, newvals)`\n",
      "  tmp.loc[:,'order_accept_date']=pd.to_datetime(tmp['order_accept_date'])\n"
     ]
    },
    {
     "name": "stdout",
     "output_type": "stream",
     "text": [
      "38    杉並店\n",
      "Name: store_name, dtype: object\n"
     ]
    },
    {
     "name": "stderr",
     "output_type": "stream",
     "text": [
      "C:\\Users\\yoshikoshi\\AppData\\Local\\Temp\\ipykernel_5392\\3397485158.py:5: DeprecationWarning: In a future version, `df.iloc[:, i] = newvals` will attempt to set the values inplace instead of always setting a new array. To retain the old behavior, use either `df[df.columns[i]] = newvals` or, if columns are non-unique, `df.isetitem(i, newvals)`\n",
      "  tmp.loc[:,'order_accept_date']=pd.to_datetime(tmp['order_accept_date'])\n"
     ]
    },
    {
     "name": "stdout",
     "output_type": "stream",
     "text": [
      "39    高円寺店\n",
      "Name: store_name, dtype: object\n"
     ]
    },
    {
     "name": "stderr",
     "output_type": "stream",
     "text": [
      "C:\\Users\\yoshikoshi\\AppData\\Local\\Temp\\ipykernel_5392\\3397485158.py:5: DeprecationWarning: In a future version, `df.iloc[:, i] = newvals` will attempt to set the values inplace instead of always setting a new array. To retain the old behavior, use either `df[df.columns[i]] = newvals` or, if columns are non-unique, `df.isetitem(i, newvals)`\n",
      "  tmp.loc[:,'order_accept_date']=pd.to_datetime(tmp['order_accept_date'])\n"
     ]
    },
    {
     "name": "stdout",
     "output_type": "stream",
     "text": [
      "40    荻窪店\n",
      "Name: store_name, dtype: object\n"
     ]
    },
    {
     "name": "stderr",
     "output_type": "stream",
     "text": [
      "C:\\Users\\yoshikoshi\\AppData\\Local\\Temp\\ipykernel_5392\\3397485158.py:5: DeprecationWarning: In a future version, `df.iloc[:, i] = newvals` will attempt to set the values inplace instead of always setting a new array. To retain the old behavior, use either `df[df.columns[i]] = newvals` or, if columns are non-unique, `df.isetitem(i, newvals)`\n",
      "  tmp.loc[:,'order_accept_date']=pd.to_datetime(tmp['order_accept_date'])\n"
     ]
    },
    {
     "name": "stdout",
     "output_type": "stream",
     "text": [
      "41    墨田店\n",
      "Name: store_name, dtype: object\n"
     ]
    },
    {
     "name": "stderr",
     "output_type": "stream",
     "text": [
      "C:\\Users\\yoshikoshi\\AppData\\Local\\Temp\\ipykernel_5392\\3397485158.py:5: DeprecationWarning: In a future version, `df.iloc[:, i] = newvals` will attempt to set the values inplace instead of always setting a new array. To retain the old behavior, use either `df[df.columns[i]] = newvals` or, if columns are non-unique, `df.isetitem(i, newvals)`\n",
      "  tmp.loc[:,'order_accept_date']=pd.to_datetime(tmp['order_accept_date'])\n"
     ]
    },
    {
     "name": "stdout",
     "output_type": "stream",
     "text": [
      "42    向島店\n",
      "Name: store_name, dtype: object\n"
     ]
    },
    {
     "name": "stderr",
     "output_type": "stream",
     "text": [
      "C:\\Users\\yoshikoshi\\AppData\\Local\\Temp\\ipykernel_5392\\3397485158.py:5: DeprecationWarning: In a future version, `df.iloc[:, i] = newvals` will attempt to set the values inplace instead of always setting a new array. To retain the old behavior, use either `df[df.columns[i]] = newvals` or, if columns are non-unique, `df.isetitem(i, newvals)`\n",
      "  tmp.loc[:,'order_accept_date']=pd.to_datetime(tmp['order_accept_date'])\n"
     ]
    },
    {
     "name": "stdout",
     "output_type": "stream",
     "text": [
      "43    世田谷店\n",
      "Name: store_name, dtype: object\n"
     ]
    },
    {
     "name": "stderr",
     "output_type": "stream",
     "text": [
      "C:\\Users\\yoshikoshi\\AppData\\Local\\Temp\\ipykernel_5392\\3397485158.py:5: DeprecationWarning: In a future version, `df.iloc[:, i] = newvals` will attempt to set the values inplace instead of always setting a new array. To retain the old behavior, use either `df[df.columns[i]] = newvals` or, if columns are non-unique, `df.isetitem(i, newvals)`\n",
      "  tmp.loc[:,'order_accept_date']=pd.to_datetime(tmp['order_accept_date'])\n"
     ]
    },
    {
     "name": "stdout",
     "output_type": "stream",
     "text": [
      "44    池尻店\n",
      "Name: store_name, dtype: object\n"
     ]
    },
    {
     "name": "stderr",
     "output_type": "stream",
     "text": [
      "C:\\Users\\yoshikoshi\\AppData\\Local\\Temp\\ipykernel_5392\\3397485158.py:5: DeprecationWarning: In a future version, `df.iloc[:, i] = newvals` will attempt to set the values inplace instead of always setting a new array. To retain the old behavior, use either `df[df.columns[i]] = newvals` or, if columns are non-unique, `df.isetitem(i, newvals)`\n",
      "  tmp.loc[:,'order_accept_date']=pd.to_datetime(tmp['order_accept_date'])\n"
     ]
    },
    {
     "name": "stdout",
     "output_type": "stream",
     "text": [
      "45    駒沢店\n",
      "Name: store_name, dtype: object\n"
     ]
    },
    {
     "name": "stderr",
     "output_type": "stream",
     "text": [
      "C:\\Users\\yoshikoshi\\AppData\\Local\\Temp\\ipykernel_5392\\3397485158.py:5: DeprecationWarning: In a future version, `df.iloc[:, i] = newvals` will attempt to set the values inplace instead of always setting a new array. To retain the old behavior, use either `df[df.columns[i]] = newvals` or, if columns are non-unique, `df.isetitem(i, newvals)`\n",
      "  tmp.loc[:,'order_accept_date']=pd.to_datetime(tmp['order_accept_date'])\n"
     ]
    },
    {
     "name": "stdout",
     "output_type": "stream",
     "text": [
      "46    成城店\n",
      "Name: store_name, dtype: object\n"
     ]
    },
    {
     "name": "stderr",
     "output_type": "stream",
     "text": [
      "C:\\Users\\yoshikoshi\\AppData\\Local\\Temp\\ipykernel_5392\\3397485158.py:5: DeprecationWarning: In a future version, `df.iloc[:, i] = newvals` will attempt to set the values inplace instead of always setting a new array. To retain the old behavior, use either `df[df.columns[i]] = newvals` or, if columns are non-unique, `df.isetitem(i, newvals)`\n",
      "  tmp.loc[:,'order_accept_date']=pd.to_datetime(tmp['order_accept_date'])\n"
     ]
    },
    {
     "name": "stdout",
     "output_type": "stream",
     "text": [
      "47    上野店\n",
      "Name: store_name, dtype: object\n"
     ]
    },
    {
     "name": "stderr",
     "output_type": "stream",
     "text": [
      "C:\\Users\\yoshikoshi\\AppData\\Local\\Temp\\ipykernel_5392\\3397485158.py:5: DeprecationWarning: In a future version, `df.iloc[:, i] = newvals` will attempt to set the values inplace instead of always setting a new array. To retain the old behavior, use either `df[df.columns[i]] = newvals` or, if columns are non-unique, `df.isetitem(i, newvals)`\n",
      "  tmp.loc[:,'order_accept_date']=pd.to_datetime(tmp['order_accept_date'])\n"
     ]
    },
    {
     "name": "stdout",
     "output_type": "stream",
     "text": [
      "48    浅草店\n",
      "Name: store_name, dtype: object\n"
     ]
    },
    {
     "name": "stderr",
     "output_type": "stream",
     "text": [
      "C:\\Users\\yoshikoshi\\AppData\\Local\\Temp\\ipykernel_5392\\3397485158.py:5: DeprecationWarning: In a future version, `df.iloc[:, i] = newvals` will attempt to set the values inplace instead of always setting a new array. To retain the old behavior, use either `df[df.columns[i]] = newvals` or, if columns are non-unique, `df.isetitem(i, newvals)`\n",
      "  tmp.loc[:,'order_accept_date']=pd.to_datetime(tmp['order_accept_date'])\n"
     ]
    },
    {
     "name": "stdout",
     "output_type": "stream",
     "text": [
      "49    谷中店\n",
      "Name: store_name, dtype: object\n"
     ]
    },
    {
     "name": "stderr",
     "output_type": "stream",
     "text": [
      "C:\\Users\\yoshikoshi\\AppData\\Local\\Temp\\ipykernel_5392\\3397485158.py:5: DeprecationWarning: In a future version, `df.iloc[:, i] = newvals` will attempt to set the values inplace instead of always setting a new array. To retain the old behavior, use either `df[df.columns[i]] = newvals` or, if columns are non-unique, `df.isetitem(i, newvals)`\n",
      "  tmp.loc[:,'order_accept_date']=pd.to_datetime(tmp['order_accept_date'])\n"
     ]
    },
    {
     "name": "stdout",
     "output_type": "stream",
     "text": [
      "50    立川店\n",
      "Name: store_name, dtype: object\n"
     ]
    },
    {
     "name": "stderr",
     "output_type": "stream",
     "text": [
      "C:\\Users\\yoshikoshi\\AppData\\Local\\Temp\\ipykernel_5392\\3397485158.py:5: DeprecationWarning: In a future version, `df.iloc[:, i] = newvals` will attempt to set the values inplace instead of always setting a new array. To retain the old behavior, use either `df[df.columns[i]] = newvals` or, if columns are non-unique, `df.isetitem(i, newvals)`\n",
      "  tmp.loc[:,'order_accept_date']=pd.to_datetime(tmp['order_accept_date'])\n"
     ]
    },
    {
     "name": "stdout",
     "output_type": "stream",
     "text": [
      "51    多摩店\n",
      "Name: store_name, dtype: object\n"
     ]
    },
    {
     "name": "stderr",
     "output_type": "stream",
     "text": [
      "C:\\Users\\yoshikoshi\\AppData\\Local\\Temp\\ipykernel_5392\\3397485158.py:5: DeprecationWarning: In a future version, `df.iloc[:, i] = newvals` will attempt to set the values inplace instead of always setting a new array. To retain the old behavior, use either `df[df.columns[i]] = newvals` or, if columns are non-unique, `df.isetitem(i, newvals)`\n",
      "  tmp.loc[:,'order_accept_date']=pd.to_datetime(tmp['order_accept_date'])\n"
     ]
    },
    {
     "name": "stdout",
     "output_type": "stream",
     "text": [
      "52    銀座店\n",
      "Name: store_name, dtype: object\n"
     ]
    },
    {
     "name": "stderr",
     "output_type": "stream",
     "text": [
      "C:\\Users\\yoshikoshi\\AppData\\Local\\Temp\\ipykernel_5392\\3397485158.py:5: DeprecationWarning: In a future version, `df.iloc[:, i] = newvals` will attempt to set the values inplace instead of always setting a new array. To retain the old behavior, use either `df[df.columns[i]] = newvals` or, if columns are non-unique, `df.isetitem(i, newvals)`\n",
      "  tmp.loc[:,'order_accept_date']=pd.to_datetime(tmp['order_accept_date'])\n"
     ]
    },
    {
     "name": "stdout",
     "output_type": "stream",
     "text": [
      "53    日本橋店\n",
      "Name: store_name, dtype: object\n"
     ]
    },
    {
     "name": "stderr",
     "output_type": "stream",
     "text": [
      "C:\\Users\\yoshikoshi\\AppData\\Local\\Temp\\ipykernel_5392\\3397485158.py:5: DeprecationWarning: In a future version, `df.iloc[:, i] = newvals` will attempt to set the values inplace instead of always setting a new array. To retain the old behavior, use either `df[df.columns[i]] = newvals` or, if columns are non-unique, `df.isetitem(i, newvals)`\n",
      "  tmp.loc[:,'order_accept_date']=pd.to_datetime(tmp['order_accept_date'])\n"
     ]
    },
    {
     "name": "stdout",
     "output_type": "stream",
     "text": [
      "54    調布店\n",
      "Name: store_name, dtype: object\n"
     ]
    },
    {
     "name": "stderr",
     "output_type": "stream",
     "text": [
      "C:\\Users\\yoshikoshi\\AppData\\Local\\Temp\\ipykernel_5392\\3397485158.py:5: DeprecationWarning: In a future version, `df.iloc[:, i] = newvals` will attempt to set the values inplace instead of always setting a new array. To retain the old behavior, use either `df[df.columns[i]] = newvals` or, if columns are non-unique, `df.isetitem(i, newvals)`\n",
      "  tmp.loc[:,'order_accept_date']=pd.to_datetime(tmp['order_accept_date'])\n"
     ]
    },
    {
     "name": "stdout",
     "output_type": "stream",
     "text": [
      "55    神田店\n",
      "Name: store_name, dtype: object\n"
     ]
    },
    {
     "name": "stderr",
     "output_type": "stream",
     "text": [
      "C:\\Users\\yoshikoshi\\AppData\\Local\\Temp\\ipykernel_5392\\3397485158.py:5: DeprecationWarning: In a future version, `df.iloc[:, i] = newvals` will attempt to set the values inplace instead of always setting a new array. To retain the old behavior, use either `df[df.columns[i]] = newvals` or, if columns are non-unique, `df.isetitem(i, newvals)`\n",
      "  tmp.loc[:,'order_accept_date']=pd.to_datetime(tmp['order_accept_date'])\n"
     ]
    },
    {
     "name": "stdout",
     "output_type": "stream",
     "text": [
      "56    九段店\n",
      "Name: store_name, dtype: object\n"
     ]
    },
    {
     "name": "stderr",
     "output_type": "stream",
     "text": [
      "C:\\Users\\yoshikoshi\\AppData\\Local\\Temp\\ipykernel_5392\\3397485158.py:5: DeprecationWarning: In a future version, `df.iloc[:, i] = newvals` will attempt to set the values inplace instead of always setting a new array. To retain the old behavior, use either `df[df.columns[i]] = newvals` or, if columns are non-unique, `df.isetitem(i, newvals)`\n",
      "  tmp.loc[:,'order_accept_date']=pd.to_datetime(tmp['order_accept_date'])\n"
     ]
    },
    {
     "name": "stdout",
     "output_type": "stream",
     "text": [
      "57    池袋店\n",
      "Name: store_name, dtype: object\n"
     ]
    },
    {
     "name": "stderr",
     "output_type": "stream",
     "text": [
      "C:\\Users\\yoshikoshi\\AppData\\Local\\Temp\\ipykernel_5392\\3397485158.py:5: DeprecationWarning: In a future version, `df.iloc[:, i] = newvals` will attempt to set the values inplace instead of always setting a new array. To retain the old behavior, use either `df[df.columns[i]] = newvals` or, if columns are non-unique, `df.isetitem(i, newvals)`\n",
      "  tmp.loc[:,'order_accept_date']=pd.to_datetime(tmp['order_accept_date'])\n"
     ]
    },
    {
     "name": "stdout",
     "output_type": "stream",
     "text": [
      "58    巣鴨店\n",
      "Name: store_name, dtype: object\n"
     ]
    },
    {
     "name": "stderr",
     "output_type": "stream",
     "text": [
      "C:\\Users\\yoshikoshi\\AppData\\Local\\Temp\\ipykernel_5392\\3397485158.py:5: DeprecationWarning: In a future version, `df.iloc[:, i] = newvals` will attempt to set the values inplace instead of always setting a new array. To retain the old behavior, use either `df[df.columns[i]] = newvals` or, if columns are non-unique, `df.isetitem(i, newvals)`\n",
      "  tmp.loc[:,'order_accept_date']=pd.to_datetime(tmp['order_accept_date'])\n"
     ]
    },
    {
     "name": "stdout",
     "output_type": "stream",
     "text": [
      "59    駒込店\n",
      "Name: store_name, dtype: object\n"
     ]
    },
    {
     "name": "stderr",
     "output_type": "stream",
     "text": [
      "C:\\Users\\yoshikoshi\\AppData\\Local\\Temp\\ipykernel_5392\\3397485158.py:5: DeprecationWarning: In a future version, `df.iloc[:, i] = newvals` will attempt to set the values inplace instead of always setting a new array. To retain the old behavior, use either `df[df.columns[i]] = newvals` or, if columns are non-unique, `df.isetitem(i, newvals)`\n",
      "  tmp.loc[:,'order_accept_date']=pd.to_datetime(tmp['order_accept_date'])\n"
     ]
    },
    {
     "name": "stdout",
     "output_type": "stream",
     "text": [
      "60    中野店\n",
      "Name: store_name, dtype: object\n"
     ]
    },
    {
     "name": "stderr",
     "output_type": "stream",
     "text": [
      "C:\\Users\\yoshikoshi\\AppData\\Local\\Temp\\ipykernel_5392\\3397485158.py:5: DeprecationWarning: In a future version, `df.iloc[:, i] = newvals` will attempt to set the values inplace instead of always setting a new array. To retain the old behavior, use either `df[df.columns[i]] = newvals` or, if columns are non-unique, `df.isetitem(i, newvals)`\n",
      "  tmp.loc[:,'order_accept_date']=pd.to_datetime(tmp['order_accept_date'])\n"
     ]
    },
    {
     "name": "stdout",
     "output_type": "stream",
     "text": [
      "61    東中野店\n",
      "Name: store_name, dtype: object\n"
     ]
    },
    {
     "name": "stderr",
     "output_type": "stream",
     "text": [
      "C:\\Users\\yoshikoshi\\AppData\\Local\\Temp\\ipykernel_5392\\3397485158.py:5: DeprecationWarning: In a future version, `df.iloc[:, i] = newvals` will attempt to set the values inplace instead of always setting a new array. To retain the old behavior, use either `df[df.columns[i]] = newvals` or, if columns are non-unique, `df.isetitem(i, newvals)`\n",
      "  tmp.loc[:,'order_accept_date']=pd.to_datetime(tmp['order_accept_date'])\n"
     ]
    },
    {
     "name": "stdout",
     "output_type": "stream",
     "text": [
      "62    西多摩店\n",
      "Name: store_name, dtype: object\n"
     ]
    },
    {
     "name": "stderr",
     "output_type": "stream",
     "text": [
      "C:\\Users\\yoshikoshi\\AppData\\Local\\Temp\\ipykernel_5392\\3397485158.py:5: DeprecationWarning: In a future version, `df.iloc[:, i] = newvals` will attempt to set the values inplace instead of always setting a new array. To retain the old behavior, use either `df[df.columns[i]] = newvals` or, if columns are non-unique, `df.isetitem(i, newvals)`\n",
      "  tmp.loc[:,'order_accept_date']=pd.to_datetime(tmp['order_accept_date'])\n"
     ]
    },
    {
     "name": "stdout",
     "output_type": "stream",
     "text": [
      "63    西東京店\n",
      "Name: store_name, dtype: object\n"
     ]
    },
    {
     "name": "stderr",
     "output_type": "stream",
     "text": [
      "C:\\Users\\yoshikoshi\\AppData\\Local\\Temp\\ipykernel_5392\\3397485158.py:5: DeprecationWarning: In a future version, `df.iloc[:, i] = newvals` will attempt to set the values inplace instead of always setting a new array. To retain the old behavior, use either `df[df.columns[i]] = newvals` or, if columns are non-unique, `df.isetitem(i, newvals)`\n",
      "  tmp.loc[:,'order_accept_date']=pd.to_datetime(tmp['order_accept_date'])\n"
     ]
    },
    {
     "name": "stdout",
     "output_type": "stream",
     "text": [
      "64    練馬店\n",
      "Name: store_name, dtype: object\n"
     ]
    },
    {
     "name": "stderr",
     "output_type": "stream",
     "text": [
      "C:\\Users\\yoshikoshi\\AppData\\Local\\Temp\\ipykernel_5392\\3397485158.py:5: DeprecationWarning: In a future version, `df.iloc[:, i] = newvals` will attempt to set the values inplace instead of always setting a new array. To retain the old behavior, use either `df[df.columns[i]] = newvals` or, if columns are non-unique, `df.isetitem(i, newvals)`\n",
      "  tmp.loc[:,'order_accept_date']=pd.to_datetime(tmp['order_accept_date'])\n"
     ]
    },
    {
     "name": "stdout",
     "output_type": "stream",
     "text": [
      "65    石神井店\n",
      "Name: store_name, dtype: object\n"
     ]
    },
    {
     "name": "stderr",
     "output_type": "stream",
     "text": [
      "C:\\Users\\yoshikoshi\\AppData\\Local\\Temp\\ipykernel_5392\\3397485158.py:5: DeprecationWarning: In a future version, `df.iloc[:, i] = newvals` will attempt to set the values inplace instead of always setting a new array. To retain the old behavior, use either `df[df.columns[i]] = newvals` or, if columns are non-unique, `df.isetitem(i, newvals)`\n",
      "  tmp.loc[:,'order_accept_date']=pd.to_datetime(tmp['order_accept_date'])\n"
     ]
    },
    {
     "name": "stdout",
     "output_type": "stream",
     "text": [
      "66    大泉店\n",
      "Name: store_name, dtype: object\n"
     ]
    },
    {
     "name": "stderr",
     "output_type": "stream",
     "text": [
      "C:\\Users\\yoshikoshi\\AppData\\Local\\Temp\\ipykernel_5392\\3397485158.py:5: DeprecationWarning: In a future version, `df.iloc[:, i] = newvals` will attempt to set the values inplace instead of always setting a new array. To retain the old behavior, use either `df[df.columns[i]] = newvals` or, if columns are non-unique, `df.isetitem(i, newvals)`\n",
      "  tmp.loc[:,'order_accept_date']=pd.to_datetime(tmp['order_accept_date'])\n"
     ]
    },
    {
     "name": "stdout",
     "output_type": "stream",
     "text": [
      "67    八王子店\n",
      "Name: store_name, dtype: object\n"
     ]
    },
    {
     "name": "stderr",
     "output_type": "stream",
     "text": [
      "C:\\Users\\yoshikoshi\\AppData\\Local\\Temp\\ipykernel_5392\\3397485158.py:5: DeprecationWarning: In a future version, `df.iloc[:, i] = newvals` will attempt to set the values inplace instead of always setting a new array. To retain the old behavior, use either `df[df.columns[i]] = newvals` or, if columns are non-unique, `df.isetitem(i, newvals)`\n",
      "  tmp.loc[:,'order_accept_date']=pd.to_datetime(tmp['order_accept_date'])\n"
     ]
    },
    {
     "name": "stdout",
     "output_type": "stream",
     "text": [
      "68    羽村店\n",
      "Name: store_name, dtype: object\n"
     ]
    },
    {
     "name": "stderr",
     "output_type": "stream",
     "text": [
      "C:\\Users\\yoshikoshi\\AppData\\Local\\Temp\\ipykernel_5392\\3397485158.py:5: DeprecationWarning: In a future version, `df.iloc[:, i] = newvals` will attempt to set the values inplace instead of always setting a new array. To retain the old behavior, use either `df[df.columns[i]] = newvals` or, if columns are non-unique, `df.isetitem(i, newvals)`\n",
      "  tmp.loc[:,'order_accept_date']=pd.to_datetime(tmp['order_accept_date'])\n"
     ]
    },
    {
     "name": "stdout",
     "output_type": "stream",
     "text": [
      "69    東久留米店\n",
      "Name: store_name, dtype: object\n"
     ]
    },
    {
     "name": "stderr",
     "output_type": "stream",
     "text": [
      "C:\\Users\\yoshikoshi\\AppData\\Local\\Temp\\ipykernel_5392\\3397485158.py:5: DeprecationWarning: In a future version, `df.iloc[:, i] = newvals` will attempt to set the values inplace instead of always setting a new array. To retain the old behavior, use either `df[df.columns[i]] = newvals` or, if columns are non-unique, `df.isetitem(i, newvals)`\n",
      "  tmp.loc[:,'order_accept_date']=pd.to_datetime(tmp['order_accept_date'])\n"
     ]
    },
    {
     "name": "stdout",
     "output_type": "stream",
     "text": [
      "70    東村山店\n",
      "Name: store_name, dtype: object\n"
     ]
    },
    {
     "name": "stderr",
     "output_type": "stream",
     "text": [
      "C:\\Users\\yoshikoshi\\AppData\\Local\\Temp\\ipykernel_5392\\3397485158.py:5: DeprecationWarning: In a future version, `df.iloc[:, i] = newvals` will attempt to set the values inplace instead of always setting a new array. To retain the old behavior, use either `df[df.columns[i]] = newvals` or, if columns are non-unique, `df.isetitem(i, newvals)`\n",
      "  tmp.loc[:,'order_accept_date']=pd.to_datetime(tmp['order_accept_date'])\n"
     ]
    },
    {
     "name": "stdout",
     "output_type": "stream",
     "text": [
      "71    東大和店\n",
      "Name: store_name, dtype: object\n"
     ]
    },
    {
     "name": "stderr",
     "output_type": "stream",
     "text": [
      "C:\\Users\\yoshikoshi\\AppData\\Local\\Temp\\ipykernel_5392\\3397485158.py:5: DeprecationWarning: In a future version, `df.iloc[:, i] = newvals` will attempt to set the values inplace instead of always setting a new array. To retain the old behavior, use either `df[df.columns[i]] = newvals` or, if columns are non-unique, `df.isetitem(i, newvals)`\n",
      "  tmp.loc[:,'order_accept_date']=pd.to_datetime(tmp['order_accept_date'])\n"
     ]
    },
    {
     "name": "stdout",
     "output_type": "stream",
     "text": [
      "72    日野店\n",
      "Name: store_name, dtype: object\n"
     ]
    },
    {
     "name": "stderr",
     "output_type": "stream",
     "text": [
      "C:\\Users\\yoshikoshi\\AppData\\Local\\Temp\\ipykernel_5392\\3397485158.py:5: DeprecationWarning: In a future version, `df.iloc[:, i] = newvals` will attempt to set the values inplace instead of always setting a new array. To retain the old behavior, use either `df[df.columns[i]] = newvals` or, if columns are non-unique, `df.isetitem(i, newvals)`\n",
      "  tmp.loc[:,'order_accept_date']=pd.to_datetime(tmp['order_accept_date'])\n"
     ]
    },
    {
     "name": "stdout",
     "output_type": "stream",
     "text": [
      "73    府中店\n",
      "Name: store_name, dtype: object\n"
     ]
    },
    {
     "name": "stderr",
     "output_type": "stream",
     "text": [
      "C:\\Users\\yoshikoshi\\AppData\\Local\\Temp\\ipykernel_5392\\3397485158.py:5: DeprecationWarning: In a future version, `df.iloc[:, i] = newvals` will attempt to set the values inplace instead of always setting a new array. To retain the old behavior, use either `df[df.columns[i]] = newvals` or, if columns are non-unique, `df.isetitem(i, newvals)`\n",
      "  tmp.loc[:,'order_accept_date']=pd.to_datetime(tmp['order_accept_date'])\n"
     ]
    },
    {
     "name": "stdout",
     "output_type": "stream",
     "text": [
      "74    福生店\n",
      "Name: store_name, dtype: object\n"
     ]
    },
    {
     "name": "stderr",
     "output_type": "stream",
     "text": [
      "C:\\Users\\yoshikoshi\\AppData\\Local\\Temp\\ipykernel_5392\\3397485158.py:5: DeprecationWarning: In a future version, `df.iloc[:, i] = newvals` will attempt to set the values inplace instead of always setting a new array. To retain the old behavior, use either `df[df.columns[i]] = newvals` or, if columns are non-unique, `df.isetitem(i, newvals)`\n",
      "  tmp.loc[:,'order_accept_date']=pd.to_datetime(tmp['order_accept_date'])\n"
     ]
    },
    {
     "name": "stdout",
     "output_type": "stream",
     "text": [
      "75    本郷店\n",
      "Name: store_name, dtype: object\n"
     ]
    },
    {
     "name": "stderr",
     "output_type": "stream",
     "text": [
      "C:\\Users\\yoshikoshi\\AppData\\Local\\Temp\\ipykernel_5392\\3397485158.py:5: DeprecationWarning: In a future version, `df.iloc[:, i] = newvals` will attempt to set the values inplace instead of always setting a new array. To retain the old behavior, use either `df[df.columns[i]] = newvals` or, if columns are non-unique, `df.isetitem(i, newvals)`\n",
      "  tmp.loc[:,'order_accept_date']=pd.to_datetime(tmp['order_accept_date'])\n"
     ]
    },
    {
     "name": "stdout",
     "output_type": "stream",
     "text": [
      "76    大塚店\n",
      "Name: store_name, dtype: object\n"
     ]
    },
    {
     "name": "stderr",
     "output_type": "stream",
     "text": [
      "C:\\Users\\yoshikoshi\\AppData\\Local\\Temp\\ipykernel_5392\\3397485158.py:5: DeprecationWarning: In a future version, `df.iloc[:, i] = newvals` will attempt to set the values inplace instead of always setting a new array. To retain the old behavior, use either `df[df.columns[i]] = newvals` or, if columns are non-unique, `df.isetitem(i, newvals)`\n",
      "  tmp.loc[:,'order_accept_date']=pd.to_datetime(tmp['order_accept_date'])\n"
     ]
    },
    {
     "name": "stdout",
     "output_type": "stream",
     "text": [
      "77    町田店\n",
      "Name: store_name, dtype: object\n"
     ]
    },
    {
     "name": "stderr",
     "output_type": "stream",
     "text": [
      "C:\\Users\\yoshikoshi\\AppData\\Local\\Temp\\ipykernel_5392\\3397485158.py:5: DeprecationWarning: In a future version, `df.iloc[:, i] = newvals` will attempt to set the values inplace instead of always setting a new array. To retain the old behavior, use either `df[df.columns[i]] = newvals` or, if columns are non-unique, `df.isetitem(i, newvals)`\n",
      "  tmp.loc[:,'order_accept_date']=pd.to_datetime(tmp['order_accept_date'])\n"
     ]
    },
    {
     "name": "stdout",
     "output_type": "stream",
     "text": [
      "78    三鷹店\n",
      "Name: store_name, dtype: object\n"
     ]
    },
    {
     "name": "stderr",
     "output_type": "stream",
     "text": [
      "C:\\Users\\yoshikoshi\\AppData\\Local\\Temp\\ipykernel_5392\\3397485158.py:5: DeprecationWarning: In a future version, `df.iloc[:, i] = newvals` will attempt to set the values inplace instead of always setting a new array. To retain the old behavior, use either `df[df.columns[i]] = newvals` or, if columns are non-unique, `df.isetitem(i, newvals)`\n",
      "  tmp.loc[:,'order_accept_date']=pd.to_datetime(tmp['order_accept_date'])\n"
     ]
    },
    {
     "name": "stdout",
     "output_type": "stream",
     "text": [
      "79    赤坂店\n",
      "Name: store_name, dtype: object\n"
     ]
    },
    {
     "name": "stderr",
     "output_type": "stream",
     "text": [
      "C:\\Users\\yoshikoshi\\AppData\\Local\\Temp\\ipykernel_5392\\3397485158.py:5: DeprecationWarning: In a future version, `df.iloc[:, i] = newvals` will attempt to set the values inplace instead of always setting a new array. To retain the old behavior, use either `df[df.columns[i]] = newvals` or, if columns are non-unique, `df.isetitem(i, newvals)`\n",
      "  tmp.loc[:,'order_accept_date']=pd.to_datetime(tmp['order_accept_date'])\n"
     ]
    },
    {
     "name": "stdout",
     "output_type": "stream",
     "text": [
      "80    青山店\n",
      "Name: store_name, dtype: object\n"
     ]
    },
    {
     "name": "stderr",
     "output_type": "stream",
     "text": [
      "C:\\Users\\yoshikoshi\\AppData\\Local\\Temp\\ipykernel_5392\\3397485158.py:5: DeprecationWarning: In a future version, `df.iloc[:, i] = newvals` will attempt to set the values inplace instead of always setting a new array. To retain the old behavior, use either `df[df.columns[i]] = newvals` or, if columns are non-unique, `df.isetitem(i, newvals)`\n",
      "  tmp.loc[:,'order_accept_date']=pd.to_datetime(tmp['order_accept_date'])\n"
     ]
    },
    {
     "name": "stdout",
     "output_type": "stream",
     "text": [
      "81    六本木店\n",
      "Name: store_name, dtype: object\n"
     ]
    },
    {
     "name": "stderr",
     "output_type": "stream",
     "text": [
      "C:\\Users\\yoshikoshi\\AppData\\Local\\Temp\\ipykernel_5392\\3397485158.py:5: DeprecationWarning: In a future version, `df.iloc[:, i] = newvals` will attempt to set the values inplace instead of always setting a new array. To retain the old behavior, use either `df[df.columns[i]] = newvals` or, if columns are non-unique, `df.isetitem(i, newvals)`\n",
      "  tmp.loc[:,'order_accept_date']=pd.to_datetime(tmp['order_accept_date'])\n"
     ]
    },
    {
     "name": "stdout",
     "output_type": "stream",
     "text": [
      "82    武蔵野店\n",
      "Name: store_name, dtype: object\n"
     ]
    },
    {
     "name": "stderr",
     "output_type": "stream",
     "text": [
      "C:\\Users\\yoshikoshi\\AppData\\Local\\Temp\\ipykernel_5392\\3397485158.py:5: DeprecationWarning: In a future version, `df.iloc[:, i] = newvals` will attempt to set the values inplace instead of always setting a new array. To retain the old behavior, use either `df[df.columns[i]] = newvals` or, if columns are non-unique, `df.isetitem(i, newvals)`\n",
      "  tmp.loc[:,'order_accept_date']=pd.to_datetime(tmp['order_accept_date'])\n"
     ]
    },
    {
     "name": "stdout",
     "output_type": "stream",
     "text": [
      "83    武蔵村山店\n",
      "Name: store_name, dtype: object\n"
     ]
    },
    {
     "name": "stderr",
     "output_type": "stream",
     "text": [
      "C:\\Users\\yoshikoshi\\AppData\\Local\\Temp\\ipykernel_5392\\3397485158.py:5: DeprecationWarning: In a future version, `df.iloc[:, i] = newvals` will attempt to set the values inplace instead of always setting a new array. To retain the old behavior, use either `df[df.columns[i]] = newvals` or, if columns are non-unique, `df.isetitem(i, newvals)`\n",
      "  tmp.loc[:,'order_accept_date']=pd.to_datetime(tmp['order_accept_date'])\n"
     ]
    },
    {
     "name": "stdout",
     "output_type": "stream",
     "text": [
      "84    目黒店\n",
      "Name: store_name, dtype: object\n"
     ]
    },
    {
     "name": "stderr",
     "output_type": "stream",
     "text": [
      "C:\\Users\\yoshikoshi\\AppData\\Local\\Temp\\ipykernel_5392\\3397485158.py:5: DeprecationWarning: In a future version, `df.iloc[:, i] = newvals` will attempt to set the values inplace instead of always setting a new array. To retain the old behavior, use either `df[df.columns[i]] = newvals` or, if columns are non-unique, `df.isetitem(i, newvals)`\n",
      "  tmp.loc[:,'order_accept_date']=pd.to_datetime(tmp['order_accept_date'])\n"
     ]
    },
    {
     "name": "stdout",
     "output_type": "stream",
     "text": [
      "85    自由が丘店\n",
      "Name: store_name, dtype: object\n"
     ]
    },
    {
     "name": "stderr",
     "output_type": "stream",
     "text": [
      "C:\\Users\\yoshikoshi\\AppData\\Local\\Temp\\ipykernel_5392\\3397485158.py:5: DeprecationWarning: In a future version, `df.iloc[:, i] = newvals` will attempt to set the values inplace instead of always setting a new array. To retain the old behavior, use either `df[df.columns[i]] = newvals` or, if columns are non-unique, `df.isetitem(i, newvals)`\n",
      "  tmp.loc[:,'order_accept_date']=pd.to_datetime(tmp['order_accept_date'])\n"
     ]
    },
    {
     "name": "stdout",
     "output_type": "stream",
     "text": [
      "86    愛甲店\n",
      "Name: store_name, dtype: object\n"
     ]
    },
    {
     "name": "stderr",
     "output_type": "stream",
     "text": [
      "C:\\Users\\yoshikoshi\\AppData\\Local\\Temp\\ipykernel_5392\\3397485158.py:5: DeprecationWarning: In a future version, `df.iloc[:, i] = newvals` will attempt to set the values inplace instead of always setting a new array. To retain the old behavior, use either `df[df.columns[i]] = newvals` or, if columns are non-unique, `df.isetitem(i, newvals)`\n",
      "  tmp.loc[:,'order_accept_date']=pd.to_datetime(tmp['order_accept_date'])\n"
     ]
    },
    {
     "name": "stdout",
     "output_type": "stream",
     "text": [
      "87    足柄上店\n",
      "Name: store_name, dtype: object\n"
     ]
    },
    {
     "name": "stderr",
     "output_type": "stream",
     "text": [
      "C:\\Users\\yoshikoshi\\AppData\\Local\\Temp\\ipykernel_5392\\3397485158.py:5: DeprecationWarning: In a future version, `df.iloc[:, i] = newvals` will attempt to set the values inplace instead of always setting a new array. To retain the old behavior, use either `df[df.columns[i]] = newvals` or, if columns are non-unique, `df.isetitem(i, newvals)`\n",
      "  tmp.loc[:,'order_accept_date']=pd.to_datetime(tmp['order_accept_date'])\n"
     ]
    },
    {
     "name": "stdout",
     "output_type": "stream",
     "text": [
      "88    厚木店\n",
      "Name: store_name, dtype: object\n"
     ]
    },
    {
     "name": "stderr",
     "output_type": "stream",
     "text": [
      "C:\\Users\\yoshikoshi\\AppData\\Local\\Temp\\ipykernel_5392\\3397485158.py:5: DeprecationWarning: In a future version, `df.iloc[:, i] = newvals` will attempt to set the values inplace instead of always setting a new array. To retain the old behavior, use either `df[df.columns[i]] = newvals` or, if columns are non-unique, `df.isetitem(i, newvals)`\n",
      "  tmp.loc[:,'order_accept_date']=pd.to_datetime(tmp['order_accept_date'])\n"
     ]
    },
    {
     "name": "stdout",
     "output_type": "stream",
     "text": [
      "89    綾瀬店\n",
      "Name: store_name, dtype: object\n"
     ]
    },
    {
     "name": "stderr",
     "output_type": "stream",
     "text": [
      "C:\\Users\\yoshikoshi\\AppData\\Local\\Temp\\ipykernel_5392\\3397485158.py:5: DeprecationWarning: In a future version, `df.iloc[:, i] = newvals` will attempt to set the values inplace instead of always setting a new array. To retain the old behavior, use either `df[df.columns[i]] = newvals` or, if columns are non-unique, `df.isetitem(i, newvals)`\n",
      "  tmp.loc[:,'order_accept_date']=pd.to_datetime(tmp['order_accept_date'])\n"
     ]
    },
    {
     "name": "stdout",
     "output_type": "stream",
     "text": [
      "90    伊勢原店\n",
      "Name: store_name, dtype: object\n"
     ]
    },
    {
     "name": "stderr",
     "output_type": "stream",
     "text": [
      "C:\\Users\\yoshikoshi\\AppData\\Local\\Temp\\ipykernel_5392\\3397485158.py:5: DeprecationWarning: In a future version, `df.iloc[:, i] = newvals` will attempt to set the values inplace instead of always setting a new array. To retain the old behavior, use either `df[df.columns[i]] = newvals` or, if columns are non-unique, `df.isetitem(i, newvals)`\n",
      "  tmp.loc[:,'order_accept_date']=pd.to_datetime(tmp['order_accept_date'])\n"
     ]
    },
    {
     "name": "stdout",
     "output_type": "stream",
     "text": [
      "91    海老名店\n",
      "Name: store_name, dtype: object\n"
     ]
    },
    {
     "name": "stderr",
     "output_type": "stream",
     "text": [
      "C:\\Users\\yoshikoshi\\AppData\\Local\\Temp\\ipykernel_5392\\3397485158.py:5: DeprecationWarning: In a future version, `df.iloc[:, i] = newvals` will attempt to set the values inplace instead of always setting a new array. To retain the old behavior, use either `df[df.columns[i]] = newvals` or, if columns are non-unique, `df.isetitem(i, newvals)`\n",
      "  tmp.loc[:,'order_accept_date']=pd.to_datetime(tmp['order_accept_date'])\n"
     ]
    },
    {
     "name": "stdout",
     "output_type": "stream",
     "text": [
      "92    小田原店\n",
      "Name: store_name, dtype: object\n"
     ]
    },
    {
     "name": "stderr",
     "output_type": "stream",
     "text": [
      "C:\\Users\\yoshikoshi\\AppData\\Local\\Temp\\ipykernel_5392\\3397485158.py:5: DeprecationWarning: In a future version, `df.iloc[:, i] = newvals` will attempt to set the values inplace instead of always setting a new array. To retain the old behavior, use either `df[df.columns[i]] = newvals` or, if columns are non-unique, `df.isetitem(i, newvals)`\n",
      "  tmp.loc[:,'order_accept_date']=pd.to_datetime(tmp['order_accept_date'])\n"
     ]
    },
    {
     "name": "stdout",
     "output_type": "stream",
     "text": [
      "93    鎌倉店\n",
      "Name: store_name, dtype: object\n"
     ]
    },
    {
     "name": "stderr",
     "output_type": "stream",
     "text": [
      "C:\\Users\\yoshikoshi\\AppData\\Local\\Temp\\ipykernel_5392\\3397485158.py:5: DeprecationWarning: In a future version, `df.iloc[:, i] = newvals` will attempt to set the values inplace instead of always setting a new array. To retain the old behavior, use either `df[df.columns[i]] = newvals` or, if columns are non-unique, `df.isetitem(i, newvals)`\n",
      "  tmp.loc[:,'order_accept_date']=pd.to_datetime(tmp['order_accept_date'])\n"
     ]
    },
    {
     "name": "stdout",
     "output_type": "stream",
     "text": [
      "94    麻生店\n",
      "Name: store_name, dtype: object\n"
     ]
    },
    {
     "name": "stderr",
     "output_type": "stream",
     "text": [
      "C:\\Users\\yoshikoshi\\AppData\\Local\\Temp\\ipykernel_5392\\3397485158.py:5: DeprecationWarning: In a future version, `df.iloc[:, i] = newvals` will attempt to set the values inplace instead of always setting a new array. To retain the old behavior, use either `df[df.columns[i]] = newvals` or, if columns are non-unique, `df.isetitem(i, newvals)`\n",
      "  tmp.loc[:,'order_accept_date']=pd.to_datetime(tmp['order_accept_date'])\n"
     ]
    },
    {
     "name": "stdout",
     "output_type": "stream",
     "text": [
      "95    川崎店\n",
      "Name: store_name, dtype: object\n"
     ]
    },
    {
     "name": "stderr",
     "output_type": "stream",
     "text": [
      "C:\\Users\\yoshikoshi\\AppData\\Local\\Temp\\ipykernel_5392\\3397485158.py:5: DeprecationWarning: In a future version, `df.iloc[:, i] = newvals` will attempt to set the values inplace instead of always setting a new array. To retain the old behavior, use either `df[df.columns[i]] = newvals` or, if columns are non-unique, `df.isetitem(i, newvals)`\n",
      "  tmp.loc[:,'order_accept_date']=pd.to_datetime(tmp['order_accept_date'])\n"
     ]
    },
    {
     "name": "stdout",
     "output_type": "stream",
     "text": [
      "96    幸店\n",
      "Name: store_name, dtype: object\n"
     ]
    },
    {
     "name": "stderr",
     "output_type": "stream",
     "text": [
      "C:\\Users\\yoshikoshi\\AppData\\Local\\Temp\\ipykernel_5392\\3397485158.py:5: DeprecationWarning: In a future version, `df.iloc[:, i] = newvals` will attempt to set the values inplace instead of always setting a new array. To retain the old behavior, use either `df[df.columns[i]] = newvals` or, if columns are non-unique, `df.isetitem(i, newvals)`\n",
      "  tmp.loc[:,'order_accept_date']=pd.to_datetime(tmp['order_accept_date'])\n"
     ]
    },
    {
     "name": "stdout",
     "output_type": "stream",
     "text": [
      "97    高津店\n",
      "Name: store_name, dtype: object\n"
     ]
    },
    {
     "name": "stderr",
     "output_type": "stream",
     "text": [
      "C:\\Users\\yoshikoshi\\AppData\\Local\\Temp\\ipykernel_5392\\3397485158.py:5: DeprecationWarning: In a future version, `df.iloc[:, i] = newvals` will attempt to set the values inplace instead of always setting a new array. To retain the old behavior, use either `df[df.columns[i]] = newvals` or, if columns are non-unique, `df.isetitem(i, newvals)`\n",
      "  tmp.loc[:,'order_accept_date']=pd.to_datetime(tmp['order_accept_date'])\n"
     ]
    },
    {
     "name": "stdout",
     "output_type": "stream",
     "text": [
      "98    川崎多摩店\n",
      "Name: store_name, dtype: object\n"
     ]
    },
    {
     "name": "stderr",
     "output_type": "stream",
     "text": [
      "C:\\Users\\yoshikoshi\\AppData\\Local\\Temp\\ipykernel_5392\\3397485158.py:5: DeprecationWarning: In a future version, `df.iloc[:, i] = newvals` will attempt to set the values inplace instead of always setting a new array. To retain the old behavior, use either `df[df.columns[i]] = newvals` or, if columns are non-unique, `df.isetitem(i, newvals)`\n",
      "  tmp.loc[:,'order_accept_date']=pd.to_datetime(tmp['order_accept_date'])\n"
     ]
    },
    {
     "name": "stdout",
     "output_type": "stream",
     "text": [
      "99    中原店\n",
      "Name: store_name, dtype: object\n"
     ]
    },
    {
     "name": "stderr",
     "output_type": "stream",
     "text": [
      "C:\\Users\\yoshikoshi\\AppData\\Local\\Temp\\ipykernel_5392\\3397485158.py:5: DeprecationWarning: In a future version, `df.iloc[:, i] = newvals` will attempt to set the values inplace instead of always setting a new array. To retain the old behavior, use either `df[df.columns[i]] = newvals` or, if columns are non-unique, `df.isetitem(i, newvals)`\n",
      "  tmp.loc[:,'order_accept_date']=pd.to_datetime(tmp['order_accept_date'])\n"
     ]
    },
    {
     "name": "stdout",
     "output_type": "stream",
     "text": [
      "100    宮前店\n",
      "Name: store_name, dtype: object\n"
     ]
    },
    {
     "name": "stderr",
     "output_type": "stream",
     "text": [
      "C:\\Users\\yoshikoshi\\AppData\\Local\\Temp\\ipykernel_5392\\3397485158.py:5: DeprecationWarning: In a future version, `df.iloc[:, i] = newvals` will attempt to set the values inplace instead of always setting a new array. To retain the old behavior, use either `df[df.columns[i]] = newvals` or, if columns are non-unique, `df.isetitem(i, newvals)`\n",
      "  tmp.loc[:,'order_accept_date']=pd.to_datetime(tmp['order_accept_date'])\n"
     ]
    },
    {
     "name": "stdout",
     "output_type": "stream",
     "text": [
      "101    高座店\n",
      "Name: store_name, dtype: object\n"
     ]
    },
    {
     "name": "stderr",
     "output_type": "stream",
     "text": [
      "C:\\Users\\yoshikoshi\\AppData\\Local\\Temp\\ipykernel_5392\\3397485158.py:5: DeprecationWarning: In a future version, `df.iloc[:, i] = newvals` will attempt to set the values inplace instead of always setting a new array. To retain the old behavior, use either `df[df.columns[i]] = newvals` or, if columns are non-unique, `df.isetitem(i, newvals)`\n",
      "  tmp.loc[:,'order_accept_date']=pd.to_datetime(tmp['order_accept_date'])\n"
     ]
    },
    {
     "name": "stdout",
     "output_type": "stream",
     "text": [
      "102    相模原店\n",
      "Name: store_name, dtype: object\n"
     ]
    },
    {
     "name": "stderr",
     "output_type": "stream",
     "text": [
      "C:\\Users\\yoshikoshi\\AppData\\Local\\Temp\\ipykernel_5392\\3397485158.py:5: DeprecationWarning: In a future version, `df.iloc[:, i] = newvals` will attempt to set the values inplace instead of always setting a new array. To retain the old behavior, use either `df[df.columns[i]] = newvals` or, if columns are non-unique, `df.isetitem(i, newvals)`\n",
      "  tmp.loc[:,'order_accept_date']=pd.to_datetime(tmp['order_accept_date'])\n"
     ]
    },
    {
     "name": "stdout",
     "output_type": "stream",
     "text": [
      "103    座間店\n",
      "Name: store_name, dtype: object\n"
     ]
    },
    {
     "name": "stderr",
     "output_type": "stream",
     "text": [
      "C:\\Users\\yoshikoshi\\AppData\\Local\\Temp\\ipykernel_5392\\3397485158.py:5: DeprecationWarning: In a future version, `df.iloc[:, i] = newvals` will attempt to set the values inplace instead of always setting a new array. To retain the old behavior, use either `df[df.columns[i]] = newvals` or, if columns are non-unique, `df.isetitem(i, newvals)`\n",
      "  tmp.loc[:,'order_accept_date']=pd.to_datetime(tmp['order_accept_date'])\n"
     ]
    },
    {
     "name": "stdout",
     "output_type": "stream",
     "text": [
      "104    逗子店\n",
      "Name: store_name, dtype: object\n"
     ]
    },
    {
     "name": "stderr",
     "output_type": "stream",
     "text": [
      "C:\\Users\\yoshikoshi\\AppData\\Local\\Temp\\ipykernel_5392\\3397485158.py:5: DeprecationWarning: In a future version, `df.iloc[:, i] = newvals` will attempt to set the values inplace instead of always setting a new array. To retain the old behavior, use either `df[df.columns[i]] = newvals` or, if columns are non-unique, `df.isetitem(i, newvals)`\n",
      "  tmp.loc[:,'order_accept_date']=pd.to_datetime(tmp['order_accept_date'])\n"
     ]
    },
    {
     "name": "stdout",
     "output_type": "stream",
     "text": [
      "105    茅ヶ崎店\n",
      "Name: store_name, dtype: object\n"
     ]
    },
    {
     "name": "stderr",
     "output_type": "stream",
     "text": [
      "C:\\Users\\yoshikoshi\\AppData\\Local\\Temp\\ipykernel_5392\\3397485158.py:5: DeprecationWarning: In a future version, `df.iloc[:, i] = newvals` will attempt to set the values inplace instead of always setting a new array. To retain the old behavior, use either `df[df.columns[i]] = newvals` or, if columns are non-unique, `df.isetitem(i, newvals)`\n",
      "  tmp.loc[:,'order_accept_date']=pd.to_datetime(tmp['order_accept_date'])\n"
     ]
    },
    {
     "name": "stdout",
     "output_type": "stream",
     "text": [
      "106    中店\n",
      "Name: store_name, dtype: object\n"
     ]
    },
    {
     "name": "stderr",
     "output_type": "stream",
     "text": [
      "C:\\Users\\yoshikoshi\\AppData\\Local\\Temp\\ipykernel_5392\\3397485158.py:5: DeprecationWarning: In a future version, `df.iloc[:, i] = newvals` will attempt to set the values inplace instead of always setting a new array. To retain the old behavior, use either `df[df.columns[i]] = newvals` or, if columns are non-unique, `df.isetitem(i, newvals)`\n",
      "  tmp.loc[:,'order_accept_date']=pd.to_datetime(tmp['order_accept_date'])\n"
     ]
    },
    {
     "name": "stdout",
     "output_type": "stream",
     "text": [
      "107    秦野店\n",
      "Name: store_name, dtype: object\n"
     ]
    },
    {
     "name": "stderr",
     "output_type": "stream",
     "text": [
      "C:\\Users\\yoshikoshi\\AppData\\Local\\Temp\\ipykernel_5392\\3397485158.py:5: DeprecationWarning: In a future version, `df.iloc[:, i] = newvals` will attempt to set the values inplace instead of always setting a new array. To retain the old behavior, use either `df[df.columns[i]] = newvals` or, if columns are non-unique, `df.isetitem(i, newvals)`\n",
      "  tmp.loc[:,'order_accept_date']=pd.to_datetime(tmp['order_accept_date'])\n"
     ]
    },
    {
     "name": "stdout",
     "output_type": "stream",
     "text": [
      "108    平塚店\n",
      "Name: store_name, dtype: object\n"
     ]
    },
    {
     "name": "stderr",
     "output_type": "stream",
     "text": [
      "C:\\Users\\yoshikoshi\\AppData\\Local\\Temp\\ipykernel_5392\\3397485158.py:5: DeprecationWarning: In a future version, `df.iloc[:, i] = newvals` will attempt to set the values inplace instead of always setting a new array. To retain the old behavior, use either `df[df.columns[i]] = newvals` or, if columns are non-unique, `df.isetitem(i, newvals)`\n",
      "  tmp.loc[:,'order_accept_date']=pd.to_datetime(tmp['order_accept_date'])\n"
     ]
    },
    {
     "name": "stdout",
     "output_type": "stream",
     "text": [
      "109    藤沢店\n",
      "Name: store_name, dtype: object\n"
     ]
    },
    {
     "name": "stderr",
     "output_type": "stream",
     "text": [
      "C:\\Users\\yoshikoshi\\AppData\\Local\\Temp\\ipykernel_5392\\3397485158.py:5: DeprecationWarning: In a future version, `df.iloc[:, i] = newvals` will attempt to set the values inplace instead of always setting a new array. To retain the old behavior, use either `df[df.columns[i]] = newvals` or, if columns are non-unique, `df.isetitem(i, newvals)`\n",
      "  tmp.loc[:,'order_accept_date']=pd.to_datetime(tmp['order_accept_date'])\n"
     ]
    },
    {
     "name": "stdout",
     "output_type": "stream",
     "text": [
      "110    三浦店\n",
      "Name: store_name, dtype: object\n"
     ]
    },
    {
     "name": "stderr",
     "output_type": "stream",
     "text": [
      "C:\\Users\\yoshikoshi\\AppData\\Local\\Temp\\ipykernel_5392\\3397485158.py:5: DeprecationWarning: In a future version, `df.iloc[:, i] = newvals` will attempt to set the values inplace instead of always setting a new array. To retain the old behavior, use either `df[df.columns[i]] = newvals` or, if columns are non-unique, `df.isetitem(i, newvals)`\n",
      "  tmp.loc[:,'order_accept_date']=pd.to_datetime(tmp['order_accept_date'])\n"
     ]
    },
    {
     "name": "stdout",
     "output_type": "stream",
     "text": [
      "111    南足柄店\n",
      "Name: store_name, dtype: object\n"
     ]
    },
    {
     "name": "stderr",
     "output_type": "stream",
     "text": [
      "C:\\Users\\yoshikoshi\\AppData\\Local\\Temp\\ipykernel_5392\\3397485158.py:5: DeprecationWarning: In a future version, `df.iloc[:, i] = newvals` will attempt to set the values inplace instead of always setting a new array. To retain the old behavior, use either `df[df.columns[i]] = newvals` or, if columns are non-unique, `df.isetitem(i, newvals)`\n",
      "  tmp.loc[:,'order_accept_date']=pd.to_datetime(tmp['order_accept_date'])\n"
     ]
    },
    {
     "name": "stdout",
     "output_type": "stream",
     "text": [
      "112    大和店\n",
      "Name: store_name, dtype: object\n"
     ]
    },
    {
     "name": "stderr",
     "output_type": "stream",
     "text": [
      "C:\\Users\\yoshikoshi\\AppData\\Local\\Temp\\ipykernel_5392\\3397485158.py:5: DeprecationWarning: In a future version, `df.iloc[:, i] = newvals` will attempt to set the values inplace instead of always setting a new array. To retain the old behavior, use either `df[df.columns[i]] = newvals` or, if columns are non-unique, `df.isetitem(i, newvals)`\n",
      "  tmp.loc[:,'order_accept_date']=pd.to_datetime(tmp['order_accept_date'])\n"
     ]
    },
    {
     "name": "stdout",
     "output_type": "stream",
     "text": [
      "113    横須賀店\n",
      "Name: store_name, dtype: object\n"
     ]
    },
    {
     "name": "stderr",
     "output_type": "stream",
     "text": [
      "C:\\Users\\yoshikoshi\\AppData\\Local\\Temp\\ipykernel_5392\\3397485158.py:5: DeprecationWarning: In a future version, `df.iloc[:, i] = newvals` will attempt to set the values inplace instead of always setting a new array. To retain the old behavior, use either `df[df.columns[i]] = newvals` or, if columns are non-unique, `df.isetitem(i, newvals)`\n",
      "  tmp.loc[:,'order_accept_date']=pd.to_datetime(tmp['order_accept_date'])\n"
     ]
    },
    {
     "name": "stdout",
     "output_type": "stream",
     "text": [
      "114    青葉店\n",
      "Name: store_name, dtype: object\n"
     ]
    },
    {
     "name": "stderr",
     "output_type": "stream",
     "text": [
      "C:\\Users\\yoshikoshi\\AppData\\Local\\Temp\\ipykernel_5392\\3397485158.py:5: DeprecationWarning: In a future version, `df.iloc[:, i] = newvals` will attempt to set the values inplace instead of always setting a new array. To retain the old behavior, use either `df[df.columns[i]] = newvals` or, if columns are non-unique, `df.isetitem(i, newvals)`\n",
      "  tmp.loc[:,'order_accept_date']=pd.to_datetime(tmp['order_accept_date'])\n"
     ]
    },
    {
     "name": "stdout",
     "output_type": "stream",
     "text": [
      "115    旭店\n",
      "Name: store_name, dtype: object\n"
     ]
    },
    {
     "name": "stderr",
     "output_type": "stream",
     "text": [
      "C:\\Users\\yoshikoshi\\AppData\\Local\\Temp\\ipykernel_5392\\3397485158.py:5: DeprecationWarning: In a future version, `df.iloc[:, i] = newvals` will attempt to set the values inplace instead of always setting a new array. To retain the old behavior, use either `df[df.columns[i]] = newvals` or, if columns are non-unique, `df.isetitem(i, newvals)`\n",
      "  tmp.loc[:,'order_accept_date']=pd.to_datetime(tmp['order_accept_date'])\n"
     ]
    },
    {
     "name": "stdout",
     "output_type": "stream",
     "text": [
      "116    泉店\n",
      "Name: store_name, dtype: object\n"
     ]
    },
    {
     "name": "stderr",
     "output_type": "stream",
     "text": [
      "C:\\Users\\yoshikoshi\\AppData\\Local\\Temp\\ipykernel_5392\\3397485158.py:5: DeprecationWarning: In a future version, `df.iloc[:, i] = newvals` will attempt to set the values inplace instead of always setting a new array. To retain the old behavior, use either `df[df.columns[i]] = newvals` or, if columns are non-unique, `df.isetitem(i, newvals)`\n",
      "  tmp.loc[:,'order_accept_date']=pd.to_datetime(tmp['order_accept_date'])\n"
     ]
    },
    {
     "name": "stdout",
     "output_type": "stream",
     "text": [
      "117    磯子店\n",
      "Name: store_name, dtype: object\n"
     ]
    },
    {
     "name": "stderr",
     "output_type": "stream",
     "text": [
      "C:\\Users\\yoshikoshi\\AppData\\Local\\Temp\\ipykernel_5392\\3397485158.py:5: DeprecationWarning: In a future version, `df.iloc[:, i] = newvals` will attempt to set the values inplace instead of always setting a new array. To retain the old behavior, use either `df[df.columns[i]] = newvals` or, if columns are non-unique, `df.isetitem(i, newvals)`\n",
      "  tmp.loc[:,'order_accept_date']=pd.to_datetime(tmp['order_accept_date'])\n"
     ]
    },
    {
     "name": "stdout",
     "output_type": "stream",
     "text": [
      "118    神奈川店\n",
      "Name: store_name, dtype: object\n"
     ]
    },
    {
     "name": "stderr",
     "output_type": "stream",
     "text": [
      "C:\\Users\\yoshikoshi\\AppData\\Local\\Temp\\ipykernel_5392\\3397485158.py:5: DeprecationWarning: In a future version, `df.iloc[:, i] = newvals` will attempt to set the values inplace instead of always setting a new array. To retain the old behavior, use either `df[df.columns[i]] = newvals` or, if columns are non-unique, `df.isetitem(i, newvals)`\n",
      "  tmp.loc[:,'order_accept_date']=pd.to_datetime(tmp['order_accept_date'])\n"
     ]
    },
    {
     "name": "stdout",
     "output_type": "stream",
     "text": [
      "119    金沢店\n",
      "Name: store_name, dtype: object\n"
     ]
    },
    {
     "name": "stderr",
     "output_type": "stream",
     "text": [
      "C:\\Users\\yoshikoshi\\AppData\\Local\\Temp\\ipykernel_5392\\3397485158.py:5: DeprecationWarning: In a future version, `df.iloc[:, i] = newvals` will attempt to set the values inplace instead of always setting a new array. To retain the old behavior, use either `df[df.columns[i]] = newvals` or, if columns are non-unique, `df.isetitem(i, newvals)`\n",
      "  tmp.loc[:,'order_accept_date']=pd.to_datetime(tmp['order_accept_date'])\n"
     ]
    },
    {
     "name": "stdout",
     "output_type": "stream",
     "text": [
      "120    港南店\n",
      "Name: store_name, dtype: object\n"
     ]
    },
    {
     "name": "stderr",
     "output_type": "stream",
     "text": [
      "C:\\Users\\yoshikoshi\\AppData\\Local\\Temp\\ipykernel_5392\\3397485158.py:5: DeprecationWarning: In a future version, `df.iloc[:, i] = newvals` will attempt to set the values inplace instead of always setting a new array. To retain the old behavior, use either `df[df.columns[i]] = newvals` or, if columns are non-unique, `df.isetitem(i, newvals)`\n",
      "  tmp.loc[:,'order_accept_date']=pd.to_datetime(tmp['order_accept_date'])\n"
     ]
    },
    {
     "name": "stdout",
     "output_type": "stream",
     "text": [
      "121    港北店\n",
      "Name: store_name, dtype: object\n"
     ]
    },
    {
     "name": "stderr",
     "output_type": "stream",
     "text": [
      "C:\\Users\\yoshikoshi\\AppData\\Local\\Temp\\ipykernel_5392\\3397485158.py:5: DeprecationWarning: In a future version, `df.iloc[:, i] = newvals` will attempt to set the values inplace instead of always setting a new array. To retain the old behavior, use either `df[df.columns[i]] = newvals` or, if columns are non-unique, `df.isetitem(i, newvals)`\n",
      "  tmp.loc[:,'order_accept_date']=pd.to_datetime(tmp['order_accept_date'])\n"
     ]
    },
    {
     "name": "stdout",
     "output_type": "stream",
     "text": [
      "122    栄店\n",
      "Name: store_name, dtype: object\n"
     ]
    },
    {
     "name": "stderr",
     "output_type": "stream",
     "text": [
      "C:\\Users\\yoshikoshi\\AppData\\Local\\Temp\\ipykernel_5392\\3397485158.py:5: DeprecationWarning: In a future version, `df.iloc[:, i] = newvals` will attempt to set the values inplace instead of always setting a new array. To retain the old behavior, use either `df[df.columns[i]] = newvals` or, if columns are non-unique, `df.isetitem(i, newvals)`\n",
      "  tmp.loc[:,'order_accept_date']=pd.to_datetime(tmp['order_accept_date'])\n"
     ]
    },
    {
     "name": "stdout",
     "output_type": "stream",
     "text": [
      "123    瀬谷店\n",
      "Name: store_name, dtype: object\n"
     ]
    },
    {
     "name": "stderr",
     "output_type": "stream",
     "text": [
      "C:\\Users\\yoshikoshi\\AppData\\Local\\Temp\\ipykernel_5392\\3397485158.py:5: DeprecationWarning: In a future version, `df.iloc[:, i] = newvals` will attempt to set the values inplace instead of always setting a new array. To retain the old behavior, use either `df[df.columns[i]] = newvals` or, if columns are non-unique, `df.isetitem(i, newvals)`\n",
      "  tmp.loc[:,'order_accept_date']=pd.to_datetime(tmp['order_accept_date'])\n"
     ]
    },
    {
     "name": "stdout",
     "output_type": "stream",
     "text": [
      "124    都筑店\n",
      "Name: store_name, dtype: object\n"
     ]
    },
    {
     "name": "stderr",
     "output_type": "stream",
     "text": [
      "C:\\Users\\yoshikoshi\\AppData\\Local\\Temp\\ipykernel_5392\\3397485158.py:5: DeprecationWarning: In a future version, `df.iloc[:, i] = newvals` will attempt to set the values inplace instead of always setting a new array. To retain the old behavior, use either `df[df.columns[i]] = newvals` or, if columns are non-unique, `df.isetitem(i, newvals)`\n",
      "  tmp.loc[:,'order_accept_date']=pd.to_datetime(tmp['order_accept_date'])\n"
     ]
    },
    {
     "name": "stdout",
     "output_type": "stream",
     "text": [
      "125    鶴見店\n",
      "Name: store_name, dtype: object\n"
     ]
    },
    {
     "name": "stderr",
     "output_type": "stream",
     "text": [
      "C:\\Users\\yoshikoshi\\AppData\\Local\\Temp\\ipykernel_5392\\3397485158.py:5: DeprecationWarning: In a future version, `df.iloc[:, i] = newvals` will attempt to set the values inplace instead of always setting a new array. To retain the old behavior, use either `df[df.columns[i]] = newvals` or, if columns are non-unique, `df.isetitem(i, newvals)`\n",
      "  tmp.loc[:,'order_accept_date']=pd.to_datetime(tmp['order_accept_date'])\n"
     ]
    },
    {
     "name": "stdout",
     "output_type": "stream",
     "text": [
      "126    戸塚店\n",
      "Name: store_name, dtype: object\n"
     ]
    },
    {
     "name": "stderr",
     "output_type": "stream",
     "text": [
      "C:\\Users\\yoshikoshi\\AppData\\Local\\Temp\\ipykernel_5392\\3397485158.py:5: DeprecationWarning: In a future version, `df.iloc[:, i] = newvals` will attempt to set the values inplace instead of always setting a new array. To retain the old behavior, use either `df[df.columns[i]] = newvals` or, if columns are non-unique, `df.isetitem(i, newvals)`\n",
      "  tmp.loc[:,'order_accept_date']=pd.to_datetime(tmp['order_accept_date'])\n"
     ]
    },
    {
     "name": "stdout",
     "output_type": "stream",
     "text": [
      "127    保土ケ谷店\n",
      "Name: store_name, dtype: object\n"
     ]
    },
    {
     "name": "stderr",
     "output_type": "stream",
     "text": [
      "C:\\Users\\yoshikoshi\\AppData\\Local\\Temp\\ipykernel_5392\\3397485158.py:5: DeprecationWarning: In a future version, `df.iloc[:, i] = newvals` will attempt to set the values inplace instead of always setting a new array. To retain the old behavior, use either `df[df.columns[i]] = newvals` or, if columns are non-unique, `df.isetitem(i, newvals)`\n",
      "  tmp.loc[:,'order_accept_date']=pd.to_datetime(tmp['order_accept_date'])\n"
     ]
    },
    {
     "name": "stdout",
     "output_type": "stream",
     "text": [
      "128    横浜緑店\n",
      "Name: store_name, dtype: object\n"
     ]
    },
    {
     "name": "stderr",
     "output_type": "stream",
     "text": [
      "C:\\Users\\yoshikoshi\\AppData\\Local\\Temp\\ipykernel_5392\\3397485158.py:5: DeprecationWarning: In a future version, `df.iloc[:, i] = newvals` will attempt to set the values inplace instead of always setting a new array. To retain the old behavior, use either `df[df.columns[i]] = newvals` or, if columns are non-unique, `df.isetitem(i, newvals)`\n",
      "  tmp.loc[:,'order_accept_date']=pd.to_datetime(tmp['order_accept_date'])\n"
     ]
    },
    {
     "name": "stdout",
     "output_type": "stream",
     "text": [
      "129    横浜南店\n",
      "Name: store_name, dtype: object\n"
     ]
    },
    {
     "name": "stderr",
     "output_type": "stream",
     "text": [
      "C:\\Users\\yoshikoshi\\AppData\\Local\\Temp\\ipykernel_5392\\3397485158.py:5: DeprecationWarning: In a future version, `df.iloc[:, i] = newvals` will attempt to set the values inplace instead of always setting a new array. To retain the old behavior, use either `df[df.columns[i]] = newvals` or, if columns are non-unique, `df.isetitem(i, newvals)`\n",
      "  tmp.loc[:,'order_accept_date']=pd.to_datetime(tmp['order_accept_date'])\n"
     ]
    },
    {
     "name": "stdout",
     "output_type": "stream",
     "text": [
      "130    我孫子店\n",
      "Name: store_name, dtype: object\n"
     ]
    },
    {
     "name": "stderr",
     "output_type": "stream",
     "text": [
      "C:\\Users\\yoshikoshi\\AppData\\Local\\Temp\\ipykernel_5392\\3397485158.py:5: DeprecationWarning: In a future version, `df.iloc[:, i] = newvals` will attempt to set the values inplace instead of always setting a new array. To retain the old behavior, use either `df[df.columns[i]] = newvals` or, if columns are non-unique, `df.isetitem(i, newvals)`\n",
      "  tmp.loc[:,'order_accept_date']=pd.to_datetime(tmp['order_accept_date'])\n"
     ]
    },
    {
     "name": "stdout",
     "output_type": "stream",
     "text": [
      "131    市川店\n",
      "Name: store_name, dtype: object\n"
     ]
    },
    {
     "name": "stderr",
     "output_type": "stream",
     "text": [
      "C:\\Users\\yoshikoshi\\AppData\\Local\\Temp\\ipykernel_5392\\3397485158.py:5: DeprecationWarning: In a future version, `df.iloc[:, i] = newvals` will attempt to set the values inplace instead of always setting a new array. To retain the old behavior, use either `df[df.columns[i]] = newvals` or, if columns are non-unique, `df.isetitem(i, newvals)`\n",
      "  tmp.loc[:,'order_accept_date']=pd.to_datetime(tmp['order_accept_date'])\n"
     ]
    },
    {
     "name": "stdout",
     "output_type": "stream",
     "text": [
      "132    市原店\n",
      "Name: store_name, dtype: object\n"
     ]
    },
    {
     "name": "stderr",
     "output_type": "stream",
     "text": [
      "C:\\Users\\yoshikoshi\\AppData\\Local\\Temp\\ipykernel_5392\\3397485158.py:5: DeprecationWarning: In a future version, `df.iloc[:, i] = newvals` will attempt to set the values inplace instead of always setting a new array. To retain the old behavior, use either `df[df.columns[i]] = newvals` or, if columns are non-unique, `df.isetitem(i, newvals)`\n",
      "  tmp.loc[:,'order_accept_date']=pd.to_datetime(tmp['order_accept_date'])\n"
     ]
    },
    {
     "name": "stdout",
     "output_type": "stream",
     "text": [
      "133    浦安店\n",
      "Name: store_name, dtype: object\n"
     ]
    },
    {
     "name": "stderr",
     "output_type": "stream",
     "text": [
      "C:\\Users\\yoshikoshi\\AppData\\Local\\Temp\\ipykernel_5392\\3397485158.py:5: DeprecationWarning: In a future version, `df.iloc[:, i] = newvals` will attempt to set the values inplace instead of always setting a new array. To retain the old behavior, use either `df[df.columns[i]] = newvals` or, if columns are non-unique, `df.isetitem(i, newvals)`\n",
      "  tmp.loc[:,'order_accept_date']=pd.to_datetime(tmp['order_accept_date'])\n"
     ]
    },
    {
     "name": "stdout",
     "output_type": "stream",
     "text": [
      "134    柏店\n",
      "Name: store_name, dtype: object\n"
     ]
    },
    {
     "name": "stderr",
     "output_type": "stream",
     "text": [
      "C:\\Users\\yoshikoshi\\AppData\\Local\\Temp\\ipykernel_5392\\3397485158.py:5: DeprecationWarning: In a future version, `df.iloc[:, i] = newvals` will attempt to set the values inplace instead of always setting a new array. To retain the old behavior, use either `df[df.columns[i]] = newvals` or, if columns are non-unique, `df.isetitem(i, newvals)`\n",
      "  tmp.loc[:,'order_accept_date']=pd.to_datetime(tmp['order_accept_date'])\n"
     ]
    },
    {
     "name": "stdout",
     "output_type": "stream",
     "text": [
      "135    木更津店\n",
      "Name: store_name, dtype: object\n"
     ]
    },
    {
     "name": "stderr",
     "output_type": "stream",
     "text": [
      "C:\\Users\\yoshikoshi\\AppData\\Local\\Temp\\ipykernel_5392\\3397485158.py:5: DeprecationWarning: In a future version, `df.iloc[:, i] = newvals` will attempt to set the values inplace instead of always setting a new array. To retain the old behavior, use either `df[df.columns[i]] = newvals` or, if columns are non-unique, `df.isetitem(i, newvals)`\n",
      "  tmp.loc[:,'order_accept_date']=pd.to_datetime(tmp['order_accept_date'])\n"
     ]
    },
    {
     "name": "stdout",
     "output_type": "stream",
     "text": [
      "136    君津店\n",
      "Name: store_name, dtype: object\n"
     ]
    },
    {
     "name": "stderr",
     "output_type": "stream",
     "text": [
      "C:\\Users\\yoshikoshi\\AppData\\Local\\Temp\\ipykernel_5392\\3397485158.py:5: DeprecationWarning: In a future version, `df.iloc[:, i] = newvals` will attempt to set the values inplace instead of always setting a new array. To retain the old behavior, use either `df[df.columns[i]] = newvals` or, if columns are non-unique, `df.isetitem(i, newvals)`\n",
      "  tmp.loc[:,'order_accept_date']=pd.to_datetime(tmp['order_accept_date'])\n"
     ]
    },
    {
     "name": "stdout",
     "output_type": "stream",
     "text": [
      "137    佐倉店\n",
      "Name: store_name, dtype: object\n"
     ]
    },
    {
     "name": "stderr",
     "output_type": "stream",
     "text": [
      "C:\\Users\\yoshikoshi\\AppData\\Local\\Temp\\ipykernel_5392\\3397485158.py:5: DeprecationWarning: In a future version, `df.iloc[:, i] = newvals` will attempt to set the values inplace instead of always setting a new array. To retain the old behavior, use either `df[df.columns[i]] = newvals` or, if columns are non-unique, `df.isetitem(i, newvals)`\n",
      "  tmp.loc[:,'order_accept_date']=pd.to_datetime(tmp['order_accept_date'])\n"
     ]
    },
    {
     "name": "stdout",
     "output_type": "stream",
     "text": [
      "138    白井店\n",
      "Name: store_name, dtype: object\n"
     ]
    },
    {
     "name": "stderr",
     "output_type": "stream",
     "text": [
      "C:\\Users\\yoshikoshi\\AppData\\Local\\Temp\\ipykernel_5392\\3397485158.py:5: DeprecationWarning: In a future version, `df.iloc[:, i] = newvals` will attempt to set the values inplace instead of always setting a new array. To retain the old behavior, use either `df[df.columns[i]] = newvals` or, if columns are non-unique, `df.isetitem(i, newvals)`\n",
      "  tmp.loc[:,'order_accept_date']=pd.to_datetime(tmp['order_accept_date'])\n"
     ]
    },
    {
     "name": "stdout",
     "output_type": "stream",
     "text": [
      "139    千葉中央店\n",
      "Name: store_name, dtype: object\n"
     ]
    },
    {
     "name": "stderr",
     "output_type": "stream",
     "text": [
      "C:\\Users\\yoshikoshi\\AppData\\Local\\Temp\\ipykernel_5392\\3397485158.py:5: DeprecationWarning: In a future version, `df.iloc[:, i] = newvals` will attempt to set the values inplace instead of always setting a new array. To retain the old behavior, use either `df[df.columns[i]] = newvals` or, if columns are non-unique, `df.isetitem(i, newvals)`\n",
      "  tmp.loc[:,'order_accept_date']=pd.to_datetime(tmp['order_accept_date'])\n"
     ]
    },
    {
     "name": "stdout",
     "output_type": "stream",
     "text": [
      "140    千葉緑店\n",
      "Name: store_name, dtype: object\n"
     ]
    },
    {
     "name": "stderr",
     "output_type": "stream",
     "text": [
      "C:\\Users\\yoshikoshi\\AppData\\Local\\Temp\\ipykernel_5392\\3397485158.py:5: DeprecationWarning: In a future version, `df.iloc[:, i] = newvals` will attempt to set the values inplace instead of always setting a new array. To retain the old behavior, use either `df[df.columns[i]] = newvals` or, if columns are non-unique, `df.isetitem(i, newvals)`\n",
      "  tmp.loc[:,'order_accept_date']=pd.to_datetime(tmp['order_accept_date'])\n"
     ]
    },
    {
     "name": "stdout",
     "output_type": "stream",
     "text": [
      "141    若葉店\n",
      "Name: store_name, dtype: object\n"
     ]
    },
    {
     "name": "stderr",
     "output_type": "stream",
     "text": [
      "C:\\Users\\yoshikoshi\\AppData\\Local\\Temp\\ipykernel_5392\\3397485158.py:5: DeprecationWarning: In a future version, `df.iloc[:, i] = newvals` will attempt to set the values inplace instead of always setting a new array. To retain the old behavior, use either `df[df.columns[i]] = newvals` or, if columns are non-unique, `df.isetitem(i, newvals)`\n",
      "  tmp.loc[:,'order_accept_date']=pd.to_datetime(tmp['order_accept_date'])\n"
     ]
    },
    {
     "name": "stdout",
     "output_type": "stream",
     "text": [
      "142    富里店\n",
      "Name: store_name, dtype: object\n"
     ]
    },
    {
     "name": "stderr",
     "output_type": "stream",
     "text": [
      "C:\\Users\\yoshikoshi\\AppData\\Local\\Temp\\ipykernel_5392\\3397485158.py:5: DeprecationWarning: In a future version, `df.iloc[:, i] = newvals` will attempt to set the values inplace instead of always setting a new array. To retain the old behavior, use either `df[df.columns[i]] = newvals` or, if columns are non-unique, `df.isetitem(i, newvals)`\n",
      "  tmp.loc[:,'order_accept_date']=pd.to_datetime(tmp['order_accept_date'])\n"
     ]
    },
    {
     "name": "stdout",
     "output_type": "stream",
     "text": [
      "143    流山店\n",
      "Name: store_name, dtype: object\n"
     ]
    },
    {
     "name": "stderr",
     "output_type": "stream",
     "text": [
      "C:\\Users\\yoshikoshi\\AppData\\Local\\Temp\\ipykernel_5392\\3397485158.py:5: DeprecationWarning: In a future version, `df.iloc[:, i] = newvals` will attempt to set the values inplace instead of always setting a new array. To retain the old behavior, use either `df[df.columns[i]] = newvals` or, if columns are non-unique, `df.isetitem(i, newvals)`\n",
      "  tmp.loc[:,'order_accept_date']=pd.to_datetime(tmp['order_accept_date'])\n"
     ]
    },
    {
     "name": "stdout",
     "output_type": "stream",
     "text": [
      "144    習志野店\n",
      "Name: store_name, dtype: object\n"
     ]
    },
    {
     "name": "stderr",
     "output_type": "stream",
     "text": [
      "C:\\Users\\yoshikoshi\\AppData\\Local\\Temp\\ipykernel_5392\\3397485158.py:5: DeprecationWarning: In a future version, `df.iloc[:, i] = newvals` will attempt to set the values inplace instead of always setting a new array. To retain the old behavior, use either `df[df.columns[i]] = newvals` or, if columns are non-unique, `df.isetitem(i, newvals)`\n",
      "  tmp.loc[:,'order_accept_date']=pd.to_datetime(tmp['order_accept_date'])\n"
     ]
    },
    {
     "name": "stdout",
     "output_type": "stream",
     "text": [
      "145    成田店\n",
      "Name: store_name, dtype: object\n"
     ]
    },
    {
     "name": "stderr",
     "output_type": "stream",
     "text": [
      "C:\\Users\\yoshikoshi\\AppData\\Local\\Temp\\ipykernel_5392\\3397485158.py:5: DeprecationWarning: In a future version, `df.iloc[:, i] = newvals` will attempt to set the values inplace instead of always setting a new array. To retain the old behavior, use either `df[df.columns[i]] = newvals` or, if columns are non-unique, `df.isetitem(i, newvals)`\n",
      "  tmp.loc[:,'order_accept_date']=pd.to_datetime(tmp['order_accept_date'])\n"
     ]
    },
    {
     "name": "stdout",
     "output_type": "stream",
     "text": [
      "146    富津店\n",
      "Name: store_name, dtype: object\n"
     ]
    },
    {
     "name": "stderr",
     "output_type": "stream",
     "text": [
      "C:\\Users\\yoshikoshi\\AppData\\Local\\Temp\\ipykernel_5392\\3397485158.py:5: DeprecationWarning: In a future version, `df.iloc[:, i] = newvals` will attempt to set the values inplace instead of always setting a new array. To retain the old behavior, use either `df[df.columns[i]] = newvals` or, if columns are non-unique, `df.isetitem(i, newvals)`\n",
      "  tmp.loc[:,'order_accept_date']=pd.to_datetime(tmp['order_accept_date'])\n"
     ]
    },
    {
     "name": "stdout",
     "output_type": "stream",
     "text": [
      "147    船橋店\n",
      "Name: store_name, dtype: object\n"
     ]
    },
    {
     "name": "stderr",
     "output_type": "stream",
     "text": [
      "C:\\Users\\yoshikoshi\\AppData\\Local\\Temp\\ipykernel_5392\\3397485158.py:5: DeprecationWarning: In a future version, `df.iloc[:, i] = newvals` will attempt to set the values inplace instead of always setting a new array. To retain the old behavior, use either `df[df.columns[i]] = newvals` or, if columns are non-unique, `df.isetitem(i, newvals)`\n",
      "  tmp.loc[:,'order_accept_date']=pd.to_datetime(tmp['order_accept_date'])\n"
     ]
    },
    {
     "name": "stdout",
     "output_type": "stream",
     "text": [
      "148    松戸店\n",
      "Name: store_name, dtype: object\n"
     ]
    },
    {
     "name": "stderr",
     "output_type": "stream",
     "text": [
      "C:\\Users\\yoshikoshi\\AppData\\Local\\Temp\\ipykernel_5392\\3397485158.py:5: DeprecationWarning: In a future version, `df.iloc[:, i] = newvals` will attempt to set the values inplace instead of always setting a new array. To retain the old behavior, use either `df[df.columns[i]] = newvals` or, if columns are non-unique, `df.isetitem(i, newvals)`\n",
      "  tmp.loc[:,'order_accept_date']=pd.to_datetime(tmp['order_accept_date'])\n"
     ]
    },
    {
     "name": "stdout",
     "output_type": "stream",
     "text": [
      "149    茂原店\n",
      "Name: store_name, dtype: object\n"
     ]
    },
    {
     "name": "stderr",
     "output_type": "stream",
     "text": [
      "C:\\Users\\yoshikoshi\\AppData\\Local\\Temp\\ipykernel_5392\\3397485158.py:5: DeprecationWarning: In a future version, `df.iloc[:, i] = newvals` will attempt to set the values inplace instead of always setting a new array. To retain the old behavior, use either `df[df.columns[i]] = newvals` or, if columns are non-unique, `df.isetitem(i, newvals)`\n",
      "  tmp.loc[:,'order_accept_date']=pd.to_datetime(tmp['order_accept_date'])\n"
     ]
    },
    {
     "name": "stdout",
     "output_type": "stream",
     "text": [
      "150    八千代店\n",
      "Name: store_name, dtype: object\n"
     ]
    },
    {
     "name": "stderr",
     "output_type": "stream",
     "text": [
      "C:\\Users\\yoshikoshi\\AppData\\Local\\Temp\\ipykernel_5392\\3397485158.py:5: DeprecationWarning: In a future version, `df.iloc[:, i] = newvals` will attempt to set the values inplace instead of always setting a new array. To retain the old behavior, use either `df[df.columns[i]] = newvals` or, if columns are non-unique, `df.isetitem(i, newvals)`\n",
      "  tmp.loc[:,'order_accept_date']=pd.to_datetime(tmp['order_accept_date'])\n"
     ]
    },
    {
     "name": "stdout",
     "output_type": "stream",
     "text": [
      "151    四街道店\n",
      "Name: store_name, dtype: object\n"
     ]
    },
    {
     "name": "stderr",
     "output_type": "stream",
     "text": [
      "C:\\Users\\yoshikoshi\\AppData\\Local\\Temp\\ipykernel_5392\\3397485158.py:5: DeprecationWarning: In a future version, `df.iloc[:, i] = newvals` will attempt to set the values inplace instead of always setting a new array. To retain the old behavior, use either `df[df.columns[i]] = newvals` or, if columns are non-unique, `df.isetitem(i, newvals)`\n",
      "  tmp.loc[:,'order_accept_date']=pd.to_datetime(tmp['order_accept_date'])\n"
     ]
    },
    {
     "name": "stdout",
     "output_type": "stream",
     "text": [
      "152    上尾店\n",
      "Name: store_name, dtype: object\n"
     ]
    },
    {
     "name": "stderr",
     "output_type": "stream",
     "text": [
      "C:\\Users\\yoshikoshi\\AppData\\Local\\Temp\\ipykernel_5392\\3397485158.py:5: DeprecationWarning: In a future version, `df.iloc[:, i] = newvals` will attempt to set the values inplace instead of always setting a new array. To retain the old behavior, use either `df[df.columns[i]] = newvals` or, if columns are non-unique, `df.isetitem(i, newvals)`\n",
      "  tmp.loc[:,'order_accept_date']=pd.to_datetime(tmp['order_accept_date'])\n"
     ]
    },
    {
     "name": "stdout",
     "output_type": "stream",
     "text": [
      "153    入間店\n",
      "Name: store_name, dtype: object\n"
     ]
    },
    {
     "name": "stderr",
     "output_type": "stream",
     "text": [
      "C:\\Users\\yoshikoshi\\AppData\\Local\\Temp\\ipykernel_5392\\3397485158.py:5: DeprecationWarning: In a future version, `df.iloc[:, i] = newvals` will attempt to set the values inplace instead of always setting a new array. To retain the old behavior, use either `df[df.columns[i]] = newvals` or, if columns are non-unique, `df.isetitem(i, newvals)`\n",
      "  tmp.loc[:,'order_accept_date']=pd.to_datetime(tmp['order_accept_date'])\n"
     ]
    },
    {
     "name": "stdout",
     "output_type": "stream",
     "text": [
      "154    春日部店\n",
      "Name: store_name, dtype: object\n"
     ]
    },
    {
     "name": "stderr",
     "output_type": "stream",
     "text": [
      "C:\\Users\\yoshikoshi\\AppData\\Local\\Temp\\ipykernel_5392\\3397485158.py:5: DeprecationWarning: In a future version, `df.iloc[:, i] = newvals` will attempt to set the values inplace instead of always setting a new array. To retain the old behavior, use either `df[df.columns[i]] = newvals` or, if columns are non-unique, `df.isetitem(i, newvals)`\n",
      "  tmp.loc[:,'order_accept_date']=pd.to_datetime(tmp['order_accept_date'])\n"
     ]
    },
    {
     "name": "stdout",
     "output_type": "stream",
     "text": [
      "155    川口店\n",
      "Name: store_name, dtype: object\n"
     ]
    },
    {
     "name": "stderr",
     "output_type": "stream",
     "text": [
      "C:\\Users\\yoshikoshi\\AppData\\Local\\Temp\\ipykernel_5392\\3397485158.py:5: DeprecationWarning: In a future version, `df.iloc[:, i] = newvals` will attempt to set the values inplace instead of always setting a new array. To retain the old behavior, use either `df[df.columns[i]] = newvals` or, if columns are non-unique, `df.isetitem(i, newvals)`\n",
      "  tmp.loc[:,'order_accept_date']=pd.to_datetime(tmp['order_accept_date'])\n"
     ]
    },
    {
     "name": "stdout",
     "output_type": "stream",
     "text": [
      "156    川越店\n",
      "Name: store_name, dtype: object\n"
     ]
    },
    {
     "name": "stderr",
     "output_type": "stream",
     "text": [
      "C:\\Users\\yoshikoshi\\AppData\\Local\\Temp\\ipykernel_5392\\3397485158.py:5: DeprecationWarning: In a future version, `df.iloc[:, i] = newvals` will attempt to set the values inplace instead of always setting a new array. To retain the old behavior, use either `df[df.columns[i]] = newvals` or, if columns are non-unique, `df.isetitem(i, newvals)`\n",
      "  tmp.loc[:,'order_accept_date']=pd.to_datetime(tmp['order_accept_date'])\n"
     ]
    },
    {
     "name": "stdout",
     "output_type": "stream",
     "text": [
      "157    行田店\n",
      "Name: store_name, dtype: object\n"
     ]
    },
    {
     "name": "stderr",
     "output_type": "stream",
     "text": [
      "C:\\Users\\yoshikoshi\\AppData\\Local\\Temp\\ipykernel_5392\\3397485158.py:5: DeprecationWarning: In a future version, `df.iloc[:, i] = newvals` will attempt to set the values inplace instead of always setting a new array. To retain the old behavior, use either `df[df.columns[i]] = newvals` or, if columns are non-unique, `df.isetitem(i, newvals)`\n",
      "  tmp.loc[:,'order_accept_date']=pd.to_datetime(tmp['order_accept_date'])\n"
     ]
    },
    {
     "name": "stdout",
     "output_type": "stream",
     "text": [
      "158    久喜店\n",
      "Name: store_name, dtype: object\n"
     ]
    },
    {
     "name": "stderr",
     "output_type": "stream",
     "text": [
      "C:\\Users\\yoshikoshi\\AppData\\Local\\Temp\\ipykernel_5392\\3397485158.py:5: DeprecationWarning: In a future version, `df.iloc[:, i] = newvals` will attempt to set the values inplace instead of always setting a new array. To retain the old behavior, use either `df[df.columns[i]] = newvals` or, if columns are non-unique, `df.isetitem(i, newvals)`\n",
      "  tmp.loc[:,'order_accept_date']=pd.to_datetime(tmp['order_accept_date'])\n"
     ]
    },
    {
     "name": "stdout",
     "output_type": "stream",
     "text": [
      "159    熊谷店\n",
      "Name: store_name, dtype: object\n"
     ]
    },
    {
     "name": "stderr",
     "output_type": "stream",
     "text": [
      "C:\\Users\\yoshikoshi\\AppData\\Local\\Temp\\ipykernel_5392\\3397485158.py:5: DeprecationWarning: In a future version, `df.iloc[:, i] = newvals` will attempt to set the values inplace instead of always setting a new array. To retain the old behavior, use either `df[df.columns[i]] = newvals` or, if columns are non-unique, `df.isetitem(i, newvals)`\n",
      "  tmp.loc[:,'order_accept_date']=pd.to_datetime(tmp['order_accept_date'])\n"
     ]
    },
    {
     "name": "stdout",
     "output_type": "stream",
     "text": [
      "160    鴻巣店\n",
      "Name: store_name, dtype: object\n"
     ]
    },
    {
     "name": "stderr",
     "output_type": "stream",
     "text": [
      "C:\\Users\\yoshikoshi\\AppData\\Local\\Temp\\ipykernel_5392\\3397485158.py:5: DeprecationWarning: In a future version, `df.iloc[:, i] = newvals` will attempt to set the values inplace instead of always setting a new array. To retain the old behavior, use either `df[df.columns[i]] = newvals` or, if columns are non-unique, `df.isetitem(i, newvals)`\n",
      "  tmp.loc[:,'order_accept_date']=pd.to_datetime(tmp['order_accept_date'])\n"
     ]
    },
    {
     "name": "stdout",
     "output_type": "stream",
     "text": [
      "161    越谷店\n",
      "Name: store_name, dtype: object\n"
     ]
    },
    {
     "name": "stderr",
     "output_type": "stream",
     "text": [
      "C:\\Users\\yoshikoshi\\AppData\\Local\\Temp\\ipykernel_5392\\3397485158.py:5: DeprecationWarning: In a future version, `df.iloc[:, i] = newvals` will attempt to set the values inplace instead of always setting a new array. To retain the old behavior, use either `df[df.columns[i]] = newvals` or, if columns are non-unique, `df.isetitem(i, newvals)`\n",
      "  tmp.loc[:,'order_accept_date']=pd.to_datetime(tmp['order_accept_date'])\n"
     ]
    },
    {
     "name": "stdout",
     "output_type": "stream",
     "text": [
      "162    浦和店\n",
      "Name: store_name, dtype: object\n"
     ]
    },
    {
     "name": "stderr",
     "output_type": "stream",
     "text": [
      "C:\\Users\\yoshikoshi\\AppData\\Local\\Temp\\ipykernel_5392\\3397485158.py:5: DeprecationWarning: In a future version, `df.iloc[:, i] = newvals` will attempt to set the values inplace instead of always setting a new array. To retain the old behavior, use either `df[df.columns[i]] = newvals` or, if columns are non-unique, `df.isetitem(i, newvals)`\n",
      "  tmp.loc[:,'order_accept_date']=pd.to_datetime(tmp['order_accept_date'])\n"
     ]
    },
    {
     "name": "stdout",
     "output_type": "stream",
     "text": [
      "163    大宮店\n",
      "Name: store_name, dtype: object\n"
     ]
    },
    {
     "name": "stderr",
     "output_type": "stream",
     "text": [
      "C:\\Users\\yoshikoshi\\AppData\\Local\\Temp\\ipykernel_5392\\3397485158.py:5: DeprecationWarning: In a future version, `df.iloc[:, i] = newvals` will attempt to set the values inplace instead of always setting a new array. To retain the old behavior, use either `df[df.columns[i]] = newvals` or, if columns are non-unique, `df.isetitem(i, newvals)`\n",
      "  tmp.loc[:,'order_accept_date']=pd.to_datetime(tmp['order_accept_date'])\n"
     ]
    },
    {
     "name": "stdout",
     "output_type": "stream",
     "text": [
      "164    さいたま西店\n",
      "Name: store_name, dtype: object\n"
     ]
    },
    {
     "name": "stderr",
     "output_type": "stream",
     "text": [
      "C:\\Users\\yoshikoshi\\AppData\\Local\\Temp\\ipykernel_5392\\3397485158.py:5: DeprecationWarning: In a future version, `df.iloc[:, i] = newvals` will attempt to set the values inplace instead of always setting a new array. To retain the old behavior, use either `df[df.columns[i]] = newvals` or, if columns are non-unique, `df.isetitem(i, newvals)`\n",
      "  tmp.loc[:,'order_accept_date']=pd.to_datetime(tmp['order_accept_date'])\n"
     ]
    },
    {
     "name": "stdout",
     "output_type": "stream",
     "text": [
      "165    さいたま緑店\n",
      "Name: store_name, dtype: object\n"
     ]
    },
    {
     "name": "stderr",
     "output_type": "stream",
     "text": [
      "C:\\Users\\yoshikoshi\\AppData\\Local\\Temp\\ipykernel_5392\\3397485158.py:5: DeprecationWarning: In a future version, `df.iloc[:, i] = newvals` will attempt to set the values inplace instead of always setting a new array. To retain the old behavior, use either `df[df.columns[i]] = newvals` or, if columns are non-unique, `df.isetitem(i, newvals)`\n",
      "  tmp.loc[:,'order_accept_date']=pd.to_datetime(tmp['order_accept_date'])\n"
     ]
    },
    {
     "name": "stdout",
     "output_type": "stream",
     "text": [
      "166    さいたま南店\n",
      "Name: store_name, dtype: object\n"
     ]
    },
    {
     "name": "stderr",
     "output_type": "stream",
     "text": [
      "C:\\Users\\yoshikoshi\\AppData\\Local\\Temp\\ipykernel_5392\\3397485158.py:5: DeprecationWarning: In a future version, `df.iloc[:, i] = newvals` will attempt to set the values inplace instead of always setting a new array. To retain the old behavior, use either `df[df.columns[i]] = newvals` or, if columns are non-unique, `df.isetitem(i, newvals)`\n",
      "  tmp.loc[:,'order_accept_date']=pd.to_datetime(tmp['order_accept_date'])\n"
     ]
    },
    {
     "name": "stdout",
     "output_type": "stream",
     "text": [
      "167    坂戸店\n",
      "Name: store_name, dtype: object\n"
     ]
    },
    {
     "name": "stderr",
     "output_type": "stream",
     "text": [
      "C:\\Users\\yoshikoshi\\AppData\\Local\\Temp\\ipykernel_5392\\3397485158.py:5: DeprecationWarning: In a future version, `df.iloc[:, i] = newvals` will attempt to set the values inplace instead of always setting a new array. To retain the old behavior, use either `df[df.columns[i]] = newvals` or, if columns are non-unique, `df.isetitem(i, newvals)`\n",
      "  tmp.loc[:,'order_accept_date']=pd.to_datetime(tmp['order_accept_date'])\n"
     ]
    },
    {
     "name": "stdout",
     "output_type": "stream",
     "text": [
      "168    狭山店\n",
      "Name: store_name, dtype: object\n"
     ]
    },
    {
     "name": "stderr",
     "output_type": "stream",
     "text": [
      "C:\\Users\\yoshikoshi\\AppData\\Local\\Temp\\ipykernel_5392\\3397485158.py:5: DeprecationWarning: In a future version, `df.iloc[:, i] = newvals` will attempt to set the values inplace instead of always setting a new array. To retain the old behavior, use either `df[df.columns[i]] = newvals` or, if columns are non-unique, `df.isetitem(i, newvals)`\n",
      "  tmp.loc[:,'order_accept_date']=pd.to_datetime(tmp['order_accept_date'])\n"
     ]
    },
    {
     "name": "stdout",
     "output_type": "stream",
     "text": [
      "169    志木店\n",
      "Name: store_name, dtype: object\n"
     ]
    },
    {
     "name": "stderr",
     "output_type": "stream",
     "text": [
      "C:\\Users\\yoshikoshi\\AppData\\Local\\Temp\\ipykernel_5392\\3397485158.py:5: DeprecationWarning: In a future version, `df.iloc[:, i] = newvals` will attempt to set the values inplace instead of always setting a new array. To retain the old behavior, use either `df[df.columns[i]] = newvals` or, if columns are non-unique, `df.isetitem(i, newvals)`\n",
      "  tmp.loc[:,'order_accept_date']=pd.to_datetime(tmp['order_accept_date'])\n"
     ]
    },
    {
     "name": "stdout",
     "output_type": "stream",
     "text": [
      "170    草加店\n",
      "Name: store_name, dtype: object\n"
     ]
    },
    {
     "name": "stderr",
     "output_type": "stream",
     "text": [
      "C:\\Users\\yoshikoshi\\AppData\\Local\\Temp\\ipykernel_5392\\3397485158.py:5: DeprecationWarning: In a future version, `df.iloc[:, i] = newvals` will attempt to set the values inplace instead of always setting a new array. To retain the old behavior, use either `df[df.columns[i]] = newvals` or, if columns are non-unique, `df.isetitem(i, newvals)`\n",
      "  tmp.loc[:,'order_accept_date']=pd.to_datetime(tmp['order_accept_date'])\n"
     ]
    },
    {
     "name": "stdout",
     "output_type": "stream",
     "text": [
      "171    所沢店\n",
      "Name: store_name, dtype: object\n"
     ]
    },
    {
     "name": "stderr",
     "output_type": "stream",
     "text": [
      "C:\\Users\\yoshikoshi\\AppData\\Local\\Temp\\ipykernel_5392\\3397485158.py:5: DeprecationWarning: In a future version, `df.iloc[:, i] = newvals` will attempt to set the values inplace instead of always setting a new array. To retain the old behavior, use either `df[df.columns[i]] = newvals` or, if columns are non-unique, `df.isetitem(i, newvals)`\n",
      "  tmp.loc[:,'order_accept_date']=pd.to_datetime(tmp['order_accept_date'])\n"
     ]
    },
    {
     "name": "stdout",
     "output_type": "stream",
     "text": [
      "172    戸田店\n",
      "Name: store_name, dtype: object\n"
     ]
    },
    {
     "name": "stderr",
     "output_type": "stream",
     "text": [
      "C:\\Users\\yoshikoshi\\AppData\\Local\\Temp\\ipykernel_5392\\3397485158.py:5: DeprecationWarning: In a future version, `df.iloc[:, i] = newvals` will attempt to set the values inplace instead of always setting a new array. To retain the old behavior, use either `df[df.columns[i]] = newvals` or, if columns are non-unique, `df.isetitem(i, newvals)`\n",
      "  tmp.loc[:,'order_accept_date']=pd.to_datetime(tmp['order_accept_date'])\n"
     ]
    },
    {
     "name": "stdout",
     "output_type": "stream",
     "text": [
      "173    新座店\n",
      "Name: store_name, dtype: object\n"
     ]
    },
    {
     "name": "stderr",
     "output_type": "stream",
     "text": [
      "C:\\Users\\yoshikoshi\\AppData\\Local\\Temp\\ipykernel_5392\\3397485158.py:5: DeprecationWarning: In a future version, `df.iloc[:, i] = newvals` will attempt to set the values inplace instead of always setting a new array. To retain the old behavior, use either `df[df.columns[i]] = newvals` or, if columns are non-unique, `df.isetitem(i, newvals)`\n",
      "  tmp.loc[:,'order_accept_date']=pd.to_datetime(tmp['order_accept_date'])\n"
     ]
    },
    {
     "name": "stdout",
     "output_type": "stream",
     "text": [
      "174    羽生店\n",
      "Name: store_name, dtype: object\n"
     ]
    },
    {
     "name": "stderr",
     "output_type": "stream",
     "text": [
      "C:\\Users\\yoshikoshi\\AppData\\Local\\Temp\\ipykernel_5392\\3397485158.py:5: DeprecationWarning: In a future version, `df.iloc[:, i] = newvals` will attempt to set the values inplace instead of always setting a new array. To retain the old behavior, use either `df[df.columns[i]] = newvals` or, if columns are non-unique, `df.isetitem(i, newvals)`\n",
      "  tmp.loc[:,'order_accept_date']=pd.to_datetime(tmp['order_accept_date'])\n"
     ]
    },
    {
     "name": "stdout",
     "output_type": "stream",
     "text": [
      "175    東松山店\n",
      "Name: store_name, dtype: object\n"
     ]
    },
    {
     "name": "stderr",
     "output_type": "stream",
     "text": [
      "C:\\Users\\yoshikoshi\\AppData\\Local\\Temp\\ipykernel_5392\\3397485158.py:5: DeprecationWarning: In a future version, `df.iloc[:, i] = newvals` will attempt to set the values inplace instead of always setting a new array. To retain the old behavior, use either `df[df.columns[i]] = newvals` or, if columns are non-unique, `df.isetitem(i, newvals)`\n",
      "  tmp.loc[:,'order_accept_date']=pd.to_datetime(tmp['order_accept_date'])\n"
     ]
    },
    {
     "name": "stdout",
     "output_type": "stream",
     "text": [
      "176    本庄店\n",
      "Name: store_name, dtype: object\n"
     ]
    },
    {
     "name": "stderr",
     "output_type": "stream",
     "text": [
      "C:\\Users\\yoshikoshi\\AppData\\Local\\Temp\\ipykernel_5392\\3397485158.py:5: DeprecationWarning: In a future version, `df.iloc[:, i] = newvals` will attempt to set the values inplace instead of always setting a new array. To retain the old behavior, use either `df[df.columns[i]] = newvals` or, if columns are non-unique, `df.isetitem(i, newvals)`\n",
      "  tmp.loc[:,'order_accept_date']=pd.to_datetime(tmp['order_accept_date'])\n"
     ]
    },
    {
     "name": "stdout",
     "output_type": "stream",
     "text": [
      "177    八潮店\n",
      "Name: store_name, dtype: object\n"
     ]
    },
    {
     "name": "stderr",
     "output_type": "stream",
     "text": [
      "C:\\Users\\yoshikoshi\\AppData\\Local\\Temp\\ipykernel_5392\\3397485158.py:5: DeprecationWarning: In a future version, `df.iloc[:, i] = newvals` will attempt to set the values inplace instead of always setting a new array. To retain the old behavior, use either `df[df.columns[i]] = newvals` or, if columns are non-unique, `df.isetitem(i, newvals)`\n",
      "  tmp.loc[:,'order_accept_date']=pd.to_datetime(tmp['order_accept_date'])\n"
     ]
    },
    {
     "name": "stdout",
     "output_type": "stream",
     "text": [
      "178    和光店\n",
      "Name: store_name, dtype: object\n"
     ]
    },
    {
     "name": "stderr",
     "output_type": "stream",
     "text": [
      "C:\\Users\\yoshikoshi\\AppData\\Local\\Temp\\ipykernel_5392\\3397485158.py:5: DeprecationWarning: In a future version, `df.iloc[:, i] = newvals` will attempt to set the values inplace instead of always setting a new array. To retain the old behavior, use either `df[df.columns[i]] = newvals` or, if columns are non-unique, `df.isetitem(i, newvals)`\n",
      "  tmp.loc[:,'order_accept_date']=pd.to_datetime(tmp['order_accept_date'])\n"
     ]
    },
    {
     "name": "stdout",
     "output_type": "stream",
     "text": [
      "179    つくば店\n",
      "Name: store_name, dtype: object\n"
     ]
    },
    {
     "name": "stderr",
     "output_type": "stream",
     "text": [
      "C:\\Users\\yoshikoshi\\AppData\\Local\\Temp\\ipykernel_5392\\3397485158.py:5: DeprecationWarning: In a future version, `df.iloc[:, i] = newvals` will attempt to set the values inplace instead of always setting a new array. To retain the old behavior, use either `df[df.columns[i]] = newvals` or, if columns are non-unique, `df.isetitem(i, newvals)`\n",
      "  tmp.loc[:,'order_accept_date']=pd.to_datetime(tmp['order_accept_date'])\n"
     ]
    },
    {
     "name": "stdout",
     "output_type": "stream",
     "text": [
      "180    取手店\n",
      "Name: store_name, dtype: object\n"
     ]
    },
    {
     "name": "stderr",
     "output_type": "stream",
     "text": [
      "C:\\Users\\yoshikoshi\\AppData\\Local\\Temp\\ipykernel_5392\\3397485158.py:5: DeprecationWarning: In a future version, `df.iloc[:, i] = newvals` will attempt to set the values inplace instead of always setting a new array. To retain the old behavior, use either `df[df.columns[i]] = newvals` or, if columns are non-unique, `df.isetitem(i, newvals)`\n",
      "  tmp.loc[:,'order_accept_date']=pd.to_datetime(tmp['order_accept_date'])\n"
     ]
    },
    {
     "name": "stdout",
     "output_type": "stream",
     "text": [
      "181    那珂店\n",
      "Name: store_name, dtype: object\n"
     ]
    },
    {
     "name": "stderr",
     "output_type": "stream",
     "text": [
      "C:\\Users\\yoshikoshi\\AppData\\Local\\Temp\\ipykernel_5392\\3397485158.py:5: DeprecationWarning: In a future version, `df.iloc[:, i] = newvals` will attempt to set the values inplace instead of always setting a new array. To retain the old behavior, use either `df[df.columns[i]] = newvals` or, if columns are non-unique, `df.isetitem(i, newvals)`\n",
      "  tmp.loc[:,'order_accept_date']=pd.to_datetime(tmp['order_accept_date'])\n"
     ]
    },
    {
     "name": "stdout",
     "output_type": "stream",
     "text": [
      "182    日立店\n",
      "Name: store_name, dtype: object\n"
     ]
    },
    {
     "name": "stderr",
     "output_type": "stream",
     "text": [
      "C:\\Users\\yoshikoshi\\AppData\\Local\\Temp\\ipykernel_5392\\3397485158.py:5: DeprecationWarning: In a future version, `df.iloc[:, i] = newvals` will attempt to set the values inplace instead of always setting a new array. To retain the old behavior, use either `df[df.columns[i]] = newvals` or, if columns are non-unique, `df.isetitem(i, newvals)`\n",
      "  tmp.loc[:,'order_accept_date']=pd.to_datetime(tmp['order_accept_date'])\n"
     ]
    },
    {
     "name": "stdout",
     "output_type": "stream",
     "text": [
      "183    水戸店\n",
      "Name: store_name, dtype: object\n"
     ]
    },
    {
     "name": "stderr",
     "output_type": "stream",
     "text": [
      "C:\\Users\\yoshikoshi\\AppData\\Local\\Temp\\ipykernel_5392\\3397485158.py:5: DeprecationWarning: In a future version, `df.iloc[:, i] = newvals` will attempt to set the values inplace instead of always setting a new array. To retain the old behavior, use either `df[df.columns[i]] = newvals` or, if columns are non-unique, `df.isetitem(i, newvals)`\n",
      "  tmp.loc[:,'order_accept_date']=pd.to_datetime(tmp['order_accept_date'])\n"
     ]
    },
    {
     "name": "stdout",
     "output_type": "stream",
     "text": [
      "184    守谷店\n",
      "Name: store_name, dtype: object\n"
     ]
    },
    {
     "name": "stderr",
     "output_type": "stream",
     "text": [
      "C:\\Users\\yoshikoshi\\AppData\\Local\\Temp\\ipykernel_5392\\3397485158.py:5: DeprecationWarning: In a future version, `df.iloc[:, i] = newvals` will attempt to set the values inplace instead of always setting a new array. To retain the old behavior, use either `df[df.columns[i]] = newvals` or, if columns are non-unique, `df.isetitem(i, newvals)`\n",
      "  tmp.loc[:,'order_accept_date']=pd.to_datetime(tmp['order_accept_date'])\n"
     ]
    },
    {
     "name": "stdout",
     "output_type": "stream",
     "text": [
      "185    足利店\n",
      "Name: store_name, dtype: object\n"
     ]
    },
    {
     "name": "stderr",
     "output_type": "stream",
     "text": [
      "C:\\Users\\yoshikoshi\\AppData\\Local\\Temp\\ipykernel_5392\\3397485158.py:5: DeprecationWarning: In a future version, `df.iloc[:, i] = newvals` will attempt to set the values inplace instead of always setting a new array. To retain the old behavior, use either `df[df.columns[i]] = newvals` or, if columns are non-unique, `df.isetitem(i, newvals)`\n",
      "  tmp.loc[:,'order_accept_date']=pd.to_datetime(tmp['order_accept_date'])\n"
     ]
    },
    {
     "name": "stdout",
     "output_type": "stream",
     "text": [
      "186    宇都宮店\n",
      "Name: store_name, dtype: object\n"
     ]
    },
    {
     "name": "stderr",
     "output_type": "stream",
     "text": [
      "C:\\Users\\yoshikoshi\\AppData\\Local\\Temp\\ipykernel_5392\\3397485158.py:5: DeprecationWarning: In a future version, `df.iloc[:, i] = newvals` will attempt to set the values inplace instead of always setting a new array. To retain the old behavior, use either `df[df.columns[i]] = newvals` or, if columns are non-unique, `df.isetitem(i, newvals)`\n",
      "  tmp.loc[:,'order_accept_date']=pd.to_datetime(tmp['order_accept_date'])\n"
     ]
    },
    {
     "name": "stdout",
     "output_type": "stream",
     "text": [
      "187    小山店\n",
      "Name: store_name, dtype: object\n"
     ]
    },
    {
     "name": "stderr",
     "output_type": "stream",
     "text": [
      "C:\\Users\\yoshikoshi\\AppData\\Local\\Temp\\ipykernel_5392\\3397485158.py:5: DeprecationWarning: In a future version, `df.iloc[:, i] = newvals` will attempt to set the values inplace instead of always setting a new array. To retain the old behavior, use either `df[df.columns[i]] = newvals` or, if columns are non-unique, `df.isetitem(i, newvals)`\n",
      "  tmp.loc[:,'order_accept_date']=pd.to_datetime(tmp['order_accept_date'])\n"
     ]
    },
    {
     "name": "stdout",
     "output_type": "stream",
     "text": [
      "188    佐野店\n",
      "Name: store_name, dtype: object\n"
     ]
    },
    {
     "name": "stderr",
     "output_type": "stream",
     "text": [
      "C:\\Users\\yoshikoshi\\AppData\\Local\\Temp\\ipykernel_5392\\3397485158.py:5: DeprecationWarning: In a future version, `df.iloc[:, i] = newvals` will attempt to set the values inplace instead of always setting a new array. To retain the old behavior, use either `df[df.columns[i]] = newvals` or, if columns are non-unique, `df.isetitem(i, newvals)`\n",
      "  tmp.loc[:,'order_accept_date']=pd.to_datetime(tmp['order_accept_date'])\n"
     ]
    },
    {
     "name": "stdout",
     "output_type": "stream",
     "text": [
      "189    栃木店\n",
      "Name: store_name, dtype: object\n"
     ]
    },
    {
     "name": "stderr",
     "output_type": "stream",
     "text": [
      "C:\\Users\\yoshikoshi\\AppData\\Local\\Temp\\ipykernel_5392\\3397485158.py:5: DeprecationWarning: In a future version, `df.iloc[:, i] = newvals` will attempt to set the values inplace instead of always setting a new array. To retain the old behavior, use either `df[df.columns[i]] = newvals` or, if columns are non-unique, `df.isetitem(i, newvals)`\n",
      "  tmp.loc[:,'order_accept_date']=pd.to_datetime(tmp['order_accept_date'])\n"
     ]
    },
    {
     "name": "stdout",
     "output_type": "stream",
     "text": [
      "190    伊勢崎店\n",
      "Name: store_name, dtype: object\n"
     ]
    },
    {
     "name": "stderr",
     "output_type": "stream",
     "text": [
      "C:\\Users\\yoshikoshi\\AppData\\Local\\Temp\\ipykernel_5392\\3397485158.py:5: DeprecationWarning: In a future version, `df.iloc[:, i] = newvals` will attempt to set the values inplace instead of always setting a new array. To retain the old behavior, use either `df[df.columns[i]] = newvals` or, if columns are non-unique, `df.isetitem(i, newvals)`\n",
      "  tmp.loc[:,'order_accept_date']=pd.to_datetime(tmp['order_accept_date'])\n"
     ]
    },
    {
     "name": "stdout",
     "output_type": "stream",
     "text": [
      "191    太田店\n",
      "Name: store_name, dtype: object\n"
     ]
    },
    {
     "name": "stderr",
     "output_type": "stream",
     "text": [
      "C:\\Users\\yoshikoshi\\AppData\\Local\\Temp\\ipykernel_5392\\3397485158.py:5: DeprecationWarning: In a future version, `df.iloc[:, i] = newvals` will attempt to set the values inplace instead of always setting a new array. To retain the old behavior, use either `df[df.columns[i]] = newvals` or, if columns are non-unique, `df.isetitem(i, newvals)`\n",
      "  tmp.loc[:,'order_accept_date']=pd.to_datetime(tmp['order_accept_date'])\n"
     ]
    },
    {
     "name": "stdout",
     "output_type": "stream",
     "text": [
      "192    桐生店\n",
      "Name: store_name, dtype: object\n"
     ]
    },
    {
     "name": "stderr",
     "output_type": "stream",
     "text": [
      "C:\\Users\\yoshikoshi\\AppData\\Local\\Temp\\ipykernel_5392\\3397485158.py:5: DeprecationWarning: In a future version, `df.iloc[:, i] = newvals` will attempt to set the values inplace instead of always setting a new array. To retain the old behavior, use either `df[df.columns[i]] = newvals` or, if columns are non-unique, `df.isetitem(i, newvals)`\n",
      "  tmp.loc[:,'order_accept_date']=pd.to_datetime(tmp['order_accept_date'])\n"
     ]
    },
    {
     "name": "stdout",
     "output_type": "stream",
     "text": [
      "193    高崎店\n",
      "Name: store_name, dtype: object\n"
     ]
    },
    {
     "name": "stderr",
     "output_type": "stream",
     "text": [
      "C:\\Users\\yoshikoshi\\AppData\\Local\\Temp\\ipykernel_5392\\3397485158.py:5: DeprecationWarning: In a future version, `df.iloc[:, i] = newvals` will attempt to set the values inplace instead of always setting a new array. To retain the old behavior, use either `df[df.columns[i]] = newvals` or, if columns are non-unique, `df.isetitem(i, newvals)`\n",
      "  tmp.loc[:,'order_accept_date']=pd.to_datetime(tmp['order_accept_date'])\n"
     ]
    },
    {
     "name": "stdout",
     "output_type": "stream",
     "text": [
      "194    館林店\n",
      "Name: store_name, dtype: object\n"
     ]
    },
    {
     "name": "stderr",
     "output_type": "stream",
     "text": [
      "C:\\Users\\yoshikoshi\\AppData\\Local\\Temp\\ipykernel_5392\\3397485158.py:5: DeprecationWarning: In a future version, `df.iloc[:, i] = newvals` will attempt to set the values inplace instead of always setting a new array. To retain the old behavior, use either `df[df.columns[i]] = newvals` or, if columns are non-unique, `df.isetitem(i, newvals)`\n",
      "  tmp.loc[:,'order_accept_date']=pd.to_datetime(tmp['order_accept_date'])\n"
     ]
    },
    {
     "name": "stdout",
     "output_type": "stream",
     "text": [
      "195    前橋店\n",
      "Name: store_name, dtype: object\n"
     ]
    },
    {
     "name": "stderr",
     "output_type": "stream",
     "text": [
      "C:\\Users\\yoshikoshi\\AppData\\Local\\Temp\\ipykernel_5392\\3397485158.py:5: DeprecationWarning: In a future version, `df.iloc[:, i] = newvals` will attempt to set the values inplace instead of always setting a new array. To retain the old behavior, use either `df[df.columns[i]] = newvals` or, if columns are non-unique, `df.isetitem(i, newvals)`\n",
      "  tmp.loc[:,'order_accept_date']=pd.to_datetime(tmp['order_accept_date'])\n"
     ]
    },
    {
     "name": "stdout",
     "output_type": "stream",
     "text": [
      "出力完了しました\n"
     ]
    }
   ],
   "source": [
    "#40\n",
    "os.makedirs('output',exist_ok=True)\n",
    "for store in m_store['store_id'].tolist():\n",
    "    if store != 999:\n",
    "        store_df=order_all.loc[order_all['store_id']==store]\n",
    "        store_name=m_store.loc[m_store['store_id']==store]['store_name']\n",
    "        print(store_name)\n",
    "\n",
    "        tmp_file_name=make_data_sheet(store,store_df,'output')\n",
    "        make_summary_sheet(store,store_name.values[0],tmp_file_name)\n",
    "\n",
    "print('出力完了しました')        "
   ]
  }
 ],
 "metadata": {
  "kernelspec": {
   "display_name": "Python 3 (ipykernel)",
   "language": "python",
   "name": "python3"
  },
  "language_info": {
   "codemirror_mode": {
    "name": "ipython",
    "version": 3
   },
   "file_extension": ".py",
   "mimetype": "text/x-python",
   "name": "python",
   "nbconvert_exporter": "python",
   "pygments_lexer": "ipython3",
   "version": "3.10.9"
  }
 },
 "nbformat": 4,
 "nbformat_minor": 5
}
