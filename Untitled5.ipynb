{
 "cells": [
  {
   "cell_type": "code",
   "execution_count": null,
   "id": "1ae15344-91d9-4475-97ef-4a8bb3cbee85",
   "metadata": {},
   "outputs": [
    {
     "name": "stderr",
     "output_type": "stream",
     "text": [
      "also installing the dependencies ‘x13binary’, ‘forecTheta’, ‘rticles’, ‘seasonal’, ‘uroot’\n",
      "\n",
      "\n"
     ]
    }
   ],
   "source": [
    "install.packages('forecast',dependencies=TRUE)"
   ]
  },
  {
   "cell_type": "code",
   "execution_count": null,
   "id": "7d4c3f08-43b5-4852-a6f9-b3f9935d400a",
   "metadata": {},
   "outputs": [],
   "source": []
  }
 ],
 "metadata": {
  "kernelspec": {
   "display_name": "R",
   "language": "R",
   "name": "ir"
  },
  "language_info": {
   "codemirror_mode": "r",
   "file_extension": ".r",
   "mimetype": "text/x-r-source",
   "name": "R",
   "pygments_lexer": "r",
   "version": "4.1.3"
  }
 },
 "nbformat": 4,
 "nbformat_minor": 5
}
