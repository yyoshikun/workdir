{
 "cells": [
  {
   "cell_type": "code",
   "execution_count": 1,
   "id": "0daf9de2-2652-41a5-be15-de8b1442b075",
   "metadata": {},
   "outputs": [
    {
     "name": "stderr",
     "output_type": "stream",
     "text": [
      "also installing the dependencies ‘packrat’, ‘renv’, ‘V8’, ‘fontawesome’, ‘xfun’, ‘dygraphs’, ‘rsconnect’, ‘katex’, ‘cleanrmd’\n",
      "\n",
      "\n",
      "Updating HTML index of packages in '.Library'\n",
      "\n",
      "Making 'packages.html' ...\n",
      " done\n",
      "\n"
     ]
    }
   ],
   "source": [
    "#Rのパッケージをインストール\n",
    "install.packages(\"rmarkdown\", dependencies = TRUE)"
   ]
  },
  {
   "cell_type": "code",
   "execution_count": 2,
   "id": "00a5efb2-e5b7-45c0-bb56-ce35a01698a5",
   "metadata": {},
   "outputs": [
    {
     "data": {
      "text/html": [
       "TRUE"
      ],
      "text/latex": [
       "TRUE"
      ],
      "text/markdown": [
       "TRUE"
      ],
      "text/plain": [
       "[1] TRUE"
      ]
     },
     "metadata": {},
     "output_type": "display_data"
    }
   ],
   "source": [
    "library(rmarkdown)\n",
    "pandoc_available()\n",
    "#True は入っている"
   ]
  },
  {
   "cell_type": "code",
   "execution_count": 3,
   "id": "b02ac3e5-32eb-4b2b-af62-e209683c41d7",
   "metadata": {},
   "outputs": [
    {
     "name": "stderr",
     "output_type": "stream",
     "text": [
      "Registered S3 method overwritten by 'quantmod':\n",
      "  method            from\n",
      "  as.zoo.data.frame zoo \n",
      "\n"
     ]
    },
    {
     "data": {
      "text/html": [
       "TRUE"
      ],
      "text/latex": [
       "TRUE"
      ],
      "text/markdown": [
       "TRUE"
      ],
      "text/plain": [
       "[1] TRUE"
      ]
     },
     "metadata": {},
     "output_type": "display_data"
    }
   ],
   "source": [
    "library(forecast)\n",
    "pandoc_available()\n",
    "#True は入っている"
   ]
  },
  {
   "cell_type": "code",
   "execution_count": 10,
   "id": "a203a9b9-693b-42f3-805a-3c3836241ede",
   "metadata": {},
   "outputs": [
    {
     "ename": "ERROR",
     "evalue": "Error in parse(text = x, srcfile = src): <text>:2:8: unexpected symbol\n1: #107 code3-74 MSTLで複数の季節成分に対応した予測モデル\n2: import numpy\n          ^\n",
     "output_type": "error",
     "traceback": [
      "Error in parse(text = x, srcfile = src): <text>:2:8: unexpected symbol\n1: #107 code3-74 MSTLで複数の季節成分に対応した予測モデル\n2: import numpy\n          ^\nTraceback:\n"
     ]
    }
   ],
   "source": [
    "#107 code3-74 MSTLで複数の季節成分に対応した予測モデル\n",
    "import numpy as np\n",
    "import pandas as pd\n",
    "import statsmodels.api as sm\n",
    "import rpy2\n",
    "%load_ext rpy2.ipython\n",
    "\n",
    "import matplotlib.pyplot as plt\n",
    "plt.style.use('ggplot')\n",
    "plt.rcParams['figure.figsize']=[12,9]\n",
    "plt.rcParams['font.size']=14\n",
    "\n",
    "#-----jupyterlabで動作するので操作再開してみる-----"
   ]
  },
  {
   "cell_type": "code",
   "execution_count": 11,
   "id": "45495809-b8ba-422c-99d0-0bc383ef1c91",
   "metadata": {},
   "outputs": [
    {
     "ename": "ERROR",
     "evalue": "Error in pd.read_csv(dataset): could not find function \"pd.read_csv\"\n",
     "output_type": "error",
     "traceback": [
      "Error in pd.read_csv(dataset): could not find function \"pd.read_csv\"\nTraceback:\n"
     ]
    }
   ],
   "source": [
    "#108 code3-75 データの読み込み\n",
    "#dataset=sm.datasets.get_rdataset('taylor','forecast')\n",
    "#display(dataset.data)\n",
    "dataset='Num_3_predict/01_output/Num_3_2018_2022_data.csv'\n",
    "#df=pd.read_csv(dataset,index_col='date',parse_dates=True)\n",
    "df=pd.read_csv(dataset)\n",
    "df"
   ]
  },
  {
   "cell_type": "code",
   "execution_count": 12,
   "id": "a01609f0-81e6-4bee-8dbe-49f0174506ac",
   "metadata": {},
   "outputs": [
    {
     "ename": "ERROR",
     "evalue": "Error in df.rename(columns = {: could not find function \"df.rename\"\n",
     "output_type": "error",
     "traceback": [
      "Error in df.rename(columns = {: could not find function \"df.rename\"\nTraceback:\n"
     ]
    }
   ],
   "source": [
    "#109 列名の変更\n",
    "df_new=df.rename(columns={'Lottery_result':'x'})\n",
    "df_new"
   ]
  },
  {
   "cell_type": "code",
   "execution_count": null,
   "id": "c9aab188-1cda-451e-b2c9-93c3a820d79a",
   "metadata": {},
   "outputs": [],
   "source": []
  }
 ],
 "metadata": {
  "kernelspec": {
   "display_name": "R",
   "language": "R",
   "name": "ir"
  },
  "language_info": {
   "codemirror_mode": "r",
   "file_extension": ".r",
   "mimetype": "text/x-r-source",
   "name": "R",
   "pygments_lexer": "r",
   "version": "4.1.3"
  }
 },
 "nbformat": 4,
 "nbformat_minor": 5
}
