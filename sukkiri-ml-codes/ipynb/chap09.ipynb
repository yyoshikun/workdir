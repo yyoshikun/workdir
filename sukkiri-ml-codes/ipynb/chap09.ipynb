{
 "cells": [
  {
   "cell_type": "markdown",
   "metadata": {},
   "source": [
    "# 練習9-1 \n",
    "## どのような機械学習手法を用いると良いか？\n",
    "\n",
    "### 解答例\n",
    "教師あり学習の分類"
   ]
  },
  {
   "cell_type": "markdown",
   "metadata": {},
   "source": [
    "# 練習9-2\n",
    "## どのようなアウトプットを得られるか？また、その分析結果からどのようにスッキリ銀行の課題を解決する事が出来るか？"
   ]
  },
  {
   "cell_type": "markdown",
   "metadata": {},
   "source": [
    "### 解答例  \n",
    "ｙ列を予測する分類モデルを作ることにより、その顧客が購入してくれるかどうかが事前に分かる。また、特徴量にこちらからのアプローチ法を入れる事により、「この顧客の場合、こういうアプローチをとったら購入してくれる」というような営業の最適化を行う事が出来る\n"
   ]
  },
  {
   "cell_type": "markdown",
   "metadata": {},
   "source": [
    "# 練習9-3 \n",
    "## ひとまず何でもいいのでモデルを作ってみましょう。ただし、データは訓練、検証、テストデータの3分割をする方法を利用すること"
   ]
  },
  {
   "cell_type": "code",
   "execution_count": 1,
   "metadata": {},
   "outputs": [],
   "source": [
    "import pandas as pd\n",
    "from sklearn import tree\n",
    "from sklearn.model_selection import train_test_split\n",
    "%matplotlib inline "
   ]
  },
  {
   "cell_type": "code",
   "execution_count": null,
   "metadata": {},
   "outputs": [],
   "source": []
  },
  {
   "cell_type": "code",
   "execution_count": null,
   "metadata": {},
   "outputs": [],
   "source": []
  },
  {
   "cell_type": "code",
   "execution_count": 2,
   "metadata": {},
   "outputs": [
    {
     "name": "stdout",
     "output_type": "stream",
     "text": [
      "(27128, 16)\n"
     ]
    },
    {
     "data": {
      "text/html": [
       "<div>\n",
       "<style scoped>\n",
       "    .dataframe tbody tr th:only-of-type {\n",
       "        vertical-align: middle;\n",
       "    }\n",
       "\n",
       "    .dataframe tbody tr th {\n",
       "        vertical-align: top;\n",
       "    }\n",
       "\n",
       "    .dataframe thead th {\n",
       "        text-align: right;\n",
       "    }\n",
       "</style>\n",
       "<table border=\"1\" class=\"dataframe\">\n",
       "  <thead>\n",
       "    <tr style=\"text-align: right;\">\n",
       "      <th></th>\n",
       "      <th>id</th>\n",
       "      <th>age</th>\n",
       "      <th>job</th>\n",
       "      <th>marital</th>\n",
       "      <th>education</th>\n",
       "      <th>default</th>\n",
       "      <th>amount</th>\n",
       "      <th>housing</th>\n",
       "      <th>loan</th>\n",
       "      <th>contact</th>\n",
       "      <th>day</th>\n",
       "      <th>month</th>\n",
       "      <th>duration</th>\n",
       "      <th>campaign</th>\n",
       "      <th>previous</th>\n",
       "      <th>y</th>\n",
       "    </tr>\n",
       "  </thead>\n",
       "  <tbody>\n",
       "    <tr>\n",
       "      <th>0</th>\n",
       "      <td>1</td>\n",
       "      <td>39</td>\n",
       "      <td>blue-collar</td>\n",
       "      <td>married</td>\n",
       "      <td>secondary</td>\n",
       "      <td>no</td>\n",
       "      <td>1756.0</td>\n",
       "      <td>yes</td>\n",
       "      <td>no</td>\n",
       "      <td>cellular</td>\n",
       "      <td>3</td>\n",
       "      <td>apr</td>\n",
       "      <td>370.055237</td>\n",
       "      <td>1</td>\n",
       "      <td>0</td>\n",
       "      <td>1</td>\n",
       "    </tr>\n",
       "    <tr>\n",
       "      <th>1</th>\n",
       "      <td>2</td>\n",
       "      <td>51</td>\n",
       "      <td>entrepreneur</td>\n",
       "      <td>married</td>\n",
       "      <td>primary</td>\n",
       "      <td>no</td>\n",
       "      <td>1443.0</td>\n",
       "      <td>no</td>\n",
       "      <td>no</td>\n",
       "      <td>cellular</td>\n",
       "      <td>18</td>\n",
       "      <td>feb</td>\n",
       "      <td>233.998933</td>\n",
       "      <td>10</td>\n",
       "      <td>0</td>\n",
       "      <td>1</td>\n",
       "    </tr>\n",
       "    <tr>\n",
       "      <th>2</th>\n",
       "      <td>3</td>\n",
       "      <td>36</td>\n",
       "      <td>management</td>\n",
       "      <td>single</td>\n",
       "      <td>tertiary</td>\n",
       "      <td>no</td>\n",
       "      <td>436.0</td>\n",
       "      <td>no</td>\n",
       "      <td>no</td>\n",
       "      <td>cellular</td>\n",
       "      <td>13</td>\n",
       "      <td>apr</td>\n",
       "      <td>NaN</td>\n",
       "      <td>1</td>\n",
       "      <td>2</td>\n",
       "      <td>0</td>\n",
       "    </tr>\n",
       "    <tr>\n",
       "      <th>3</th>\n",
       "      <td>4</td>\n",
       "      <td>63</td>\n",
       "      <td>retired</td>\n",
       "      <td>married</td>\n",
       "      <td>secondary</td>\n",
       "      <td>no</td>\n",
       "      <td>474.0</td>\n",
       "      <td>no</td>\n",
       "      <td>no</td>\n",
       "      <td>cellular</td>\n",
       "      <td>25</td>\n",
       "      <td>jan</td>\n",
       "      <td>252.525808</td>\n",
       "      <td>1</td>\n",
       "      <td>0</td>\n",
       "      <td>0</td>\n",
       "    </tr>\n",
       "    <tr>\n",
       "      <th>4</th>\n",
       "      <td>5</td>\n",
       "      <td>31</td>\n",
       "      <td>management</td>\n",
       "      <td>single</td>\n",
       "      <td>tertiary</td>\n",
       "      <td>no</td>\n",
       "      <td>354.0</td>\n",
       "      <td>no</td>\n",
       "      <td>no</td>\n",
       "      <td>cellular</td>\n",
       "      <td>30</td>\n",
       "      <td>apr</td>\n",
       "      <td>NaN</td>\n",
       "      <td>1</td>\n",
       "      <td>2</td>\n",
       "      <td>0</td>\n",
       "    </tr>\n",
       "  </tbody>\n",
       "</table>\n",
       "</div>"
      ],
      "text/plain": [
       "   id  age           job  marital  education default  amount housing loan  \\\n",
       "0   1   39   blue-collar  married  secondary      no  1756.0     yes   no   \n",
       "1   2   51  entrepreneur  married    primary      no  1443.0      no   no   \n",
       "2   3   36    management   single   tertiary      no   436.0      no   no   \n",
       "3   4   63       retired  married  secondary      no   474.0      no   no   \n",
       "4   5   31    management   single   tertiary      no   354.0      no   no   \n",
       "\n",
       "    contact  day month    duration  campaign  previous  y  \n",
       "0  cellular    3   apr  370.055237         1         0  1  \n",
       "1  cellular   18   feb  233.998933        10         0  1  \n",
       "2  cellular   13   apr         NaN         1         2  0  \n",
       "3  cellular   25   jan  252.525808         1         0  0  \n",
       "4  cellular   30   apr         NaN         1         2  0  "
      ]
     },
     "execution_count": 2,
     "metadata": {},
     "output_type": "execute_result"
    }
   ],
   "source": [
    "df = pd.read_csv('Bank.csv')\n",
    "print(df.shape)\n",
    "df.head()"
   ]
  },
  {
   "cell_type": "code",
   "execution_count": 3,
   "metadata": {},
   "outputs": [],
   "source": [
    "# まず、ダミー変数化をしたいが、文字列の列が複数あるので抜き出す。\n",
    "str_col_name=['job','default','marital','education','housing','loan','contact','month']\n",
    "str_df = df[str_col_name]\n",
    "#複数列を一気にダミー変数化\n",
    "str_df2=pd.get_dummies(str_df,drop_first=True)\n",
    "\n",
    "num_df = df.drop(str_col_name,axis=1)#数値列を抜き出す\n",
    "df2 = pd.concat([num_df,str_df2,str_df],axis=1)#結合(今後の集計の利便性も考慮してstr_dfも結合しておく)"
   ]
  },
  {
   "cell_type": "code",
   "execution_count": 4,
   "metadata": {},
   "outputs": [
    {
     "data": {
      "text/plain": [
       "Index(['id', 'age', 'amount', 'day', 'duration', 'campaign', 'previous', 'y',\n",
       "       'job_blue-collar', 'job_entrepreneur', 'job_housemaid',\n",
       "       'job_management', 'job_retired', 'job_self-employed', 'job_services',\n",
       "       'job_student', 'job_technician', 'job_unemployed', 'job_unknown',\n",
       "       'default_yes', 'marital_married', 'marital_single',\n",
       "       'education_secondary', 'education_tertiary', 'education_unknown',\n",
       "       'housing_yes', 'loan_yes', 'contact_sending _document',\n",
       "       'contact_telephone', 'month_aug', 'month_dec', 'month_feb', 'month_jan',\n",
       "       'month_jul', 'month_jun', 'month_mar', 'month_may', 'month_nov',\n",
       "       'month_oct', 'month_sep', 'job', 'default', 'marital', 'education',\n",
       "       'housing', 'loan', 'contact', 'month'],\n",
       "      dtype='object')"
      ]
     },
     "execution_count": 4,
     "metadata": {},
     "output_type": "execute_result"
    }
   ],
   "source": [
    "df2.columns"
   ]
  },
  {
   "cell_type": "code",
   "execution_count": 5,
   "metadata": {},
   "outputs": [
    {
     "data": {
      "text/html": [
       "<div>\n",
       "<style scoped>\n",
       "    .dataframe tbody tr th:only-of-type {\n",
       "        vertical-align: middle;\n",
       "    }\n",
       "\n",
       "    .dataframe tbody tr th {\n",
       "        vertical-align: top;\n",
       "    }\n",
       "\n",
       "    .dataframe thead th {\n",
       "        text-align: right;\n",
       "    }\n",
       "</style>\n",
       "<table border=\"1\" class=\"dataframe\">\n",
       "  <thead>\n",
       "    <tr style=\"text-align: right;\">\n",
       "      <th></th>\n",
       "      <th>id</th>\n",
       "      <th>age</th>\n",
       "      <th>amount</th>\n",
       "      <th>day</th>\n",
       "      <th>duration</th>\n",
       "      <th>campaign</th>\n",
       "      <th>previous</th>\n",
       "      <th>y</th>\n",
       "      <th>job_blue-collar</th>\n",
       "      <th>job_entrepreneur</th>\n",
       "      <th>...</th>\n",
       "      <th>month_oct</th>\n",
       "      <th>month_sep</th>\n",
       "      <th>job</th>\n",
       "      <th>default</th>\n",
       "      <th>marital</th>\n",
       "      <th>education</th>\n",
       "      <th>housing</th>\n",
       "      <th>loan</th>\n",
       "      <th>contact</th>\n",
       "      <th>month</th>\n",
       "    </tr>\n",
       "  </thead>\n",
       "  <tbody>\n",
       "    <tr>\n",
       "      <th>13378</th>\n",
       "      <td>13379</td>\n",
       "      <td>46</td>\n",
       "      <td>0.0</td>\n",
       "      <td>10</td>\n",
       "      <td>378.293875</td>\n",
       "      <td>1</td>\n",
       "      <td>0</td>\n",
       "      <td>1</td>\n",
       "      <td>0</td>\n",
       "      <td>0</td>\n",
       "      <td>...</td>\n",
       "      <td>0</td>\n",
       "      <td>0</td>\n",
       "      <td>unemployed</td>\n",
       "      <td>no</td>\n",
       "      <td>married</td>\n",
       "      <td>tertiary</td>\n",
       "      <td>yes</td>\n",
       "      <td>no</td>\n",
       "      <td>cellular</td>\n",
       "      <td>jul</td>\n",
       "    </tr>\n",
       "    <tr>\n",
       "      <th>3800</th>\n",
       "      <td>3801</td>\n",
       "      <td>41</td>\n",
       "      <td>-333.0</td>\n",
       "      <td>30</td>\n",
       "      <td>300.845752</td>\n",
       "      <td>3</td>\n",
       "      <td>2</td>\n",
       "      <td>0</td>\n",
       "      <td>1</td>\n",
       "      <td>0</td>\n",
       "      <td>...</td>\n",
       "      <td>0</td>\n",
       "      <td>0</td>\n",
       "      <td>blue-collar</td>\n",
       "      <td>no</td>\n",
       "      <td>divorced</td>\n",
       "      <td>secondary</td>\n",
       "      <td>yes</td>\n",
       "      <td>no</td>\n",
       "      <td>cellular</td>\n",
       "      <td>jan</td>\n",
       "    </tr>\n",
       "    <tr>\n",
       "      <th>10398</th>\n",
       "      <td>10399</td>\n",
       "      <td>30</td>\n",
       "      <td>5389.0</td>\n",
       "      <td>6</td>\n",
       "      <td>159.053623</td>\n",
       "      <td>3</td>\n",
       "      <td>0</td>\n",
       "      <td>1</td>\n",
       "      <td>0</td>\n",
       "      <td>0</td>\n",
       "      <td>...</td>\n",
       "      <td>0</td>\n",
       "      <td>0</td>\n",
       "      <td>management</td>\n",
       "      <td>no</td>\n",
       "      <td>single</td>\n",
       "      <td>tertiary</td>\n",
       "      <td>no</td>\n",
       "      <td>no</td>\n",
       "      <td>cellular</td>\n",
       "      <td>aug</td>\n",
       "    </tr>\n",
       "    <tr>\n",
       "      <th>23401</th>\n",
       "      <td>23402</td>\n",
       "      <td>39</td>\n",
       "      <td>255.0</td>\n",
       "      <td>5</td>\n",
       "      <td>334.802583</td>\n",
       "      <td>1</td>\n",
       "      <td>0</td>\n",
       "      <td>0</td>\n",
       "      <td>0</td>\n",
       "      <td>0</td>\n",
       "      <td>...</td>\n",
       "      <td>0</td>\n",
       "      <td>0</td>\n",
       "      <td>management</td>\n",
       "      <td>no</td>\n",
       "      <td>single</td>\n",
       "      <td>tertiary</td>\n",
       "      <td>yes</td>\n",
       "      <td>no</td>\n",
       "      <td>sending _document</td>\n",
       "      <td>may</td>\n",
       "    </tr>\n",
       "    <tr>\n",
       "      <th>26223</th>\n",
       "      <td>26224</td>\n",
       "      <td>47</td>\n",
       "      <td>33.0</td>\n",
       "      <td>5</td>\n",
       "      <td>NaN</td>\n",
       "      <td>1</td>\n",
       "      <td>0</td>\n",
       "      <td>1</td>\n",
       "      <td>0</td>\n",
       "      <td>0</td>\n",
       "      <td>...</td>\n",
       "      <td>0</td>\n",
       "      <td>0</td>\n",
       "      <td>services</td>\n",
       "      <td>no</td>\n",
       "      <td>single</td>\n",
       "      <td>secondary</td>\n",
       "      <td>yes</td>\n",
       "      <td>no</td>\n",
       "      <td>cellular</td>\n",
       "      <td>may</td>\n",
       "    </tr>\n",
       "  </tbody>\n",
       "</table>\n",
       "<p>5 rows × 48 columns</p>\n",
       "</div>"
      ],
      "text/plain": [
       "          id  age  amount  day    duration  campaign  previous  y  \\\n",
       "13378  13379   46     0.0   10  378.293875         1         0  1   \n",
       "3800    3801   41  -333.0   30  300.845752         3         2  0   \n",
       "10398  10399   30  5389.0    6  159.053623         3         0  1   \n",
       "23401  23402   39   255.0    5  334.802583         1         0  0   \n",
       "26223  26224   47    33.0    5         NaN         1         0  1   \n",
       "\n",
       "       job_blue-collar  job_entrepreneur  ...  month_oct  month_sep  \\\n",
       "13378                0                 0  ...          0          0   \n",
       "3800                 1                 0  ...          0          0   \n",
       "10398                0                 0  ...          0          0   \n",
       "23401                0                 0  ...          0          0   \n",
       "26223                0                 0  ...          0          0   \n",
       "\n",
       "               job  default   marital  education  housing  loan  \\\n",
       "13378   unemployed       no   married   tertiary      yes    no   \n",
       "3800   blue-collar       no  divorced  secondary      yes    no   \n",
       "10398   management       no    single   tertiary       no    no   \n",
       "23401   management       no    single   tertiary      yes    no   \n",
       "26223     services       no    single  secondary      yes    no   \n",
       "\n",
       "                 contact  month  \n",
       "13378           cellular    jul  \n",
       "3800            cellular    jan  \n",
       "10398           cellular    aug  \n",
       "23401  sending _document    may  \n",
       "26223           cellular    may  \n",
       "\n",
       "[5 rows x 48 columns]"
      ]
     },
     "execution_count": 5,
     "metadata": {},
     "output_type": "execute_result"
    }
   ],
   "source": [
    "#訓練&検証データとテストデータに分割\n",
    "train_val,test = train_test_split(df2,test_size=0.1,random_state=9)\n",
    "train_val.head()"
   ]
  },
  {
   "cell_type": "code",
   "execution_count": null,
   "metadata": {},
   "outputs": [],
   "source": []
  },
  {
   "cell_type": "code",
   "execution_count": null,
   "metadata": {},
   "outputs": [],
   "source": []
  },
  {
   "cell_type": "markdown",
   "metadata": {},
   "source": [
    "# 欠損値の確認"
   ]
  },
  {
   "cell_type": "code",
   "execution_count": 6,
   "metadata": {},
   "outputs": [
    {
     "data": {
      "text/plain": [
       "duration    6331\n",
       "dtype: int64"
      ]
     },
     "execution_count": 6,
     "metadata": {},
     "output_type": "execute_result"
    }
   ],
   "source": [
    "a=train_val.isnull().sum()\n",
    "a[a>0]"
   ]
  },
  {
   "cell_type": "code",
   "execution_count": 7,
   "metadata": {},
   "outputs": [
    {
     "data": {
      "text/plain": [
       "314.89135074820206"
      ]
     },
     "execution_count": 7,
     "metadata": {},
     "output_type": "execute_result"
    }
   ],
   "source": [
    "train_val['duration'].median()"
   ]
  },
  {
   "cell_type": "code",
   "execution_count": 8,
   "metadata": {},
   "outputs": [],
   "source": [
    "#とりあえず最初は中央値で補完\n",
    "train_val2= train_val.fillna(train_val.median())"
   ]
  },
  {
   "cell_type": "code",
   "execution_count": 9,
   "metadata": {},
   "outputs": [
    {
     "data": {
      "text/plain": [
       "0    16601\n",
       "1     7814\n",
       "Name: y, dtype: int64"
      ]
     },
     "execution_count": 9,
     "metadata": {},
     "output_type": "execute_result"
    }
   ],
   "source": [
    "#不均衡なデータであるか確認\n",
    "train_val2['y'].value_counts()"
   ]
  },
  {
   "cell_type": "code",
   "execution_count": null,
   "metadata": {},
   "outputs": [],
   "source": []
  },
  {
   "cell_type": "markdown",
   "metadata": {},
   "source": [
    "### 今回は不均衡データの分類。モデル作成時にclass_weight=\"balanced\"と指定する事で、不均衡データに対応したモデルにする。\n",
    "\n",
    "### class_weightを指定すると、通常より正解率は上がりにくい。"
   ]
  },
  {
   "cell_type": "code",
   "execution_count": 10,
   "metadata": {},
   "outputs": [
    {
     "data": {
      "text/plain": [
       "0.6493958631988531"
      ]
     },
     "execution_count": 10,
     "metadata": {},
     "output_type": "execute_result"
    }
   ],
   "source": [
    "#とりあえず、全ての特徴量を利用してモデルを作ってみる。\n",
    "t =train_val2['y']\n",
    "x = train_val2.drop(str_col_name,axis=1)\n",
    "x =x.drop(['id','y','day'],axis=1)\n",
    "\n",
    "x_train,x_val,y_train,y_val = train_test_split(x,t,test_size=0.2,random_state=13)\n",
    "\n",
    "#不均衡データに対応できるように、class_weight引数も設定\n",
    "model = tree.DecisionTreeClassifier(random_state=3,max_depth=3,class_weight='balanced')\n",
    "\n",
    "#class_weightを指定しないとちなみに正解率は0.7ぐらい\n",
    "#model = tree.DecisionTreeClassifier(random_state=3,max_depth=5)\n",
    "model.fit(x_train,y_train)\n",
    "model.score(x_val,y_val)"
   ]
  },
  {
   "cell_type": "markdown",
   "metadata": {},
   "source": [
    "# 練習9-4　様々な検証をしてテストデータでの性能を高めましょう。ただし、テストデータを集計したり、図示したりはしてはいけません。\n",
    "\n",
    "# 実はこのデータは、決定木では試行錯誤しても性能が高まりませんが、どういう着眼点で進めていくべきか、その一例を紹介します。(第3部で決定木以外の手法を紹介します)"
   ]
  },
  {
   "cell_type": "code",
   "execution_count": null,
   "metadata": {},
   "outputs": [],
   "source": []
  },
  {
   "cell_type": "markdown",
   "metadata": {},
   "source": []
  },
  {
   "cell_type": "code",
   "execution_count": 11,
   "metadata": {},
   "outputs": [],
   "source": [
    "#まず、さくっと学習できるようなlearn関数を定義する。\n",
    "def learn(x,t,i):\n",
    "    x_train,x_val,y_train,y_val = train_test_split(x,t,test_size=0.2,random_state=13)\n",
    "\n",
    "    datas=[x_train,x_val,y_train,y_val]\n",
    "    #不均衡データに対応できるように、class_weight引数も設定\n",
    "    model = tree.DecisionTreeClassifier(random_state=i,max_depth=i,class_weight='balanced')\n",
    "    model.fit(x_train,y_train)\n",
    "    train_score=model.score(x_train,y_train)\n",
    "    \n",
    "    val_score=model.score(x_val,y_val)\n",
    "    return train_score,val_score,model,datas"
   ]
  },
  {
   "cell_type": "code",
   "execution_count": 12,
   "metadata": {},
   "outputs": [
    {
     "name": "stdout",
     "output_type": "stream",
     "text": [
      "1 0.6995187384804423 0.6993651443784559\n",
      "2 0.6492422690968667 0.6493958631988531\n",
      "3 0.6492422690968667 0.6493958631988531\n",
      "4 0.7357669465492525 0.7481056727421667\n",
      "5 0.7767765717796437 0.7773909481875896\n",
      "6 0.80124923202949 0.8023755887773909\n",
      "7 0.8224452181036248 0.8095433135367602\n",
      "8 0.8448699569936514 0.8238787630554987\n",
      "9 0.8584374360024575 0.8230595945115707\n",
      "10 0.8755887773909482 0.829612942862994\n",
      "11 0.8988838828588982 0.8371902518943273\n",
      "12 0.9096866680319475 0.8265410608232644\n",
      "13 0.9289371288142535 0.8242883473274626\n",
      "14 0.9434261724349785 0.8130247798484538\n",
      "15 0.9591951669055908 0.8169158304321114\n",
      "16 0.9688203972967439 0.8156870776162195\n",
      "17 0.9776264591439688 0.8140487405283637\n",
      "18 0.9847941839033381 0.8144583248003276\n",
      "19 0.9898115912348966 0.8132295719844358\n"
     ]
    }
   ],
   "source": [
    "#とりあえず、for文で様々な木の深さでの正解率を調べてみる\n",
    "for i in range(1,20):\n",
    "    s1,s2,model,datas = learn(x,t,i)\n",
    "    print(i,s1,s2)"
   ]
  },
  {
   "cell_type": "code",
   "execution_count": 13,
   "metadata": {},
   "outputs": [
    {
     "data": {
      "text/plain": [
       "0.8330261702911905"
      ]
     },
     "execution_count": 13,
     "metadata": {},
     "output_type": "execute_result"
    }
   ],
   "source": [
    "#深さ11以降はvalが停滞するので過学習が発生ここでテストデータでチェック\n",
    "model = tree.DecisionTreeClassifier(max_depth=11,random_state=11)\n",
    "model.fit(x,t)\n",
    "test2 = test.copy()\n",
    "test2=test2.fillna(train_val.median())\n",
    "\n",
    "test_y=test2['y']\n",
    "test_x = test2.drop(str_col_name,axis=1)\n",
    "test_x =test_x.drop(['id','y','day'],axis=1)\n",
    "model.score(test_x,test_y)"
   ]
  },
  {
   "cell_type": "code",
   "execution_count": null,
   "metadata": {},
   "outputs": [],
   "source": []
  },
  {
   "cell_type": "code",
   "execution_count": null,
   "metadata": {},
   "outputs": [],
   "source": []
  },
  {
   "cell_type": "code",
   "execution_count": null,
   "metadata": {},
   "outputs": [],
   "source": []
  },
  {
   "cell_type": "code",
   "execution_count": null,
   "metadata": {},
   "outputs": [],
   "source": []
  },
  {
   "cell_type": "markdown",
   "metadata": {},
   "source": []
  },
  {
   "cell_type": "code",
   "execution_count": 14,
   "metadata": {},
   "outputs": [
    {
     "data": {
      "text/plain": [
       "duration                     0.529793\n",
       "age                          0.143316\n",
       "campaign                     0.103042\n",
       "housing_yes                  0.064951\n",
       "loan_yes                     0.041739\n",
       "amount                       0.039681\n",
       "previous                     0.015744\n",
       "contact_sending _document    0.014536\n",
       "month_aug                    0.002839\n",
       "dtype: float64"
      ]
     },
     "execution_count": 14,
     "metadata": {},
     "output_type": "execute_result"
    }
   ],
   "source": [
    "#特徴量重要度の確認(ちなみに、連続量とダミー変数を比べると、連続量の方が重要度は高め出力されてしまう事に注意)\n",
    "a=pd.Series(model.feature_importances_,index=x.columns).sort_values(ascending=False)\n",
    "a[0:9]#campaignやdurationが重要度が大きいと分かる"
   ]
  },
  {
   "cell_type": "markdown",
   "metadata": {},
   "source": [
    "# durationの欠損値処理"
   ]
  },
  {
   "cell_type": "code",
   "execution_count": 15,
   "metadata": {},
   "outputs": [
    {
     "name": "stdout",
     "output_type": "stream",
     "text": [
      "Index(['job', 'default', 'marital', 'education', 'housing', 'loan', 'contact',\n",
      "       'month'],\n",
      "      dtype='object')\n"
     ]
    }
   ],
   "source": [
    "# durationに関係がありそうなものを見つけるためには7章の様に集計処理で判断したい。\n",
    "#よって、集計処理の軸になるstr_dfの列名をいったん確認\n",
    "print(str_df.columns)"
   ]
  },
  {
   "cell_type": "code",
   "execution_count": 16,
   "metadata": {},
   "outputs": [
    {
     "name": "stdout",
     "output_type": "stream",
     "text": [
      "job\n",
      "admin.           0.304550\n",
      "blue-collar      0.352886\n",
      "entrepreneur     0.390453\n",
      "housemaid        0.290043\n",
      "management       0.307299\n",
      "retired          0.369268\n",
      "self-employed    0.301974\n",
      "services         0.337611\n",
      "student          0.166667\n",
      "technician       0.307423\n",
      "unemployed       0.241084\n",
      "unknown          0.294118\n",
      "Name: y, dtype: float64\n",
      "next=========\n",
      "default\n",
      "no     0.321336\n",
      "yes    0.249428\n",
      "Name: y, dtype: float64\n",
      "next=========\n",
      "marital\n",
      "divorced    0.334059\n",
      "married     0.341211\n",
      "single      0.269086\n",
      "Name: y, dtype: float64\n",
      "next=========\n",
      "education\n",
      "primary      0.351921\n",
      "secondary    0.318327\n",
      "tertiary     0.301592\n",
      "unknown      0.354354\n",
      "Name: y, dtype: float64\n",
      "next=========\n",
      "housing\n",
      "no     0.217959\n",
      "yes    0.400910\n",
      "Name: y, dtype: float64\n",
      "next=========\n",
      "loan\n",
      "no     0.300195\n",
      "yes    0.424328\n",
      "Name: y, dtype: float64\n",
      "next=========\n",
      "contact\n",
      "cellular             0.277883\n",
      "sending _document    0.416372\n",
      "telephone            0.311842\n",
      "Name: y, dtype: float64\n",
      "next=========\n",
      "month\n",
      "apr    0.312070\n",
      "aug    0.251950\n",
      "dec    0.327731\n",
      "feb    0.266805\n",
      "jan    0.202073\n",
      "jul    0.307506\n",
      "jun    0.356744\n",
      "mar    0.354244\n",
      "may    0.389833\n",
      "nov    0.234457\n",
      "oct    0.308483\n",
      "sep    0.327217\n",
      "Name: y, dtype: float64\n",
      "next=========\n"
     ]
    }
   ],
   "source": [
    "for name in str_df.columns:\n",
    "    print(train_val.groupby(name)['y'].mean())\n",
    "    print(\"next=========\")"
   ]
  },
  {
   "cell_type": "markdown",
   "metadata": {},
   "source": [
    "#### housing ,loan, contactが関係してそう。　ただ、contactにおいて、sending_documentは資料送付しかしていないのに接触時間が長いとはどういうことか？？\n",
    "#### 実際ならば、このデータはどう解釈すればいいのか実際の現場の人間に聞き取りをする必要があるが、今回は不可能なのでこのまま分析を進める。"
   ]
  },
  {
   "cell_type": "code",
   "execution_count": 17,
   "metadata": {},
   "outputs": [
    {
     "name": "stdout",
     "output_type": "stream",
     "text": [
      "loan             no         yes\n",
      "housing                        \n",
      "no       237.256887  301.180261\n",
      "yes      332.635840  439.472217\n",
      "contact    cellular  sending _document   telephone\n",
      "housing                                           \n",
      "no       249.821962         249.179202  272.785529\n",
      "yes      348.532350         349.179816  368.638141\n",
      "contact    cellular  sending _document   telephone\n",
      "loan                                              \n",
      "no       297.588613         314.969378  304.960446\n",
      "yes      375.465455         400.911698  379.000771\n"
     ]
    }
   ],
   "source": [
    "print(pd.pivot_table(train_val,index=\"housing\",columns=\"loan\",values=\"duration\"))\n",
    "print(pd.pivot_table(train_val,index=\"housing\",columns=\"contact\",values=\"duration\"))\n",
    "print(pd.pivot_table(train_val,index=\"loan\",columns=\"contact\",values=\"duration\"))"
   ]
  },
  {
   "cell_type": "markdown",
   "metadata": {},
   "source": [
    "##### どれも強く関係してそうに見える。今回は2×2で処理しやすい。loan×housingを採用しよう"
   ]
  },
  {
   "cell_type": "code",
   "execution_count": null,
   "metadata": {},
   "outputs": [],
   "source": []
  },
  {
   "cell_type": "code",
   "execution_count": 18,
   "metadata": {},
   "outputs": [],
   "source": [
    "def nan_fill(train_val):\n",
    "    isnull = train_val['duration'].isnull()\n",
    "\n",
    "    #train_valを変えたくないので、py基本文法のcopyメソッドでコピーを作って\n",
    "    #train_val2に代入\n",
    "    train_val2 = train_val.copy()\n",
    "    #housing=yesの処理\n",
    "    train_val2.loc[(isnull) & (train_val2['housing']=='yes') \n",
    "                  &(train_val2['loan']=='yes'),'duration' ]=439\n",
    "    train_val2.loc[(isnull) & (train_val2['housing']=='yes') \n",
    "                  &(train_val2['loan']=='no'),'duration' ]=332\n",
    "\n",
    "    #housing=noの処理\n",
    "    train_val2.loc[(isnull) & (train_val2['housing']=='no') \n",
    "                  &(train_val2['loan']=='yes'),'duration' ]=301\n",
    "    train_val2.loc[(isnull) & (train_val2['housing']=='no') \n",
    "                  &(train_val2['loan']=='no'),'duration' ]=237\n",
    "    \n",
    "    return train_val2\n",
    "train_val2=nan_fill(train_val)"
   ]
  },
  {
   "cell_type": "code",
   "execution_count": 19,
   "metadata": {},
   "outputs": [
    {
     "data": {
      "text/plain": [
       "y\n",
       "0    263.575464\n",
       "1    346.960871\n",
       "Name: duration, dtype: float64"
      ]
     },
     "execution_count": 19,
     "metadata": {},
     "output_type": "execute_result"
    }
   ],
   "source": [
    "#特徴量重要度が大きかった項目とyの関係\n",
    "train_val2.groupby('y')['duration'].median()"
   ]
  },
  {
   "cell_type": "code",
   "execution_count": 20,
   "metadata": {},
   "outputs": [
    {
     "data": {
      "text/plain": [
       "y\n",
       "0    449.0\n",
       "1    449.0\n",
       "Name: amount, dtype: float64"
      ]
     },
     "execution_count": 20,
     "metadata": {},
     "output_type": "execute_result"
    }
   ],
   "source": [
    "train_val2.groupby('y')['amount'].median()"
   ]
  },
  {
   "cell_type": "code",
   "execution_count": 21,
   "metadata": {},
   "outputs": [
    {
     "data": {
      "text/plain": [
       "y\n",
       "0    2\n",
       "1    3\n",
       "Name: campaign, dtype: int64"
      ]
     },
     "execution_count": 21,
     "metadata": {},
     "output_type": "execute_result"
    }
   ],
   "source": [
    "train_val2.groupby('y')['campaign'].median()"
   ]
  },
  {
   "cell_type": "code",
   "execution_count": 22,
   "metadata": {},
   "outputs": [
    {
     "data": {
      "text/plain": [
       "y\n",
       "0    38\n",
       "1    41\n",
       "Name: age, dtype: int64"
      ]
     },
     "execution_count": 22,
     "metadata": {},
     "output_type": "execute_result"
    }
   ],
   "source": [
    "train_val2.groupby('y')['age'].median()"
   ]
  },
  {
   "cell_type": "markdown",
   "metadata": {},
   "source": [
    "# durationは値が大きいほど、y=1になりやすい傾向がありそう"
   ]
  },
  {
   "cell_type": "code",
   "execution_count": 23,
   "metadata": {},
   "outputs": [
    {
     "name": "stdout",
     "output_type": "stream",
     "text": [
      "1 0.7462113454843334 0.7511775547818964\n",
      "2 0.7462113454843334 0.7511775547818964\n",
      "3 0.7507167724759369 0.7554781896375179\n",
      "4 0.7481056727421667 0.7569117345893918\n",
      "5 0.7746262543518329 0.7751382346917879\n",
      "6 0.7780565226295311 0.7712471841081302\n",
      "7 0.8182469793159942 0.8117960270325619\n",
      "8 0.8275138234691788 0.8077001843129223\n",
      "9 0.8483514233053451 0.8273602293671923\n",
      "10 0.86852344869957 0.8320704484947778\n",
      "11 0.8782510751587139 0.8249027237354085\n",
      "12 0.900010239606799 0.8246979315994266\n",
      "13 0.9143456891255376 0.8275650215031742\n",
      "14 0.9303194757321319 0.8218308416956789\n",
      "15 0.9458324800327668 0.821421257423715\n",
      "16 0.9597583452795413 0.820806881015769\n",
      "17 0.9707147245545771 0.820602088879787\n",
      "18 0.9792647962318247 0.8177349989760393\n",
      "19 0.9855621544132706 0.8167110382961295\n"
     ]
    }
   ],
   "source": [
    "#ここでいったん、learn関数で分析\n",
    "\n",
    "t =train_val2['y']\n",
    "\n",
    "x = train_val2.drop(str_col_name,axis=1)\n",
    "x =x.drop(['id','y','day'],axis=1)\n",
    "#x =train_val2[xcol]\n",
    "for i in range(1,20):\n",
    "    s1,s2,model,datas = learn(x,t,i)\n",
    "    print(i,s1,s2)"
   ]
  },
  {
   "cell_type": "code",
   "execution_count": null,
   "metadata": {},
   "outputs": [],
   "source": []
  },
  {
   "cell_type": "code",
   "execution_count": 24,
   "metadata": {},
   "outputs": [
    {
     "data": {
      "text/html": [
       "<div>\n",
       "<style scoped>\n",
       "    .dataframe tbody tr th:only-of-type {\n",
       "        vertical-align: middle;\n",
       "    }\n",
       "\n",
       "    .dataframe tbody tr th {\n",
       "        vertical-align: top;\n",
       "    }\n",
       "\n",
       "    .dataframe thead th {\n",
       "        text-align: right;\n",
       "    }\n",
       "</style>\n",
       "<table border=\"1\" class=\"dataframe\">\n",
       "  <thead>\n",
       "    <tr style=\"text-align: right;\">\n",
       "      <th>pred</th>\n",
       "      <th>0</th>\n",
       "      <th>1</th>\n",
       "    </tr>\n",
       "    <tr>\n",
       "      <th>true</th>\n",
       "      <th></th>\n",
       "      <th></th>\n",
       "    </tr>\n",
       "  </thead>\n",
       "  <tbody>\n",
       "    <tr>\n",
       "      <th>0</th>\n",
       "      <td>2790</td>\n",
       "      <td>593</td>\n",
       "    </tr>\n",
       "    <tr>\n",
       "      <th>1</th>\n",
       "      <td>227</td>\n",
       "      <td>1273</td>\n",
       "    </tr>\n",
       "  </tbody>\n",
       "</table>\n",
       "</div>"
      ],
      "text/plain": [
       "pred     0     1\n",
       "true            \n",
       "0     2790   593\n",
       "1      227  1273"
      ]
     },
     "execution_count": 24,
     "metadata": {},
     "output_type": "execute_result"
    }
   ],
   "source": [
    "#どのような間違い方をしているのか確認\n",
    "s1,s2,model,datas = learn(x,t,10)\n",
    "\n",
    "#訓練データでの予測結果と実際の値の2軸で個数集計flagがFalseならば、検証データで集計\n",
    "def syuukei(model,datas,flag=False):\n",
    "    if flag:\n",
    "        pre=model.predict(datas[0])\n",
    "        y_val=datas[2]\n",
    "    else:\n",
    "        pre=model.predict(datas[1])\n",
    "        y_val=datas[3]\n",
    "    data={\n",
    "        \"pred\":pre,\n",
    "        \"true\":y_val\n",
    "    }\n",
    "    tmp=pd.DataFrame(data)\n",
    "    return tmp,pd.pivot_table(tmp,index=\"true\",columns=\"pred\",values=\"true\",aggfunc=len)\n",
    "tmp,a=syuukei(model,datas,False)\n",
    "a"
   ]
  },
  {
   "cell_type": "code",
   "execution_count": null,
   "metadata": {},
   "outputs": [],
   "source": []
  },
  {
   "cell_type": "code",
   "execution_count": 25,
   "metadata": {},
   "outputs": [
    {
     "data": {
      "text/plain": [
       "Int64Index([ 8008,  5734,  1594,  2167, 10468, 26200,  7851,  4695, 24120,\n",
       "            18766,\n",
       "            ...\n",
       "            14655,  5003,  4196, 17968, 13960,  1548,   508,  7200,  9861,\n",
       "            20515],\n",
       "           dtype='int64', length=2790)"
      ]
     },
     "execution_count": 25,
     "metadata": {},
     "output_type": "execute_result"
    },
    {
     "data": {
      "image/png": "[encoded data removed]",
      "text/plain": [
       "<Figure size 432x288 with 1 Axes>"
      ]
     },
     "metadata": {
      "needs_background": "light"
     },
     "output_type": "display_data"
    }
   ],
   "source": [
    "#本当はｙ＝０の中で、正確に予測された人と謝った予測をされた人でどういう傾向があるか分析\n",
    "\n",
    "false=tmp.loc[(tmp['pred']==1)&(tmp['true']==0)].index\n",
    "true=tmp.loc[(tmp['pred']==0)&(tmp['true']==0)].index\n",
    "true_df=train_val2.loc[true]\n",
    "false_df=train_val2.loc[false]\n",
    "pd.concat([true_df.mean()[\"age\":],false_df.mean()[\"age\":]],axis=1).plot(kind=\"bar\")\n",
    "true"
   ]
  },
  {
   "cell_type": "code",
   "execution_count": null,
   "metadata": {},
   "outputs": [],
   "source": []
  },
  {
   "cell_type": "code",
   "execution_count": 26,
   "metadata": {},
   "outputs": [
    {
     "data": {
      "text/plain": [
       "<AxesSubplot:>"
      ]
     },
     "execution_count": 26,
     "metadata": {},
     "output_type": "execute_result"
    },
    {
     "data": {
      "image/png": "[encoded data removed]",
      "text/plain": [
       "<Figure size 432x288 with 1 Axes>"
      ]
     },
     "metadata": {
      "needs_background": "light"
     },
     "output_type": "display_data"
    }
   ],
   "source": [
    "#値にばらつきが大きいので、標準化してもう一度グラフ化\n",
    "from sklearn.preprocessing import StandardScaler\n",
    "\n",
    "sc = StandardScaler()\n",
    "tmp2=train_val2.drop(str_col_name,axis=1)\n",
    "sc_data = sc.fit_transform(tmp2)\n",
    "sc_df = pd.DataFrame(sc_data,columns=tmp2.columns,index=tmp2.index)\n",
    "\n",
    "true_df=sc_df.loc[true]\n",
    "false_df=sc_df.loc[false]\n",
    "true_df\n",
    "temp2=pd.concat([false_df.mean()[\"age\":],true_df.mean()[\"age\":]],axis=1)\n",
    "temp2.plot(kind=\"bar\")"
   ]
  },
  {
   "cell_type": "code",
   "execution_count": 27,
   "metadata": {},
   "outputs": [],
   "source": [
    "#青色の０は誤分類、オレンジ１は正解のデータ\n",
    "\n",
    "# durationと housing_yesが大きく異なる\n",
    "#実際はy=0の人で、 durationが大きい人は誤分類しやすい\n",
    "#実際はy=0の人で、 housingが大きい人は誤分類しやすい\n",
    "\n",
    "\n",
    "#事前に、durationが大きい人はy=1になりやすいということは分かっているので、「こういう人はy=0になりやすい」という\n",
    "#特徴量を見つけ出して、特徴量×durationという特徴量を作って、durationに重み付けをする列を作れば正解率\n",
    "#があがるのではないか？ 続きは3部に譲ってここでテストデータ評価を行う"
   ]
  },
  {
   "cell_type": "code",
   "execution_count": 28,
   "metadata": {},
   "outputs": [
    {
     "data": {
      "text/plain": [
       "0.8157021747143384"
      ]
     },
     "execution_count": 28,
     "metadata": {},
     "output_type": "execute_result"
    }
   ],
   "source": [
    "model_tree=tree.DecisionTreeClassifier(max_depth=10,random_state=10,class_weight=\"balanced\")\n",
    "model_tree.fit(x,t)\n",
    "\n",
    "test2=nan_fill(test)\n",
    "t =test2['y']\n",
    "x = test2.drop(str_col_name,axis=1)\n",
    "x =x.drop(['id','y','day'],axis=1)\n",
    "model_tree.score(x,t)"
   ]
  },
  {
   "cell_type": "code",
   "execution_count": 635,
   "metadata": {},
   "outputs": [],
   "source": [
    "#テストデータの正解率は上昇した"
   ]
  },
  {
   "cell_type": "code",
   "execution_count": null,
   "metadata": {},
   "outputs": [],
   "source": []
  }
 ],
 "metadata": {
  "kernelspec": {
   "display_name": "Python 3",
   "language": "python",
   "name": "python3"
  },
  "language_info": {
   "codemirror_mode": {
    "name": "ipython",
    "version": 3
   },
   "file_extension": ".py",
   "mimetype": "text/x-python",
   "name": "python",
   "nbconvert_exporter": "python",
   "pygments_lexer": "ipython3",
   "version": "3.8.8"
  }
 },
 "nbformat": 4,
 "nbformat_minor": 4
}
