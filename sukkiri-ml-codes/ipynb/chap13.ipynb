{
 "cells": [
  {
   "cell_type": "code",
   "execution_count": 40,
   "metadata": {},
   "outputs": [
    {
     "data": {
      "text/plain": [
       "LinearRegression()"
      ]
     },
     "execution_count": 40,
     "metadata": {},
     "output_type": "execute_result"
    }
   ],
   "source": [
    "import pandas as pd\n",
    "# 欠損値があるままでは学習できないので欠損値処理だけ行う\n",
    "df = pd.read_csv('cinema.csv')\n",
    "df = df.fillna(df.mean())\n",
    "x = df.loc[:, 'SNS1':'original']\n",
    "t = df['sales']\n",
    "from sklearn.linear_model import LinearRegression\n",
    "model = LinearRegression()\n",
    "model.fit(x, t)"
   ]
  },
  {
   "cell_type": "code",
   "execution_count": 41,
   "metadata": {},
   "outputs": [
    {
     "data": {
      "text/plain": [
       "151986.03957624524"
      ]
     },
     "execution_count": 41,
     "metadata": {},
     "output_type": "execute_result"
    }
   ],
   "source": [
    "from sklearn.metrics import mean_squared_error\n",
    "# 訓練データでのMSE値\n",
    "pred = model.predict(x)\n",
    "\n",
    "mse = mean_squared_error(pred, t)\n",
    "mse"
   ]
  },
  {
   "cell_type": "code",
   "execution_count": 42,
   "metadata": {},
   "outputs": [
    {
     "data": {
      "text/plain": [
       "389.8538695155471"
      ]
     },
     "execution_count": 42,
     "metadata": {},
     "output_type": "execute_result"
    }
   ],
   "source": [
    "import math\n",
    "math.sqrt(mse) # RMSEの計算"
   ]
  },
  {
   "cell_type": "code",
   "execution_count": 43,
   "metadata": {},
   "outputs": [
    {
     "name": "stdout",
     "output_type": "stream",
     "text": [
      "rmse:3.8944404818493075\n",
      "mae:3.5\n",
      "外れ値の混入\n",
      "rmse:9.411239481143202\n",
      "mae:6.285714285714286\n"
     ]
    }
   ],
   "source": [
    "from sklearn.metrics import mean_absolute_error \n",
    "yosoku = [2, 3, 5, 7, 11, 13] # 予測結果をリストで作成\n",
    "target = [3, 5, 8, 11, 16, 19] # 実際の結果をリストで作成\n",
    "\n",
    "mse = mean_squared_error(yosoku, target)\n",
    "print('rmse:{}'.format(math.sqrt(mse)))\n",
    "print('mae:{}'.format(mean_absolute_error(yosoku, target)))\n",
    "\n",
    "print('外れ値の混入')\n",
    "yosoku = [2, 3, 5, 7, 11, 13, 46] # 実際には23だけど46と予測\n",
    "target = [3, 5, 8, 11, 16, 19, 23]\n",
    "mse = mean_squared_error(yosoku, target)\n",
    "print('rmse:{}'.format(math.sqrt(mse)))\n",
    "print('mae:{}'.format(mean_absolute_error(yosoku, target)))"
   ]
  },
  {
   "cell_type": "code",
   "execution_count": 44,
   "metadata": {},
   "outputs": [],
   "source": [
    "# データの準備\n",
    "df = pd.read_csv('Survived.csv')\n",
    "df = df.fillna(df.mean())\n",
    "\n",
    "x = df[['Pclass', 'Age']]\n",
    "t = df['Survived']"
   ]
  },
  {
   "cell_type": "code",
   "execution_count": 45,
   "metadata": {},
   "outputs": [
    {
     "data": {
      "text/plain": [
       "DecisionTreeClassifier(max_depth=2, random_state=0)"
      ]
     },
     "execution_count": 45,
     "metadata": {},
     "output_type": "execute_result"
    }
   ],
   "source": [
    "# モデルの準備\n",
    "from sklearn import tree\n",
    "model = tree.DecisionTreeClassifier(max_depth = 2,\n",
    "random_state = 0)\n",
    "model.fit(x, t)"
   ]
  },
  {
   "cell_type": "code",
   "execution_count": 46,
   "metadata": {},
   "outputs": [
    {
     "name": "stdout",
     "output_type": "stream",
     "text": [
      "              precision    recall  f1-score   support\n",
      "\n",
      "           0       0.78      0.65      0.71       549\n",
      "           1       0.56      0.70      0.62       342\n",
      "\n",
      "    accuracy                           0.67       891\n",
      "   macro avg       0.67      0.68      0.67       891\n",
      "weighted avg       0.69      0.67      0.68       891\n",
      "\n"
     ]
    }
   ],
   "source": [
    "from sklearn.metrics import classification_report\n",
    "pred = model.predict(x)\n",
    "out_put = classification_report(y_pred = pred, y_true = t)\n",
    "print(out_put)"
   ]
  },
  {
   "cell_type": "code",
   "execution_count": 47,
   "metadata": {},
   "outputs": [
    {
     "data": {
      "text/html": [
       "<div>\n",
       "<style scoped>\n",
       "    .dataframe tbody tr th:only-of-type {\n",
       "        vertical-align: middle;\n",
       "    }\n",
       "\n",
       "    .dataframe tbody tr th {\n",
       "        vertical-align: top;\n",
       "    }\n",
       "\n",
       "    .dataframe thead th {\n",
       "        text-align: right;\n",
       "    }\n",
       "</style>\n",
       "<table border=\"1\" class=\"dataframe\">\n",
       "  <thead>\n",
       "    <tr style=\"text-align: right;\">\n",
       "      <th></th>\n",
       "      <th>0</th>\n",
       "      <th>1</th>\n",
       "      <th>accuracy</th>\n",
       "      <th>macro avg</th>\n",
       "      <th>weighted avg</th>\n",
       "    </tr>\n",
       "  </thead>\n",
       "  <tbody>\n",
       "    <tr>\n",
       "      <th>precision</th>\n",
       "      <td>0.778742</td>\n",
       "      <td>0.558140</td>\n",
       "      <td>0.672278</td>\n",
       "      <td>0.668441</td>\n",
       "      <td>0.694066</td>\n",
       "    </tr>\n",
       "    <tr>\n",
       "      <th>recall</th>\n",
       "      <td>0.653916</td>\n",
       "      <td>0.701754</td>\n",
       "      <td>0.672278</td>\n",
       "      <td>0.677835</td>\n",
       "      <td>0.672278</td>\n",
       "    </tr>\n",
       "    <tr>\n",
       "      <th>f1-score</th>\n",
       "      <td>0.710891</td>\n",
       "      <td>0.621762</td>\n",
       "      <td>0.672278</td>\n",
       "      <td>0.666326</td>\n",
       "      <td>0.676680</td>\n",
       "    </tr>\n",
       "    <tr>\n",
       "      <th>support</th>\n",
       "      <td>549.000000</td>\n",
       "      <td>342.000000</td>\n",
       "      <td>0.672278</td>\n",
       "      <td>891.000000</td>\n",
       "      <td>891.000000</td>\n",
       "    </tr>\n",
       "  </tbody>\n",
       "</table>\n",
       "</div>"
      ],
      "text/plain": [
       "                    0           1  accuracy   macro avg  weighted avg\n",
       "precision    0.778742    0.558140  0.672278    0.668441      0.694066\n",
       "recall       0.653916    0.701754  0.672278    0.677835      0.672278\n",
       "f1-score     0.710891    0.621762  0.672278    0.666326      0.676680\n",
       "support    549.000000  342.000000  0.672278  891.000000    891.000000"
      ]
     },
     "execution_count": 47,
     "metadata": {},
     "output_type": "execute_result"
    }
   ],
   "source": [
    "out_put = classification_report(y_pred = pred, y_true = t,\n",
    "output_dict = True)\n",
    "\n",
    "# out_putをデータフレームに変換\n",
    "pd.DataFrame(out_put)"
   ]
  },
  {
   "cell_type": "code",
   "execution_count": 48,
   "metadata": {},
   "outputs": [],
   "source": [
    "df = pd.read_csv('cinema.csv')\n",
    "# 学習できないので欠損値処理だけ行う\n",
    "df = df.fillna(df.mean())\n",
    "x = df.loc[:, 'SNS1':'original']\n",
    "t = df['sales']"
   ]
  },
  {
   "cell_type": "code",
   "execution_count": 49,
   "metadata": {},
   "outputs": [],
   "source": [
    "from sklearn.model_selection import KFold\n",
    "kf = KFold(n_splits = 3, shuffle = True, random_state = 0)"
   ]
  },
  {
   "cell_type": "code",
   "execution_count": 50,
   "metadata": {},
   "outputs": [
    {
     "name": "stdout",
     "output_type": "stream",
     "text": [
      "{'fit_time': array([0.01177454, 0.01562929, 0.        ]), 'score_time': array([0., 0., 0.]), 'test_score': array([0.72465051, 0.71740834, 0.75975591]), 'train_score': array([0.76928501, 0.76368104, 0.75780074])}\n"
     ]
    }
   ],
   "source": [
    "from sklearn.linear_model import LinearRegression\n",
    "model = LinearRegression()\n",
    "\n",
    "from sklearn.model_selection import cross_validate\n",
    "\n",
    "result = cross_validate(model, x, t, cv = kf, scoring = 'r2',\n",
    "return_train_score = True)\n",
    "print(result)"
   ]
  },
  {
   "cell_type": "code",
   "execution_count": 51,
   "metadata": {},
   "outputs": [
    {
     "data": {
      "text/plain": [
       "0.733938254177434"
      ]
     },
     "execution_count": 51,
     "metadata": {},
     "output_type": "execute_result"
    }
   ],
   "source": [
    "sum(result['test_score']) / len(result['test_score'])"
   ]
  },
  {
   "cell_type": "code",
   "execution_count": 52,
   "metadata": {},
   "outputs": [],
   "source": [
    "from sklearn.model_selection import StratifiedKFold\n",
    "\n",
    "skf = StratifiedKFold(n_splits = 5,\n",
    "    shuffle = True,random_state = 0)"
   ]
  },
  {
   "cell_type": "code",
   "execution_count": 53,
   "metadata": {},
   "outputs": [
    {
     "ename": "FileNotFoundError",
     "evalue": "[Errno 2] File iris.csv does not exist: 'iris.csv'",
     "output_type": "error",
     "traceback": [
      "\u001b[1;31m---------------------------------------------------------------------------\u001b[0m",
      "\u001b[1;31mFileNotFoundError\u001b[0m                         Traceback (most recent call last)",
      "\u001b[1;32m<ipython-input-53-094ed83bc1ab>\u001b[0m in \u001b[0;36m<module>\u001b[1;34m\u001b[0m\n\u001b[1;32m----> 1\u001b[1;33m \u001b[0miris\u001b[0m \u001b[1;33m=\u001b[0m \u001b[0mpd\u001b[0m\u001b[1;33m.\u001b[0m\u001b[0mread_csv\u001b[0m\u001b[1;33m(\u001b[0m\u001b[1;34m\"iris.csv\"\u001b[0m\u001b[1;33m)\u001b[0m\u001b[1;33m\u001b[0m\u001b[1;33m\u001b[0m\u001b[0m\n\u001b[0m\u001b[0;32m      2\u001b[0m \u001b[0miris\u001b[0m \u001b[1;33m=\u001b[0m \u001b[0miris\u001b[0m\u001b[1;33m.\u001b[0m\u001b[0mfillna\u001b[0m\u001b[1;33m(\u001b[0m\u001b[0miris\u001b[0m\u001b[1;33m.\u001b[0m\u001b[0mmean\u001b[0m\u001b[1;33m(\u001b[0m\u001b[1;33m)\u001b[0m\u001b[1;33m)\u001b[0m\u001b[1;33m\u001b[0m\u001b[1;33m\u001b[0m\u001b[0m\n\u001b[0;32m      3\u001b[0m \u001b[0mx\u001b[0m \u001b[1;33m=\u001b[0m \u001b[0miris\u001b[0m\u001b[1;33m.\u001b[0m\u001b[0mloc\u001b[0m\u001b[1;33m[\u001b[0m\u001b[1;33m:\u001b[0m\u001b[1;33m,\u001b[0m\u001b[1;33m:\u001b[0m\u001b[1;34m\"花弁幅\"\u001b[0m\u001b[1;33m]\u001b[0m\u001b[1;33m\u001b[0m\u001b[1;33m\u001b[0m\u001b[0m\n\u001b[0;32m      4\u001b[0m \u001b[0mt\u001b[0m \u001b[1;33m=\u001b[0m \u001b[0miris\u001b[0m\u001b[1;33m[\u001b[0m\u001b[1;34m\"種類\"\u001b[0m\u001b[1;33m]\u001b[0m\u001b[1;33m\u001b[0m\u001b[1;33m\u001b[0m\u001b[0m\n\u001b[0;32m      5\u001b[0m \u001b[1;32mfrom\u001b[0m \u001b[0msklearn\u001b[0m\u001b[1;33m.\u001b[0m\u001b[0mtree\u001b[0m \u001b[1;32mimport\u001b[0m \u001b[0mDecisionTreeClassifier\u001b[0m\u001b[1;33m\u001b[0m\u001b[1;33m\u001b[0m\u001b[0m\n",
      "\u001b[1;32m~\\Anaconda3\\lib\\site-packages\\pandas\\io\\parsers.py\u001b[0m in \u001b[0;36mparser_f\u001b[1;34m(filepath_or_buffer, sep, delimiter, header, names, index_col, usecols, squeeze, prefix, mangle_dupe_cols, dtype, engine, converters, true_values, false_values, skipinitialspace, skiprows, skipfooter, nrows, na_values, keep_default_na, na_filter, verbose, skip_blank_lines, parse_dates, infer_datetime_format, keep_date_col, date_parser, dayfirst, cache_dates, iterator, chunksize, compression, thousands, decimal, lineterminator, quotechar, quoting, doublequote, escapechar, comment, encoding, dialect, error_bad_lines, warn_bad_lines, delim_whitespace, low_memory, memory_map, float_precision)\u001b[0m\n\u001b[0;32m    674\u001b[0m         )\n\u001b[0;32m    675\u001b[0m \u001b[1;33m\u001b[0m\u001b[0m\n\u001b[1;32m--> 676\u001b[1;33m         \u001b[1;32mreturn\u001b[0m \u001b[0m_read\u001b[0m\u001b[1;33m(\u001b[0m\u001b[0mfilepath_or_buffer\u001b[0m\u001b[1;33m,\u001b[0m \u001b[0mkwds\u001b[0m\u001b[1;33m)\u001b[0m\u001b[1;33m\u001b[0m\u001b[1;33m\u001b[0m\u001b[0m\n\u001b[0m\u001b[0;32m    677\u001b[0m \u001b[1;33m\u001b[0m\u001b[0m\n\u001b[0;32m    678\u001b[0m     \u001b[0mparser_f\u001b[0m\u001b[1;33m.\u001b[0m\u001b[0m__name__\u001b[0m \u001b[1;33m=\u001b[0m \u001b[0mname\u001b[0m\u001b[1;33m\u001b[0m\u001b[1;33m\u001b[0m\u001b[0m\n",
      "\u001b[1;32m~\\Anaconda3\\lib\\site-packages\\pandas\\io\\parsers.py\u001b[0m in \u001b[0;36m_read\u001b[1;34m(filepath_or_buffer, kwds)\u001b[0m\n\u001b[0;32m    446\u001b[0m \u001b[1;33m\u001b[0m\u001b[0m\n\u001b[0;32m    447\u001b[0m     \u001b[1;31m# Create the parser.\u001b[0m\u001b[1;33m\u001b[0m\u001b[1;33m\u001b[0m\u001b[1;33m\u001b[0m\u001b[0m\n\u001b[1;32m--> 448\u001b[1;33m     \u001b[0mparser\u001b[0m \u001b[1;33m=\u001b[0m \u001b[0mTextFileReader\u001b[0m\u001b[1;33m(\u001b[0m\u001b[0mfp_or_buf\u001b[0m\u001b[1;33m,\u001b[0m \u001b[1;33m**\u001b[0m\u001b[0mkwds\u001b[0m\u001b[1;33m)\u001b[0m\u001b[1;33m\u001b[0m\u001b[1;33m\u001b[0m\u001b[0m\n\u001b[0m\u001b[0;32m    449\u001b[0m \u001b[1;33m\u001b[0m\u001b[0m\n\u001b[0;32m    450\u001b[0m     \u001b[1;32mif\u001b[0m \u001b[0mchunksize\u001b[0m \u001b[1;32mor\u001b[0m \u001b[0miterator\u001b[0m\u001b[1;33m:\u001b[0m\u001b[1;33m\u001b[0m\u001b[1;33m\u001b[0m\u001b[0m\n",
      "\u001b[1;32m~\\Anaconda3\\lib\\site-packages\\pandas\\io\\parsers.py\u001b[0m in \u001b[0;36m__init__\u001b[1;34m(self, f, engine, **kwds)\u001b[0m\n\u001b[0;32m    878\u001b[0m             \u001b[0mself\u001b[0m\u001b[1;33m.\u001b[0m\u001b[0moptions\u001b[0m\u001b[1;33m[\u001b[0m\u001b[1;34m\"has_index_names\"\u001b[0m\u001b[1;33m]\u001b[0m \u001b[1;33m=\u001b[0m \u001b[0mkwds\u001b[0m\u001b[1;33m[\u001b[0m\u001b[1;34m\"has_index_names\"\u001b[0m\u001b[1;33m]\u001b[0m\u001b[1;33m\u001b[0m\u001b[1;33m\u001b[0m\u001b[0m\n\u001b[0;32m    879\u001b[0m \u001b[1;33m\u001b[0m\u001b[0m\n\u001b[1;32m--> 880\u001b[1;33m         \u001b[0mself\u001b[0m\u001b[1;33m.\u001b[0m\u001b[0m_make_engine\u001b[0m\u001b[1;33m(\u001b[0m\u001b[0mself\u001b[0m\u001b[1;33m.\u001b[0m\u001b[0mengine\u001b[0m\u001b[1;33m)\u001b[0m\u001b[1;33m\u001b[0m\u001b[1;33m\u001b[0m\u001b[0m\n\u001b[0m\u001b[0;32m    881\u001b[0m \u001b[1;33m\u001b[0m\u001b[0m\n\u001b[0;32m    882\u001b[0m     \u001b[1;32mdef\u001b[0m \u001b[0mclose\u001b[0m\u001b[1;33m(\u001b[0m\u001b[0mself\u001b[0m\u001b[1;33m)\u001b[0m\u001b[1;33m:\u001b[0m\u001b[1;33m\u001b[0m\u001b[1;33m\u001b[0m\u001b[0m\n",
      "\u001b[1;32m~\\Anaconda3\\lib\\site-packages\\pandas\\io\\parsers.py\u001b[0m in \u001b[0;36m_make_engine\u001b[1;34m(self, engine)\u001b[0m\n\u001b[0;32m   1112\u001b[0m     \u001b[1;32mdef\u001b[0m \u001b[0m_make_engine\u001b[0m\u001b[1;33m(\u001b[0m\u001b[0mself\u001b[0m\u001b[1;33m,\u001b[0m \u001b[0mengine\u001b[0m\u001b[1;33m=\u001b[0m\u001b[1;34m\"c\"\u001b[0m\u001b[1;33m)\u001b[0m\u001b[1;33m:\u001b[0m\u001b[1;33m\u001b[0m\u001b[1;33m\u001b[0m\u001b[0m\n\u001b[0;32m   1113\u001b[0m         \u001b[1;32mif\u001b[0m \u001b[0mengine\u001b[0m \u001b[1;33m==\u001b[0m \u001b[1;34m\"c\"\u001b[0m\u001b[1;33m:\u001b[0m\u001b[1;33m\u001b[0m\u001b[1;33m\u001b[0m\u001b[0m\n\u001b[1;32m-> 1114\u001b[1;33m             \u001b[0mself\u001b[0m\u001b[1;33m.\u001b[0m\u001b[0m_engine\u001b[0m \u001b[1;33m=\u001b[0m \u001b[0mCParserWrapper\u001b[0m\u001b[1;33m(\u001b[0m\u001b[0mself\u001b[0m\u001b[1;33m.\u001b[0m\u001b[0mf\u001b[0m\u001b[1;33m,\u001b[0m \u001b[1;33m**\u001b[0m\u001b[0mself\u001b[0m\u001b[1;33m.\u001b[0m\u001b[0moptions\u001b[0m\u001b[1;33m)\u001b[0m\u001b[1;33m\u001b[0m\u001b[1;33m\u001b[0m\u001b[0m\n\u001b[0m\u001b[0;32m   1115\u001b[0m         \u001b[1;32melse\u001b[0m\u001b[1;33m:\u001b[0m\u001b[1;33m\u001b[0m\u001b[1;33m\u001b[0m\u001b[0m\n\u001b[0;32m   1116\u001b[0m             \u001b[1;32mif\u001b[0m \u001b[0mengine\u001b[0m \u001b[1;33m==\u001b[0m \u001b[1;34m\"python\"\u001b[0m\u001b[1;33m:\u001b[0m\u001b[1;33m\u001b[0m\u001b[1;33m\u001b[0m\u001b[0m\n",
      "\u001b[1;32m~\\Anaconda3\\lib\\site-packages\\pandas\\io\\parsers.py\u001b[0m in \u001b[0;36m__init__\u001b[1;34m(self, src, **kwds)\u001b[0m\n\u001b[0;32m   1889\u001b[0m         \u001b[0mkwds\u001b[0m\u001b[1;33m[\u001b[0m\u001b[1;34m\"usecols\"\u001b[0m\u001b[1;33m]\u001b[0m \u001b[1;33m=\u001b[0m \u001b[0mself\u001b[0m\u001b[1;33m.\u001b[0m\u001b[0musecols\u001b[0m\u001b[1;33m\u001b[0m\u001b[1;33m\u001b[0m\u001b[0m\n\u001b[0;32m   1890\u001b[0m \u001b[1;33m\u001b[0m\u001b[0m\n\u001b[1;32m-> 1891\u001b[1;33m         \u001b[0mself\u001b[0m\u001b[1;33m.\u001b[0m\u001b[0m_reader\u001b[0m \u001b[1;33m=\u001b[0m \u001b[0mparsers\u001b[0m\u001b[1;33m.\u001b[0m\u001b[0mTextReader\u001b[0m\u001b[1;33m(\u001b[0m\u001b[0msrc\u001b[0m\u001b[1;33m,\u001b[0m \u001b[1;33m**\u001b[0m\u001b[0mkwds\u001b[0m\u001b[1;33m)\u001b[0m\u001b[1;33m\u001b[0m\u001b[1;33m\u001b[0m\u001b[0m\n\u001b[0m\u001b[0;32m   1892\u001b[0m         \u001b[0mself\u001b[0m\u001b[1;33m.\u001b[0m\u001b[0munnamed_cols\u001b[0m \u001b[1;33m=\u001b[0m \u001b[0mself\u001b[0m\u001b[1;33m.\u001b[0m\u001b[0m_reader\u001b[0m\u001b[1;33m.\u001b[0m\u001b[0munnamed_cols\u001b[0m\u001b[1;33m\u001b[0m\u001b[1;33m\u001b[0m\u001b[0m\n\u001b[0;32m   1893\u001b[0m \u001b[1;33m\u001b[0m\u001b[0m\n",
      "\u001b[1;32mpandas\\_libs\\parsers.pyx\u001b[0m in \u001b[0;36mpandas._libs.parsers.TextReader.__cinit__\u001b[1;34m()\u001b[0m\n",
      "\u001b[1;32mpandas\\_libs\\parsers.pyx\u001b[0m in \u001b[0;36mpandas._libs.parsers.TextReader._setup_parser_source\u001b[1;34m()\u001b[0m\n",
      "\u001b[1;31mFileNotFoundError\u001b[0m: [Errno 2] File iris.csv does not exist: 'iris.csv'"
     ]
    }
   ],
   "source": [
    "iris = pd.read_csv(\"iris.csv\")\n",
    "iris = iris.fillna(iris.mean())\n",
    "x = iris.loc[:,:\"花弁幅\"]\n",
    "t = iris[\"種類\"]\n",
    "from sklearn.tree import DecisionTreeClassifier\n",
    "model = DecisionTreeClassifier(random_state=0)\n",
    "result = cross_validate(model, x, t, cv = skf, scoring = 'accuracy',\n",
    "return_train_score = True)\n"
   ]
  },
  {
   "cell_type": "code",
   "execution_count": 54,
   "metadata": {},
   "outputs": [
    {
     "data": {
      "text/plain": [
       "{'fit_time': array([0.01177454, 0.01562929, 0.        ]),\n",
       " 'score_time': array([0., 0., 0.]),\n",
       " 'test_score': array([0.72465051, 0.71740834, 0.75975591]),\n",
       " 'train_score': array([0.76928501, 0.76368104, 0.75780074])}"
      ]
     },
     "execution_count": 54,
     "metadata": {},
     "output_type": "execute_result"
    }
   ],
   "source": [
    "result"
   ]
  },
  {
   "cell_type": "code",
   "execution_count": null,
   "metadata": {},
   "outputs": [],
   "source": []
  },
  {
   "cell_type": "code",
   "execution_count": 55,
   "metadata": {},
   "outputs": [
    {
     "data": {
      "text/html": [
       "<div>\n",
       "<style scoped>\n",
       "    .dataframe tbody tr th:only-of-type {\n",
       "        vertical-align: middle;\n",
       "    }\n",
       "\n",
       "    .dataframe tbody tr th {\n",
       "        vertical-align: top;\n",
       "    }\n",
       "\n",
       "    .dataframe thead th {\n",
       "        text-align: right;\n",
       "    }\n",
       "</style>\n",
       "<table border=\"1\" class=\"dataframe\">\n",
       "  <thead>\n",
       "    <tr style=\"text-align: right;\">\n",
       "      <th></th>\n",
       "      <th>id</th>\n",
       "      <th>age</th>\n",
       "      <th>amount</th>\n",
       "      <th>day</th>\n",
       "      <th>duration</th>\n",
       "      <th>campaign</th>\n",
       "      <th>previous</th>\n",
       "      <th>y</th>\n",
       "      <th>job_blue-collar</th>\n",
       "      <th>job_entrepreneur</th>\n",
       "      <th>...</th>\n",
       "      <th>month_oct</th>\n",
       "      <th>month_sep</th>\n",
       "      <th>job</th>\n",
       "      <th>default</th>\n",
       "      <th>marital</th>\n",
       "      <th>education</th>\n",
       "      <th>housing</th>\n",
       "      <th>loan</th>\n",
       "      <th>contact</th>\n",
       "      <th>month</th>\n",
       "    </tr>\n",
       "  </thead>\n",
       "  <tbody>\n",
       "    <tr>\n",
       "      <th>13378</th>\n",
       "      <td>13379</td>\n",
       "      <td>46</td>\n",
       "      <td>0.0</td>\n",
       "      <td>10</td>\n",
       "      <td>378.293875</td>\n",
       "      <td>1</td>\n",
       "      <td>0</td>\n",
       "      <td>1</td>\n",
       "      <td>0</td>\n",
       "      <td>0</td>\n",
       "      <td>...</td>\n",
       "      <td>0</td>\n",
       "      <td>0</td>\n",
       "      <td>unemployed</td>\n",
       "      <td>no</td>\n",
       "      <td>married</td>\n",
       "      <td>tertiary</td>\n",
       "      <td>yes</td>\n",
       "      <td>no</td>\n",
       "      <td>cellular</td>\n",
       "      <td>jul</td>\n",
       "    </tr>\n",
       "    <tr>\n",
       "      <th>3800</th>\n",
       "      <td>3801</td>\n",
       "      <td>41</td>\n",
       "      <td>-333.0</td>\n",
       "      <td>30</td>\n",
       "      <td>300.845752</td>\n",
       "      <td>3</td>\n",
       "      <td>2</td>\n",
       "      <td>0</td>\n",
       "      <td>1</td>\n",
       "      <td>0</td>\n",
       "      <td>...</td>\n",
       "      <td>0</td>\n",
       "      <td>0</td>\n",
       "      <td>blue-collar</td>\n",
       "      <td>no</td>\n",
       "      <td>divorced</td>\n",
       "      <td>secondary</td>\n",
       "      <td>yes</td>\n",
       "      <td>no</td>\n",
       "      <td>cellular</td>\n",
       "      <td>jan</td>\n",
       "    </tr>\n",
       "    <tr>\n",
       "      <th>10398</th>\n",
       "      <td>10399</td>\n",
       "      <td>30</td>\n",
       "      <td>5389.0</td>\n",
       "      <td>6</td>\n",
       "      <td>159.053623</td>\n",
       "      <td>3</td>\n",
       "      <td>0</td>\n",
       "      <td>1</td>\n",
       "      <td>0</td>\n",
       "      <td>0</td>\n",
       "      <td>...</td>\n",
       "      <td>0</td>\n",
       "      <td>0</td>\n",
       "      <td>management</td>\n",
       "      <td>no</td>\n",
       "      <td>single</td>\n",
       "      <td>tertiary</td>\n",
       "      <td>no</td>\n",
       "      <td>no</td>\n",
       "      <td>cellular</td>\n",
       "      <td>aug</td>\n",
       "    </tr>\n",
       "    <tr>\n",
       "      <th>23401</th>\n",
       "      <td>23402</td>\n",
       "      <td>39</td>\n",
       "      <td>255.0</td>\n",
       "      <td>5</td>\n",
       "      <td>334.802583</td>\n",
       "      <td>1</td>\n",
       "      <td>0</td>\n",
       "      <td>0</td>\n",
       "      <td>0</td>\n",
       "      <td>0</td>\n",
       "      <td>...</td>\n",
       "      <td>0</td>\n",
       "      <td>0</td>\n",
       "      <td>management</td>\n",
       "      <td>no</td>\n",
       "      <td>single</td>\n",
       "      <td>tertiary</td>\n",
       "      <td>yes</td>\n",
       "      <td>no</td>\n",
       "      <td>sending _document</td>\n",
       "      <td>may</td>\n",
       "    </tr>\n",
       "    <tr>\n",
       "      <th>26223</th>\n",
       "      <td>26224</td>\n",
       "      <td>47</td>\n",
       "      <td>33.0</td>\n",
       "      <td>5</td>\n",
       "      <td>NaN</td>\n",
       "      <td>1</td>\n",
       "      <td>0</td>\n",
       "      <td>1</td>\n",
       "      <td>0</td>\n",
       "      <td>0</td>\n",
       "      <td>...</td>\n",
       "      <td>0</td>\n",
       "      <td>0</td>\n",
       "      <td>services</td>\n",
       "      <td>no</td>\n",
       "      <td>single</td>\n",
       "      <td>secondary</td>\n",
       "      <td>yes</td>\n",
       "      <td>no</td>\n",
       "      <td>cellular</td>\n",
       "      <td>may</td>\n",
       "    </tr>\n",
       "  </tbody>\n",
       "</table>\n",
       "<p>5 rows × 48 columns</p>\n",
       "</div>"
      ],
      "text/plain": [
       "          id  age  amount  day    duration  campaign  previous  y  \\\n",
       "13378  13379   46     0.0   10  378.293875         1         0  1   \n",
       "3800    3801   41  -333.0   30  300.845752         3         2  0   \n",
       "10398  10399   30  5389.0    6  159.053623         3         0  1   \n",
       "23401  23402   39   255.0    5  334.802583         1         0  0   \n",
       "26223  26224   47    33.0    5         NaN         1         0  1   \n",
       "\n",
       "       job_blue-collar  job_entrepreneur  ...  month_oct  month_sep  \\\n",
       "13378                0                 0  ...          0          0   \n",
       "3800                 1                 0  ...          0          0   \n",
       "10398                0                 0  ...          0          0   \n",
       "23401                0                 0  ...          0          0   \n",
       "26223                0                 0  ...          0          0   \n",
       "\n",
       "               job  default   marital  education  housing  loan  \\\n",
       "13378   unemployed       no   married   tertiary      yes    no   \n",
       "3800   blue-collar       no  divorced  secondary      yes    no   \n",
       "10398   management       no    single   tertiary       no    no   \n",
       "23401   management       no    single   tertiary      yes    no   \n",
       "26223     services       no    single  secondary      yes    no   \n",
       "\n",
       "                 contact  month  \n",
       "13378           cellular    jul  \n",
       "3800            cellular    jan  \n",
       "10398           cellular    aug  \n",
       "23401  sending _document    may  \n",
       "26223           cellular    may  \n",
       "\n",
       "[5 rows x 48 columns]"
      ]
     },
     "execution_count": 55,
     "metadata": {},
     "output_type": "execute_result"
    }
   ],
   "source": [
    "# 練習問題\n",
    "import pandas as pd\n",
    "from sklearn.ensemble import RandomForestClassifier,AdaBoostClassifier\n",
    "from sklearn.model_selection import train_test_split\n",
    "\n",
    "# 追加\n",
    "from sklearn.model_selection import StratifiedKFold\n",
    "from sklearn.model_selection import cross_validate\n",
    "import numpy as np #本書ではあまり紹介していないnumpyライブラリ\n",
    "\n",
    "%matplotlib inline\n",
    "\n",
    "df = pd.read_csv('Bank.csv')\n",
    "# まず、ダミー変数化をしたいが、文字列の列が複数あるので抜き出す。\n",
    "str_col_name=['job','default','marital','education','housing','loan','contact','month']\n",
    "str_df = df[str_col_name]\n",
    "#複数列を一気にダミー変数化\n",
    "str_df2=pd.get_dummies(str_df,drop_first=True)\n",
    "\n",
    "num_df = df.drop(str_col_name,axis=1)#数値列を抜き出す\n",
    "df2 = pd.concat([num_df,str_df2,str_df],axis=1)#結合(今後の集計の利便性も考慮してstr_dfも結合しておく)\n",
    "#訓練&検証データとテストデータに分割\n",
    "train_val,test = train_test_split(df2,test_size=0.1,random_state=9)\n",
    "train_val.head()"
   ]
  },
  {
   "cell_type": "code",
   "execution_count": 56,
   "metadata": {},
   "outputs": [
    {
     "data": {
      "image/png": "[encoded data removed]",
      "text/plain": [
       "<Figure size 432x288 with 1 Axes>"
      ]
     },
     "metadata": {
      "needs_background": "light"
     },
     "output_type": "display_data"
    }
   ],
   "source": [
    "#欠損値の補正\n",
    "from sklearn.covariance import MinCovDet\n",
    "num_df=train_val.drop(str_col_name,axis=1)\n",
    "num_df=num_df.drop('id',axis=1)\n",
    "num_df2=num_df.dropna()\n",
    "mcd2 =MinCovDet(random_state=0,support_fraction=0.7)\n",
    "mcd2.fit(num_df2)\n",
    "dis =mcd2.mahalanobis(num_df2)\n",
    "dis=pd.Series(dis)\n",
    "dis.plot(kind=\"box\")\n",
    "no=dis[dis>300000].index\n",
    "#先頭から2561番目が外れ値となる事が分かったので９章の付録で紹介したilocを利用する\n",
    "no=num_df2.iloc[no[0]:(no[0]+1),:].index\n",
    "train_val2 = train_val.drop(no)"
   ]
  },
  {
   "cell_type": "code",
   "execution_count": 57,
   "metadata": {},
   "outputs": [
    {
     "name": "stdout",
     "output_type": "stream",
     "text": [
      "0.15 0.7304944115519963\n"
     ]
    },
    {
     "data": {
      "text/plain": [
       "Lasso(alpha=0.15, random_state=0)"
      ]
     },
     "execution_count": 57,
     "metadata": {},
     "output_type": "execute_result"
    }
   ],
   "source": [
    "#欠損行を削除\n",
    "not_nan_df = train_val2.dropna()#df2は外れ値が無いデータ\n",
    "temp_t =not_nan_df[['duration']]\n",
    "temp_x = not_nan_df.drop(str_col_name,axis=1)\n",
    "\n",
    "#durationとyに関係があるという仮定が成り立つならば、適切な推定をするためには,\n",
    "temp_x = temp_x.drop(['y','duration','id'],axis=1)\n",
    "from sklearn.preprocessing import PolynomialFeatures\n",
    "\n",
    "from sklearn.linear_model import Lasso,Ridge\n",
    "\n",
    "a,b,c,d= train_test_split(temp_x,temp_t,random_state=0,test_size=0.2)\n",
    "maxvalue=0\n",
    "v=0\n",
    "#今回はLasso回帰を利用するので、特徴量選択はしない\n",
    "for i in range(1,42):\n",
    "    val = i/20\n",
    "    model_liner = Lasso(random_state=0,alpha=val)\n",
    "    #今回は予測させたいだけなので、標準化はしない\n",
    "    model_liner.fit(a,c)\n",
    "    if maxvalue < model_liner.score(b,d):\n",
    "        v=val\n",
    "        maxvalue = model_liner.score(b,d)\n",
    "print(v,maxvalue)\n",
    "model_liner = Lasso(random_state=0,alpha=v)\n",
    "#今回は予測させたいだけなので、標準化はしない\n",
    "model_liner.fit(a,c)\n",
    "#pd.Series(model_liner)\n"
   ]
  },
  {
   "cell_type": "code",
   "execution_count": 58,
   "metadata": {},
   "outputs": [],
   "source": [
    "#実際に使うのは外れ値込みのデータ\n",
    "train_val3 = train_val.copy()\n",
    "is_null=train_val3['duration'].isnull()\n",
    "temp_x = train_val3.drop(str_col_name,axis=1)\n",
    "temp_x = temp_x.drop(['y','duration','id'],axis=1)\n",
    "temp_x = temp_x[is_null]\n",
    "#non_x=train_val2.loc[is_null,['housing_yes','loan_yes','age','marital_single','job_student']]\n",
    "pred_d = model_liner.predict(temp_x)\n",
    "train_val3.loc[is_null,'duration']=pred_d"
   ]
  },
  {
   "cell_type": "code",
   "execution_count": 59,
   "metadata": {},
   "outputs": [],
   "source": [
    "#12章付録で紹介したアンダーサンプリングを行う\n",
    "def under_sampling(train_val):\n",
    "    y_0=train_val[train_val['y']==0]\n",
    "    y_1=train_val[train_val['y']==1]\n",
    "    num_1 = len(y_1)\n",
    "    #Y=1と同じ件数だけサンプリング\n",
    "    y_0_2 =y_0.sample(n=num_1,random_state=0)\n",
    "    train_val2 = pd.concat([y_1,y_0_2])\n",
    "    return train_val2"
   ]
  },
  {
   "cell_type": "code",
   "execution_count": 60,
   "metadata": {},
   "outputs": [],
   "source": [
    "#学習をさせよう。ただし、13章で学習した知識を使いたい。これまでは正解率を考えてきたが、今回のケースだと適合率\n",
    "#再現率のどちらを見るべきだろうか？\n",
    "\n",
    "# y=1の適合率が高い⇒無駄なアポイントメントを減らす事が出来る。\n",
    "# y=1の再現率が高い⇒潜在顧客を見逃さない\n",
    "\n",
    "#スッキリ銀行は、効率よくキャンペーンを回したいと考えているので、y=1適合率に着目する"
   ]
  },
  {
   "cell_type": "code",
   "execution_count": 62,
   "metadata": {},
   "outputs": [
    {
     "data": {
      "text/html": [
       "<div>\n",
       "<style scoped>\n",
       "    .dataframe tbody tr th:only-of-type {\n",
       "        vertical-align: middle;\n",
       "    }\n",
       "\n",
       "    .dataframe tbody tr th {\n",
       "        vertical-align: top;\n",
       "    }\n",
       "\n",
       "    .dataframe thead th {\n",
       "        text-align: right;\n",
       "    }\n",
       "</style>\n",
       "<table border=\"1\" class=\"dataframe\">\n",
       "  <thead>\n",
       "    <tr style=\"text-align: right;\">\n",
       "      <th></th>\n",
       "      <th>0</th>\n",
       "      <th>1</th>\n",
       "      <th>accuracy</th>\n",
       "      <th>macro avg</th>\n",
       "      <th>weighted avg</th>\n",
       "    </tr>\n",
       "  </thead>\n",
       "  <tbody>\n",
       "    <tr>\n",
       "      <th>precision</th>\n",
       "      <td>0.909652</td>\n",
       "      <td>0.588152</td>\n",
       "      <td>0.769609</td>\n",
       "      <td>0.748902</td>\n",
       "      <td>0.810891</td>\n",
       "    </tr>\n",
       "    <tr>\n",
       "      <th>recall</th>\n",
       "      <td>0.741058</td>\n",
       "      <td>0.834000</td>\n",
       "      <td>0.769609</td>\n",
       "      <td>0.787529</td>\n",
       "      <td>0.769609</td>\n",
       "    </tr>\n",
       "    <tr>\n",
       "      <th>f1-score</th>\n",
       "      <td>0.816745</td>\n",
       "      <td>0.689826</td>\n",
       "      <td>0.769609</td>\n",
       "      <td>0.753286</td>\n",
       "      <td>0.777757</td>\n",
       "    </tr>\n",
       "    <tr>\n",
       "      <th>support</th>\n",
       "      <td>3383.000000</td>\n",
       "      <td>1500.000000</td>\n",
       "      <td>0.769609</td>\n",
       "      <td>4883.000000</td>\n",
       "      <td>4883.000000</td>\n",
       "    </tr>\n",
       "  </tbody>\n",
       "</table>\n",
       "</div>"
      ],
      "text/plain": [
       "                     0            1  accuracy    macro avg  weighted avg\n",
       "precision     0.909652     0.588152  0.769609     0.748902      0.810891\n",
       "recall        0.741058     0.834000  0.769609     0.787529      0.769609\n",
       "f1-score      0.816745     0.689826  0.769609     0.753286      0.777757\n",
       "support    3383.000000  1500.000000  0.769609  4883.000000   4883.000000"
      ]
     },
     "execution_count": 62,
     "metadata": {},
     "output_type": "execute_result"
    }
   ],
   "source": [
    "#まず、さくっと学習できるようなlearn関数を定義する。ただし、正解率では無くて適合率をみる\n",
    "from sklearn.metrics import classification_report\n",
    "from sklearn.tree import DecisionTreeClassifier\n",
    "def learn(x,t,i):\n",
    "    x_train,x_val,y_train,y_val = train_test_split(x,t,test_size=0.2,random_state=13)\n",
    "\n",
    "    datas=[x_train,x_val,y_train,y_val]\n",
    "    base = DecisionTreeClassifier(max_depth=i,random_state=0,class_weight=\"balanced\")\n",
    "    #model = AdaBoostClassifier(n_estimators=150,base_estimator=base,random_state=0)\n",
    "    \n",
    "    #　追加\n",
    "    \n",
    "    base.fit(x_train,y_train)\n",
    "    train_pred = base.predict(x_train)\n",
    "    test_pred = base.predict(x_val)\n",
    "    result = classification_report(y_pred=test_pred,y_true=y_val,output_dict=True)\n",
    "    return result,base,datas\n",
    "\n",
    "t =train_val3['y']\n",
    "x = train_val3.drop(str_col_name,axis=1)\n",
    "x =x.drop(['id','y','day'],axis=1)\n",
    "res,model,datas = learn(x,t,i=8)\n",
    "res_df=pd.DataFrame(res)\n",
    "res_df\n",
    "#res_df.iloc[0,1]"
   ]
  },
  {
   "cell_type": "code",
   "execution_count": null,
   "metadata": {},
   "outputs": [],
   "source": []
  },
  {
   "cell_type": "code",
   "execution_count": 63,
   "metadata": {},
   "outputs": [],
   "source": [
    "#適合率が低い。\n",
    "# 12章で学習したランダムフォレストとアダブーストだとどうなるか？\n",
    "def learn2(x,t,i,de=5,forest=True):\n",
    "    x_train,x_val,y_train,y_val = train_test_split(x,t,test_size=0.2,random_state=13)\n",
    "\n",
    "    datas=[x_train,x_val,y_train,y_val]\n",
    "    model=None\n",
    "    if forest:\n",
    "        model = RandomForestClassifier(n_estimators=i,random_state=0,max_depth=de,class_weight=\"balanced\")\n",
    "    #datas=[x_train,x_val,y_train,y_val]\n",
    "    else:\n",
    "        base = DecisionTreeClassifier(max_depth=de,random_state=0,class_weight=\"balanced\")\n",
    "        model = AdaBoostClassifier(n_estimators=i,base_estimator=base,random_state=0)\n",
    "    #model = AdaBoostClassifier(n_estimators=150,base_estimator=base,random_state=0)\n",
    "    model.fit(x_train,y_train)\n",
    "    train_pred = model.predict(x_train)\n",
    "    test_pred = model.predict(x_val)\n",
    "    result = classification_report(y_pred=test_pred,y_true=y_val,output_dict=True)\n",
    "    return result,model,datas\n",
    "t =train_val3['y']\n",
    "x = train_val3.drop(str_col_name,axis=1)\n",
    "x =x.drop(['id','y','day'],axis=1)"
   ]
  },
  {
   "cell_type": "code",
   "execution_count": 64,
   "metadata": {},
   "outputs": [
    {
     "name": "stdout",
     "output_type": "stream",
     "text": [
      "=================random_forest=========================\n",
      "0.559322033898305 50 5\n",
      "50 5 0.559322033898305 finish next_i\n",
      "0.5599214145383105 50 6\n",
      "50 6 0.5599214145383105 finish next_i\n",
      "0.568193008370261 50 7\n",
      "50 7 0.568193008370261 finish next_i\n",
      "0.5787654320987654 50 8\n",
      "50 8 0.5787654320987654 finish next_i\n",
      "0.5834578973592427 50 9\n",
      "50 9 0.5834578973592427 finish next_i\n",
      "0.5941737820190859 50 10\n",
      "50 10 0.5941737820190859 finish next_i\n",
      "100 5 0.5660282258064516 finish next_i\n",
      "100 6 0.5663189269746647 finish next_i\n",
      "100 7 0.5702891326021934 finish next_i\n",
      "100 8 0.5761458846722524 finish next_i\n",
      "100 9 0.5863291139240506 finish next_i\n",
      "0.5961440892947742 100 10\n",
      "100 10 0.5961440892947742 finish next_i\n",
      "150 5 0.565590312815338 finish next_i\n",
      "150 6 0.5665342601787487 finish next_i\n",
      "150 7 0.5709325396825397 finish next_i\n",
      "150 8 0.573754316724223 finish next_i\n",
      "150 9 0.5828313253012049 finish next_i\n",
      "150 10 0.5944444444444444 finish next_i\n",
      "200 5 0.5668179525970751 finish next_i\n",
      "200 6 0.56751370204285 finish next_i\n",
      "200 7 0.5702970297029702 finish next_i\n",
      "200 8 0.575037147102526 finish next_i\n",
      "200 9 0.5823735603405108 finish next_i\n",
      "200 10 0.592929292929293 finish next_i\n",
      "=================adaboost=========================\n",
      "0.6274834437086093 50 5\n",
      "50 5 0.6274834437086093 finish next_i\n",
      "50 6 0.6231714452896431 finish next_i\n",
      "50 7 0.6232876712328768 finish next_i\n",
      "50 8 0.6067193675889329 finish next_i\n",
      "0.6280530355896721 50 9\n",
      "50 9 0.6280530355896721 finish next_i\n",
      "0.6385630498533724 50 10\n",
      "50 10 0.6385630498533724 finish next_i\n",
      "100 5 0.6155182397220614 finish next_i\n",
      "100 6 0.6240506329113924 finish next_i\n",
      "100 7 0.6028131279303416 finish next_i\n",
      "100 8 0.6255259467040674 finish next_i\n",
      "0.6397774687065368 100 9\n",
      "100 9 0.6397774687065368 finish next_i\n",
      "0.6491963661774982 100 10\n",
      "100 10 0.6491963661774982 finish next_i\n",
      "150 5 0.6087477531455961 finish next_i\n",
      "150 6 0.6121919584954605 finish next_i\n",
      "150 7 0.6281786941580756 finish next_i\n",
      "150 8 0.6385714285714286 finish next_i\n",
      "0.6544169611307421 150 9\n",
      "150 9 0.6544169611307421 finish next_i\n",
      "0.6707848837209303 150 10\n",
      "150 10 0.6707848837209303 finish next_i\n",
      "200 5 0.6081330868761553 finish next_i\n",
      "200 6 0.6196524064171123 finish next_i\n",
      "200 7 0.6391825229034531 finish next_i\n",
      "200 8 0.6443335709194583 finish next_i\n",
      "200 9 0.6664228237015362 finish next_i\n",
      "0.6779661016949152 200 10\n",
      "200 10 0.6779661016949152 finish next_i\n"
     ]
    }
   ],
   "source": [
    "#ランダムフォレストでの検証\n",
    "print(\"=================random_forest=========================\")\n",
    "max_pre=0\n",
    "for i in [50,100,150,200]:#esti\n",
    "    for j in range(5,11):#depth\n",
    "        res,model,datas = learn2(x,t,i=i,de=j,forest=True)\n",
    "        res2=pd.DataFrame(res)\n",
    "        pre = res2.iloc[0,1]\n",
    "        if max_pre < pre:\n",
    "            max_pre=pre\n",
    "            print(max_pre,i,j)\n",
    "        print(i,j,pre,\"finish next_i\")\n",
    "#アダブーストでの検証\n",
    "print(\"=================adaboost=========================\")\n",
    "max_pre=0\n",
    "for i in [50,100,150,200]:#esti\n",
    "    for j in range(5,11):#depth\n",
    "        res,model,datas = learn2(x,t,i=i,de=j,forest=False)\n",
    "        res2=pd.DataFrame(res)\n",
    "        pre = res2.iloc[0,1]\n",
    "        if max_pre < pre:\n",
    "            max_pre=pre\n",
    "            print(max_pre,i,j)\n",
    "        print(i,j,pre,\"finish next_i\")\n"
   ]
  },
  {
   "cell_type": "code",
   "execution_count": 65,
   "metadata": {},
   "outputs": [],
   "source": [
    "#非常に時間がかかるので途中で終了。\n",
    "#random_forestよりadaboostの方がvalデータの精度が良く、その中でもestimator=100,max_depth=8が最も高い\n",
    "\n",
    "#estimatorの値を100と固定して、max_depthについての考察を深める。k-分割交差検証\n",
    "#で最適なmax_depthを考察するｂ\n",
    "def learn_k_valid(x,t,i,dep):\n",
    "    base = DecisionTreeClassifier(max_depth=dep,random_state=0,class_weight=\"balanced\")\n",
    "    model = AdaBoostClassifier(n_estimators=150,base_estimator=base,random_state=0)\n",
    "    kv = StratifiedKFold(n_splits=3,shuffle=True,random_state=0)\n",
    "    result = cross_validate(model,x,t,cv=kv,scoring='precision',return_train_score=True)\n",
    "    \n",
    "    #base.fit(x_train,y_train)\n",
    "    #train_pred = base.predict(x_train)\n",
    "    #test_pred = base.predict(x_val)\n",
    "    #result = classification_report(y_pred=test_pred,y_true=y_val,output_dict=True)\n",
    "    return result\n"
   ]
  },
  {
   "cell_type": "code",
   "execution_count": 66,
   "metadata": {},
   "outputs": [
    {
     "name": "stdout",
     "output_type": "stream",
     "text": [
      "2 0.693870965005931  2 0.6559046281758386\n",
      " j end next\n",
      "3 0.7363985362053104  3 0.6423783016465944\n",
      " j end next\n",
      "4 0.825276543095041  4 0.6306426806832551\n",
      " j end next\n",
      "5 0.9486197738647456  5 0.6242689517885056\n",
      " j end next\n",
      "6 1.0  6 0.6213290409281033\n",
      " j end next\n",
      "7 1.0  7 0.6373482216979219\n",
      " j end next\n",
      "8 1.0  8 0.6549952326468345\n",
      " j end next\n",
      "9 1.0  9 0.6777582841463455\n",
      " j end next\n"
     ]
    }
   ],
   "source": [
    "t =train_val3['y']\n",
    "x = train_val3.drop(str_col_name,axis=1)\n",
    "x =x.drop(['id','y','day'],axis=1)\n",
    "for j in range(2,10):\n",
    "    res = learn_k_valid(x,t,i=100,dep=j)\n",
    "    res2=res[\"train_score\"]\n",
    "    print(j,sum(res2)/len(res2),end=\"  \")#平均値    \n",
    "    res3=res[\"test_score\"]\n",
    "    \n",
    "    print(j,sum(res3)/len(res3))#平均値\n",
    "    print(\" j end next\")"
   ]
  },
  {
   "cell_type": "code",
   "execution_count": 67,
   "metadata": {},
   "outputs": [],
   "source": [
    "#検証データの適合率が最も良いのは深さ9だが、明らかに過学習している。\n",
    "# アンダーサンプリングで不均衡データの影響が変わるか確認してみる"
   ]
  },
  {
   "cell_type": "code",
   "execution_count": 68,
   "metadata": {},
   "outputs": [
    {
     "name": "stdout",
     "output_type": "stream",
     "text": [
      "2 0.8358366359771408  2 0.7958753028990714\n",
      " j end next\n",
      "3 0.8827649771765654  3 0.7743591350564145\n",
      " j end next\n",
      "4 0.9510066312264068  4 0.7504733530008085\n",
      " j end next\n",
      "5 0.999616135071336  5 0.7371001600894225\n",
      " j end next\n",
      "6 1.0  6 0.7366393165293385\n",
      " j end next\n",
      "7 1.0  7 0.7427783401018434\n",
      " j end next\n",
      "8 1.0  8 0.7569298814734918\n",
      " j end next\n",
      "9 1.0  9 0.7629237232771438\n",
      " j end next\n"
     ]
    }
   ],
   "source": [
    "train_val4 = under_sampling(train_val3)\n",
    "t =train_val4['y']\n",
    "x = train_val4.drop(str_col_name,axis=1)\n",
    "x =x.drop(['id','y','day'],axis=1)\n",
    "for j in range(2,10):\n",
    "    res = learn_k_valid(x,t,i=100,dep=j)\n",
    "    res2=res[\"train_score\"]\n",
    "    print(j,sum(res2)/len(res2),end=\"  \")#平均値    \n",
    "    res3=res[\"test_score\"]\n",
    "    \n",
    "    print(j,sum(res3)/len(res3))#平均値\n",
    "    print(\" j end next\")"
   ]
  },
  {
   "cell_type": "code",
   "execution_count": 81,
   "metadata": {},
   "outputs": [],
   "source": [
    "#深さ2~３当たりが最もよさそうである。\n",
    "#テストデータで検証するために再学習"
   ]
  },
  {
   "cell_type": "code",
   "execution_count": 69,
   "metadata": {},
   "outputs": [
    {
     "data": {
      "text/plain": [
       "AdaBoostClassifier(base_estimator=RandomForestClassifier(class_weight='balanced',\n",
       "                                                         max_depth=3,\n",
       "                                                         random_state=0),\n",
       "                   n_estimators=100, random_state=0)"
      ]
     },
     "execution_count": 69,
     "metadata": {},
     "output_type": "execute_result"
    }
   ],
   "source": [
    "train_val4=under_sampling(train_val3)\n",
    "t =train_val4['y']\n",
    "x = train_val4.drop(str_col_name,axis=1)\n",
    "x =x.drop(['id','y','day'],axis=1)\n",
    "base_model = RandomForestClassifier(max_depth=3,random_state=0,class_weight=\"balanced\")\n",
    "model = AdaBoostClassifier(random_state=0,n_estimators=100,base_estimator=base_model)\n",
    "model.fit(x,t)"
   ]
  },
  {
   "cell_type": "code",
   "execution_count": null,
   "metadata": {},
   "outputs": [],
   "source": []
  },
  {
   "cell_type": "code",
   "execution_count": 70,
   "metadata": {},
   "outputs": [
    {
     "name": "stdout",
     "output_type": "stream",
     "text": [
      "(2713,)\n"
     ]
    }
   ],
   "source": [
    "#テストデータ\n",
    "test2 = test.copy()    \n",
    "isnull=test2['duration'].isnull()\n",
    "print(isnull.shape)\n",
    "if isnull.sum()>0:\n",
    "    temp_x = test2.drop(str_col_name,axis=1)\n",
    "    temp_x = temp_x.drop(['y','duration','id'],axis=1)\n",
    "    temp_x = temp_x[isnull]\n",
    "    pred_d = model_liner.predict(temp_x)\n",
    "    test2.loc[isnull,'duration']=pred_d    \n",
    "x_test = test2.drop(str_col_name,axis=1)\n",
    "x_test =x_test.drop(['id','y','day'],axis=1)\n",
    "y_test = test['y']"
   ]
  },
  {
   "cell_type": "code",
   "execution_count": 71,
   "metadata": {},
   "outputs": [
    {
     "data": {
      "text/html": [
       "<div>\n",
       "<style scoped>\n",
       "    .dataframe tbody tr th:only-of-type {\n",
       "        vertical-align: middle;\n",
       "    }\n",
       "\n",
       "    .dataframe tbody tr th {\n",
       "        vertical-align: top;\n",
       "    }\n",
       "\n",
       "    .dataframe thead th {\n",
       "        text-align: right;\n",
       "    }\n",
       "</style>\n",
       "<table border=\"1\" class=\"dataframe\">\n",
       "  <thead>\n",
       "    <tr style=\"text-align: right;\">\n",
       "      <th></th>\n",
       "      <th>0</th>\n",
       "      <th>1</th>\n",
       "      <th>accuracy</th>\n",
       "      <th>macro avg</th>\n",
       "      <th>weighted avg</th>\n",
       "    </tr>\n",
       "  </thead>\n",
       "  <tbody>\n",
       "    <tr>\n",
       "      <th>precision</th>\n",
       "      <td>0.895679</td>\n",
       "      <td>0.640439</td>\n",
       "      <td>0.792849</td>\n",
       "      <td>0.768059</td>\n",
       "      <td>0.813923</td>\n",
       "    </tr>\n",
       "    <tr>\n",
       "      <th>recall</th>\n",
       "      <td>0.786876</td>\n",
       "      <td>0.805524</td>\n",
       "      <td>0.792849</td>\n",
       "      <td>0.796200</td>\n",
       "      <td>0.792849</td>\n",
       "    </tr>\n",
       "    <tr>\n",
       "      <th>f1-score</th>\n",
       "      <td>0.837760</td>\n",
       "      <td>0.713558</td>\n",
       "      <td>0.792849</td>\n",
       "      <td>0.775659</td>\n",
       "      <td>0.797977</td>\n",
       "    </tr>\n",
       "    <tr>\n",
       "      <th>support</th>\n",
       "      <td>1844.000000</td>\n",
       "      <td>869.000000</td>\n",
       "      <td>0.792849</td>\n",
       "      <td>2713.000000</td>\n",
       "      <td>2713.000000</td>\n",
       "    </tr>\n",
       "  </tbody>\n",
       "</table>\n",
       "</div>"
      ],
      "text/plain": [
       "                     0           1  accuracy    macro avg  weighted avg\n",
       "precision     0.895679    0.640439  0.792849     0.768059      0.813923\n",
       "recall        0.786876    0.805524  0.792849     0.796200      0.792849\n",
       "f1-score      0.837760    0.713558  0.792849     0.775659      0.797977\n",
       "support    1844.000000  869.000000  0.792849  2713.000000   2713.000000"
      ]
     },
     "execution_count": 71,
     "metadata": {},
     "output_type": "execute_result"
    }
   ],
   "source": [
    "pre = model.predict(x_test)\n",
    "result= classification_report(y_pred=pre,y_true=y_test,output_dict=True)\n",
    "pd.DataFrame(result)"
   ]
  },
  {
   "cell_type": "code",
   "execution_count": 72,
   "metadata": {},
   "outputs": [],
   "source": [
    "#y=1の適合率は0.64"
   ]
  },
  {
   "cell_type": "code",
   "execution_count": 73,
   "metadata": {},
   "outputs": [
    {
     "data": {
      "text/plain": [
       "(0.8325516542020535,\n",
       " 0.8365280519645928,\n",
       " array([[6493, 1321],\n",
       "        [1246, 6568]], dtype=int64))"
      ]
     },
     "execution_count": 73,
     "metadata": {},
     "output_type": "execute_result"
    }
   ],
   "source": [
    "\n",
    "#本書で紹介していないnumpyのテクニックを使っているが\n",
    "#同様の事はpandasでもできる\n",
    "#参考　予測確率の閾値を変更する事により予測結果を変えて調整する\n",
    "#確率でいったん予測させる\n",
    "y_p = model.predict_proba(x)\n",
    "y_p\n",
    "a=y_p[:,1]#y=1の確率を抜き出す\n",
    "def conf(a,th=0.5):\n",
    "    import numpy as np\n",
    "    y_pre=np.where(a<th,0,1)#閾値以下なら0,以上なら1\n",
    "    from sklearn.metrics import confusion_matrix\n",
    "    #混同行列をscikit-learnの関数で作成\n",
    "    mat= confusion_matrix(y_pred=y_pre,y_true=t)\n",
    "    pre = mat[1,1]/(mat[1,1]+mat[0,1])\n",
    "    re = mat[1,1]/(mat[1,1]+mat[1,0])\n",
    "    f1 = 2*(pre*re)/(pre+re)\n",
    "    return pre,f1,mat#適合率、ｆ１スコア、混同行列\n",
    "conf(a,0.5)#閾値0.5"
   ]
  },
  {
   "cell_type": "code",
   "execution_count": 74,
   "metadata": {},
   "outputs": [
    {
     "name": "stdout",
     "output_type": "stream",
     "text": [
      "1\n",
      "0.501 0.8679299454493253 0.8181326116373479\n",
      "2\n",
      "0.502 0.8973109243697479 0.7757919209532113\n",
      "3\n",
      "0.503 0.9245689655172413 0.7306084533209476\n",
      "4\n",
      "0.504 0.9483044818591416 0.6647826448341784\n",
      "5\n",
      "0.505 0.9675578251727246 0.5781207933231626\n",
      "6\n",
      "0.506 0.9810003877471888 0.4868661599153276\n",
      "7\n",
      "0.507 0.9882111737570477 0.39487967229902715\n",
      "8\n",
      "0.508 0.9909659485753995 0.308224359667135\n",
      "9\n",
      "0.509 0.995069033530572 0.22859084730403265\n",
      "10\n",
      "0.51 1.0 0.17152217152217153\n",
      "11\n",
      "0.511 1.0 0.122537241710716\n",
      "12\n",
      "0.512 1.0 0.08574228319451249\n",
      "13\n",
      "0.513 1.0 0.05670231285749813\n",
      "14\n",
      "0.514 1.0 0.03766951280763435\n",
      "15\n",
      "0.515 1.0 0.02252309249652031\n",
      "16\n",
      "0.516 1.0 0.013474005338756834\n",
      "17\n",
      "0.517 1.0 0.008410857652606091\n",
      "18\n",
      "0.518 1.0 0.006378364587319811\n",
      "19\n",
      "0.519 1.0 0.0040868454661558105\n",
      "20\n",
      "0.52 1.0 0.0017900524229638153\n",
      "21\n",
      "0.521 1.0 0.0010232796111537478\n",
      "22\n",
      "0.522 1.0 0.0007675578866572853\n",
      "23\n",
      "0.523 1.0 0.0005117707267144319\n",
      "24\n",
      "0.524 1.0 0.00025591810620601403\n",
      "25\n",
      "0.525 nan nan\n",
      "26\n",
      "0.526 nan nan\n",
      "27\n",
      "0.527 nan nan\n",
      "28\n",
      "0.528 nan nan\n",
      "29\n",
      "0.529 nan nan\n"
     ]
    },
    {
     "name": "stderr",
     "output_type": "stream",
     "text": [
      "C:\\Users\\81806\\Anaconda3\\lib\\site-packages\\ipykernel_launcher.py:14: RuntimeWarning: invalid value encountered in longlong_scalars\n",
      "  \n"
     ]
    }
   ],
   "source": [
    "#presitionを上げるためには閾値をもう少しあげればよい\n",
    "#ただし、閾値を上げすぎると適合率が低下してしまうのでf1スコアも意識する\n",
    "for i in range(1,30):\n",
    "    val = 0.50+(i/1000)\n",
    "    print(i)\n",
    "    b=conf(a,val)#閾値0.5\n",
    "    print(val,b[0],b[1])"
   ]
  },
  {
   "cell_type": "code",
   "execution_count": 75,
   "metadata": {},
   "outputs": [],
   "source": [
    "#閾値を0.503にすると全体的に最もよさそう。\n",
    "th=0.503\n",
    "#テストデータ\n",
    "proba = model.predict_proba(x_test)"
   ]
  },
  {
   "cell_type": "code",
   "execution_count": 76,
   "metadata": {},
   "outputs": [
    {
     "data": {
      "text/html": [
       "<div>\n",
       "<style scoped>\n",
       "    .dataframe tbody tr th:only-of-type {\n",
       "        vertical-align: middle;\n",
       "    }\n",
       "\n",
       "    .dataframe tbody tr th {\n",
       "        vertical-align: top;\n",
       "    }\n",
       "\n",
       "    .dataframe thead th {\n",
       "        text-align: right;\n",
       "    }\n",
       "</style>\n",
       "<table border=\"1\" class=\"dataframe\">\n",
       "  <thead>\n",
       "    <tr style=\"text-align: right;\">\n",
       "      <th></th>\n",
       "      <th>0</th>\n",
       "      <th>1</th>\n",
       "      <th>accuracy</th>\n",
       "      <th>macro avg</th>\n",
       "      <th>weighted avg</th>\n",
       "    </tr>\n",
       "  </thead>\n",
       "  <tbody>\n",
       "    <tr>\n",
       "      <th>precision</th>\n",
       "      <td>0.813773</td>\n",
       "      <td>0.745008</td>\n",
       "      <td>0.797272</td>\n",
       "      <td>0.779390</td>\n",
       "      <td>0.791747</td>\n",
       "    </tr>\n",
       "    <tr>\n",
       "      <th>recall</th>\n",
       "      <td>0.909978</td>\n",
       "      <td>0.558113</td>\n",
       "      <td>0.797272</td>\n",
       "      <td>0.734046</td>\n",
       "      <td>0.797272</td>\n",
       "    </tr>\n",
       "    <tr>\n",
       "      <th>f1-score</th>\n",
       "      <td>0.859191</td>\n",
       "      <td>0.638158</td>\n",
       "      <td>0.797272</td>\n",
       "      <td>0.748674</td>\n",
       "      <td>0.788392</td>\n",
       "    </tr>\n",
       "    <tr>\n",
       "      <th>support</th>\n",
       "      <td>1844.000000</td>\n",
       "      <td>869.000000</td>\n",
       "      <td>0.797272</td>\n",
       "      <td>2713.000000</td>\n",
       "      <td>2713.000000</td>\n",
       "    </tr>\n",
       "  </tbody>\n",
       "</table>\n",
       "</div>"
      ],
      "text/plain": [
       "                     0           1  accuracy    macro avg  weighted avg\n",
       "precision     0.813773    0.745008  0.797272     0.779390      0.791747\n",
       "recall        0.909978    0.558113  0.797272     0.734046      0.797272\n",
       "f1-score      0.859191    0.638158  0.797272     0.748674      0.788392\n",
       "support    1844.000000  869.000000  0.797272  2713.000000   2713.000000"
      ]
     },
     "execution_count": 76,
     "metadata": {},
     "output_type": "execute_result"
    }
   ],
   "source": [
    "a = proba[:,1]\n",
    "pre=np.where(a<th,0,1)\n",
    "result= classification_report(y_pred=pre,y_true=y_test,output_dict=True)\n",
    "pd.DataFrame(result)"
   ]
  },
  {
   "cell_type": "code",
   "execution_count": null,
   "metadata": {},
   "outputs": [],
   "source": []
  }
 ],
 "metadata": {
  "kernelspec": {
   "display_name": "Python 3",
   "language": "python",
   "name": "python3"
  },
  "language_info": {
   "codemirror_mode": {
    "name": "ipython",
    "version": 3
   },
   "file_extension": ".py",
   "mimetype": "text/x-python",
   "name": "python",
   "nbconvert_exporter": "python",
   "pygments_lexer": "ipython3",
   "version": "3.7.3"
  }
 },
 "nbformat": 4,
 "nbformat_minor": 4
}
