{
 "cells": [
  {
   "cell_type": "code",
   "execution_count": 1,
   "metadata": {},
   "outputs": [
    {
     "data": {
      "text/html": [
       "<div>\n",
       "<style scoped>\n",
       "    .dataframe tbody tr th:only-of-type {\n",
       "        vertical-align: middle;\n",
       "    }\n",
       "\n",
       "    .dataframe tbody tr th {\n",
       "        vertical-align: top;\n",
       "    }\n",
       "\n",
       "    .dataframe thead th {\n",
       "        text-align: right;\n",
       "    }\n",
       "</style>\n",
       "<table border=\"1\" class=\"dataframe\">\n",
       "  <thead>\n",
       "    <tr style=\"text-align: right;\">\n",
       "      <th></th>\n",
       "      <th>CRIME</th>\n",
       "      <th>ZN</th>\n",
       "      <th>INDUS</th>\n",
       "      <th>CHAS</th>\n",
       "      <th>NOX</th>\n",
       "      <th>RM</th>\n",
       "      <th>AGE</th>\n",
       "      <th>DIS</th>\n",
       "      <th>RAD</th>\n",
       "      <th>TAX</th>\n",
       "      <th>PTRATIO</th>\n",
       "      <th>B</th>\n",
       "      <th>LSTAT</th>\n",
       "      <th>PRICE</th>\n",
       "    </tr>\n",
       "  </thead>\n",
       "  <tbody>\n",
       "    <tr>\n",
       "      <th>0</th>\n",
       "      <td>high</td>\n",
       "      <td>0.0</td>\n",
       "      <td>18.10</td>\n",
       "      <td>0</td>\n",
       "      <td>0.718</td>\n",
       "      <td>3.561</td>\n",
       "      <td>87.9</td>\n",
       "      <td>1.6132</td>\n",
       "      <td>24.0</td>\n",
       "      <td>666</td>\n",
       "      <td>20.2</td>\n",
       "      <td>354.7</td>\n",
       "      <td>7.12</td>\n",
       "      <td>27.5</td>\n",
       "    </tr>\n",
       "    <tr>\n",
       "      <th>1</th>\n",
       "      <td>low</td>\n",
       "      <td>0.0</td>\n",
       "      <td>8.14</td>\n",
       "      <td>0</td>\n",
       "      <td>0.538</td>\n",
       "      <td>5.950</td>\n",
       "      <td>82.0</td>\n",
       "      <td>3.9900</td>\n",
       "      <td>4.0</td>\n",
       "      <td>307</td>\n",
       "      <td>21.0</td>\n",
       "      <td>232.6</td>\n",
       "      <td>27.71</td>\n",
       "      <td>13.2</td>\n",
       "    </tr>\n",
       "  </tbody>\n",
       "</table>\n",
       "</div>"
      ],
      "text/plain": [
       "  CRIME   ZN  INDUS  CHAS    NOX     RM   AGE     DIS   RAD  TAX  PTRATIO  \\\n",
       "0  high  0.0  18.10     0  0.718  3.561  87.9  1.6132  24.0  666     20.2   \n",
       "1   low  0.0   8.14     0  0.538  5.950  82.0  3.9900   4.0  307     21.0   \n",
       "\n",
       "       B  LSTAT  PRICE  \n",
       "0  354.7   7.12   27.5  \n",
       "1  232.6  27.71   13.2  "
      ]
     },
     "execution_count": 1,
     "metadata": {},
     "output_type": "execute_result"
    }
   ],
   "source": [
    "import pandas as pd\n",
    "df = pd.read_csv('Boston.csv') # csvの読み込み\n",
    "df.head(2) # 先頭2行の表示"
   ]
  },
  {
   "cell_type": "code",
   "execution_count": 3,
   "metadata": {},
   "outputs": [
    {
     "data": {
      "text/plain": [
       "(100, 14)"
      ]
     },
     "execution_count": 3,
     "metadata": {},
     "output_type": "execute_result"
    }
   ],
   "source": [
    "df.shape"
   ]
  },
  {
   "cell_type": "code",
   "execution_count": 4,
   "metadata": {},
   "outputs": [],
   "source": [
    "df2 = df.fillna(df.mean( )) # 列ごとの平均値で欠損値の穴埋め"
   ]
  },
  {
   "cell_type": "code",
   "execution_count": 5,
   "metadata": {},
   "outputs": [
    {
     "data": {
      "text/html": [
       "<div>\n",
       "<style scoped>\n",
       "    .dataframe tbody tr th:only-of-type {\n",
       "        vertical-align: middle;\n",
       "    }\n",
       "\n",
       "    .dataframe tbody tr th {\n",
       "        vertical-align: top;\n",
       "    }\n",
       "\n",
       "    .dataframe thead th {\n",
       "        text-align: right;\n",
       "    }\n",
       "</style>\n",
       "<table border=\"1\" class=\"dataframe\">\n",
       "  <thead>\n",
       "    <tr style=\"text-align: right;\">\n",
       "      <th></th>\n",
       "      <th>ZN</th>\n",
       "      <th>INDUS</th>\n",
       "      <th>CHAS</th>\n",
       "      <th>NOX</th>\n",
       "      <th>RM</th>\n",
       "      <th>AGE</th>\n",
       "      <th>DIS</th>\n",
       "      <th>RAD</th>\n",
       "      <th>TAX</th>\n",
       "      <th>PTRATIO</th>\n",
       "      <th>B</th>\n",
       "      <th>LSTAT</th>\n",
       "      <th>PRICE</th>\n",
       "      <th>low</th>\n",
       "      <th>very_low</th>\n",
       "    </tr>\n",
       "  </thead>\n",
       "  <tbody>\n",
       "    <tr>\n",
       "      <th>0</th>\n",
       "      <td>0.0</td>\n",
       "      <td>18.10</td>\n",
       "      <td>0</td>\n",
       "      <td>0.718</td>\n",
       "      <td>3.561</td>\n",
       "      <td>87.9</td>\n",
       "      <td>1.6132</td>\n",
       "      <td>24.0</td>\n",
       "      <td>666</td>\n",
       "      <td>20.2</td>\n",
       "      <td>354.7</td>\n",
       "      <td>7.12</td>\n",
       "      <td>27.5</td>\n",
       "      <td>0</td>\n",
       "      <td>0</td>\n",
       "    </tr>\n",
       "    <tr>\n",
       "      <th>1</th>\n",
       "      <td>0.0</td>\n",
       "      <td>8.14</td>\n",
       "      <td>0</td>\n",
       "      <td>0.538</td>\n",
       "      <td>5.950</td>\n",
       "      <td>82.0</td>\n",
       "      <td>3.9900</td>\n",
       "      <td>4.0</td>\n",
       "      <td>307</td>\n",
       "      <td>21.0</td>\n",
       "      <td>232.6</td>\n",
       "      <td>27.71</td>\n",
       "      <td>13.2</td>\n",
       "      <td>1</td>\n",
       "      <td>0</td>\n",
       "    </tr>\n",
       "  </tbody>\n",
       "</table>\n",
       "</div>"
      ],
      "text/plain": [
       "    ZN  INDUS  CHAS    NOX     RM   AGE     DIS   RAD  TAX  PTRATIO      B  \\\n",
       "0  0.0  18.10     0  0.718  3.561  87.9  1.6132  24.0  666     20.2  354.7   \n",
       "1  0.0   8.14     0  0.538  5.950  82.0  3.9900   4.0  307     21.0  232.6   \n",
       "\n",
       "   LSTAT  PRICE  low  very_low  \n",
       "0   7.12   27.5    0         0  \n",
       "1  27.71   13.2    1         0  "
      ]
     },
     "execution_count": 5,
     "metadata": {},
     "output_type": "execute_result"
    }
   ],
   "source": [
    "dummy = pd.get_dummies(df2['CRIME'], drop_first = True)\n",
    "df3 = df2.join(dummy) # df2とdummyを列方向に結合\n",
    "df3 = df3.drop(['CRIME'], axis = 1) # 元のCRIMEを削除\n",
    "\n",
    "df3.head(2)"
   ]
  },
  {
   "cell_type": "code",
   "execution_count": 6,
   "metadata": {},
   "outputs": [],
   "source": [
    "from sklearn.preprocessing import StandardScaler\n",
    " # 中身が整数だと、fit_transformで警告になるので、\n",
    "# float型に変換（省略可能）\n",
    "df4 = df3.astype('float')\n",
    "# 標準化\n",
    "sc = StandardScaler()\n",
    "sc_df = sc.fit_transform(df4)"
   ]
  },
  {
   "cell_type": "code",
   "execution_count": 7,
   "metadata": {},
   "outputs": [],
   "source": [
    "from sklearn.decomposition import PCA"
   ]
  },
  {
   "cell_type": "code",
   "execution_count": 8,
   "metadata": {},
   "outputs": [],
   "source": [
    "model = PCA(n_components = 2, whiten = True) # モデル作成"
   ]
  },
  {
   "cell_type": "code",
   "execution_count": 9,
   "metadata": {},
   "outputs": [
    {
     "data": {
      "text/plain": [
       "PCA(n_components=2, whiten=True)"
      ]
     },
     "execution_count": 9,
     "metadata": {},
     "output_type": "execute_result"
    }
   ],
   "source": [
    "# モデルに学習させる\n",
    "model.fit(sc_df)"
   ]
  },
  {
   "cell_type": "code",
   "execution_count": 10,
   "metadata": {},
   "outputs": [
    {
     "name": "stdout",
     "output_type": "stream",
     "text": [
      "[-0.2258543   0.35923465  0.04220985  0.3499321  -0.19485285  0.29792086\n",
      " -0.29980115  0.30726517  0.32822012  0.16246983 -0.18251937  0.27543839\n",
      " -0.2018449   0.03831172 -0.31492126]\n",
      "-----\n",
      "[-0.1533893   0.02835867  0.19795373  0.13817925  0.4047141   0.20058802\n",
      " -0.29340246 -0.1027543  -0.11546952 -0.34046929  0.05661836 -0.17845386\n",
      "  0.44390529  0.42253976 -0.27716437]\n"
     ]
    }
   ],
   "source": [
    "# 新規の第１軸（第１主成分とも呼ぶ）の固有ベクトル\n",
    "print( model.components_[0] )\n",
    "print('-----')\n",
    "# 新規の第2軸（第2主成分とも呼ぶ）の固有ベクトル\n",
    "print(model.components_[1])"
   ]
  },
  {
   "cell_type": "code",
   "execution_count": 11,
   "metadata": {},
   "outputs": [
    {
     "data": {
      "text/html": [
       "<div>\n",
       "<style scoped>\n",
       "    .dataframe tbody tr th:only-of-type {\n",
       "        vertical-align: middle;\n",
       "    }\n",
       "\n",
       "    .dataframe tbody tr th {\n",
       "        vertical-align: top;\n",
       "    }\n",
       "\n",
       "    .dataframe thead th {\n",
       "        text-align: right;\n",
       "    }\n",
       "</style>\n",
       "<table border=\"1\" class=\"dataframe\">\n",
       "  <thead>\n",
       "    <tr style=\"text-align: right;\">\n",
       "      <th></th>\n",
       "      <th>0</th>\n",
       "      <th>1</th>\n",
       "    </tr>\n",
       "  </thead>\n",
       "  <tbody>\n",
       "    <tr>\n",
       "      <th>0</th>\n",
       "      <td>1.490417</td>\n",
       "      <td>-0.680415</td>\n",
       "    </tr>\n",
       "    <tr>\n",
       "      <th>1</th>\n",
       "      <td>0.703223</td>\n",
       "      <td>-0.252517</td>\n",
       "    </tr>\n",
       "    <tr>\n",
       "      <th>2</th>\n",
       "      <td>-1.403756</td>\n",
       "      <td>-0.613175</td>\n",
       "    </tr>\n",
       "  </tbody>\n",
       "</table>\n",
       "</div>"
      ],
      "text/plain": [
       "          0         1\n",
       "0  1.490417 -0.680415\n",
       "1  0.703223 -0.252517\n",
       "2 -1.403756 -0.613175"
      ]
     },
     "execution_count": 11,
     "metadata": {},
     "output_type": "execute_result"
    }
   ],
   "source": [
    "new = model.transform(sc_df)\n",
    "\n",
    "new_df = pd.DataFrame(new)\n",
    "new_df.head(3)"
   ]
  },
  {
   "cell_type": "code",
   "execution_count": 12,
   "metadata": {},
   "outputs": [],
   "source": [
    "new_df.columns = ['PC1', 'PC2']\n",
    "# 標準化済の既存データ（numpy)をデータフレーム化\n",
    "df5 = pd.DataFrame(sc_df, columns = df4.columns)\n",
    "# 2つのデータフレームを列方向に結合\n",
    "df6 = pd.concat([df5, new_df], axis=1)"
   ]
  },
  {
   "cell_type": "code",
   "execution_count": 14,
   "metadata": {},
   "outputs": [
    {
     "data": {
      "text/html": [
       "<div>\n",
       "<style scoped>\n",
       "    .dataframe tbody tr th:only-of-type {\n",
       "        vertical-align: middle;\n",
       "    }\n",
       "\n",
       "    .dataframe tbody tr th {\n",
       "        vertical-align: top;\n",
       "    }\n",
       "\n",
       "    .dataframe thead th {\n",
       "        text-align: right;\n",
       "    }\n",
       "</style>\n",
       "<table border=\"1\" class=\"dataframe\">\n",
       "  <thead>\n",
       "    <tr style=\"text-align: right;\">\n",
       "      <th></th>\n",
       "      <th>PC1</th>\n",
       "      <th>PC2</th>\n",
       "    </tr>\n",
       "  </thead>\n",
       "  <tbody>\n",
       "    <tr>\n",
       "      <th>ZN</th>\n",
       "      <td>-0.560802</td>\n",
       "      <td>-0.226097</td>\n",
       "    </tr>\n",
       "    <tr>\n",
       "      <th>INDUS</th>\n",
       "      <td>0.891989</td>\n",
       "      <td>0.041801</td>\n",
       "    </tr>\n",
       "    <tr>\n",
       "      <th>CHAS</th>\n",
       "      <td>0.104808</td>\n",
       "      <td>0.291786</td>\n",
       "    </tr>\n",
       "    <tr>\n",
       "      <th>NOX</th>\n",
       "      <td>0.868891</td>\n",
       "      <td>0.203678</td>\n",
       "    </tr>\n",
       "    <tr>\n",
       "      <th>RM</th>\n",
       "      <td>-0.483825</td>\n",
       "      <td>0.596553</td>\n",
       "    </tr>\n",
       "    <tr>\n",
       "      <th>AGE</th>\n",
       "      <td>0.739745</td>\n",
       "      <td>0.295669</td>\n",
       "    </tr>\n",
       "    <tr>\n",
       "      <th>DIS</th>\n",
       "      <td>-0.744414</td>\n",
       "      <td>-0.432478</td>\n",
       "    </tr>\n",
       "    <tr>\n",
       "      <th>RAD</th>\n",
       "      <td>0.762947</td>\n",
       "      <td>-0.151461</td>\n",
       "    </tr>\n",
       "    <tr>\n",
       "      <th>TAX</th>\n",
       "      <td>0.814979</td>\n",
       "      <td>-0.170203</td>\n",
       "    </tr>\n",
       "    <tr>\n",
       "      <th>PTRATIO</th>\n",
       "      <td>0.403417</td>\n",
       "      <td>-0.501855</td>\n",
       "    </tr>\n",
       "    <tr>\n",
       "      <th>B</th>\n",
       "      <td>-0.453200</td>\n",
       "      <td>0.083456</td>\n",
       "    </tr>\n",
       "    <tr>\n",
       "      <th>LSTAT</th>\n",
       "      <td>0.683921</td>\n",
       "      <td>-0.263043</td>\n",
       "    </tr>\n",
       "    <tr>\n",
       "      <th>PRICE</th>\n",
       "      <td>-0.501186</td>\n",
       "      <td>0.654321</td>\n",
       "    </tr>\n",
       "    <tr>\n",
       "      <th>low</th>\n",
       "      <td>0.095129</td>\n",
       "      <td>0.622828</td>\n",
       "    </tr>\n",
       "    <tr>\n",
       "      <th>very_low</th>\n",
       "      <td>-0.781958</td>\n",
       "      <td>-0.408543</td>\n",
       "    </tr>\n",
       "  </tbody>\n",
       "</table>\n",
       "</div>"
      ],
      "text/plain": [
       "               PC1       PC2\n",
       "ZN       -0.560802 -0.226097\n",
       "INDUS     0.891989  0.041801\n",
       "CHAS      0.104808  0.291786\n",
       "NOX       0.868891  0.203678\n",
       "RM       -0.483825  0.596553\n",
       "AGE       0.739745  0.295669\n",
       "DIS      -0.744414 -0.432478\n",
       "RAD       0.762947 -0.151461\n",
       "TAX       0.814979 -0.170203\n",
       "PTRATIO   0.403417 -0.501855\n",
       "B        -0.453200  0.083456\n",
       "LSTAT     0.683921 -0.263043\n",
       "PRICE    -0.501186  0.654321\n",
       "low       0.095129  0.622828\n",
       "very_low -0.781958 -0.408543"
      ]
     },
     "execution_count": 14,
     "metadata": {},
     "output_type": "execute_result"
    }
   ],
   "source": [
    "df_corr = df6.corr() # 相関係数の計算\n",
    "df_corr.loc[:'very_low', 'PC1':]"
   ]
  },
  {
   "cell_type": "code",
   "execution_count": 16,
   "metadata": {},
   "outputs": [
    {
     "data": {
      "text/plain": [
       "INDUS       0.891989\n",
       "NOX         0.868891\n",
       "TAX         0.814979\n",
       "RAD         0.762947\n",
       "AGE         0.739745\n",
       "LSTAT       0.683921\n",
       "PTRATIO     0.403417\n",
       "CHAS        0.104808\n",
       "low         0.095129\n",
       "B          -0.453200\n",
       "RM         -0.483825\n",
       "PRICE      -0.501186\n",
       "ZN         -0.560802\n",
       "DIS        -0.744414\n",
       "very_low   -0.781958\n",
       "Name: PC1, dtype: float64"
      ]
     },
     "execution_count": 16,
     "metadata": {},
     "output_type": "execute_result"
    }
   ],
   "source": [
    "# わかりやすいように変数に代入\n",
    "pc_corr = df_corr.loc[:'very_low', 'PC1':]\n",
    "\n",
    "pc_corr['PC1'].sort_values(ascending = False)"
   ]
  },
  {
   "cell_type": "code",
   "execution_count": 17,
   "metadata": {},
   "outputs": [
    {
     "data": {
      "text/plain": [
       "PRICE       0.654321\n",
       "low         0.622828\n",
       "RM          0.596553\n",
       "AGE         0.295669\n",
       "CHAS        0.291786\n",
       "NOX         0.203678\n",
       "B           0.083456\n",
       "INDUS       0.041801\n",
       "RAD        -0.151461\n",
       "TAX        -0.170203\n",
       "ZN         -0.226097\n",
       "LSTAT      -0.263043\n",
       "very_low   -0.408543\n",
       "DIS        -0.432478\n",
       "PTRATIO    -0.501855\n",
       "Name: PC2, dtype: float64"
      ]
     },
     "execution_count": 17,
     "metadata": {},
     "output_type": "execute_result"
    }
   ],
   "source": [
    "pc_corr['PC2'].sort_values(ascending = False)"
   ]
  },
  {
   "cell_type": "code",
   "execution_count": 15,
   "metadata": {},
   "outputs": [
    {
     "data": {
      "text/plain": [
       "<matplotlib.axes._subplots.AxesSubplot at 0x177635236d8>"
      ]
     },
     "execution_count": 15,
     "metadata": {},
     "output_type": "execute_result"
    },
    {
     "data": {
      "image/png": "[encoded data removed]",
      "text/plain": [
       "<Figure size 432x288 with 1 Axes>"
      ]
     },
     "metadata": {
      "needs_background": "light"
     },
     "output_type": "display_data"
    }
   ],
   "source": [
    "#都市の発展度合いと住環境の良さ\n",
    "col = ['City', 'Exclusive residential']\n",
    "\n",
    "new_df.columns = col # 列名の変更\n",
    "\n",
    "new_df.plot(kind = 'scatter', x = 'City',\n",
    "    y = 'Exclusive residential') # 散布図"
   ]
  },
  {
   "cell_type": "code",
   "execution_count": 18,
   "metadata": {},
   "outputs": [
    {
     "data": {
      "text/plain": [
       "(100, 15)"
      ]
     },
     "execution_count": 18,
     "metadata": {},
     "output_type": "execute_result"
    }
   ],
   "source": [
    "model = PCA(whiten = True)\n",
    "\n",
    "# 学習と新規軸へのデータの当てはめを一括で行う\n",
    "tmp = model.fit_transform(sc_df)\n",
    "tmp.shape"
   ]
  },
  {
   "cell_type": "code",
   "execution_count": 19,
   "metadata": {},
   "outputs": [
    {
     "data": {
      "text/plain": [
       "array([0.41102789, 0.14484698, 0.10192698, 0.06448954, 0.06233684,\n",
       "       0.05810331, 0.04843711, 0.02885228, 0.02142431, 0.01831962,\n",
       "       0.01572944, 0.01068611, 0.00918466, 0.00277548, 0.00185945])"
      ]
     },
     "execution_count": 19,
     "metadata": {},
     "output_type": "execute_result"
    }
   ],
   "source": [
    "model.explained_variance_ratio_ # 寄与率"
   ]
  },
  {
   "cell_type": "code",
   "execution_count": 20,
   "metadata": {},
   "outputs": [
    {
     "data": {
      "text/plain": [
       "<matplotlib.axes._subplots.AxesSubplot at 0x1f46f950160>"
      ]
     },
     "execution_count": 20,
     "metadata": {},
     "output_type": "execute_result"
    },
    {
     "data": {
      "image/png": "[encoded data removed]",
      "text/plain": [
       "<Figure size 432x288 with 1 Axes>"
      ]
     },
     "metadata": {
      "needs_background": "light"
     },
     "output_type": "display_data"
    }
   ],
   "source": [
    "ratio = model.explained_variance_ratio_ # 寄与率のデータ集合\n",
    "\n",
    "array = [] # 第N列までの累積寄与率を格納するリスト\n",
    "for i in range(len(ratio)):\n",
    "# 累積寄与率の計算\n",
    "    ruiseki = sum(ratio[0:(i+1)])\n",
    "\n",
    "    array.append(ruiseki) # 累積寄与率の格納\n",
    "\n",
    "# 第N列の累積寄与率を折れ線グラフ化\n",
    "pd.Series(array).plot(kind = 'line')"
   ]
  },
  {
   "cell_type": "code",
   "execution_count": 21,
   "metadata": {},
   "outputs": [
    {
     "name": "stdout",
     "output_type": "stream",
     "text": [
      "6\n"
     ]
    }
   ],
   "source": [
    "thred = 0.8 # 累積寄与率のしきい値\n",
    "for i in range(len(array)):\n",
    " # 第(i + 1)列の累積寄与率がthredより大きいかチェック\n",
    "    if array[i] >= thred:\n",
    "        print(i + 1)\n",
    "        break"
   ]
  },
  {
   "cell_type": "code",
   "execution_count": 22,
   "metadata": {},
   "outputs": [],
   "source": [
    "model = PCA(n_components=6, whiten = True)\n",
    "\n",
    "model.fit (sc_df) # 学習\n",
    "\n",
    "# 元データを新規の列（6列）に当てはめる\n",
    "new = model.transform(sc_df)"
   ]
  },
  {
   "cell_type": "code",
   "execution_count": 23,
   "metadata": {},
   "outputs": [],
   "source": [
    "# 主成分分析の結果をデータフレームに変換\n",
    "col = ['PC1', 'PC2', 'PC3', 'PC4', 'PC5', 'PC6']\n",
    "new_df2 = pd.DataFrame(new, columns = col)\n",
    "\n",
    "# データフレームをcsvファイルとして保存\n",
    "new_df2.to_csv('boston_pca.csv', index = False)"
   ]
  },
  {
   "cell_type": "code",
   "execution_count": null,
   "metadata": {},
   "outputs": [],
   "source": []
  },
  {
   "cell_type": "code",
   "execution_count": 24,
   "metadata": {},
   "outputs": [],
   "source": [
    "df = pd.read_csv('cinema.csv')\n",
    "df = df.drop('cinema_id', axis = 1)\n",
    "# 欠損値補完\n",
    "df = df.fillna(df.mean())\n",
    "# 可能なら外れ値の確認もするが\n",
    "# 今回は割愛"
   ]
  },
  {
   "cell_type": "code",
   "execution_count": 25,
   "metadata": {},
   "outputs": [],
   "source": [
    "from sklearn.preprocessing import StandardScaler\n",
    "sc = StandardScaler()\n",
    "sc_df = sc.fit_transform(df)\n",
    "sc_df = pd.DataFrame(sc_df, columns = df.columns)"
   ]
  },
  {
   "cell_type": "code",
   "execution_count": 27,
   "metadata": {},
   "outputs": [
    {
     "data": {
      "text/plain": [
       "[0.5401206784462206,\n",
       " 0.7261760786703706,\n",
       " 0.8624874337165253,\n",
       " 0.9677581622696745,\n",
       " 1.0]"
      ]
     },
     "execution_count": 27,
     "metadata": {},
     "output_type": "execute_result"
    }
   ],
   "source": [
    "# 累積寄与率を調べる\n",
    "from sklearn.decomposition import PCA\n",
    "model = PCA(whiten = True)\n",
    "model.fit(sc_df)\n",
    "\n",
    "total = []\n",
    "for i in model.explained_variance_ratio_:\n",
    "    if len(total) == 0:\n",
    "        total.append(i)\n",
    "    else:\n",
    "        tmp = total[-1] + i\n",
    "        total.append(tmp)\n",
    "total"
   ]
  },
  {
   "cell_type": "code",
   "execution_count": 28,
   "metadata": {},
   "outputs": [
    {
     "data": {
      "text/html": [
       "<div>\n",
       "<style scoped>\n",
       "    .dataframe tbody tr th:only-of-type {\n",
       "        vertical-align: middle;\n",
       "    }\n",
       "\n",
       "    .dataframe tbody tr th {\n",
       "        vertical-align: top;\n",
       "    }\n",
       "\n",
       "    .dataframe thead th {\n",
       "        text-align: right;\n",
       "    }\n",
       "</style>\n",
       "<table border=\"1\" class=\"dataframe\">\n",
       "  <thead>\n",
       "    <tr style=\"text-align: right;\">\n",
       "      <th></th>\n",
       "      <th>SNS1</th>\n",
       "      <th>SNS2</th>\n",
       "      <th>actor</th>\n",
       "      <th>original</th>\n",
       "      <th>sales</th>\n",
       "    </tr>\n",
       "  </thead>\n",
       "  <tbody>\n",
       "    <tr>\n",
       "      <th>pc1</th>\n",
       "      <td>0.736368</td>\n",
       "      <td>0.598555</td>\n",
       "      <td>0.837999</td>\n",
       "      <td>0.469117</td>\n",
       "      <td>0.936901</td>\n",
       "    </tr>\n",
       "    <tr>\n",
       "      <th>pc2</th>\n",
       "      <td>-0.050756</td>\n",
       "      <td>-0.534089</td>\n",
       "      <td>-0.037073</td>\n",
       "      <td>0.800559</td>\n",
       "      <td>0.013415</td>\n",
       "    </tr>\n",
       "    <tr>\n",
       "      <th>pc3</th>\n",
       "      <td>-0.531509</td>\n",
       "      <td>0.536704</td>\n",
       "      <td>-0.017275</td>\n",
       "      <td>0.324773</td>\n",
       "      <td>-0.072303</td>\n",
       "    </tr>\n",
       "  </tbody>\n",
       "</table>\n",
       "</div>"
      ],
      "text/plain": [
       "         SNS1      SNS2     actor  original     sales\n",
       "pc1  0.736368  0.598555  0.837999  0.469117  0.936901\n",
       "pc2 -0.050756 -0.534089 -0.037073  0.800559  0.013415\n",
       "pc3 -0.531509  0.536704 -0.017275  0.324773 -0.072303"
      ]
     },
     "execution_count": 28,
     "metadata": {},
     "output_type": "execute_result"
    }
   ],
   "source": [
    "model = PCA(whiten=True, n_components = 3)\n",
    "model.fit(sc_df)\n",
    "new = pd.DataFrame(model.transform(sc_df), columns=['pc1',\n",
    "'pc2', 'pc3'])\n",
    "new_df = pd.concat([new, sc_df], axis = 1)\n",
    "cor_df = new_df.corr()\n",
    "cor_df.loc['pc1':'pc3', 'SNS1':]"
   ]
  },
  {
   "cell_type": "code",
   "execution_count": null,
   "metadata": {},
   "outputs": [],
   "source": []
  }
 ],
 "metadata": {
  "kernelspec": {
   "display_name": "Python 3",
   "language": "python",
   "name": "python3"
  },
  "language_info": {
   "codemirror_mode": {
    "name": "ipython",
    "version": 3
   },
   "file_extension": ".py",
   "mimetype": "text/x-python",
   "name": "python",
   "nbconvert_exporter": "python",
   "pygments_lexer": "ipython3",
   "version": "3.7.3"
  }
 },
 "nbformat": 4,
 "nbformat_minor": 4
}
